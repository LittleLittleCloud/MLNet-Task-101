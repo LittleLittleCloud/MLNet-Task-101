{
 "cells": [
  {
   "cell_type": "markdown",
   "metadata": {},
   "source": [
    "# Anomaly Detection\n",
    "\n",
    "Create a dummy time series dataset and implement an anomaly detection model. Highlight and print the anomalies. Save the trained model to anomalyDetection.mlnet."
   ]
  },
  {
   "cell_type": "markdown",
   "metadata": {},
   "source": [
    "## Task Description\n",
    "\n",
    "Create a dummy time series dataset and implement an anomaly detection model. Highlight and print the anomalies. Save the trained model to anomalyDetection.mlnet."
   ]
  },
  {
   "cell_type": "code",
   "execution_count": 3,
   "id": "c33f0eb6",
   "metadata": {
    "dotnet_interactive": {
     "language": "csharp"
    },
    "polyglot_notebook": {
     "kernelName": "csharp"
    },
    "vscode": {
     "languageId": "polyglot-notebook"
    }
   },
   "outputs": [
    {
     "data": {
      "text/html": [
       "<div><div></div><div></div><div><strong>Installed Packages</strong><ul><li><span>Microsoft.ML, 2.0.1</span></li><li><span>Microsoft.ML.TimeSeries, 2.0.1</span></li></ul></div></div>"
      ]
     },
     "metadata": {},
     "output_type": "display_data"
    }
   ],
   "source": [
    "#r \"nuget:Microsoft.ML\"\n",
    "#r \"nuget:Microsoft.ML.TimeSeries\"\n"
   ]
  },
  {
   "cell_type": "code",
   "execution_count": 7,
   "id": "c107b53d",
   "metadata": {
    "dotnet_interactive": {
     "language": "csharp"
    },
    "polyglot_notebook": {
     "kernelName": "csharp"
    },
    "vscode": {
     "languageId": "polyglot-notebook"
    }
   },
   "outputs": [
    {
     "name": "stdout",
     "output_type": "stream",
     "text": [
      "Prediction column obtained post-transformation.\n",
      "Data\tAlert\tScore\tMag\n",
      "5\t0\t0.00\t0.00\n",
      "5\t0\t0.00\t0.00\n",
      "5\t0\t0.00\t0.00\n",
      "5\t0\t0.00\t0.00\n",
      "5\t0\t0.00\t0.00\n",
      "5\t0\t0.00\t0.00\n",
      "5\t0\t0.00\t0.00\n",
      "5\t0\t0.00\t0.00\n",
      "5\t0\t0.00\t0.00\n",
      "5\t0\t0.00\t0.00\n",
      "5\t0\t0.00\t0.00\n",
      "5\t0\t0.00\t0.00\n",
      "5\t0\t0.00\t0.00\n",
      "5\t0\t0.00\t0.00\n",
      "5\t0\t0.00\t0.00\n",
      "5\t0\t0.03\t0.18\n",
      "5\t0\t0.03\t0.18\n",
      "5\t0\t0.03\t0.18\n",
      "5\t0\t0.03\t0.18\n",
      "5\t0\t0.03\t0.18\n",
      "10\t1\t0.47\t0.93\n",
      "5\t0\t0.31\t0.50\n",
      "5\t0\t0.05\t0.30\n",
      "5\t0\t0.01\t0.23\n",
      "5\t0\t0.00\t0.21\n",
      "5\t0\t0.01\t0.25\n"
     ]
    }
   ],
   "source": [
    "using System;\n",
    "using System.Collections.Generic;\n",
    "using System.IO;\n",
    "using Microsoft.ML;\n",
    "using Microsoft.ML.Data;\n",
    "using Microsoft.ML.Transforms;\n",
    "using Microsoft.ML.TimeSeries;\n",
    "using Microsoft.ML.Transforms.TimeSeries;\n",
    "\n",
    "var ml = new MLContext();\n",
    "\n",
    "// Generate sample series data with an anomaly\n",
    "var data = new List<TimeSeriesData>();\n",
    "for (int index = 0; index < 20; index++)\n",
    "{\n",
    "    data.Add(new TimeSeriesData(5));\n",
    "}\n",
    "data.Add(new TimeSeriesData(10));\n",
    "for (int index = 0; index < 5; index++)\n",
    "{\n",
    "    data.Add(new TimeSeriesData(5));\n",
    "}\n",
    "\n",
    "// Convert data to IDataView.\n",
    "var dataView = ml.Data.LoadFromEnumerable(data);\n",
    "\n",
    "// Setup the estimator arguments\n",
    "string outputColumnName = nameof(SrCnnAnomalyDetection.Prediction);\n",
    "string inputColumnName = nameof(TimeSeriesData.Value);\n",
    "\n",
    "// The transformed model.\n",
    "ITransformer model = ml.Transforms.DetectAnomalyBySrCnn(\n",
    "    outputColumnName, inputColumnName, 16, 5, 5, 3, 8, 0.35).Fit(\n",
    "    dataView);\n",
    "\n",
    "// Create a time series prediction engine from the model.\n",
    "var engine = model.CreateTimeSeriesEngine<TimeSeriesData,\n",
    "    SrCnnAnomalyDetection>(ml);\n",
    "\n",
    "Console.WriteLine($\"{outputColumnName} column obtained post-\" +\n",
    "    \"transformation.\");\n",
    "\n",
    "Console.WriteLine(\"Data\\tAlert\\tScore\\tMag\");\n",
    "\n",
    "// Create non-anomalous data and check for anomaly.\n",
    "for (int index = 0; index < 20; index++)\n",
    "{\n",
    "    // Anomaly detection.\n",
    "    PrintPrediction(5, engine.Predict(new TimeSeriesData(5)));\n",
    "}\n",
    "\n",
    "// Anomaly.\n",
    "PrintPrediction(10, engine.Predict(new TimeSeriesData(10)));\n",
    "\n",
    "// Checkpoint the model.\n",
    "var modelPath = \"anomalyDetection.mlnet\";\n",
    "engine.CheckPoint(ml, modelPath);\n",
    "\n",
    "// Load the model.\n",
    "using (var file = File.OpenRead(modelPath))\n",
    "    model = ml.Model.Load(file, out DataViewSchema schema);\n",
    "\n",
    "for (int index = 0; index < 5; index++)\n",
    "{\n",
    "    // Anomaly detection.\n",
    "    PrintPrediction(5, engine.Predict(new TimeSeriesData(5)));\n",
    "}\n",
    "\n",
    "void PrintPrediction(float value, SrCnnAnomalyDetection prediction) =>\n",
    "    Console.WriteLine(\"{0}\\t{1}\\t{2:0.00}\\t{3:0.00}\", value, prediction\n",
    "    .Prediction[0], prediction.Prediction[1], prediction.Prediction[2]);\n",
    "\n",
    "class TimeSeriesData\n",
    "{\n",
    "    public float Value;\n",
    "\n",
    "    public TimeSeriesData(float value)\n",
    "    {\n",
    "        Value = value;\n",
    "    }\n",
    "}\n",
    "\n",
    "class SrCnnAnomalyDetection\n",
    "{\n",
    "    [VectorType(3)]\n",
    "    public double[] Prediction { get; set; }\n",
    "}"
   ]
  }
 ],
 "metadata": {
  "language_info": {
   "name": "python"
  }
 },
 "nbformat": 4,
 "nbformat_minor": 5
}
