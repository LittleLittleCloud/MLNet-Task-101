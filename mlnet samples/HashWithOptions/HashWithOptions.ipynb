{
 "cells": [
  {
   "cell_type": "markdown",
   "metadata": {},
   "source": [
    "task name: Resolve HashWithOptions task\n",
    "\n",
    "task description: Implement the provided C# code as a dotnet interactive notebook"
   ]
  },
  {
   "cell_type": "code",
   "execution_count": null,
   "metadata": {
    "dotnet_interactive": {
     "language": "csharp"
    },
    "polyglot_notebook": {
     "kernelName": "csharp"
    }
   },
   "outputs": [],
   "source": [
    "#r \"nuget:Microsoft.ML,1.5.5\""
   ]
  },
  {
   "cell_type": "code",
   "execution_count": null,
   "metadata": {
    "dotnet_interactive": {
     "language": "csharp"
    },
    "polyglot_notebook": {
     "kernelName": "csharp"
    }
   },
   "outputs": [],
   "source": [
    "using System;\r\n",
    "using Microsoft.ML;\r\n",
    "using Microsoft.ML.Data;\r\n",
    "using Microsoft.ML.Transforms;"
   ]
  },
  {
   "cell_type": "code",
   "execution_count": null,
   "metadata": {
    "dotnet_interactive": {
     "language": "csharp"
    },
    "polyglot_notebook": {
     "kernelName": "csharp"
    }
   },
   "outputs": [],
   "source": [
    "public class DataPoint\n",
    "{\n",
    "    public string Category { get; set; }\n",
    "    public uint Age { get; set; }\n",
    "}\n",
    "\n",
    "var mlContext = new MLContext(seed: 1);\n",
    "var rawData = new[] {\n",
    "    new DataPoint() { Category = \"MLB\" , Age = 18 },\n",
    "    new DataPoint() { Category = \"NFL\" , Age = 14 },\n",
    "    new DataPoint() { Category = \"NFL\" , Age = 15 },\n",
    "    new DataPoint() { Category = \"MLB\" , Age = 18 },\n",
    "    new DataPoint() { Category = \"MLS\" , Age = 14 },\n",
    "};\n",
    "var data = mlContext.Data.LoadFromEnumerable(rawData);"
   ]
  },
  {
   "cell_type": "code",
   "execution_count": null,
   "metadata": {
    "dotnet_interactive": {
     "language": "csharp"
    },
    "polyglot_notebook": {
     "kernelName": "csharp"
    }
   },
   "outputs": [],
   "source": [
    "var pipeline = mlContext.Transforms.Conversion.Hash(\n",
    "    new[]\n",
    "    {\n",
    "        new HashingEstimator.ColumnOptions(\n",
    "            \"CategoryHashed\",\n",
    "            \"Category\",\n",
    "            16,\n",
    "            useOrderedHashing: false,\n",
    "            maximumNumberOfInverts: -1),\n",
    "\n",
    "        new HashingEstimator.ColumnOptions(\n",
    "            \"AgeHashed\",\n",
    "            \"Age\",\n",
    "            8,\n",
    "            useOrderedHashing: false)\n",
    "    });\n",
    "\n",
    "var transformer = pipeline.Fit(data);\n",
    "var transformedData = transformer.Transform(data);"
   ]
  },
  {
   "cell_type": "code",
   "execution_count": null,
   "metadata": {
    "dotnet_interactive": {
     "language": "csharp"
    },
    "polyglot_notebook": {
     "kernelName": "csharp"
    }
   },
   "outputs": [],
   "source": [
    "public class TransformedDataPoint : DataPoint\n",
    "{\n",
    "    public uint CategoryHashed { get; set; }\n",
    "    public uint AgeHashed { get; set; }\n",
    "}\n",
    "\n",
    "var convertedData = mlContext.Data.CreateEnumerable<TransformedDataPoint>(transformedData, true);\n",
    "\n",
    "Console.WriteLine(\"Category CategoryHashed\\t Age\\t AgeHashed\");\n",
    "foreach (var item in convertedData)\n",
    "    Console.WriteLine($\"{item.Category}\\t {item.CategoryHashed}\\t\\t  {item.Age}\\t {item.AgeHashed}\");"
   ]
  }
 ],
 "metadata": {},
 "nbformat": 4,
 "nbformat_minor": 5
}