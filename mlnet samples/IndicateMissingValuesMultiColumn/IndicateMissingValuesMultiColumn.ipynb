{
 "cells": [
  {
   "cell_type": "markdown",
   "metadata": {},
   "source": [
    "task name: Resolve IndicateMissingValuesMultiColumn\n",
    "task description: Implement the provided C# code as a dotnet interactive notebook"
   ]
  },
  {
   "cell_type": "code",
   "execution_count": null,
   "metadata": {
    "dotnet_interactive": {
     "language": "csharp"
    },
    "polyglot_notebook": {
     "kernelName": "csharp"
    }
   },
   "outputs": [],
   "source": [
    "#r \"nuget:Microsoft.ML\"\r\n"
   ]
  },
  {
   "cell_type": "code",
   "execution_count": null,
   "metadata": {
    "dotnet_interactive": {
     "language": "csharp"
    },
    "polyglot_notebook": {
     "kernelName": "csharp"
    }
   },
   "outputs": [],
   "source": [
    "using System;\n",
    "using System.Collections.Generic;\n",
    "using Microsoft.ML;\n",
    "using Microsoft.ML.Data;"
   ]
  },
  {
   "cell_type": "code",
   "execution_count": null,
   "metadata": {
    "dotnet_interactive": {
     "language": "csharp"
    },
    "polyglot_notebook": {
     "kernelName": "csharp"
    }
   },
   "outputs": [],
   "source": [
    "var mlContext = new MLContext();"
   ]
  },
  {
   "cell_type": "code",
   "execution_count": null,
   "metadata": {
    "dotnet_interactive": {
     "language": "csharp"
    },
    "polyglot_notebook": {
     "kernelName": "csharp"
    }
   },
   "outputs": [],
   "source": [
    "public class DataPoint\n",
    "{\n",
    "    [VectorType(3)]\n",
    "    public float[] Features1 { get; set; }\n",
    "    [VectorType(2)]\n",
    "    public float[] Features2 { get; set; }\n",
    "}\n",
    "\n",
    "var samples = new List<DataPoint>(){\n",
    "            new DataPoint(){ Features1 = new float[3] {1, 1, 0}, Features2 =\n",
    "                new float[2] {1, 1} },\n",
    "\n",
    "            new DataPoint(){ Features1 = new float[3] {0, float.NaN, 1},\n",
    "                Features2 = new float[2] {float.NaN, 1} },\n",
    "\n",
    "            new DataPoint(){ Features1 = new float[3] {-1, float.NaN, -3},\n",
    "                Features2 = new float[2] {1, float.PositiveInfinity} },\n",
    "        };\n",
    "var data = mlContext.Data.LoadFromEnumerable(samples);"
   ]
  },
  {
   "cell_type": "code",
   "execution_count": null,
   "metadata": {
    "dotnet_interactive": {
     "language": "csharp"
    },
    "polyglot_notebook": {
     "kernelName": "csharp"
    }
   },
   "outputs": [],
   "source": [
    "var pipeline = mlContext.Transforms.IndicateMissingValues(new[] {\n",
    "            new InputOutputColumnPair(\"MissingIndicator1\", \"Features1\"),\n",
    "            new InputOutputColumnPair(\"MissingIndicator2\", \"Features2\")\n",
    "        });"
   ]
  },
  {
   "cell_type": "code",
   "execution_count": null,
   "metadata": {
    "dotnet_interactive": {
     "language": "csharp"
    },
    "polyglot_notebook": {
     "kernelName": "csharp"
    }
   },
   "outputs": [],
   "source": [
    "var tansformer = pipeline.Fit(data);\n",
    "var transformedData = tansformer.Transform(data);"
   ]
  },
  {
   "cell_type": "code",
   "execution_count": null,
   "metadata": {
    "dotnet_interactive": {
     "language": "csharp"
    },
    "polyglot_notebook": {
     "kernelName": "csharp"
    }
   },
   "outputs": [],
   "source": [
    "public sealed class SampleDataTransformed : DataPoint\n",
    "{\n",
    "    public bool[] MissingIndicator1 { get; set; }\n",
    "    public bool[] MissingIndicator2 { get; set; }\n",
    "}\n",
    "\n",
    "var rowEnumerable = mlContext.Data.CreateEnumerable<SampleDataTransformed>(transformedData, reuseRowObject: false);"
   ]
  },
  {
   "cell_type": "code",
   "execution_count": null,
   "metadata": {
    "dotnet_interactive": {
     "language": "csharp"
    },
    "polyglot_notebook": {
     "kernelName": "csharp"
    }
   },
   "outputs": [],
   "source": [
    "foreach (var row in rowEnumerable)\n",
    "            Console.WriteLine(\"Features1: [\" + string.Join(\", \", row\n",
    "                .Features1) + \"]\\t MissingIndicator1: [\" + string.Join(\", \",\n",
    "                row.MissingIndicator1) + \"]\\t Features2: [\" + string.Join(\", \",\n",
    "                row.Features2) + \"]\\t MissingIndicator2: [\" + string.Join(\", \",\n",
    "                row.MissingIndicator2) + \"]\");"
   ]
  }
 ],
 "metadata": {},
 "nbformat": 4,
 "nbformat_minor": 5
}