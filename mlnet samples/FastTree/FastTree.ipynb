{
 "cells": [
  {
   "cell_type": "markdown",
   "metadata": {},
   "source": [
    "task name: Resolve FastTree Task\n",
    "\n",
    "task description: Implement the provided C# code as a dotnet interactive notebook"
   ]
  },
  {
   "cell_type": "code",
   "execution_count": null,
   "metadata": {
    "dotnet_interactive": {
     "language": "csharp"
    },
    "polyglot_notebook": {
     "kernelName": "csharp"
    }
   },
   "outputs": [],
   "source": [
    "#r \"nuget:Microsoft.ML.FastTree\"\r\n"
   ]
  },
  {
   "cell_type": "code",
   "execution_count": null,
   "metadata": {
    "dotnet_interactive": {
     "language": "csharp"
    },
    "polyglot_notebook": {
     "kernelName": "csharp"
    }
   },
   "outputs": [],
   "source": [
    "using System;\n",
    "using System.Collections.Generic;\n",
    "using System.Linq;\n",
    "using Microsoft.ML;\n",
    "using Microsoft.ML.Data;"
   ]
  },
  {
   "cell_type": "code",
   "execution_count": null,
   "metadata": {
    "dotnet_interactive": {
     "language": "csharp"
    },
    "polyglot_notebook": {
     "kernelName": "csharp"
    }
   },
   "outputs": [],
   "source": [
    "var mlContext = new MLContext(seed: 0);"
   ]
  },
  {
   "cell_type": "code",
   "execution_count": null,
   "metadata": {
    "dotnet_interactive": {
     "language": "csharp"
    },
    "polyglot_notebook": {
     "kernelName": "csharp"
    }
   },
   "outputs": [],
   "source": [
    "private static IEnumerable<DataPoint> GenerateRandomDataPoints(int count, int seed = 0, int groupSize = 10)\r\n",
    "{\r\n",
    "    var random = new Random(seed);\r\n",
    "    float randomFloat() => (float)random.NextDouble();\r\n",
    "    for (int i = 0; i < count; i++)\r\n",
    "    {\r\n",
    "        var label = random.Next(0, 5);\r\n",
    "        yield return new DataPoint\r\n",
    "        {\r\n",
    "            Label = (uint)label,\r\n",
    "            GroupId = (uint)(i / groupSize),\r\n",
    "            Features = Enumerable.Repeat(label, 50).Select(x => randomFloat() + x * 0.1f).ToArray()\r\n",
    "        };\r\n",
    "    }\r\n",
    "}\r\n",
    "\r\n",
    "private class DataPoint\r\n",
    "{\r\n",
    "    [KeyType(5)]\r\n",
    "    public uint Label { get; set; }\r\n",
    "    [KeyType(100)]\r\n",
    "    public uint GroupId { get; set; }\r\n",
    "    [VectorType(50)]\r\n",
    "    public float[] Features { get; set; }\r\n",
    "}\r\n",
    "\r\n",
    "private class Prediction\r\n",
    "{\r\n",
    "    public uint Label { get; set; }\r\n",
    "    public float Score { get; set; }\r\n",
    "}\r\n",
    "\r\n",
    "public static void PrintMetrics(RankingMetrics metrics)\r\n",
    "{\r\n",
    "    Console.WriteLine(\"DCG: \" + string.Join(\", \", metrics.DiscountedCumulativeGains.Select((d, i) => (i + 1) + \":\" + d + \":F2\").ToArray()));\r\n",
    "    Console.WriteLine(\"NDCG: \" + string.Join(\", \", metrics.NormalizedDiscountedCumulativeGains.Select((d, i) => (i + 1) + \":\" + d + \":F2\").ToArray()));\r\n",
    "}"
   ]
  },
  {
   "cell_type": "code",
   "execution_count": null,
   "metadata": {
    "dotnet_interactive": {
     "language": "csharp"
    },
    "polyglot_notebook": {
     "kernelName": "csharp"
    }
   },
   "outputs": [],
   "source": [
    "var dataPoints = GenerateRandomDataPoints(1000);\n",
    "var trainingData = mlContext.Data.LoadFromEnumerable(dataPoints);"
   ]
  },
  {
   "cell_type": "code",
   "execution_count": null,
   "metadata": {
    "dotnet_interactive": {
     "language": "csharp"
    },
    "polyglot_notebook": {
     "kernelName": "csharp"
    }
   },
   "outputs": [],
   "source": [
    "var pipeline = mlContext.Ranking.Trainers.FastTree();\n",
    "var model = pipeline.Fit(trainingData);"
   ]
  },
  {
   "cell_type": "code",
   "execution_count": null,
   "metadata": {
    "dotnet_interactive": {
     "language": "csharp"
    },
    "polyglot_notebook": {
     "kernelName": "csharp"
    }
   },
   "outputs": [],
   "source": [
    "var testData = mlContext.Data.LoadFromEnumerable(GenerateRandomDataPoints(500, seed: 123));\n",
    "var transformedTestData = model.Transform(testData);"
   ]
  },
  {
   "cell_type": "code",
   "execution_count": null,
   "metadata": {
    "dotnet_interactive": {
     "language": "csharp"
    },
    "polyglot_notebook": {
     "kernelName": "csharp"
    }
   },
   "outputs": [],
   "source": [
    "var topTransformedTestData = mlContext.Data.TakeRows(transformedTestData, 5);\n",
    "var predictions = mlContext.Data.CreateEnumerable<Prediction>(topTransformedTestData, reuseRowObject: false).ToList();\n",
    "foreach (var p in predictions)\n",
    "    Console.WriteLine($\"Label: {p.Label}, Score: {p.Score}\");"
   ]
  },
  {
   "cell_type": "code",
   "execution_count": null,
   "metadata": {
    "dotnet_interactive": {
     "language": "csharp"
    },
    "polyglot_notebook": {
     "kernelName": "csharp"
    }
   },
   "outputs": [],
   "source": [
    "public static void PrintMetrics(RankingMetrics metrics)\n",
    "{\n",
    "    Console.WriteLine(\"DCG: \" + string.Join(\", \", metrics.DiscountedCumulativeGains.Select((d, i) => (i + 1) + \":\" + d + \":F2\").ToArray()));\n",
    "    Console.WriteLine(\"NDCG: \" + string.Join(\", \", metrics.NormalizedDiscountedCumulativeGains.Select((d, i) => (i + 1) + \":\" + d + \":F2\").ToArray()));\n",
    "}"
   ]
  },
  {
   "cell_type": "code",
   "execution_count": null,
   "metadata": {
    "dotnet_interactive": {
     "language": "csharp"
    },
    "polyglot_notebook": {
     "kernelName": "csharp"
    }
   },
   "outputs": [],
   "source": [
    "var metrics = mlContext.Ranking.Evaluate(transformedTestData);\n",
    "PrintMetrics(metrics);"
   ]
  }
 ],
 "metadata": {},
 "nbformat": 4,
 "nbformat_minor": 5
}