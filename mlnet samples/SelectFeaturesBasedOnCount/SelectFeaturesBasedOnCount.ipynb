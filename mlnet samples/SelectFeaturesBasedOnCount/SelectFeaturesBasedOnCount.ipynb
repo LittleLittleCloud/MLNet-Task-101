{
 "cells": [
  {
   "cell_type": "markdown",
   "metadata": {},
   "source": [
    "task name: Resolve SelectFeaturesBasedOnCount Task\n",
    "task description: Implement the SelectFeaturesBasedOnCount task using the provided C# code and save the result to an output file."
   ]
  },
  {
   "cell_type": "code",
   "execution_count": null,
   "metadata": {
    "dotnet_interactive": {
     "language": "csharp"
    },
    "polyglot_notebook": {
     "kernelName": "csharp"
    }
   },
   "outputs": [],
   "source": [
    "#r \"nuget: Microsoft.ML\""
   ]
  },
  {
   "cell_type": "code",
   "execution_count": null,
   "metadata": {
    "dotnet_interactive": {
     "language": "csharp"
    },
    "polyglot_notebook": {
     "kernelName": "csharp"
    }
   },
   "outputs": [],
   "source": [
    "using System;\n",
    "using System.Collections.Generic;\n",
    "using Microsoft.ML;\n",
    "using Microsoft.ML.Data;"
   ]
  },
  {
   "cell_type": "code",
   "execution_count": null,
   "metadata": {
    "dotnet_interactive": {
     "language": "csharp"
    },
    "polyglot_notebook": {
     "kernelName": "csharp"
    }
   },
   "outputs": [],
   "source": [
    "var mlContext = new MLContext();"
   ]
  },
  {
   "cell_type": "code",
   "execution_count": null,
   "metadata": {
    "dotnet_interactive": {
     "language": "csharp"
    },
    "polyglot_notebook": {
     "kernelName": "csharp"
    }
   },
   "outputs": [],
   "source": [
    "public class TransformedData\n",
    "{\n",
    "    public float[] NumericVector { get; set; }\n",
    "\n",
    "    public string[] StringVector { get; set; }\n",
    "}\n",
    "\n",
    "public class InputData\n",
    "{\n",
    "    [VectorType(3)]\n",
    "    public float[] NumericVector { get; set; }\n",
    "\n",
    "    [VectorType(3)]\n",
    "    public string[] StringVector { get; set; }\n",
    "}\n",
    "\n",
    "public static IEnumerable<InputData> GetData()\n",
    "{\n",
    "    var data = new List<InputData>\n",
    "    {\n",
    "        new InputData\n",
    "        {\n",
    "            NumericVector = new float[] { 4, float.NaN, 6 },\n",
    "            StringVector = new string[] { \"A\", \"WA\", \"Male\"}\n",
    "        },\n",
    "        new InputData\n",
    "        {\n",
    "            NumericVector = new float[] { 4, 5, 6 },\n",
    "            StringVector = new string[] { \"A\", string.Empty, \"Female\"}\n",
    "        },\n",
    "        new InputData\n",
    "        {\n",
    "            NumericVector = new float[] { 4, 5, 6 },\n",
    "            StringVector = new string[] { \"A\", \"NY\", null}\n",
    "        },\n",
    "        new InputData\n",
    "        {\n",
    "            NumericVector = new float[] { 4, 0, float.NaN },\n",
    "            StringVector = new string[] { \"A\", null, \"Male\"}\n",
    "        }\n",
    "    };\n",
    "    return data;\n",
    "}\n",
    "\n",
    "var rawData = GetData();\n",
    "var data = mlContext.Data.LoadFromEnumerable(rawData);"
   ]
  },
  {
   "cell_type": "code",
   "execution_count": null,
   "metadata": {
    "dotnet_interactive": {
     "language": "csharp"
    },
    "polyglot_notebook": {
     "kernelName": "csharp"
    }
   },
   "outputs": [],
   "source": [
    "var pipeline =\n",
    "    mlContext.Transforms.FeatureSelection.SelectFeaturesBasedOnCount(\n",
    "        outputColumnName: \"NumericVector\", count: 3)\n",
    "    .Append(mlContext.Transforms.FeatureSelection\n",
    "    .SelectFeaturesBasedOnCount(outputColumnName: \"StringVector\",\n",
    "    count: 3));\n",
    "var transformedData = pipeline.Fit(data).Transform(data);"
   ]
  },
  {
   "cell_type": "code",
   "execution_count": null,
   "metadata": {
    "dotnet_interactive": {
     "language": "csharp"
    },
    "polyglot_notebook": {
     "kernelName": "csharp"
    }
   },
   "outputs": [],
   "source": [
    "var convertedData = mlContext.Data.CreateEnumerable<TransformedData>(\n",
    "    transformedData, true);\n",
    "Console.WriteLine($\"NumericVector             StringVector\");\n",
    "foreach (var item in convertedData)\n",
    "    Console.WriteLine(\"{0,-25} {1,-25}\", string.Join(\",\", item.\n",
    "        NumericVector), string.Join(\",\", item.StringVector));"
   ]
  }
 ],
 "metadata": {},
 "nbformat": 4,
 "nbformat_minor": 5
}