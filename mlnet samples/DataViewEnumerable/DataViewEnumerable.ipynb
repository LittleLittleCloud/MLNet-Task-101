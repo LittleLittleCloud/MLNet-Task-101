{
 "cells": [
  {
   "cell_type": "markdown",
   "metadata": {},
   "source": [
    "task name: Resolve DataViewEnumerable\n",
    "\n",
    "task description: Implement the provided C# code as a dotnet interactive notebook"
   ]
  },
  {
   "cell_type": "code",
   "execution_count": null,
   "metadata": {
    "dotnet_interactive": {
     "language": "csharp"
    },
    "polyglot_notebook": {
     "kernelName": "csharp"
    }
   },
   "outputs": [],
   "source": [
    "#r \"nuget:Microsoft.ML\"\r\n"
   ]
  },
  {
   "cell_type": "code",
   "execution_count": null,
   "metadata": {
    "dotnet_interactive": {
     "language": "csharp"
    },
    "polyglot_notebook": {
     "kernelName": "csharp"
    }
   },
   "outputs": [],
   "source": [
    "using System;\n",
    "using System.Collections.Generic;\n",
    "using Microsoft.ML;"
   ]
  },
  {
   "cell_type": "code",
   "execution_count": null,
   "metadata": {
    "dotnet_interactive": {
     "language": "csharp"
    },
    "polyglot_notebook": {
     "kernelName": "csharp"
    }
   },
   "outputs": [],
   "source": [
    "var mlContext = new MLContext();"
   ]
  },
  {
   "cell_type": "code",
   "execution_count": null,
   "metadata": {
    "dotnet_interactive": {
     "language": "csharp"
    },
    "polyglot_notebook": {
     "kernelName": "csharp"
    }
   },
   "outputs": [],
   "source": [
    "public class SampleTemperatureData\n",
    "{\n",
    "    public DateTime Date { get; set; }\n",
    "    public float Temperature { get; set; }\n",
    "}\n",
    "\n",
    "public class SampleTemperatureDataWithLatitude\n",
    "{\n",
    "    public float Latitude { get; set; }\n",
    "    public DateTime Date { get; set; }\n",
    "    public float Temperature { get; set; }\n",
    "}"
   ]
  },
  {
   "cell_type": "code",
   "execution_count": null,
   "metadata": {
    "dotnet_interactive": {
     "language": "csharp"
    },
    "polyglot_notebook": {
     "kernelName": "csharp"
    }
   },
   "outputs": [],
   "source": [
    "private static IEnumerable<SampleTemperatureData> GetSampleTemperatureData(int exampleCount)\n",
    "{\n",
    "    var rng = new Random(1234321);\n",
    "    var date = new DateTime(2012, 1, 1);\n",
    "    float temperature = 39.0f;\n",
    "\n",
    "    for (int i = 0; i < exampleCount; i++)\n",
    "    {\n",
    "        date = date.AddDays(1);\n",
    "        temperature += rng.Next(-5, 5);\n",
    "        yield return new SampleTemperatureData\n",
    "        {\n",
    "            Date = date,\n",
    "            Temperature = temperature\n",
    "        };\n",
    "    }\n",
    "}"
   ]
  },
  {
   "cell_type": "code",
   "execution_count": null,
   "metadata": {
    "dotnet_interactive": {
     "language": "csharp"
    },
    "polyglot_notebook": {
     "kernelName": "csharp"
    }
   },
   "outputs": [],
   "source": [
    "IEnumerable<SampleTemperatureData> enumerableOfData = GetSampleTemperatureData(5);\n",
    "IDataView data = mlContext.Data.LoadFromEnumerable(enumerableOfData);"
   ]
  },
  {
   "cell_type": "code",
   "execution_count": null,
   "metadata": {
    "dotnet_interactive": {
     "language": "csharp"
    },
    "polyglot_notebook": {
     "kernelName": "csharp"
    }
   },
   "outputs": [],
   "source": [
    "var rowEnumerable = mlContext.Data.CreateEnumerable<SampleTemperatureData>(data, reuseRowObject: true);"
   ]
  },
  {
   "cell_type": "code",
   "execution_count": null,
   "metadata": {
    "dotnet_interactive": {
     "language": "csharp"
    },
    "polyglot_notebook": {
     "kernelName": "csharp"
    }
   },
   "outputs": [],
   "source": [
    "foreach (var row in rowEnumerable)\n",
    "{\n",
    "    Console.WriteLine($\"{row.Date.ToString(\"d\")}\\t{row.Temperature}\");\n",
    "}"
   ]
  },
  {
   "cell_type": "code",
   "execution_count": null,
   "metadata": {
    "dotnet_interactive": {
     "language": "csharp"
    },
    "polyglot_notebook": {
     "kernelName": "csharp"
    }
   },
   "outputs": [],
   "source": [
    "var rowEnumerableIgnoreMissing = mlContext.Data.CreateEnumerable<SampleTemperatureDataWithLatitude>(data, reuseRowObject: true, ignoreMissingColumns: true);"
   ]
  },
  {
   "cell_type": "code",
   "execution_count": null,
   "metadata": {
    "dotnet_interactive": {
     "language": "csharp"
    },
    "polyglot_notebook": {
     "kernelName": "csharp"
    }
   },
   "outputs": [],
   "source": [
    "foreach (var row in rowEnumerableIgnoreMissing)\n",
    "{\n",
    "    Console.WriteLine($\"{row.Date.ToString(\"d\")}\\t{row.Temperature}\\t{row.Latitude}\");\n",
    "}"
   ]
  }
 ],
 "metadata": {},
 "nbformat": 4,
 "nbformat_minor": 5
}