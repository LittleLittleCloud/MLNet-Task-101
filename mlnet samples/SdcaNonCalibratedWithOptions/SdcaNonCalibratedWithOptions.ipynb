{
 "cells": [
  {
   "cell_type": "markdown",
   "metadata": {},
   "source": [
    "task name: Implement SdcaNonCalibratedWithOptions\n",
    "task description: Implement the SdcaNonCalibratedWithOptions example using the provided C# code"
   ]
  },
  {
   "cell_type": "code",
   "execution_count": null,
   "metadata": {
    "dotnet_interactive": {
     "language": "csharp"
    },
    "polyglot_notebook": {
     "kernelName": "csharp"
    }
   },
   "outputs": [],
   "source": [
    "#r \"nuget:Microsoft.ML,1.5.4\""
   ]
  },
  {
   "cell_type": "code",
   "execution_count": null,
   "metadata": {
    "dotnet_interactive": {
     "language": "csharp"
    },
    "polyglot_notebook": {
     "kernelName": "csharp"
    }
   },
   "outputs": [],
   "source": [
    "using System;\n",
    "using System.Collections.Generic;\n",
    "using System.Linq;\n",
    "using Microsoft.ML;\n",
    "using Microsoft.ML.Data;\n",
    "using Microsoft.ML.Trainers;"
   ]
  },
  {
   "cell_type": "code",
   "execution_count": null,
   "metadata": {
    "dotnet_interactive": {
     "language": "csharp"
    },
    "polyglot_notebook": {
     "kernelName": "csharp"
    }
   },
   "outputs": [],
   "source": [
    "var mlContext = new MLContext(seed: 0);"
   ]
  },
  {
   "cell_type": "code",
   "execution_count": null,
   "metadata": {
    "dotnet_interactive": {
     "language": "csharp"
    },
    "polyglot_notebook": {
     "kernelName": "csharp"
    }
   },
   "outputs": [],
   "source": [
    "using System;\n",
    "using System.Collections.Generic;\n",
    "using System.Linq;\n",
    "using Microsoft.ML;\n",
    "using Microsoft.ML.Data;\n",
    "using Microsoft.ML.Trainers;\n",
    "\n",
    "var mlContext = new MLContext(seed: 0);\n",
    "\n",
    "// Example with label and 50 feature values. A data set is a collection of such examples.\n",
    "class DataPoint\n",
    "{\n",
    "    public bool Label { get; set; }\n",
    "    [VectorType(50)]\n",
    "    public float[] Features { get; set; }\n",
    "}\n",
    "\n",
    "IEnumerable<DataPoint> GenerateRandomDataPoints(int count, int seed = 0)\n",
    "{\n",
    "    var random = new Random(seed);\n",
    "    float randomFloat() => (float)random.NextDouble();\n",
    "    for (int i = 0; i < count; i++)\n",
    "    {\n",
    "        var label = randomFloat() > 0.5f;\n",
    "        yield return new DataPoint\n",
    "        {\n",
    "            Label = label,\n",
    "            Features = Enumerable.Repeat(label, 50)\n",
    "                .Select(x => x ? randomFloat() : randomFloat() + 0.03f).ToArray()\n",
    "        };\n",
    "    }\n",
    "}\n",
    "\n",
    "var dataPoints = GenerateRandomDataPoints(1000);\n",
    "var trainingData = mlContext.Data.LoadFromEnumerable(dataPoints);\n",
    "trainingData = mlContext.Data.Cache(trainingData);"
   ]
  },
  {
   "cell_type": "code",
   "execution_count": null,
   "metadata": {
    "dotnet_interactive": {
     "language": "csharp"
    },
    "polyglot_notebook": {
     "kernelName": "csharp"
    }
   },
   "outputs": [],
   "source": [
    "var options = new SdcaNonCalibratedBinaryTrainer.Options()\n",
    "{\n",
    "    LossFunction = new HingeLoss(),\n",
    "    ConvergenceTolerance = 0.05f,\n",
    "    MaximumNumberOfIterations = 30,\n",
    "    PositiveInstanceWeight = 1.2f,\n",
    "};\n",
    "\n",
    "var pipeline = mlContext.BinaryClassification.Trainers.SdcaNonCalibrated(options);"
   ]
  },
  {
   "cell_type": "code",
   "execution_count": null,
   "metadata": {
    "dotnet_interactive": {
     "language": "csharp"
    },
    "polyglot_notebook": {
     "kernelName": "csharp"
    }
   },
   "outputs": [],
   "source": [
    "var model = pipeline.Fit(trainingData);"
   ]
  },
  {
   "cell_type": "code",
   "execution_count": null,
   "metadata": {
    "dotnet_interactive": {
     "language": "csharp"
    },
    "polyglot_notebook": {
     "kernelName": "csharp"
    }
   },
   "outputs": [],
   "source": [
    "var testData = mlContext.Data.LoadFromEnumerable(GenerateRandomDataPoints(500, seed: 123));\n",
    "var transformedTestData = model.Transform(testData);"
   ]
  },
  {
   "cell_type": "code",
   "execution_count": null,
   "metadata": {
    "dotnet_interactive": {
     "language": "csharp"
    },
    "polyglot_notebook": {
     "kernelName": "csharp"
    }
   },
   "outputs": [],
   "source": [
    "using System;\n",
    "\n",
    "// Class used to capture predictions.\n",
    "class Prediction\n",
    "{\n",
    "    public bool Label { get; set; }\n",
    "    public bool PredictedLabel { get; set; }\n",
    "}\n",
    "\n",
    "var predictions = mlContext.Data.CreateEnumerable<Prediction>(transformedTestData, reuseRowObject: false).ToList();\n",
    "foreach (var p in predictions.Take(5))\n",
    "    Console.WriteLine($\"Label: {p.Label}, Prediction: {p.PredictedLabel}\");"
   ]
  },
  {
   "cell_type": "code",
   "execution_count": null,
   "metadata": {
    "dotnet_interactive": {
     "language": "csharp"
    },
    "polyglot_notebook": {
     "kernelName": "csharp"
    }
   },
   "outputs": [],
   "source": [
    "var metrics = mlContext.BinaryClassification.EvaluateNonCalibrated(transformedTestData);\n",
    "PrintMetrics(metrics);\n",
    "\n",
    "void PrintMetrics(BinaryClassificationMetrics metrics)\n",
    "{\n",
    "    Console.WriteLine($\"Accuracy: {metrics.Accuracy:F2}\");\n",
    "    Console.WriteLine($\"AUC: {metrics.AreaUnderRocCurve:F2}\");\n",
    "    Console.WriteLine($\"F1 Score: {metrics.F1Score:F2}\");\n",
    "    Console.WriteLine($\"Negative Precision: {metrics.NegativePrecision:F2}\");\n",
    "    Console.WriteLine($\"Negative Recall: {metrics.NegativeRecall:F2}\");\n",
    "    Console.WriteLine($\"Positive Precision: {metrics.PositivePrecision:F2}\");\n",
    "    Console.WriteLine($\"Positive Recall: {metrics.PositiveRecall:F2}\");\n",
    "    Console.WriteLine(metrics.ConfusionMatrix.GetFormattedConfusionTable());\n",
    "}"
   ]
  }
 ],
 "metadata": {},
 "nbformat": 4,
 "nbformat_minor": 5
}