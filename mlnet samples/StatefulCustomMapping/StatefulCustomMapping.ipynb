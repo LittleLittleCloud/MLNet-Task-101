{
 "cells": [
  {
   "cell_type": "markdown",
   "metadata": {},
   "source": [
    "task name: Resolve StatefulCustomMapping Task\n",
    "task description: Implement the StatefulCustomMapping example using a dotnet interactive notebook."
   ]
  },
  {
   "cell_type": "code",
   "execution_count": null,
   "metadata": {
    "dotnet_interactive": {
     "language": "csharp"
    },
    "polyglot_notebook": {
     "kernelName": "csharp"
    }
   },
   "outputs": [],
   "source": [
    "#r \"nuget:Microsoft.ML,1.5.5\""
   ]
  },
  {
   "cell_type": "code",
   "execution_count": null,
   "metadata": {
    "dotnet_interactive": {
     "language": "csharp"
    },
    "polyglot_notebook": {
     "kernelName": "csharp"
    }
   },
   "outputs": [],
   "source": [
    "using System;\n",
    "using System.Collections.Generic;\n",
    "using Microsoft.ML;"
   ]
  },
  {
   "cell_type": "code",
   "execution_count": null,
   "metadata": {
    "dotnet_interactive": {
     "language": "csharp"
    },
    "polyglot_notebook": {
     "kernelName": "csharp"
    }
   },
   "outputs": [],
   "source": [
    "#r \"nuget:Microsoft.ML,1.5.5\"\n",
    "\n",
    "using System;\n",
    "using System.Collections.Generic;\n",
    "using Microsoft.ML;\n",
    "\n",
    "var mlContext = new MLContext();\n",
    "var samples = new List<InputData>\n",
    "{\n",
    "    new InputData { Sign = true },\n",
    "    new InputData { Sign = true },\n",
    "    new InputData { Sign = false },\n",
    "    new InputData { Sign = true },\n",
    "    new InputData { Sign = false },\n",
    "    new InputData { Sign = true },\n",
    "    new InputData { Sign = false },\n",
    "    new InputData { Sign = false },\n",
    "    new InputData { Sign = false },\n",
    "};\n",
    "var data = mlContext.Data.LoadFromEnumerable(samples);\n",
    "\n",
    "class InputData\n",
    "{\n",
    "    public bool Sign { get; set; }\n",
    "}"
   ]
  },
  {
   "cell_type": "code",
   "execution_count": null,
   "metadata": {
    "dotnet_interactive": {
     "language": "csharp"
    },
    "polyglot_notebook": {
     "kernelName": "csharp"
    }
   },
   "outputs": [],
   "source": [
    "class CustomMappingOutput\n",
    "{\n",
    "    public long SignedFibonacci { get; set; }\n",
    "}\n",
    "\n",
    "class State\n",
    "{\n",
    "    public long Prev { get; set; }\n",
    "    public long Prev2 { get; set; }\n",
    "}\n",
    "\n",
    "Action<InputData, CustomMappingOutput, State> mapping =\n",
    "    (input, output, state) =>\n",
    "    {\n",
    "        var fib = state.Prev2 + state.Prev;\n",
    "        output.SignedFibonacci = input.Sign ? fib : -fib;\n",
    "        state.Prev2 = state.Prev;\n",
    "        state.Prev = fib;\n",
    "    };\n",
    "\n",
    "Action<State> init =\n",
    "    state =>\n",
    "    {\n",
    "        state.Prev2 = 0;\n",
    "        state.Prev = 1;\n",
    "    };"
   ]
  },
  {
   "cell_type": "code",
   "execution_count": null,
   "metadata": {
    "dotnet_interactive": {
     "language": "csharp"
    },
    "polyglot_notebook": {
     "kernelName": "csharp"
    }
   },
   "outputs": [],
   "source": [
    "var pipeline = mlContext.Transforms.StatefulCustomMapping(mapping, init, contractName: null);\n",
    "var transformer = pipeline.Fit(data);\n",
    "var transformedData = transformer.Transform(data);"
   ]
  },
  {
   "cell_type": "code",
   "execution_count": null,
   "metadata": {
    "dotnet_interactive": {
     "language": "csharp"
    },
    "polyglot_notebook": {
     "kernelName": "csharp"
    }
   },
   "outputs": [],
   "source": [
    "using System;\n",
    "\n",
    "var dataEnumerable = mlContext.Data.CreateEnumerable<TransformedData>(\n",
    "    transformedData, reuseRowObject: true);\n",
    "\n",
    "Console.WriteLine(\"Sign\\t SignedFibonacci\");\n",
    "foreach (var row in dataEnumerable)\n",
    "    Console.WriteLine($\"{row.Sign}\\t {row.SignedFibonacci}\");\n",
    "\n",
    "class TransformedData : InputData\n",
    "{\n",
    "    public long SignedFibonacci { get; set; }\n",
    "}"
   ]
  }
 ],
 "metadata": {},
 "nbformat": 4,
 "nbformat_minor": 5
}