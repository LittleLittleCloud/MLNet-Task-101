{
 "cells": [
  {
   "cell_type": "markdown",
   "metadata": {},
   "source": [
    "task name: Replace Missing Values\n",
    "\n",
    "task description: Implement the ReplaceMissingValues example using ML.NET"
   ]
  },
  {
   "cell_type": "markdown",
   "metadata": {},
   "source": [
    "task name: Replace Missing Values\n",
    "task description: Implement the ReplaceMissingValues example using ML.NET"
   ]
  },
  {
   "cell_type": "markdown",
   "metadata": {},
   "source": [
    "task name: Replace Missing Values\n",
    "task description: Implement the ReplaceMissingValues example using ML.NET"
   ]
  }
 ],
 "metadata": {},
 "nbformat": 4,
 "nbformat_minor": 5
}