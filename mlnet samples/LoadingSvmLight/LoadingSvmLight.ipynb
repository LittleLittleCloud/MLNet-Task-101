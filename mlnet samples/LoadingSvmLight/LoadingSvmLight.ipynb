{
 "cells": [
  {
   "cell_type": "markdown",
   "metadata": {},
   "source": [
    "task name: LoadingSvmLight\n",
    "task description: Implement the LoadingSvmLight.Example() method to load data with SvmLightLoader."
   ]
  },
  {
   "cell_type": "code",
   "execution_count": null,
   "metadata": {
    "dotnet_interactive": {
     "language": "csharp"
    },
    "polyglot_notebook": {
     "kernelName": "csharp"
    }
   },
   "outputs": [],
   "source": [
    "#r \"nuget:Microsoft.ML\"\r\n"
   ]
  },
  {
   "cell_type": "code",
   "execution_count": null,
   "metadata": {
    "dotnet_interactive": {
     "language": "csharp"
    },
    "polyglot_notebook": {
     "kernelName": "csharp"
    }
   },
   "outputs": [],
   "source": [
    "using System;\n",
    "using System.IO;\n",
    "using System.Text;\n",
    "using Microsoft.ML;\n",
    "using Microsoft.ML.Data;"
   ]
  },
  {
   "cell_type": "code",
   "execution_count": null,
   "metadata": {
    "dotnet_interactive": {
     "language": "csharp"
    },
    "polyglot_notebook": {
     "kernelName": "csharp"
    }
   },
   "outputs": [],
   "source": [
    "// Create a random SVM light format file.\n",
    "var random = new Random(42);\n",
    "var dataDirectoryName = \"DataDir\";\n",
    "Directory.CreateDirectory(dataDirectoryName);\n",
    "var fileName = Path.Combine(dataDirectoryName, $\"SVM_Data.csv\");\n",
    "using (var fs = File.CreateText(fileName))\n",
    "{\n",
    "    // Write random lines in SVM light format\n",
    "    for (int line = 0; line < 10; line++)\n",
    "    {\n",
    "        var sb = new StringBuilder();\n",
    "        if (random.NextDouble() > 0.5)\n",
    "            sb.Append(\"1 \");\n",
    "        else\n",
    "            sb.Append(\"-1 \");\n",
    "        if (line % 2 == 0)\n",
    "            sb.Append(\"cost:1 \");\n",
    "        else\n",
    "            sb.Append(\"cost:2 \");\n",
    "        for (int i = 1; i <= 10; i++)\n",
    "        {\n",
    "            if (random.NextDouble() > 0.5)\n",
    "                continue;\n",
    "            sb.Append($\"{i}:{random.NextDouble()} \");\n",
    "        }\n",
    "        fs.WriteLine(sb.ToString());\n",
    "    }\n",
    "}\n",
    "\n",
    "// Create MLContext and MultiFileSource\n",
    "var mlContext = new MLContext();\n",
    "var file = new MultiFileSource(fileName);"
   ]
  },
  {
   "cell_type": "code",
   "execution_count": null,
   "metadata": {
    "dotnet_interactive": {
     "language": "csharp"
    },
    "polyglot_notebook": {
     "kernelName": "csharp"
    }
   },
   "outputs": [],
   "source": [
    "var loader = mlContext.Data.CreateSvmLightLoader(dataSample: file);\n",
    "var svmData = loader.Load(file);"
   ]
  },
  {
   "cell_type": "code",
   "execution_count": null,
   "metadata": {
    "dotnet_interactive": {
     "language": "csharp"
    },
    "polyglot_notebook": {
     "kernelName": "csharp"
    }
   },
   "outputs": [],
   "source": [
    "void PrintSchema(IDataView data)\r\n",
    "{\r\n",
    "    foreach (var col in data.Schema)\r\n",
    "        Console.WriteLine($\"Column {col.Name} type {col.Type}\");\r\n",
    "}\r\n",
    "\r\n",
    "void PrintData(IDataView data)\r\n",
    "{\r\n",
    "    using (var cursor = data.GetRowCursor(data.Schema))\r\n",
    "    {\r\n",
    "        var labelGetter = cursor.GetGetter<float>(data.Schema[\"Label\"]);\r\n",
    "        var weightGetter = cursor.GetGetter<float>(data.Schema[\"Weight\"]);\r\n",
    "        var featuresGetter = cursor.GetGetter<VBuffer<float>>(data.Schema[\"Features\"]);\r\n",
    "\r\n",
    "        VBuffer<float> features = default;\r\n",
    "        while (cursor.MoveNext())\r\n",
    "        {\r\n",
    "            float label = default;\r\n",
    "            labelGetter(ref label);\r\n",
    "\r\n",
    "            float weight = default;\r\n",
    "            weightGetter(ref weight);\r\n",
    "\r\n",
    "            featuresGetter(ref features);\r\n",
    "\r\n",
    "            Console.WriteLine($\"{label} {weight} {string.Join(' ', features.DenseValues())}\");\r\n",
    "        }\r\n",
    "    }\r\n",
    "}\r\n",
    "\r\n",
    "PrintSchema(svmData);\r\n",
    "PrintData(svmData);"
   ]
  },
  {
   "cell_type": "code",
   "execution_count": null,
   "metadata": {
    "dotnet_interactive": {
     "language": "csharp"
    },
    "polyglot_notebook": {
     "kernelName": "csharp"
    }
   },
   "outputs": [],
   "source": [
    "loader = mlContext.Data.CreateSvmLightLoader(inputSize: 10);\n",
    "svmData = loader.Load(file);"
   ]
  },
  {
   "cell_type": "code",
   "execution_count": null,
   "metadata": {
    "dotnet_interactive": {
     "language": "csharp"
    },
    "polyglot_notebook": {
     "kernelName": "csharp"
    }
   },
   "outputs": [],
   "source": [
    "PrintSchema(svmData);\n",
    "PrintData(svmData);"
   ]
  }
 ],
 "metadata": {},
 "nbformat": 4,
 "nbformat_minor": 5
}