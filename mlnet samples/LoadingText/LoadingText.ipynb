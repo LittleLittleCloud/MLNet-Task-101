{
 "cells": [
  {
   "cell_type": "markdown",
   "metadata": {},
   "source": [
    "task name: LoadingText\n",
    "task description: Implement the provided C# code to load and process text data"
   ]
  },
  {
   "cell_type": "code",
   "execution_count": null,
   "metadata": {
    "dotnet_interactive": {
     "language": "csharp"
    },
    "polyglot_notebook": {
     "kernelName": "csharp"
    }
   },
   "outputs": [],
   "source": [
    "#r \"nuget:Microsoft.ML\"\r\n"
   ]
  },
  {
   "cell_type": "code",
   "execution_count": null,
   "metadata": {
    "dotnet_interactive": {
     "language": "csharp"
    },
    "polyglot_notebook": {
     "kernelName": "csharp"
    }
   },
   "outputs": [],
   "source": [
    "using System;\n",
    "using System.Collections.Generic;\n",
    "using System.IO;\n",
    "using System.Text;\n",
    "using Microsoft.ML;\n",
    "using Microsoft.ML.Data;"
   ]
  },
  {
   "cell_type": "code",
   "execution_count": null,
   "metadata": {
    "dotnet_interactive": {
     "language": "csharp"
    },
    "polyglot_notebook": {
     "kernelName": "csharp"
    }
   },
   "outputs": [],
   "source": [
    "var mlContext = new MLContext();"
   ]
  },
  {
   "cell_type": "code",
   "execution_count": null,
   "metadata": {
    "dotnet_interactive": {
     "language": "csharp"
    },
    "polyglot_notebook": {
     "kernelName": "csharp"
    }
   },
   "outputs": [],
   "source": [
    "// Create 5 data files to illustrate different loading methods.\n",
    "var dataFiles = new List<string>();\n",
    "var random = new Random(1);\n",
    "var dataDirectoryName = \"DataDir\";\n",
    "Directory.CreateDirectory(dataDirectoryName);\n",
    "for (int i = 0; i < 5; i++)\n",
    "{\n",
    "    var fileName = Path.Combine(dataDirectoryName, $\"Data_{i}.csv\");\n",
    "    dataFiles.Add(fileName);\n",
    "    using (var fs = File.CreateText(fileName))\n",
    "    {\n",
    "        // Write without header with 10 random columns, forcing\n",
    "        // approximately 80% of values to be 0.\n",
    "        for (int line = 0; line < 10; line++)\n",
    "        {\n",
    "            var sb = new StringBuilder();\n",
    "            for (int pos = 0; pos < 10; pos++)\n",
    "            {\n",
    "                var value = random.NextDouble();\n",
    "                sb.Append((value < 0.8 ? 0 : value).ToString() + '\\t');\n",
    "            }\n",
    "            fs.WriteLine(sb.ToString(0, sb.Length - 1));\n",
    "        }\n",
    "    }\n",
    "}"
   ]
  },
  {
   "cell_type": "code",
   "execution_count": null,
   "metadata": {
    "dotnet_interactive": {
     "language": "csharp"
    },
    "polyglot_notebook": {
     "kernelName": "csharp"
    }
   },
   "outputs": [],
   "source": [
    "private static void PrintRowCount(IDataView idv)\n",
    "{\n",
    "    // IDataView is lazy so we need to iterate through it\n",
    "    // to get the number of rows.\n",
    "    long rowCount = 0;\n",
    "    using (var cursor = idv.GetRowCursor(idv.Schema))\n",
    "        while (cursor.MoveNext())\n",
    "            rowCount++;\n",
    "\n",
    "    Console.WriteLine(rowCount);\n",
    "}"
   ]
  },
  {
   "cell_type": "code",
   "execution_count": null,
   "metadata": {
    "dotnet_interactive": {
     "language": "csharp"
    },
    "polyglot_notebook": {
     "kernelName": "csharp"
    }
   },
   "outputs": [],
   "source": [
    "// Create a TextLoader.\n",
    "var loader = mlContext.Data.CreateTextLoader(\n",
    "    columns: new[]\n",
    "    {\n",
    "        new TextLoader.Column(\"Features\", DataKind.Single, 0, 9)\n",
    "    },\n",
    "    hasHeader: false\n",
    ");\n",
    "\n",
    "// Load a single file from path.\n",
    "var singleFileData = loader.Load(dataFiles[0]);\n",
    "PrintRowCount(singleFileData);"
   ]
  }
 ],
 "metadata": {},
 "nbformat": 4,
 "nbformat_minor": 5
}