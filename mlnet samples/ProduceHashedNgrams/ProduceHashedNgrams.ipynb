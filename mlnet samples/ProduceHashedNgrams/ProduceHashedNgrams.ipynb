{
 "cells": [
  {
   "cell_type": "markdown",
   "metadata": {},
   "source": [
    "task name: Implement ProduceHashedNgrams\n",
    "task description: Implement the provided C# code for producing hashed n-grams using ML.NET"
   ]
  },
  {
   "cell_type": "code",
   "execution_count": null,
   "metadata": {
    "dotnet_interactive": {
     "language": "csharp"
    },
    "polyglot_notebook": {
     "kernelName": "csharp"
    }
   },
   "outputs": [],
   "source": [
    "#r \"nuget:Microsoft.ML,1.6.0\""
   ]
  },
  {
   "cell_type": "code",
   "execution_count": null,
   "metadata": {
    "dotnet_interactive": {
     "language": "csharp"
    },
    "polyglot_notebook": {
     "kernelName": "csharp"
    }
   },
   "outputs": [],
   "source": [
    "using System;\n",
    "using System.Collections.Generic;\n",
    "using Microsoft.ML;\n",
    "using Microsoft.ML.Data;"
   ]
  },
  {
   "cell_type": "code",
   "execution_count": null,
   "metadata": {
    "dotnet_interactive": {
     "language": "csharp"
    },
    "polyglot_notebook": {
     "kernelName": "csharp"
    }
   },
   "outputs": [],
   "source": [
    "public class TextData\n",
    "{\n",
    "    public string Text { get; set; }\n",
    "}\n",
    "\n",
    "var mlContext = new MLContext();\n",
    "var samples = new List<TextData>()\n",
    "{\n",
    "    new TextData(){ Text = \"This is an example to compute n-grams using hashing.\" },\n",
    "    new TextData(){ Text = \"N-gram is a sequence of 'N' consecutive words/tokens.\" },\n",
    "    new TextData(){ Text = \"ML.NET's ProduceHashedNgrams API produces count of n-grams and hashes it as an index into a vector of given bit length.\" },\n",
    "    new TextData(){ Text = \"The hashing reduces the size of the output feature vector\" },\n",
    "    new TextData(){ Text = \"which is useful in case when number of n-grams is very large.\" }\n",
    "};\n",
    "var dataview = mlContext.Data.LoadFromEnumerable(samples);"
   ]
  },
  {
   "cell_type": "code",
   "execution_count": null,
   "metadata": {
    "dotnet_interactive": {
     "language": "csharp"
    },
    "polyglot_notebook": {
     "kernelName": "csharp"
    }
   },
   "outputs": [],
   "source": [
    "var textPipeline = mlContext.Transforms.Text.TokenizeIntoWords(\"Tokens\", \"Text\")\n",
    "    .Append(mlContext.Transforms.Conversion.MapValueToKey(\"Tokens\"))\n",
    "    .Append(mlContext.Transforms.Text.ProduceHashedNgrams(\n",
    "        \"NgramFeatures\", \"Tokens\",\n",
    "        numberOfBits: 5,\n",
    "        ngramLength: 3,\n",
    "        useAllLengths: false,\n",
    "        maximumNumberOfInverts: 1));\n",
    "\n",
    "var textTransformer = textPipeline.Fit(dataview);\n",
    "var transformedDataView = textTransformer.Transform(dataview);"
   ]
  },
  {
   "cell_type": "code",
   "execution_count": null,
   "metadata": {
    "dotnet_interactive": {
     "language": "csharp"
    },
    "polyglot_notebook": {
     "kernelName": "csharp"
    }
   },
   "outputs": [],
   "source": [
    "public class TransformedTextData : TextData\n",
    "{\n",
    "    public float[] NgramFeatures { get; set; }\n",
    "}\n",
    "\n",
    "var predictionEngine = mlContext.Model.CreatePredictionEngine<TextData, TransformedTextData>(textTransformer);\n",
    "var prediction = predictionEngine.Predict(samples[0]);"
   ]
  },
  {
   "cell_type": "code",
   "execution_count": null,
   "metadata": {
    "dotnet_interactive": {
     "language": "csharp"
    },
    "polyglot_notebook": {
     "kernelName": "csharp"
    }
   },
   "outputs": [],
   "source": [
    "Console.WriteLine(\"Number of Features: \" + prediction.NgramFeatures.Length);\n",
    "//... more code to print n-grams and features"
   ]
  }
 ],
 "metadata": {},
 "nbformat": 4,
 "nbformat_minor": 5
}