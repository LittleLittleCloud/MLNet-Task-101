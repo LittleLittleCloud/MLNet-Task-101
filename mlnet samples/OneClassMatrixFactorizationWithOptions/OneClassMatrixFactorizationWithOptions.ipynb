{
 "cells": [
  {
   "cell_type": "markdown",
   "metadata": {},
   "source": [
    "task name: Implement One-Class Matrix Factorization\n",
    "\n",
    "task description: Implement the provided C# code for One-Class Matrix Factorization using ML.NET"
   ]
  },
  {
   "cell_type": "code",
   "execution_count": null,
   "metadata": {
    "dotnet_interactive": {
     "language": "csharp"
    },
    "polyglot_notebook": {
     "kernelName": "csharp"
    }
   },
   "outputs": [],
   "source": [
    "#r \"nuget:Microsoft.ML,1.6.0\"\n",
    "#r \"nuget:Microsoft.ML.Recommender,0.21.0-preview.23266.6\""
   ]
  },
  {
   "cell_type": "code",
   "execution_count": null,
   "metadata": {
    "dotnet_interactive": {
     "language": "csharp"
    },
    "polyglot_notebook": {
     "kernelName": "csharp"
    }
   },
   "outputs": [],
   "source": [
    "using System;\n",
    "using System.Collections.Generic;\n",
    "using System.Linq;\n",
    "using Microsoft.ML;\n",
    "using Microsoft.ML.Data;\n",
    "using Microsoft.ML.Trainers;"
   ]
  },
  {
   "cell_type": "code",
   "execution_count": null,
   "metadata": {
    "dotnet_interactive": {
     "language": "csharp"
    },
    "polyglot_notebook": {
     "kernelName": "csharp"
    }
   },
   "outputs": [],
   "source": [
    "var mlContext = new MLContext(seed: 0);"
   ]
  },
  {
   "cell_type": "code",
   "execution_count": null,
   "metadata": {
    "dotnet_interactive": {
     "language": "csharp"
    },
    "polyglot_notebook": {
     "kernelName": "csharp"
    }
   },
   "outputs": [],
   "source": [
    "using System.Collections.Generic;\n",
    "\n",
    "// The following variables defines the shape of a matrix. Its shape is \n",
    "// _synthesizedMatrixRowCount-by-_synthesizedMatrixColumnCount.\n",
    "// Because in ML.NET key type's minimal value is zero, the first row index\n",
    "// is always zero in C# data structure (e.g., MatrixColumnIndex=0 and \n",
    "// MatrixRowIndex=0 in MatrixElement below specifies the value at the\n",
    "// upper-left corner in the training matrix). If user's row index\n",
    "// starts with 1, their row index 1 would be mapped to the 2nd row in matrix\n",
    "// factorization module and their first row may contain no values.\n",
    "// This behavior is also true to column index.\n",
    "private const uint _synthesizedMatrixColumnCount = 60;\n",
    "private const uint _synthesizedMatrixRowCount = 100;\n",
    "\n",
    "public class MatrixElement\n",
    "{\n",
    "    // Matrix column index. Its allowed range is from 0 to _synthesizedMatrixColumnCount - 1.\n",
    "    [KeyType(_synthesizedMatrixColumnCount)]\n",
    "    public uint MatrixColumnIndex { get; set; }\n",
    "    // Matrix row index. Its allowed range is from 0 to _synthesizedMatrixRowCount - 1.\n",
    "    [KeyType(_synthesizedMatrixRowCount)]\n",
    "    public uint MatrixRowIndex { get; set; }\n",
    "    // The value at the MatrixColumnIndex-th column and the MatrixRowIndex-th row.\n",
    "    public float Value { get; set; }\n",
    "    // The predicted value at the MatrixColumnIndex-th column and the MatrixRowIndex-th row.\n",
    "    public float Score { get; set; }\n",
    "}\n",
    "\n",
    "// Create an in-memory matrix as a list of tuples (column index, row index, value). Notice that one-class matrix factorization handle scenerios where only positive signals (e.g., on Facebook, only likes are recorded and no dislike before) can be observed so that all values are set to 1.\n",
    "private static void GetOneClassMatrix(out List<MatrixElement> observedMatrix, out List<MatrixElement> fullMatrix)\n",
    "{\n",
    "    // The matrix factorization model will be trained only using observedMatrix but we will see it can learn all information carried sin fullMatrix.\n",
    "    observedMatrix = new List<MatrixElement>();\n",
    "    fullMatrix = new List<MatrixElement>();\n",
    "    for (uint i = 0; i < _synthesizedMatrixColumnCount; ++i)\n",
    "        for (uint j = 0; j < _synthesizedMatrixRowCount; ++j)\n",
    "        {\n",
    "            if ((i + j) % 10 == 0)\n",
    "            {\n",
    "                // Set observed elements' values to 1 (means like).\n",
    "                observedMatrix.Add(new MatrixElement()\n",
    "                {\n",
    "                    MatrixColumnIndex = i,\n",
    "                    MatrixRowIndex = j,\n",
    "                    Value = 1,\n",
    "                    Score = 0\n",
    "                });\n",
    "                fullMatrix.Add(new MatrixElement()\n",
    "                {\n",
    "                    MatrixColumnIndex = i,\n",
    "                    MatrixRowIndex = j,\n",
    "                    Value = 1,\n",
    "                    Score = 0\n",
    "                });\n",
    "            }\n",
    "            else\n",
    "                // Set unobserved elements' values to 0.15, a value smaller than observed values (means dislike).\n",
    "                fullMatrix.Add(new MatrixElement()\n",
    "                {\n",
    "                    MatrixColumnIndex = i,\n",
    "                    MatrixRowIndex = j,\n",
    "                    Value = 0.15f,\n",
    "                    Score = 0\n",
    "                });\n",
    "        }\n",
    "}\n",
    "\n",
    "GetOneClassMatrix(out List<MatrixElement> data, out List<MatrixElement> testData);\n",
    "var dataView = mlContext.Data.LoadFromEnumerable(data);"
   ]
  },
  {
   "cell_type": "code",
   "execution_count": null,
   "metadata": {
    "dotnet_interactive": {
     "language": "csharp"
    },
    "polyglot_notebook": {
     "kernelName": "csharp"
    }
   },
   "outputs": [],
   "source": [
    "var options = new MatrixFactorizationTrainer.Options\n",
    "{\n",
    "    MatrixColumnIndexColumnName = nameof(MatrixElement.MatrixColumnIndex),\n",
    "    MatrixRowIndexColumnName = nameof(MatrixElement.MatrixRowIndex),\n",
    "    LabelColumnName = nameof(MatrixElement.Value),\n",
    "    NumberOfIterations = 20,\n",
    "    NumberOfThreads = 8,\n",
    "    ApproximationRank = 32,\n",
    "    Alpha = 1,\n",
    "    C = 0.15,\n",
    "    LossFunction = MatrixFactorizationTrainer.LossFunctionType.SquareLossOneClass\n",
    "};\n",
    "\n",
    "var pipeline = mlContext.Recommendation().Trainers.MatrixFactorization(options);"
   ]
  },
  {
   "cell_type": "code",
   "execution_count": null,
   "metadata": {
    "dotnet_interactive": {
     "language": "csharp"
    },
    "polyglot_notebook": {
     "kernelName": "csharp"
    }
   },
   "outputs": [],
   "source": [
    "var model = pipeline.Fit(dataView);"
   ]
  },
  {
   "cell_type": "code",
   "execution_count": null,
   "metadata": {
    "dotnet_interactive": {
     "language": "csharp"
    },
    "polyglot_notebook": {
     "kernelName": "csharp"
    }
   },
   "outputs": [],
   "source": [
    "var prediction = model.Transform(mlContext.Data.LoadFromEnumerable(testData));"
   ]
  },
  {
   "cell_type": "code",
   "execution_count": null,
   "metadata": {
    "dotnet_interactive": {
     "language": "csharp"
    },
    "polyglot_notebook": {
     "kernelName": "csharp"
    }
   },
   "outputs": [],
   "source": [
    "var results = mlContext.Data.CreateEnumerable<MatrixElement>(prediction, false).ToList();\n",
    "foreach (var pred in results.Take(15))\n",
    "{\n",
    "    Console.WriteLine($\"Predicted value at row {pred.MatrixRowIndex - 1} and column {pred.MatrixColumnIndex - 1} is {pred.Score} and its expected value is {pred.Value}.\");\n",
    "}"
   ]
  }
 ],
 "metadata": {},
 "nbformat": 4,
 "nbformat_minor": 5
}