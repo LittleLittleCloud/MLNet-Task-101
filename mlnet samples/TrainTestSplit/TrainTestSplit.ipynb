{
 "cells": [
  {
   "cell_type": "markdown",
   "metadata": {},
   "source": [
    "task name: Implement TrainTestSplit\n",
    "task description: Implement the TrainTestSplit functionality using the provided C# code"
   ]
  },
  {
   "cell_type": "code",
   "execution_count": null,
   "metadata": {
    "dotnet_interactive": {
     "language": "csharp"
    },
    "polyglot_notebook": {
     "kernelName": "csharp"
    }
   },
   "outputs": [],
   "source": [
    "#r \"nuget: Microsoft.ML, 1.6.0\""
   ]
  },
  {
   "cell_type": "code",
   "execution_count": null,
   "metadata": {
    "dotnet_interactive": {
     "language": "csharp"
    },
    "polyglot_notebook": {
     "kernelName": "csharp"
    }
   },
   "outputs": [],
   "source": [
    "using System;\n",
    "using System.Collections.Generic;\n",
    "using Microsoft.ML;"
   ]
  },
  {
   "cell_type": "code",
   "execution_count": null,
   "metadata": {
    "dotnet_interactive": {
     "language": "csharp"
    },
    "polyglot_notebook": {
     "kernelName": "csharp"
    }
   },
   "outputs": [],
   "source": [
    "var mlContext = new MLContext();"
   ]
  },
  {
   "cell_type": "code",
   "execution_count": null,
   "metadata": {
    "dotnet_interactive": {
     "language": "csharp"
    },
    "polyglot_notebook": {
     "kernelName": "csharp"
    }
   },
   "outputs": [],
   "source": [
    "private static IEnumerable<DataPoint> GenerateRandomDataPoints(int count, int seed = 0)\r\n",
    "{\r\n",
    "    var random = new Random(seed);\r\n",
    "    for (int i = 0; i < count; i++)\r\n",
    "    {\r\n",
    "        yield return new DataPoint\r\n",
    "        {\r\n",
    "            Group = i % 2,\r\n",
    "            Features = (float)random.NextDouble()\r\n",
    "        };\r\n",
    "    }\r\n",
    "}\r\n",
    "\r\n",
    "public class DataPoint\r\n",
    "{\r\n",
    "    public float Group { get; set; }\r\n",
    "    public float Features { get; set; }\r\n",
    "}\r\n",
    "\r\n",
    "var examples = GenerateRandomDataPoints(10);\r\n",
    "var dataview = mlContext.Data.LoadFromEnumerable(examples);"
   ]
  },
  {
   "cell_type": "code",
   "execution_count": null,
   "metadata": {
    "dotnet_interactive": {
     "language": "csharp"
    },
    "polyglot_notebook": {
     "kernelName": "csharp"
    }
   },
   "outputs": [],
   "source": [
    "var split = mlContext.Data.TrainTestSplit(dataview, testFraction: 0.1, samplingKeyColumnName: \"Group\");"
   ]
  },
  {
   "cell_type": "code",
   "execution_count": null,
   "metadata": {
    "dotnet_interactive": {
     "language": "csharp"
    },
    "polyglot_notebook": {
     "kernelName": "csharp"
    }
   },
   "outputs": [],
   "source": [
    "var trainSet = mlContext.Data.CreateEnumerable<DataPoint>(split.TrainSet, reuseRowObject: false);\n",
    "var testSet = mlContext.Data.CreateEnumerable<DataPoint>(split.TestSet, reuseRowObject: false);\n",
    "\n",
    "Console.WriteLine(\"The data in the Train split.\");\n",
    "foreach (var row in trainSet)\n",
    "{\n",
    "    Console.WriteLine($\"{row.Group}, {row.Features}\");\n",
    "}\n",
    "\n",
    "Console.WriteLine();\n",
    "\n",
    "Console.WriteLine(\"The data in the Test split.\");\n",
    "foreach (var row in testSet)\n",
    "{\n",
    "    Console.WriteLine($\"{row.Group}, {row.Features}\");\n",
    "}"
   ]
  },
  {
   "cell_type": "markdown",
   "metadata": {},
   "source": [
    "The dotnet interactive notebook has been successfully created and all the necessary cells have been added."
   ]
  }
 ],
 "metadata": {},
 "nbformat": 4,
 "nbformat_minor": 5
}