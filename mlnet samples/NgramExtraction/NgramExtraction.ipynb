{
 "cells": [
  {
   "cell_type": "markdown",
   "id": "1abc4489",
   "metadata": {},
   "source": [
    "task name: Resolve Ngram Extraction Task\n",
    "task description: Implement Ngram extraction using the provided C# code"
   ]
  },
  {
   "cell_type": "code",
   "execution_count": 4,
   "id": "4112f180",
   "metadata": {
    "dotnet_interactive": {
     "language": "csharp"
    },
    "polyglot_notebook": {
     "kernelName": "csharp"
    },
    "vscode": {
     "languageId": "polyglot-notebook"
    }
   },
   "outputs": [
    {
     "data": {
      "text/html": [
       "<div><div></div><div></div><div><strong>Installed Packages</strong><ul><li><span>Microsoft.ML, 2.0.1</span></li></ul></div></div>"
      ]
     },
     "metadata": {},
     "output_type": "display_data"
    }
   ],
   "source": [
    "#r \"nuget:Microsoft.ML\"\n"
   ]
  },
  {
   "cell_type": "code",
   "execution_count": 5,
   "id": "8f5ba350",
   "metadata": {
    "dotnet_interactive": {
     "language": "csharp"
    },
    "polyglot_notebook": {
     "kernelName": "csharp"
    },
    "vscode": {
     "languageId": "polyglot-notebook"
    }
   },
   "outputs": [],
   "source": [
    "using System;\n",
    "using System.Collections.Generic;\n",
    "using Microsoft.ML;\n",
    "using Microsoft.ML.Data;"
   ]
  },
  {
   "cell_type": "code",
   "execution_count": 6,
   "id": "d7c8fbdb",
   "metadata": {
    "dotnet_interactive": {
     "language": "csharp"
    },
    "polyglot_notebook": {
     "kernelName": "csharp"
    },
    "vscode": {
     "languageId": "polyglot-notebook"
    }
   },
   "outputs": [],
   "source": [
    "var ml = new MLContext();\n",
    "\n",
    "public class SampleSentimentData\n",
    "{\n",
    "    public bool Sentiment { get; set; }\n",
    "    public string SentimentText { get; set; }\n",
    "}\n",
    "\n",
    "var data = new List<SampleSentimentData>() {\n",
    "    new SampleSentimentData { Sentiment = true, SentimentText = \"Best game I've ever played.\" },\n",
    "    new SampleSentimentData { Sentiment = false, SentimentText = \"==RUDE== Dude, 2\" },\n",
    "    new SampleSentimentData { Sentiment = true, SentimentText = \"Until the next game, this is the best Xbox game!\" } \n",
    "};\n",
    "\n",
    "var trainData = ml.Data.LoadFromEnumerable(data);"
   ]
  },
  {
   "cell_type": "code",
   "execution_count": 7,
   "id": "c17e2273",
   "metadata": {
    "dotnet_interactive": {
     "language": "csharp"
    },
    "polyglot_notebook": {
     "kernelName": "csharp"
    },
    "vscode": {
     "languageId": "polyglot-notebook"
    }
   },
   "outputs": [],
   "source": [
    "var charsPipeline = ml.Transforms.Text.TokenizeIntoCharactersAsKeys(\"Chars\", \"SentimentText\", useMarkerCharacters: false);\n",
    "var ngramOnePipeline = ml.Transforms.Text.ProduceNgrams(\"CharsUnigrams\", \"Chars\", ngramLength: 1);\n",
    "var ngramTwpPipeline = ml.Transforms.Text.ProduceNgrams(\"CharsTwograms\", \"Chars\");\n",
    "var oneCharsPipeline = charsPipeline.Append(ngramOnePipeline);\n",
    "var twoCharsPipeline = charsPipeline.Append(ngramTwpPipeline);"
   ]
  },
  {
   "cell_type": "code",
   "execution_count": 8,
   "id": "6a5d1529",
   "metadata": {
    "dotnet_interactive": {
     "language": "csharp"
    },
    "polyglot_notebook": {
     "kernelName": "csharp"
    },
    "vscode": {
     "languageId": "polyglot-notebook"
    }
   },
   "outputs": [],
   "source": [
    "var transformedData_onechars = oneCharsPipeline.Fit(trainData).Transform(trainData);\n",
    "var transformedData_twochars = twoCharsPipeline.Fit(trainData).Transform(trainData);"
   ]
  },
  {
   "cell_type": "code",
   "execution_count": 9,
   "id": "e9e6ba1e",
   "metadata": {
    "dotnet_interactive": {
     "language": "csharp"
    },
    "polyglot_notebook": {
     "kernelName": "csharp"
    },
    "vscode": {
     "languageId": "polyglot-notebook"
    }
   },
   "outputs": [
    {
     "name": "stdout",
     "output_type": "stream",
     "text": [
      "CharsUnigrams column obtained post-transformation.\n",
      "'B' - 1 'e' - 6 's' - 1 't' - 1 '<␠>' - 4 'g' - 1 'a' - 2 'm' - 1 'I' - 1 ''' - 1 'v' - 2 'r' - 1 'p' - 1 'l' - 1 'y' - 1 'd' - 1 '.' - 1 '=' - 0 'R' - 0 'U' - 0 'D' - 0 'E' - 0 'u' - 0 ',' - 0 '2' - 0 'n' - 0 'i' - 0 'h' - 0 'x' - 0 'b' - 0 'X' - 0 'o' - 0 '!' - 0 \n",
      "'e' - 1 '<␠>' - 2 'd' - 1 '=' - 4 'R' - 1 'U' - 1 'D' - 2 'E' - 1 'u' - 1 ',' - 1 '2' - 1 \n",
      "'B' - 0 'e' - 6 's' - 3 't' - 6 '<␠>' - 9 'g' - 2 'a' - 2 'm' - 2 'I' - 0 ''' - 0 'v' - 0 'r' - 0 'p' - 0 'l' - 1 'y' - 0 'd' - 0 '.' - 0 '=' - 0 'R' - 0 'U' - 1 'D' - 0 'E' - 0 'u' - 0 ',' - 1 '2' - 0 'n' - 2 'i' - 3 'h' - 3 'x' - 2 'b' - 2 'X' - 1 'o' - 1 '!' - 1 \n",
      "===================================================\n",
      "CharsTwograms column obtained post-transformation.\n",
      "'B' - 1 'B|e' - 1 'e' - 6 'e|s' - 1 's' - 1 's|t' - 1 't' - 1 't|<␠>' - 1 '<␠>' - 4 '<␠>|g' - 1 'g' - 1 'g|a' - 1 'a' - 2 'a|m' - 1 'm' - 1 'm|e' - 1 'e|<␠>' - 2 '<␠>|I' - 1 'I' - 1 'I|'' - 1 ''' - 1 ''|v' - 1 'v' - 2 'v|e' - 2 '<␠>|e' - 1 'e|v' - 1 'e|r' - 1 'r' - 1 'r|<␠>' - 1 '<␠>|p' - 1 'p' - 1 'p|l' - 1 'l' - 1 'l|a' - 1 'a|y' - 1 'y' - 1 'y|e' - 1 'e|d' - 1 'd' - 1 'd|.' - 1 '.' - 1 \n",
      "'e' - 1 '<␠>' - 2 'd' - 1 '=' - 4 '=|=' - 2 '=|R' - 1 'R' - 1 'R|U' - 1 'U' - 1 'U|D' - 1 'D' - 2 'D|E' - 1 'E' - 1 'E|=' - 1 '=|<␠>' - 1 '<␠>|D' - 1 'D|u' - 1 'u' - 1 'u|d' - 1 'd|e' - 1 'e|,' - 1 ',' - 1 ',|<␠>' - 1 '<␠>|2' - 1 '2' - 1 \n",
      "'B' - 0 'B|e' - 0 'e' - 6 'e|s' - 1 's' - 3 's|t' - 1 't' - 6 't|<␠>' - 2 '<␠>' - 9 '<␠>|g' - 2 'g' - 2 'g|a' - 2 'a' - 2 'a|m' - 2 'm' - 2 'm|e' - 2 'e|<␠>' - 2 '<␠>|I' - 0 'I' - 0 'I|'' - 0 ''' - 0 ''|v' - 0 'v' - 0 'v|e' - 0 '<␠>|e' - 0 'e|v' - 0 'e|r' - 0 'r' - 0 'r|<␠>' - 0 '<␠>|p' - 0 'p' - 0 'p|l' - 0 'l' - 1 'l|a' - 0 'a|y' - 0 'y' - 0 'y|e' - 0 'e|d' - 0 'd' - 0 'd|.' - 0 '.' - 0 '=' - 0 '=|=' - 0 '=|R' - 0 'R' - 0 'R|U' - 0 'U' - 1 'U|D' - 0 'D' - 0 'D|E' - 0 'E' - 0 'E|=' - 0 '=|<␠>' - 0 '<␠>|D' - 0 'D|u' - 0 'u' - 0 'u|d' - 0 'd|e' - 0 'e|,' - 1 ',' - 1 ',|<␠>' - 1 '<␠>|2' - 0 '2' - 0 'U|n' - 1 'n' - 2 'n|t' - 1 't|i' - 1 'i' - 3 'i|l' - 1 'l|<␠>' - 1 '<␠>|t' - 3 't|h' - 3 'h' - 3 'h|e' - 2 '<␠>|n' - 1 'n|e' - 1 'e|x' - 1 'x' - 2 'x|t' - 1 'h|i' - 1 'i|s' - 2 's|<␠>' - 2 '<␠>|i' - 1 '<␠>|b' - 1 'b' - 2 'b|e' - 1 '<␠>|X' - 1 'X' - 1 'X|b' - 1 'b|o' - 1 'o' - 1 'o|x' - 1 'x|<␠>' - 1 'e|!' - 1 '!' - 1 \n",
      "===================================================\n"
     ]
    }
   ],
   "source": [
    "Action<string, IEnumerable<VBuffer<float>>, VBuffer<ReadOnlyMemory<char>>> printHelper = (columnName, column, names) =>\n",
    "{\n",
    "    Console.WriteLine($\"{columnName} column obtained post-transformation.\");\n",
    "\n",
    "    var slots = names.GetValues();\n",
    "    foreach (var featureRow in column)\n",
    "    {\n",
    "        foreach (var item in featureRow.Items())\n",
    "            Console.Write($\"'{slots[item.Key]}' - {item.Value} \");\n",
    "        Console.WriteLine(\"\");\n",
    "    }\n",
    "\n",
    "    Console.WriteLine(\"===================================================\");\n",
    "};\n",
    "\n",
    "// print CharsUnigrams\n",
    "VBuffer<ReadOnlyMemory<char>> slotNames = default;\n",
    "transformedData_onechars.Schema[\"CharsUnigrams\"].GetSlotNames(ref slotNames);\n",
    "var charsOneGramColumn = transformedData_onechars.GetColumn<VBuffer<float>>(transformedData_onechars.Schema[\"CharsUnigrams\"]);\n",
    "printHelper(\"CharsUnigrams\", charsOneGramColumn, slotNames);\n",
    "\n",
    "// print CharsTwograms\n",
    "var charsTwoGramColumn = transformedData_twochars.GetColumn<VBuffer<float>>(transformedData_twochars.Schema[\"CharsTwograms\"]);\n",
    "transformedData_twochars.Schema[\"CharsTwograms\"].GetSlotNames(ref slotNames);\n",
    "printHelper(\"CharsTwograms\", charsTwoGramColumn, slotNames);"
   ]
  }
 ],
 "metadata": {
  "kernelspec": {
   "display_name": ".NET (C#)",
   "language": "C#",
   "name": ".net-csharp"
  },
  "language_info": {
   "name": "python"
  },
  "polyglot_notebook": {
   "kernelInfo": {
    "defaultKernelName": "csharp",
    "items": [
     {
      "aliases": [],
      "name": "csharp"
     }
    ]
   }
  }
 },
 "nbformat": 4,
 "nbformat_minor": 5
}
