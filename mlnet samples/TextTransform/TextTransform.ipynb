{
 "cells": [
  {
   "cell_type": "markdown",
   "metadata": {},
   "source": [
    "task name: Resolve TextTransform Task\n",
    "task description: Implement the TextTransform example using C# code"
   ]
  },
  {
   "cell_type": "code",
   "execution_count": null,
   "metadata": {
    "dotnet_interactive": {
     "language": "csharp"
    },
    "polyglot_notebook": {
     "kernelName": "csharp"
    }
   },
   "outputs": [],
   "source": [
    "#r \"nuget:Microsoft.ML\"\r\n"
   ]
  },
  {
   "cell_type": "code",
   "execution_count": null,
   "metadata": {
    "dotnet_interactive": {
     "language": "csharp"
    },
    "polyglot_notebook": {
     "kernelName": "csharp"
    }
   },
   "outputs": [],
   "source": [
    "using System;\n",
    "using System.Collections.Generic;\n",
    "using Microsoft.ML;\n",
    "using Microsoft.ML.Data;\n",
    "using Microsoft.ML.Transforms.Text;"
   ]
  },
  {
   "cell_type": "code",
   "execution_count": null,
   "metadata": {
    "dotnet_interactive": {
     "language": "csharp"
    },
    "polyglot_notebook": {
     "kernelName": "csharp"
    }
   },
   "outputs": [],
   "source": [
    "var ml = new MLContext();"
   ]
  },
  {
   "cell_type": "code",
   "execution_count": null,
   "metadata": {
    "dotnet_interactive": {
     "language": "csharp"
    },
    "polyglot_notebook": {
     "kernelName": "csharp"
    }
   },
   "outputs": [],
   "source": [
    "public class SampleSentimentData\n",
    "{\n",
    "    public bool Sentiment { get; set; }\n",
    "    public string SentimentText { get; set; }\n",
    "}\n",
    "\n",
    "var data = new List<SampleSentimentData>() {\n",
    "            new SampleSentimentData { Sentiment = true,\n",
    "                SentimentText = \"Best game I've ever played.\" },\n",
    "\n",
    "            new SampleSentimentData { Sentiment = false,\n",
    "                SentimentText = \"==RUDE== Dude, 2\" },\n",
    "\n",
    "            new SampleSentimentData { Sentiment = true,\n",
    "                SentimentText = \"Until the next game,\" +\n",
    "                \"this is the best Xbox game!\" } };\n",
    "\n",
    "var trainData = ml.Data.LoadFromEnumerable(data);"
   ]
  },
  {
   "cell_type": "code",
   "execution_count": null,
   "metadata": {
    "dotnet_interactive": {
     "language": "csharp"
    },
    "polyglot_notebook": {
     "kernelName": "csharp"
    }
   },
   "outputs": [],
   "source": [
    "string defaultColumnName = \"DefaultTextFeatures\";\n",
    "var default_pipeline = ml.Transforms.Text\n",
    "            .FeaturizeText(defaultColumnName, \"SentimentText\");\n",
    "\n",
    "string customizedColumnName = \"CustomizedTextFeatures\";\n",
    "var customized_pipeline = ml.Transforms.Text\n",
    "            .FeaturizeText(customizedColumnName,\n",
    "            new TextFeaturizingEstimator.Options\n",
    "\n",
    "            {\n",
    "                KeepPunctuations = false,\n",
    "                KeepNumbers = false,\n",
    "                OutputTokensColumnName = \"OutputTokens\",\n",
    "                StopWordsRemoverOptions =\n",
    "                new StopWordsRemovingEstimator.Options()\n",
    "                {\n",
    "                    Language = TextFeaturizingEstimator.Language.English\n",
    "                },\n",
    "\n",
    "            }, \"SentimentText\");\n",
    "\n",
    "var transformedData_default = default_pipeline.Fit(trainData)\n",
    "            .Transform(trainData);\n",
    "\n",
    "var transformedData_customized = customized_pipeline.Fit(trainData)\n",
    "            .Transform(trainData);"
   ]
  },
  {
   "cell_type": "code",
   "execution_count": null,
   "metadata": {
    "dotnet_interactive": {
     "language": "csharp"
    },
    "polyglot_notebook": {
     "kernelName": "csharp"
    }
   },
   "outputs": [],
   "source": [
    "Action<string, IEnumerable<VBuffer<float>>> printHelper = (columnName,\n",
    "            column) =>\n",
    "\n",
    "    {\n",
    "        Console.WriteLine(\n",
    "            $\"{columnName} column obtained post-transformation.\");\n",
    "\n",
    "        foreach (var featureRow in column)\n",
    "        {\n",
    "            foreach (var value in featureRow.GetValues())\n",
    "                Console.Write($\"{value} \");\n",
    "            Console.WriteLine(\"\");\n",
    "        }\n",
    "\n",
    "        Console.WriteLine(\n",
    "            \"===================================================\");\n",
    "\n",
    "    };\n",
    "\n",
    "var defaultColumn = transformedData_default\n",
    "            .GetColumn<VBuffer<float>>(transformedData_default\n",
    "            .Schema[defaultColumnName]);\n",
    "\n",
    "printHelper(defaultColumnName, defaultColumn);\n",
    "\n",
    "var customizedColumn = transformedData_customized\n",
    "            .GetColumn<VBuffer<float>>(transformedData_customized\n",
    "            .Schema[customizedColumnName]);\n",
    "\n",
    "printHelper(customizedColumnName, customizedColumn);"
   ]
  }
 ],
 "metadata": {},
 "nbformat": 4,
 "nbformat_minor": 5
}