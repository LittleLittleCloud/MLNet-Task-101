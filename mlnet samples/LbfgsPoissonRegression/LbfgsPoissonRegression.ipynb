{
 "cells": [
  {
   "cell_type": "markdown",
   "metadata": {},
   "source": [
    "task name: LbfgsPoissonRegression\n",
    "task description: Implement the L-BFGS Poisson Regression algorithm using ML.NET"
   ]
  },
  {
   "cell_type": "code",
   "execution_count": null,
   "metadata": {
    "dotnet_interactive": {
     "language": "csharp"
    },
    "polyglot_notebook": {
     "kernelName": "csharp"
    }
   },
   "outputs": [],
   "source": [
    "#r \"nuget:Microsoft.ML,1.6.0\""
   ]
  },
  {
   "cell_type": "code",
   "execution_count": null,
   "metadata": {
    "dotnet_interactive": {
     "language": "csharp"
    },
    "polyglot_notebook": {
     "kernelName": "csharp"
    }
   },
   "outputs": [],
   "source": [
    "using System;\n",
    "using System.Collections.Generic;\n",
    "using System.Linq;\n",
    "using Microsoft.ML;\n",
    "using Microsoft.ML.Data;"
   ]
  },
  {
   "cell_type": "code",
   "execution_count": null,
   "metadata": {
    "dotnet_interactive": {
     "language": "csharp"
    },
    "polyglot_notebook": {
     "kernelName": "csharp"
    }
   },
   "outputs": [],
   "source": [
    "var mlContext = new MLContext(seed: 0);"
   ]
  },
  {
   "cell_type": "code",
   "execution_count": null,
   "metadata": {
    "dotnet_interactive": {
     "language": "csharp"
    },
    "polyglot_notebook": {
     "kernelName": "csharp"
    }
   },
   "outputs": [],
   "source": [
    "// Example with label and 50 feature values. A data set is a collection of such examples.\n",
    "private class DataPoint\n",
    "{\n",
    "    public float Label { get; set; }\n",
    "    [VectorType(50)]\n",
    "    public float[] Features { get; set; }\n",
    "}\n",
    "\n",
    "private static IEnumerable<DataPoint> GenerateRandomDataPoints(int count,\n",
    "            int seed = 0)\n",
    "{\n",
    "    var random = new Random(seed);\n",
    "    for (int i = 0; i < count; i++)\n",
    "    {\n",
    "        float label = (float)random.NextDouble();\n",
    "        yield return new DataPoint\n",
    "        {\n",
    "            Label = label,\n",
    "            // Create random features that are correlated with the label.\n",
    "            Features = Enumerable.Repeat(label, 50).Select(\n",
    "                x => x + (float)random.NextDouble()).ToArray()\n",
    "        };\n",
    "    }\n",
    "}\n",
    "\n",
    "var dataPoints = GenerateRandomDataPoints(1000).ToList();\n",
    "var trainingData = mlContext.Data.LoadFromEnumerable(dataPoints);"
   ]
  },
  {
   "cell_type": "code",
   "execution_count": null,
   "metadata": {
    "dotnet_interactive": {
     "language": "csharp"
    },
    "polyglot_notebook": {
     "kernelName": "csharp"
    }
   },
   "outputs": [],
   "source": [
    "var pipeline = mlContext.Regression.Trainers.LbfgsPoissonRegression(\n",
    "                labelColumnName: nameof(DataPoint.Label),\n",
    "                featureColumnName: nameof(DataPoint.Features));"
   ]
  },
  {
   "cell_type": "code",
   "execution_count": null,
   "metadata": {
    "dotnet_interactive": {
     "language": "csharp"
    },
    "polyglot_notebook": {
     "kernelName": "csharp"
    }
   },
   "outputs": [],
   "source": [
    "var model = pipeline.Fit(trainingData);"
   ]
  },
  {
   "cell_type": "code",
   "execution_count": null,
   "metadata": {
    "dotnet_interactive": {
     "language": "csharp"
    },
    "polyglot_notebook": {
     "kernelName": "csharp"
    }
   },
   "outputs": [],
   "source": [
    "var testData = mlContext.Data.LoadFromEnumerable(GenerateRandomDataPoints(5, seed: 123));\n",
    "var transformedTestData = model.Transform(testData);"
   ]
  },
  {
   "cell_type": "code",
   "execution_count": null,
   "metadata": {
    "dotnet_interactive": {
     "language": "csharp"
    },
    "polyglot_notebook": {
     "kernelName": "csharp"
    }
   },
   "outputs": [],
   "source": [
    "// Class used to capture predictions.\n",
    "private class Prediction\n",
    "{\n",
    "    // Original label.\n",
    "    public float Label { get; set; }\n",
    "    // Predicted score from the trainer.\n",
    "    public float Score { get; set; }\n",
    "}\n",
    "\n",
    "var predictions = mlContext.Data.CreateEnumerable<Prediction>(\n",
    "                transformedTestData, reuseRowObject: false).ToList();"
   ]
  },
  {
   "cell_type": "code",
   "execution_count": null,
   "metadata": {
    "dotnet_interactive": {
     "language": "csharp"
    },
    "polyglot_notebook": {
     "kernelName": "csharp"
    }
   },
   "outputs": [],
   "source": [
    "foreach (var p in predictions)\n",
    "{\n",
    "    Console.WriteLine($\"Label: {p.Label:F3}, Prediction: {p.Score:F3}\");\n",
    "}"
   ]
  },
  {
   "cell_type": "code",
   "execution_count": null,
   "metadata": {
    "dotnet_interactive": {
     "language": "csharp"
    },
    "polyglot_notebook": {
     "kernelName": "csharp"
    }
   },
   "outputs": [],
   "source": [
    "private static void PrintMetrics(RegressionMetrics metrics)\r\n",
    "{\r\n",
    "    Console.WriteLine($\"Mean Absolute Error: {metrics.MeanAbsoluteError:F3}\");\r\n",
    "    Console.WriteLine($\"Mean Squared Error: {metrics.MeanSquaredError:F3}\");\r\n",
    "    Console.WriteLine($\"Root Mean Squared Error: {metrics.RootMeanSquaredError:F3}\");\r\n",
    "    Console.WriteLine($\"RSquared: {metrics.RSquared:F3}\");\r\n",
    "}\r\n",
    "\r\n",
    "var metrics = mlContext.Regression.Evaluate(transformedTestData);\r\n",
    "PrintMetrics(metrics);"
   ]
  }
 ],
 "metadata": {},
 "nbformat": 4,
 "nbformat_minor": 5
}