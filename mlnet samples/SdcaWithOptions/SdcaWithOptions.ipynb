{
 "cells": [
  {
   "cell_type": "markdown",
   "metadata": {},
   "source": [
    "task name: Implement SdcaWithOptions\n",
    "task description: Implement the SdcaWithOptions example using the provided C# code"
   ]
  },
  {
   "cell_type": "code",
   "execution_count": null,
   "metadata": {
    "dotnet_interactive": {
     "language": "csharp"
    },
    "polyglot_notebook": {
     "kernelName": "csharp"
    }
   },
   "outputs": [],
   "source": [
    "#r \"nuget:Microsoft.ML,1.5.5\""
   ]
  },
  {
   "cell_type": "code",
   "execution_count": null,
   "metadata": {
    "dotnet_interactive": {
     "language": "csharp"
    },
    "polyglot_notebook": {
     "kernelName": "csharp"
    }
   },
   "outputs": [],
   "source": [
    "using System;\n",
    "using System.Collections.Generic;\n",
    "using System.Linq;\n",
    "using Microsoft.ML;\n",
    "using Microsoft.ML.Data;\n",
    "using Microsoft.ML.Trainers;"
   ]
  },
  {
   "cell_type": "code",
   "execution_count": null,
   "metadata": {
    "dotnet_interactive": {
     "language": "csharp"
    },
    "polyglot_notebook": {
     "kernelName": "csharp"
    }
   },
   "outputs": [],
   "source": [
    "var mlContext = new MLContext(seed: 0);"
   ]
  },
  {
   "cell_type": "code",
   "execution_count": null,
   "metadata": {
    "dotnet_interactive": {
     "language": "csharp"
    },
    "polyglot_notebook": {
     "kernelName": "csharp"
    }
   },
   "outputs": [],
   "source": [
    "private class DataPoint\n",
    "{\n",
    "    public float Label { get; set; }\n",
    "    [VectorType(50)]\n",
    "    public float[] Features { get; set; }\n",
    "}\n",
    "\n",
    "private static IEnumerable<DataPoint> GenerateRandomDataPoints(int count, int seed = 0)\n",
    "{\n",
    "    var random = new Random(seed);\n",
    "    for (int i = 0; i < count; i++)\n",
    "    {\n",
    "        float label = (float)random.NextDouble();\n",
    "        yield return new DataPoint\n",
    "        {\n",
    "            Label = label,\n",
    "            Features = Enumerable.Repeat(label, 50).Select(x => x + (float)random.NextDouble()).ToArray()\n",
    "        };\n",
    "    }\n",
    "}\n",
    "\n",
    "var dataPoints = GenerateRandomDataPoints(1000).ToList();\n",
    "var trainingData = mlContext.Data.LoadFromEnumerable(dataPoints);"
   ]
  },
  {
   "cell_type": "code",
   "execution_count": null,
   "metadata": {
    "dotnet_interactive": {
     "language": "csharp"
    },
    "polyglot_notebook": {
     "kernelName": "csharp"
    }
   },
   "outputs": [],
   "source": [
    "var options = new SdcaRegressionTrainer.Options\n",
    "{\n",
    "    LabelColumnName = nameof(DataPoint.Label),\n",
    "    FeatureColumnName = nameof(DataPoint.Features),\n",
    "    ConvergenceTolerance = 0.02f,\n",
    "    MaximumNumberOfIterations = 30,\n",
    "    BiasLearningRate = 0.1f\n",
    "};\n",
    "\n",
    "var pipeline = mlContext.Regression.Trainers.Sdca(options);"
   ]
  },
  {
   "cell_type": "code",
   "execution_count": null,
   "metadata": {
    "dotnet_interactive": {
     "language": "csharp"
    },
    "polyglot_notebook": {
     "kernelName": "csharp"
    }
   },
   "outputs": [],
   "source": [
    "var model = pipeline.Fit(trainingData);"
   ]
  }
 ],
 "metadata": {},
 "nbformat": 4,
 "nbformat_minor": 5
}