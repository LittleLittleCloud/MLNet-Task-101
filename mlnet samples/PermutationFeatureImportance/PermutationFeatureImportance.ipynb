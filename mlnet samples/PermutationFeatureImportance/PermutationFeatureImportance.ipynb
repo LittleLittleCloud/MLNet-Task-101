{
 "cells": [
  {
   "cell_type": "markdown",
   "metadata": {},
   "source": [
    "task name: Resolve PermutationFeatureImportance task\n",
    "\n",
    "task description: Implement the PermutationFeatureImportance example using the provided C# code"
   ]
  },
  {
   "cell_type": "code",
   "execution_count": null,
   "metadata": {
    "dotnet_interactive": {
     "language": "csharp"
    },
    "polyglot_notebook": {
     "kernelName": "csharp"
    }
   },
   "outputs": [],
   "source": [
    "#r \"nuget:Microsoft.ML,1.6.0\""
   ]
  },
  {
   "cell_type": "code",
   "execution_count": null,
   "metadata": {
    "dotnet_interactive": {
     "language": "csharp"
    },
    "polyglot_notebook": {
     "kernelName": "csharp"
    }
   },
   "outputs": [],
   "source": [
    "using System;\n",
    "using System.Collections.Generic;\n",
    "using System.Linq;\n",
    "using Microsoft.ML;"
   ]
  },
  {
   "cell_type": "code",
   "execution_count": null,
   "metadata": {
    "dotnet_interactive": {
     "language": "csharp"
    },
    "polyglot_notebook": {
     "kernelName": "csharp"
    }
   },
   "outputs": [],
   "source": [
    "var mlContext = new MLContext(seed: 1);"
   ]
  },
  {
   "cell_type": "code",
   "execution_count": null,
   "metadata": {
    "dotnet_interactive": {
     "language": "csharp"
    },
    "polyglot_notebook": {
     "kernelName": "csharp"
    }
   },
   "outputs": [],
   "source": [
    "private static IEnumerable<Data> GenerateData(int nExamples = 10000,\n",
    "    double bias = 0, double weight1 = 1, double weight2 = 2, int seed = 1)\n",
    "{\n",
    "    var rng = new Random(seed);\n",
    "    for (int i = 0; i < nExamples; i++)\n",
    "    {\n",
    "        var data = new Data\n",
    "        {\n",
    "            Feature1 = (float)(rng.Next(10) * (rng.NextDouble() - 0.5)),\n",
    "            Feature2 = (float)(rng.Next(10) * (rng.NextDouble() - 0.5)),\n",
    "        };\n",
    "\n",
    "        // Create a noisy label.\n",
    "        var value = (float)(bias + weight1 * data.Feature1 + weight2 *\n",
    "            data.Feature2 + rng.NextDouble() - 0.5);\n",
    "\n",
    "        data.Label = Sigmoid(value) > 0.5;\n",
    "        yield return data;\n",
    "    }\n",
    "}\n",
    "\n",
    "private static double Sigmoid(double x) => 1.0 / (1.0 + Math.Exp(-1 * x));\n",
    "\n",
    "private class Data\n",
    "{\n",
    "    public bool Label { get; set; }\n",
    "\n",
    "    public float Feature1 { get; set; }\n",
    "\n",
    "    public float Feature2 { get; set; }\n",
    "}\n",
    "\n",
    "var samples = GenerateData();"
   ]
  }
 ],
 "metadata": {},
 "nbformat": 4,
 "nbformat_minor": 5
}