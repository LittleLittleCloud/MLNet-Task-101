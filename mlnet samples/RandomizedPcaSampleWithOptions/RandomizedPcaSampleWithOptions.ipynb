{
 "cells": [
  {
   "cell_type": "markdown",
   "metadata": {},
   "source": [
    "task name: Implement RandomizedPcaSampleWithOptions\n",
    "task description: Implement the provided C# code RandomizedPcaSampleWithOptions as a dotnet interactive notebook"
   ]
  },
  {
   "cell_type": "code",
   "execution_count": null,
   "metadata": {
    "dotnet_interactive": {
     "language": "csharp"
    },
    "polyglot_notebook": {
     "kernelName": "csharp"
    }
   },
   "outputs": [],
   "source": [
    "#r \"nuget:Microsoft.ML\""
   ]
  },
  {
   "cell_type": "code",
   "execution_count": null,
   "metadata": {
    "dotnet_interactive": {
     "language": "csharp"
    },
    "polyglot_notebook": {
     "kernelName": "csharp"
    }
   },
   "outputs": [],
   "source": [
    "using System;\n",
    "using System.Collections.Generic;\n",
    "using System.Linq;\n",
    "using Microsoft.ML;\n",
    "using Microsoft.ML.Data;"
   ]
  },
  {
   "cell_type": "code",
   "execution_count": null,
   "metadata": {
    "dotnet_interactive": {
     "language": "csharp"
    },
    "polyglot_notebook": {
     "kernelName": "csharp"
    }
   },
   "outputs": [],
   "source": [
    "var mlContext = new MLContext(seed: 0);"
   ]
  },
  {
   "cell_type": "code",
   "execution_count": null,
   "metadata": {
    "dotnet_interactive": {
     "language": "csharp"
    },
    "polyglot_notebook": {
     "kernelName": "csharp"
    }
   },
   "outputs": [],
   "source": [
    "// Example with 3 feature values. A training data set is a collection of such examples.\r\n",
    "private class DataPoint\r\n",
    "{\r\n",
    "    [VectorType(3)]\r\n",
    "    public float[] Features { get; set; }\r\n",
    "}\r\n",
    "\r\n",
    "var samples = new List<DataPoint>()\r\n",
    "{\r\n",
    "    new DataPoint(){ Features = new float[3] {0, 2, 1} },\r\n",
    "    new DataPoint(){ Features = new float[3] {0, 2, 3} },\r\n",
    "    new DataPoint(){ Features = new float[3] {0, 2, 4} },\r\n",
    "    new DataPoint(){ Features = new float[3] {0, 2, 1} },\r\n",
    "    new DataPoint(){ Features = new float[3] {0, 2, 2} },\r\n",
    "    new DataPoint(){ Features = new float[3] {0, 2, 3} },\r\n",
    "    new DataPoint(){ Features = new float[3] {0, 2, 4} },\r\n",
    "    new DataPoint(){ Features = new float[3] {1, 0, 0} }\r\n",
    "};\r\n",
    "\r\n",
    "var data = mlContext.Data.LoadFromEnumerable(samples);"
   ]
  },
  {
   "cell_type": "code",
   "execution_count": null,
   "metadata": {
    "dotnet_interactive": {
     "language": "csharp"
    },
    "polyglot_notebook": {
     "kernelName": "csharp"
    }
   },
   "outputs": [],
   "source": [
    "var options = new Microsoft.ML.Trainers.RandomizedPcaTrainer.Options()\n",
    "{\n",
    "    FeatureColumnName = nameof(DataPoint.Features),\n",
    "    Rank = 1,\n",
    "    Seed = 10,\n",
    "};\n",
    "\n",
    "var pipeline = mlContext.AnomalyDetection.Trainers.RandomizedPca(options);"
   ]
  },
  {
   "cell_type": "code",
   "execution_count": null,
   "metadata": {
    "dotnet_interactive": {
     "language": "csharp"
    },
    "polyglot_notebook": {
     "kernelName": "csharp"
    }
   },
   "outputs": [],
   "source": [
    "var model = pipeline.Fit(data);"
   ]
  },
  {
   "cell_type": "code",
   "execution_count": null,
   "metadata": {
    "dotnet_interactive": {
     "language": "csharp"
    },
    "polyglot_notebook": {
     "kernelName": "csharp"
    }
   },
   "outputs": [],
   "source": [
    "var transformed = model.Transform(data);"
   ]
  },
  {
   "cell_type": "code",
   "execution_count": null,
   "metadata": {
    "dotnet_interactive": {
     "language": "csharp"
    },
    "polyglot_notebook": {
     "kernelName": "csharp"
    }
   },
   "outputs": [],
   "source": [
    "private class Result\n",
    "{\n",
    "    // Outlier gets true while inlier has false.\n",
    "    public bool PredictedLabel { get; set; }\n",
    "    // Inlier gets smaller score. Score is between 0 and 1.\n",
    "    public float Score { get; set; }\n",
    "}\n",
    "\n",
    "var results = mlContext.Data.CreateEnumerable<Result>(transformed, reuseRowObject: false).ToList();"
   ]
  },
  {
   "cell_type": "code",
   "execution_count": null,
   "metadata": {
    "dotnet_interactive": {
     "language": "csharp"
    },
    "polyglot_notebook": {
     "kernelName": "csharp"
    }
   },
   "outputs": [],
   "source": [
    "for (int i = 0; i < samples.Count; ++i)\n",
    "{\n",
    "    var result = results[i];\n",
    "    var featuresInText = string.Join(',', samples[i].Features);\n",
    "\n",
    "    if (result.PredictedLabel)\n",
    "        Console.WriteLine($\"The {i}-th example with features [{featuresInText}] is an outlier with a score of being outlier {result.Score}\");\n",
    "    else\n",
    "        Console.WriteLine($\"The {i}-th example with features [{featuresInText}] is an inlier with a score of being outlier {result.Score}\");\n",
    "}"
   ]
  }
 ],
 "metadata": {},
 "nbformat": 4,
 "nbformat_minor": 5
}