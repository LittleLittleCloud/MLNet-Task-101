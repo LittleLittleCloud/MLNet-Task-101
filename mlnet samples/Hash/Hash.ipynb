{
 "cells": [
  {
   "cell_type": "markdown",
   "metadata": {},
   "source": [
    "task name: Resolve Hashing Task\n",
    "task description: Implement hashing of categorical string and integer data types"
   ]
  },
  {
   "cell_type": "code",
   "execution_count": null,
   "metadata": {
    "dotnet_interactive": {
     "language": "csharp"
    },
    "polyglot_notebook": {
     "kernelName": "csharp"
    }
   },
   "outputs": [],
   "source": [
    "#r \"nuget:Microsoft.ML\""
   ]
  },
  {
   "cell_type": "code",
   "execution_count": null,
   "metadata": {
    "dotnet_interactive": {
     "language": "csharp"
    },
    "polyglot_notebook": {
     "kernelName": "csharp"
    }
   },
   "outputs": [],
   "source": [
    "using System;\n",
    "using Microsoft.ML;\n",
    "using Microsoft.ML.Data;"
   ]
  },
  {
   "cell_type": "code",
   "execution_count": null,
   "metadata": {
    "dotnet_interactive": {
     "language": "csharp"
    },
    "polyglot_notebook": {
     "kernelName": "csharp"
    }
   },
   "outputs": [],
   "source": [
    "var mlContext = new MLContext(seed: 1);"
   ]
  },
  {
   "cell_type": "code",
   "execution_count": null,
   "metadata": {
    "dotnet_interactive": {
     "language": "csharp"
    },
    "polyglot_notebook": {
     "kernelName": "csharp"
    }
   },
   "outputs": [],
   "source": [
    "public class DataPoint\n",
    "{\n",
    "    public string Category { get; set; }\n",
    "    public uint Age { get; set; }\n",
    "}\n",
    "\n",
    "var rawData = new[] {\n",
    "    new DataPoint() { Category = \"MLB\" , Age = 18 },\n",
    "    new DataPoint() { Category = \"NFL\" , Age = 14 },\n",
    "    new DataPoint() { Category = \"NFL\" , Age = 15 },\n",
    "    new DataPoint() { Category = \"MLB\" , Age = 18 },\n",
    "    new DataPoint() { Category = \"MLS\" , Age = 14 },\n",
    "};\n",
    "\n",
    "var data = mlContext.Data.LoadFromEnumerable(rawData);"
   ]
  },
  {
   "cell_type": "code",
   "execution_count": null,
   "metadata": {
    "dotnet_interactive": {
     "language": "csharp"
    },
    "polyglot_notebook": {
     "kernelName": "csharp"
    }
   },
   "outputs": [],
   "source": [
    "var pipeline = mlContext.Transforms.Conversion.Hash(\"CategoryHashed\",\n",
    "            \"Category\", numberOfBits: 16, maximumNumberOfInverts: -1)\n",
    "            .Append(mlContext.Transforms.Conversion.Hash(\"AgeHashed\", \"Age\",\n",
    "            numberOfBits: 8));\n",
    "\n",
    "var transformer = pipeline.Fit(data);\n",
    "var transformedData = transformer.Transform(data);"
   ]
  },
  {
   "cell_type": "code",
   "execution_count": null,
   "metadata": {
    "dotnet_interactive": {
     "language": "csharp"
    },
    "polyglot_notebook": {
     "kernelName": "csharp"
    }
   },
   "outputs": [],
   "source": [
    "public class TransformedDataPoint : DataPoint\n",
    "{\n",
    "    public uint CategoryHashed { get; set; }\n",
    "    public uint AgeHashed { get; set; }\n",
    "}\n",
    "\n",
    "var convertedData = mlContext.Data.CreateEnumerable<\n",
    "            TransformedDataPoint>(transformedData, true);\n",
    "\n",
    "Console.WriteLine(\"Category CategoryHashed\\t Age\\t AgeHashed\");\n",
    "foreach (var item in convertedData)\n",
    "    Console.WriteLine($\"{item.Category}\\t {item.CategoryHashed}\\t\\t  \" +\n",
    "        $\"{item.Age}\\t {item.AgeHashed}\");"
   ]
  }
 ],
 "metadata": {},
 "nbformat": 4,
 "nbformat_minor": 5
}