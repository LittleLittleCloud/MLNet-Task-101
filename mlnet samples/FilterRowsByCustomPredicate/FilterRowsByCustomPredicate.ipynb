{
 "cells": [
  {
   "cell_type": "markdown",
   "metadata": {},
   "source": [
    "task name: Resolve FilterRowsByCustomPredicate Task\n",
    "task description: Implement the provided C# code in a dotnet interactive notebook and save the output to a file."
   ]
  },
  {
   "cell_type": "code",
   "execution_count": null,
   "metadata": {
    "dotnet_interactive": {
     "language": "csharp"
    },
    "polyglot_notebook": {
     "kernelName": "csharp"
    }
   },
   "outputs": [],
   "source": [
    "#r \"nuget:Microsoft.ML\"\r\n"
   ]
  },
  {
   "cell_type": "code",
   "execution_count": null,
   "metadata": {
    "dotnet_interactive": {
     "language": "csharp"
    },
    "polyglot_notebook": {
     "kernelName": "csharp"
    }
   },
   "outputs": [],
   "source": [
    "using System;\n",
    "using Microsoft.ML;"
   ]
  },
  {
   "cell_type": "code",
   "execution_count": null,
   "metadata": {
    "dotnet_interactive": {
     "language": "csharp"
    },
    "polyglot_notebook": {
     "kernelName": "csharp"
    }
   },
   "outputs": [],
   "source": [
    "var mlContext = new MLContext();"
   ]
  },
  {
   "cell_type": "code",
   "execution_count": null,
   "metadata": {
    "dotnet_interactive": {
     "language": "csharp"
    },
    "polyglot_notebook": {
     "kernelName": "csharp"
    }
   },
   "outputs": [],
   "source": [
    "public class InputData\n",
    "{\n",
    "    public string Name { get; set; }\n",
    "}\n",
    "\n",
    "var enumerableOfData = new[]\n",
    "{\n",
    "    new InputData() { Name = \"Joey\" },\n",
    "    new InputData() { Name = \"Chandler\" },\n",
    "    new InputData() { Name = \"Ross\" },\n",
    "    new InputData() { Name = \"Monica\" },\n",
    "    new InputData() { Name = \"Rachel\" },\n",
    "    new InputData() { Name = \"Phoebe\" },\n",
    "};\n",
    "\n",
    "var data = mlContext.Data.LoadFromEnumerable(enumerableOfData);"
   ]
  },
  {
   "cell_type": "code",
   "execution_count": null,
   "metadata": {
    "dotnet_interactive": {
     "language": "csharp"
    },
    "polyglot_notebook": {
     "kernelName": "csharp"
    }
   },
   "outputs": [],
   "source": [
    "var filteredData = mlContext.Data.FilterByCustomPredicate<InputData>(\n",
    "    data, input => input.Name.StartsWith(\"r\", StringComparison.OrdinalIgnoreCase));"
   ]
  },
  {
   "cell_type": "code",
   "execution_count": null,
   "metadata": {
    "dotnet_interactive": {
     "language": "csharp"
    },
    "polyglot_notebook": {
     "kernelName": "csharp"
    }
   },
   "outputs": [],
   "source": [
    "var enumerable = mlContext.Data\n",
    "    .CreateEnumerable<InputData>(filteredData,\n",
    "    reuseRowObject: true);\n",
    "\n",
    "Console.WriteLine(\"Name\");\n",
    "foreach (var row in enumerable)\n",
    "{\n",
    "    Console.WriteLine(row.Name);\n",
    "}"
   ]
  }
 ],
 "metadata": {},
 "nbformat": 4,
 "nbformat_minor": 5
}