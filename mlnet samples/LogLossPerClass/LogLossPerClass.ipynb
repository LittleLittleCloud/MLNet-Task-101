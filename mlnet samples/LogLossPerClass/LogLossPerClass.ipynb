{
 "cells": [
  {
   "cell_type": "markdown",
   "metadata": {},
   "source": [
    "task name: Resolve LogLossPerClass Task\n",
    "task description: Implement the LogLossPerClass example using the provided C# code and save the result to an output file."
   ]
  },
  {
   "cell_type": "code",
   "execution_count": null,
   "metadata": {
    "dotnet_interactive": {
     "language": "csharp"
    },
    "polyglot_notebook": {
     "kernelName": "csharp"
    }
   },
   "outputs": [],
   "source": [
    "#r \"nuget:Microsoft.ML,1.5.5\""
   ]
  },
  {
   "cell_type": "code",
   "execution_count": null,
   "metadata": {
    "dotnet_interactive": {
     "language": "csharp"
    },
    "polyglot_notebook": {
     "kernelName": "csharp"
    }
   },
   "outputs": [],
   "source": [
    "using System;\n",
    "using System.Collections.Generic;\n",
    "using System.Linq;\n",
    "using Microsoft.ML;\n",
    "using Microsoft.ML.Data;"
   ]
  },
  {
   "cell_type": "code",
   "execution_count": null,
   "metadata": {
    "dotnet_interactive": {
     "language": "csharp"
    },
    "polyglot_notebook": {
     "kernelName": "csharp"
    }
   },
   "outputs": [],
   "source": [
    "var mlContext = new MLContext(seed: 0);"
   ]
  },
  {
   "cell_type": "code",
   "execution_count": null,
   "metadata": {
    "dotnet_interactive": {
     "language": "csharp"
    },
    "polyglot_notebook": {
     "kernelName": "csharp"
    }
   },
   "outputs": [],
   "source": [
    "// Generate data points with random features and labels 1 to 9.\r\n",
    "private static IEnumerable<DataPoint> GenerateRandomDataPoints(int count,\r\n",
    "    int seed = 0)\r\n",
    "{\r\n",
    "    var random = new Random(seed);\r\n",
    "    float randomFloat() => (float)(random.NextDouble() - 0.5);\r\n",
    "    for (int i = 0; i < count; i++)\r\n",
    "    {\r\n",
    "        // Generate Labels that are integers 1, 2 or 3\r\n",
    "        var label = random.Next(1, 10);\r\n",
    "        yield return new DataPoint\r\n",
    "        {\r\n",
    "            Label = (uint)label,\r\n",
    "            // Create random features that are correlated with the label.\r\n",
    "            // The feature values are slightly increased by adding a\r\n",
    "            // constant multiple of label.\r\n",
    "            Features = Enumerable.Repeat(label, 20)\r\n",
    "                .Select(x => randomFloat() + label * 0.2f).ToArray()\r\n",
    "\r\n",
    "        };\r\n",
    "    }\r\n",
    "}\r\n",
    "\r\n",
    "// Example with label and 20 feature values. A data set is a collection of\r\n",
    "// such examples.\r\n",
    "private class DataPoint\r\n",
    "{\r\n",
    "    public uint Label { get; set; }\r\n",
    "    [VectorType(20)]\r\n",
    "    public float[] Features { get; set; }\r\n",
    "}\r\n",
    "\r\n",
    "var dataPoints = GenerateRandomDataPoints(1000);\r\n",
    "var trainingData = mlContext.Data.LoadFromEnumerable(dataPoints);"
   ]
  },
  {
   "cell_type": "code",
   "execution_count": null,
   "metadata": {
    "dotnet_interactive": {
     "language": "csharp"
    },
    "polyglot_notebook": {
     "kernelName": "csharp"
    }
   },
   "outputs": [],
   "source": [
    "var pipeline =\n",
    "    mlContext.Transforms.Conversion.MapValueToKey(nameof(DataPoint.Label));\n",
    "\n",
    "var trainer = mlContext.MulticlassClassification.Trainers.SdcaNonCalibrated();\n",
    "\n",
    "var pipelineWithTrainer = pipeline.Append(trainer);\n",
    "var model = pipelineWithTrainer.Fit(trainingData);"
   ]
  },
  {
   "cell_type": "code",
   "execution_count": null,
   "metadata": {
    "dotnet_interactive": {
     "language": "csharp"
    },
    "polyglot_notebook": {
     "kernelName": "csharp"
    }
   },
   "outputs": [],
   "source": [
    "var testData = mlContext.Data.LoadFromEnumerable(GenerateRandomDataPoints(500, seed: 123));\n",
    "var transformedTestData = model.Transform(testData);"
   ]
  },
  {
   "cell_type": "code",
   "execution_count": null,
   "metadata": {
    "dotnet_interactive": {
     "language": "csharp"
    },
    "polyglot_notebook": {
     "kernelName": "csharp"
    }
   },
   "outputs": [],
   "source": [
    "var metrics = mlContext.MulticlassClassification.Evaluate(transformedTestData);"
   ]
  },
  {
   "cell_type": "code",
   "execution_count": null,
   "metadata": {
    "dotnet_interactive": {
     "language": "csharp"
    },
    "polyglot_notebook": {
     "kernelName": "csharp"
    }
   },
   "outputs": [],
   "source": [
    "VBuffer<uint> keys = default;\n",
    "transformedTestData.Schema[\"PredictedLabel\"].GetKeyValues(ref keys);\n",
    "var originalLabels = keys.DenseValues().ToArray();\n",
    "for (var i = 0; i < originalLabels.Length; i++)\n",
    "    Console.WriteLine(\"LogLoss for label \" + originalLabels[i] + \": \" + metrics.PerClassLogLoss[i].ToString(\"F4\"));"
   ]
  }
 ],
 "metadata": {},
 "nbformat": 4,
 "nbformat_minor": 5
}