{
 "cells": [
  {
   "cell_type": "markdown",
   "metadata": {},
   "source": [
    "task name: Resolve LoadFromEnumerable Task\n",
    "task description: Implement the LoadFromEnumerable example in a dotnet interactive notebook"
   ]
  },
  {
   "cell_type": "code",
   "execution_count": null,
   "metadata": {
    "dotnet_interactive": {
     "language": "csharp"
    },
    "polyglot_notebook": {
     "kernelName": "csharp"
    }
   },
   "outputs": [],
   "source": [
    "#r \"nuget:Microsoft.ML\"\r\n"
   ]
  },
  {
   "cell_type": "code",
   "execution_count": null,
   "metadata": {
    "dotnet_interactive": {
     "language": "csharp"
    },
    "polyglot_notebook": {
     "kernelName": "csharp"
    }
   },
   "outputs": [],
   "source": [
    "using System;\n",
    "using System.Collections.Generic;\n",
    "using Microsoft.ML;\n",
    "using Microsoft.ML.Data;"
   ]
  },
  {
   "cell_type": "code",
   "execution_count": null,
   "metadata": {
    "dotnet_interactive": {
     "language": "csharp"
    },
    "polyglot_notebook": {
     "kernelName": "csharp"
    }
   },
   "outputs": [],
   "source": [
    "public class DataPoint\n",
    "{\n",
    "    public float[] Features { get; set; }\n",
    "}\n",
    "\n",
    "public class DataPointVector\n",
    "{\n",
    "    [VectorType(5)]\n",
    "    public float[] Features { get; set; }\n",
    "}"
   ]
  },
  {
   "cell_type": "code",
   "execution_count": null,
   "metadata": {
    "dotnet_interactive": {
     "language": "csharp"
    },
    "polyglot_notebook": {
     "kernelName": "csharp"
    }
   },
   "outputs": [],
   "source": [
    "var mlContext = new MLContext();"
   ]
  },
  {
   "cell_type": "code",
   "execution_count": null,
   "metadata": {
    "dotnet_interactive": {
     "language": "csharp"
    },
    "polyglot_notebook": {
     "kernelName": "csharp"
    }
   },
   "outputs": [],
   "source": [
    "IEnumerable<DataPointVector> enumerableKnownSize = new DataPointVector[]\n",
    "{\n",
    "   new DataPointVector{ Features = new float[]{ 1.2f, 3.4f, 4.5f, 3.2f, 7,5f } },\n",
    "   new DataPointVector{ Features = new float[]{ 4.2f, 3.4f, 14.65f, 3.2f, 3,5f } },\n",
    "   new DataPointVector{ Features = new float[]{ 1.6f, 3.5f, 4.5f, 6.2f, 3,5f } },\n",
    "};"
   ]
  },
  {
   "cell_type": "code",
   "execution_count": null,
   "metadata": {
    "dotnet_interactive": {
     "language": "csharp"
    },
    "polyglot_notebook": {
     "kernelName": "csharp"
    }
   },
   "outputs": [],
   "source": [
    "IDataView data = mlContext.Data.LoadFromEnumerable(enumerableKnownSize);"
   ]
  },
  {
   "cell_type": "code",
   "execution_count": null,
   "metadata": {
    "dotnet_interactive": {
     "language": "csharp"
    },
    "polyglot_notebook": {
     "kernelName": "csharp"
    }
   },
   "outputs": [],
   "source": [
    "var featureColumn = data.Schema[\"Features\"].Type as VectorDataViewType;\n",
    "Console.WriteLine(\"Is the size of the Features column known: \" + featureColumn.IsKnownSize + \".\\nSize: \" + featureColumn.Size);"
   ]
  },
  {
   "cell_type": "code",
   "execution_count": null,
   "metadata": {
    "dotnet_interactive": {
     "language": "csharp"
    },
    "polyglot_notebook": {
     "kernelName": "csharp"
    }
   },
   "outputs": [],
   "source": [
    "IEnumerable<DataPoint> enumerableUnknownSize = new DataPoint[]\n",
    "{\n",
    "   new DataPoint{ Features = new float[]{ 1.2f, 3.4f, 4.5f } },\n",
    "   new DataPoint{ Features = new float[]{ 4.2f, 3.4f, 1.6f } },\n",
    "   new DataPoint{ Features = new float[]{ 1.6f, 3.5f, 4.5f } },\n",
    "};"
   ]
  },
  {
   "cell_type": "code",
   "execution_count": null,
   "metadata": {
    "dotnet_interactive": {
     "language": "csharp"
    },
    "polyglot_notebook": {
     "kernelName": "csharp"
    }
   },
   "outputs": [],
   "source": [
    "int featureDimension = 3;\n",
    "var definedSchema = SchemaDefinition.Create(typeof(DataPoint));\n",
    "featureColumn = definedSchema[\"Features\"].ColumnType as VectorDataViewType;\n",
    "var vectorItemType = ((VectorDataViewType)definedSchema[0].ColumnType).ItemType;\n",
    "definedSchema[0].ColumnType = new VectorDataViewType(vectorItemType, featureDimension);\n",
    "IDataView data2 = mlContext.Data.LoadFromEnumerable(enumerableUnknownSize, definedSchema);"
   ]
  },
  {
   "cell_type": "code",
   "execution_count": null,
   "metadata": {
    "dotnet_interactive": {
     "language": "csharp"
    },
    "polyglot_notebook": {
     "kernelName": "csharp"
    }
   },
   "outputs": [],
   "source": [
    "featureColumn = data2.Schema[\"Features\"].Type as VectorDataViewType;\n",
    "Console.WriteLine(\"Is the size of the Features column known: \" + featureColumn.IsKnownSize + \".\\nSize: \" + featureColumn.Size);"
   ]
  }
 ],
 "metadata": {},
 "nbformat": 4,
 "nbformat_minor": 5
}