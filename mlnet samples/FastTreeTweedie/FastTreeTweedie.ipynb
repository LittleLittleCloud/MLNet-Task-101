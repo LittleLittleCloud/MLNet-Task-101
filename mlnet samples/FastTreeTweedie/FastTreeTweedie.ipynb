{
 "cells": [
  {
   "cell_type": "markdown",
   "metadata": {},
   "source": [
    "task name: Implement FastTreeTweedie Regression\n",
    "task description: Implement the FastTreeTweedie Regression algorithm using the provided C# code and save the results to an output file."
   ]
  },
  {
   "cell_type": "markdown",
   "metadata": {},
   "source": [
    "task name: Implement FastTreeTweedie Regression\n",
    "task description: Implement the FastTreeTweedie Regression algorithm using the provided C# code and save the results to an output file."
   ]
  },
  {
   "cell_type": "markdown",
   "metadata": {},
   "source": [
    "task name: Implement FastTreeTweedie Regression\n",
    "task description: Implement the FastTreeTweedie Regression algorithm using the provided C# code and save the results to an output file."
   ]
  },
  {
   "cell_type": "code",
   "execution_count": null,
   "metadata": {
    "dotnet_interactive": {
     "language": "csharp"
    },
    "polyglot_notebook": {
     "kernelName": "csharp"
    }
   },
   "outputs": [],
   "source": [
    "#r \"nuget:Microsoft.ML.FastTree\"\r\n"
   ]
  },
  {
   "cell_type": "code",
   "execution_count": null,
   "metadata": {
    "dotnet_interactive": {
     "language": "csharp"
    },
    "polyglot_notebook": {
     "kernelName": "csharp"
    }
   },
   "outputs": [],
   "source": [
    "#r \"nuget:Microsoft.ML.FastTree\"\r\n"
   ]
  }
 ],
 "metadata": {},
 "nbformat": 4,
 "nbformat_minor": 5
}