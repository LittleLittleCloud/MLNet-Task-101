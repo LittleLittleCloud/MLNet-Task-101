{
 "cells": [
  {
   "cell_type": "markdown",
   "metadata": {},
   "source": [
    "task name: MapValueToKeyMultiColumn\n",
    "\n",
    "task description: Implement the provided C# code in a dotnet interactive notebook and save the output to a file.\n"
   ]
  },
  {
   "cell_type": "markdown",
   "metadata": {},
   "source": [
    "task name: MapValueToKeyMultiColumn\n",
    "task description: Implement the provided C# code in a dotnet interactive notebook and save the output to a file."
   ]
  }
 ],
 "metadata": {},
 "nbformat": 4,
 "nbformat_minor": 5
}