{
 "cells": [
  {
   "cell_type": "markdown",
   "metadata": {},
   "source": [
    "task name: Implement DetectIidChangePointBatchPrediction\n",
    "task description: Implement the provided C# code as a dotnet interactive notebook"
   ]
  },
  {
   "cell_type": "code",
   "execution_count": null,
   "metadata": {
    "dotnet_interactive": {
     "language": "csharp"
    },
    "polyglot_notebook": {
     "kernelName": "csharp"
    }
   },
   "outputs": [],
   "source": [
    "#r \"nuget:Microsoft.ML, 1.5.5\""
   ]
  },
  {
   "cell_type": "code",
   "execution_count": null,
   "metadata": {
    "dotnet_interactive": {
     "language": "csharp"
    },
    "polyglot_notebook": {
     "kernelName": "csharp"
    }
   },
   "outputs": [],
   "source": [
    "using System;\n",
    "using System.Collections.Generic;\n",
    "using Microsoft.ML;\n",
    "using Microsoft.ML.Data;"
   ]
  },
  {
   "cell_type": "code",
   "execution_count": null,
   "metadata": {
    "dotnet_interactive": {
     "language": "csharp"
    },
    "polyglot_notebook": {
     "kernelName": "csharp"
    }
   },
   "outputs": [],
   "source": [
    "var ml = new MLContext();"
   ]
  },
  {
   "cell_type": "code",
   "execution_count": null,
   "metadata": {
    "dotnet_interactive": {
     "language": "csharp"
    },
    "polyglot_notebook": {
     "kernelName": "csharp"
    }
   },
   "outputs": [],
   "source": [
    "public class TimeSeriesData\n",
    "{\n",
    "    public float Value;\n",
    "\n",
    "    public TimeSeriesData(float value)\n",
    "    {\n",
    "        Value = value;\n",
    "    }\n",
    "}\n",
    "\n",
    "const int Size = 16;\n",
    "var data = new List<TimeSeriesData>(Size)\n",
    "{\n",
    "    new TimeSeriesData(5),\n",
    "    new TimeSeriesData(5),\n",
    "    new TimeSeriesData(5),\n",
    "    new TimeSeriesData(5),\n",
    "    new TimeSeriesData(5),\n",
    "    new TimeSeriesData(5),\n",
    "    new TimeSeriesData(5),\n",
    "    new TimeSeriesData(5),\n",
    "\n",
    "    //Change point data.\n",
    "    new TimeSeriesData(7),\n",
    "    new TimeSeriesData(7),\n",
    "    new TimeSeriesData(7),\n",
    "    new TimeSeriesData(7),\n",
    "    new TimeSeriesData(7),\n",
    "    new TimeSeriesData(7),\n",
    "    new TimeSeriesData(7),\n",
    "    new TimeSeriesData(7),\n",
    "};"
   ]
  },
  {
   "cell_type": "code",
   "execution_count": null,
   "metadata": {
    "dotnet_interactive": {
     "language": "csharp"
    },
    "polyglot_notebook": {
     "kernelName": "csharp"
    }
   },
   "outputs": [],
   "source": [
    "var dataView = ml.Data.LoadFromEnumerable(data);"
   ]
  },
  {
   "cell_type": "code",
   "execution_count": null,
   "metadata": {
    "dotnet_interactive": {
     "language": "csharp"
    },
    "polyglot_notebook": {
     "kernelName": "csharp"
    }
   },
   "outputs": [],
   "source": [
    "string outputColumnName = \"Prediction\";\n",
    "string inputColumnName = \"Value\";"
   ]
  }
 ],
 "metadata": {},
 "nbformat": 4,
 "nbformat_minor": 5
}