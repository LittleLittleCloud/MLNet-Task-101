{
 "cells": [
  {
   "cell_type": "markdown",
   "metadata": {},
   "source": [
    "task name: Implement DetectSpikeBySsa\n",
    "task description: Implement the DetectSpikeBySsa example using the provided C# code and save the result to an output file."
   ]
  },
  {
   "cell_type": "code",
   "execution_count": null,
   "metadata": {
    "dotnet_interactive": {
     "language": "csharp"
    },
    "polyglot_notebook": {
     "kernelName": "csharp"
    }
   },
   "outputs": [],
   "source": [
    "#r \"nuget:Microsoft.ML, 1.5.2\""
   ]
  },
  {
   "cell_type": "code",
   "execution_count": null,
   "metadata": {
    "dotnet_interactive": {
     "language": "csharp"
    },
    "polyglot_notebook": {
     "kernelName": "csharp"
    }
   },
   "outputs": [],
   "source": [
    "using Microsoft.ML;\n",
    "var ml = new MLContext();"
   ]
  },
  {
   "cell_type": "code",
   "execution_count": null,
   "metadata": {
    "dotnet_interactive": {
     "language": "csharp"
    },
    "polyglot_notebook": {
     "kernelName": "csharp"
    }
   },
   "outputs": [],
   "source": [
    "public class TimeSeriesData\n",
    "{\n",
    "    public float Value;\n",
    "\n",
    "    public TimeSeriesData(float value)\n",
    "    {\n",
    "        Value = value;\n",
    "    }\n",
    "}\n",
    "\n",
    "var data = new List<TimeSeriesData>()\n",
    "{\n",
    "    new TimeSeriesData(0),\n",
    "    new TimeSeriesData(1),\n",
    "    new TimeSeriesData(2),\n",
    "    new TimeSeriesData(3),\n",
    "    new TimeSeriesData(4),\n",
    "\n",
    "    new TimeSeriesData(0),\n",
    "    new TimeSeriesData(1),\n",
    "    new TimeSeriesData(2),\n",
    "    new TimeSeriesData(3),\n",
    "    new TimeSeriesData(4),\n",
    "\n",
    "    new TimeSeriesData(0),\n",
    "    new TimeSeriesData(1),\n",
    "    new TimeSeriesData(2),\n",
    "    new TimeSeriesData(3),\n",
    "    new TimeSeriesData(4),\n",
    "};"
   ]
  }
 ],
 "metadata": {},
 "nbformat": 4,
 "nbformat_minor": 5
}