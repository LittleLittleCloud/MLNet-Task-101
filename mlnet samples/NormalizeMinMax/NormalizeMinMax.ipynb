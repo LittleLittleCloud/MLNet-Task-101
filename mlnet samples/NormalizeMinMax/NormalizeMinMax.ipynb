{
 "cells": [
  {
   "cell_type": "markdown",
   "metadata": {},
   "source": [
    "task name: NormalizeMinMax\n",
    "task description: Implement the NormalizeMinMax example using ML.NET"
   ]
  },
  {
   "cell_type": "code",
   "execution_count": null,
   "metadata": {
    "dotnet_interactive": {
     "language": "csharp"
    },
    "polyglot_notebook": {
     "kernelName": "csharp"
    }
   },
   "outputs": [],
   "source": [
    "#r \"nuget:Microsoft.ML\""
   ]
  },
  {
   "cell_type": "code",
   "execution_count": null,
   "metadata": {
    "dotnet_interactive": {
     "language": "csharp"
    },
    "polyglot_notebook": {
     "kernelName": "csharp"
    }
   },
   "outputs": [],
   "source": [
    "using System;\n",
    "using System.Collections.Generic;\n",
    "using System.Collections.Immutable;\n",
    "using System.Linq;\n",
    "using Microsoft.ML;\n",
    "using Microsoft.ML.Data;\n",
    "using static Microsoft.ML.Transforms.NormalizingTransformer;\n"
   ]
  },
  {
   "cell_type": "code",
   "execution_count": null,
   "metadata": {
    "dotnet_interactive": {
     "language": "csharp"
    },
    "polyglot_notebook": {
     "kernelName": "csharp"
    }
   },
   "outputs": [],
   "source": [
    "var mlContext = new MLContext();"
   ]
  },
  {
   "cell_type": "code",
   "execution_count": null,
   "metadata": {
    "dotnet_interactive": {
     "language": "csharp"
    },
    "polyglot_notebook": {
     "kernelName": "csharp"
    }
   },
   "outputs": [],
   "source": [
    "public class DataPoint\n",
    "{\n",
    "    [VectorType(4)]\n",
    "    public float[] Features { get; set; }\n",
    "}\n",
    "\n",
    "var samples = new List<DataPoint>()\n",
    "{\n",
    "    new DataPoint(){ Features = new float[4] { 1, 1, 3, 0} },\n",
    "    new DataPoint(){ Features = new float[4] { 2, 2, 2, 0} },\n",
    "    new DataPoint(){ Features = new float[4] { 0, 0, 1, 0} },\n",
    "    new DataPoint(){ Features = new float[4] {-1,-1,-1, 1} }\n",
    "};\n",
    "var data = mlContext.Data.LoadFromEnumerable(samples);"
   ]
  },
  {
   "cell_type": "code",
   "execution_count": null,
   "metadata": {
    "dotnet_interactive": {
     "language": "csharp"
    },
    "polyglot_notebook": {
     "kernelName": "csharp"
    }
   },
   "outputs": [],
   "source": [
    "var normalize = mlContext.Transforms.NormalizeMinMax(\"Features\", fixZero: false);\n",
    "var normalizeFixZero = mlContext.Transforms.NormalizeMinMax(\"Features\", fixZero: true);"
   ]
  },
  {
   "cell_type": "code",
   "execution_count": null,
   "metadata": {
    "dotnet_interactive": {
     "language": "csharp"
    },
    "polyglot_notebook": {
     "kernelName": "csharp"
    }
   },
   "outputs": [],
   "source": [
    "var normalizeTransform = normalize.Fit(data);\n",
    "var transformedData = normalizeTransform.Transform(data);\n",
    "var normalizeFixZeroTransform = normalizeFixZero.Fit(data);\n",
    "var fixZeroData = normalizeFixZeroTransform.Transform(data);"
   ]
  },
  {
   "cell_type": "code",
   "execution_count": null,
   "metadata": {
    "dotnet_interactive": {
     "language": "csharp"
    },
    "polyglot_notebook": {
     "kernelName": "csharp"
    }
   },
   "outputs": [],
   "source": [
    "var column = transformedData.GetColumn<float[]>(\"Features\").ToArray();\n",
    "foreach (var row in column)\n",
    "    Console.WriteLine(string.Join(\", \", row.Select(x => x.ToString(\"f4\"))));\n",
    "\n",
    "var columnFixZero = fixZeroData.GetColumn<float[]>(\"Features\").ToArray();\n",
    "foreach (var row in columnFixZero)\n",
    "    Console.WriteLine(string.Join(\", \", row.Select(x => x.ToString(\"f4\"))));"
   ]
  },
  {
   "cell_type": "code",
   "execution_count": null,
   "metadata": {
    "dotnet_interactive": {
     "language": "csharp"
    },
    "polyglot_notebook": {
     "kernelName": "csharp"
    }
   },
   "outputs": [],
   "source": [
    "var transformParams = normalizeTransform.GetNormalizerModelParameters(0) as AffineNormalizerModelParameters<ImmutableArray<float>>;\n",
    "Console.WriteLine($\"The 1-index value in resulting array would be produced by:\");\n",
    "Console.WriteLine(\" y = (x - (\" + (transformParams.Offset.Length == 0 ? 0 : transformParams.Offset[1]) + \")) * \" + transformParams.Scale[1]);"
   ]
  }
 ],
 "metadata": {},
 "nbformat": 4,
 "nbformat_minor": 5
}