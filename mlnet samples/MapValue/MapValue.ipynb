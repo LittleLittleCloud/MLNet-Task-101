{
 "cells": [
  {
   "cell_type": "markdown",
   "metadata": {},
   "source": [
    "task name: Resolve MapValue Task\n",
    "\n",
    "task description: Implement the provided C# code as a dotnet interactive notebook."
   ]
  },
  {
   "cell_type": "markdown",
   "metadata": {},
   "source": [
    "task name: Resolve MapValue Task\n",
    "task description: Implement the provided C# code as a dotnet interactive notebook."
   ]
  },
  {
   "cell_type": "code",
   "execution_count": null,
   "metadata": {
    "dotnet_interactive": {
     "language": "csharp"
    },
    "polyglot_notebook": {
     "kernelName": "csharp"
    }
   },
   "outputs": [],
   "source": [
    "#r \"nuget:Microsoft.ML, 1.5.2\""
   ]
  },
  {
   "cell_type": "code",
   "execution_count": null,
   "metadata": {
    "dotnet_interactive": {
     "language": "csharp"
    },
    "polyglot_notebook": {
     "kernelName": "csharp"
    }
   },
   "outputs": [],
   "source": [
    "using System;\n",
    "using System.Collections.Generic;\n",
    "using Microsoft.ML;"
   ]
  },
  {
   "cell_type": "code",
   "execution_count": null,
   "metadata": {
    "dotnet_interactive": {
     "language": "csharp"
    },
    "polyglot_notebook": {
     "kernelName": "csharp"
    }
   },
   "outputs": [],
   "source": [
    "public class DataPoint\n",
    "{\n",
    "    public string Timeframe { get; set; }\n",
    "    public int Score { get; set; }\n",
    "}\n",
    "\n",
    "var mlContext = new MLContext();\n",
    "var rawData = new[] {\n",
    "    new DataPoint() { Timeframe = \"0-4yrs\" , Score = 1 },\n",
    "    new DataPoint() { Timeframe = \"6-11yrs\" , Score = 2 },\n",
    "    new DataPoint() { Timeframe = \"12-25yrs\" , Score = 3 },\n",
    "    new DataPoint() { Timeframe = \"0-5yrs\" , Score = 4 },\n",
    "    new DataPoint() { Timeframe = \"12-25yrs\" , Score = 5 },\n",
    "    new DataPoint() { Timeframe = \"25+yrs\" , Score = 5 },\n",
    "};\n",
    "var data = mlContext.Data.LoadFromEnumerable(rawData);"
   ]
  },
  {
   "cell_type": "code",
   "execution_count": null,
   "metadata": {
    "dotnet_interactive": {
     "language": "csharp"
    },
    "polyglot_notebook": {
     "kernelName": "csharp"
    }
   },
   "outputs": [],
   "source": [
    "var timeframeMap = new Dictionary<string, string>();\n",
    "timeframeMap[\"0-4yrs\"] = \"Short\";\n",
    "timeframeMap[\"0-5yrs\"] = \"Short\";\n",
    "timeframeMap[\"6-11yrs\"] = \"Medium\";\n",
    "timeframeMap[\"12-25yrs\"] = \"Long\";\n",
    "timeframeMap[\"25+yrs\"] = \"Long\";\n",
    "\n",
    "var timeframeKeyMap = new Dictionary<string, uint>();\n",
    "timeframeKeyMap[\"0-4yrs\"] = 1;\n",
    "timeframeKeyMap[\"0-5yrs\"] = 1;\n",
    "timeframeKeyMap[\"6-11yrs\"] = 2;\n",
    "timeframeKeyMap[\"12-25yrs\"] = 3;\n",
    "timeframeKeyMap[\"25+yrs\"] = 3;\n",
    "\n",
    "var scoreMap = new Dictionary<int, string>();\n",
    "scoreMap[1] = \"Low\";\n",
    "scoreMap[2] = \"Low\";\n",
    "scoreMap[3] = \"Average\";\n",
    "scoreMap[4] = \"High\";\n",
    "scoreMap[5] = \"High\";\n",
    "\n",
    "var pipeline = mlContext.Transforms.Conversion.MapValue(\n",
    "    \"TimeframeCategory\", timeframeMap, \"Timeframe\").Append(mlContext.\n",
    "    Transforms.Conversion.MapValue(\"ScoreCategory\", scoreMap, \"Score\"))\n",
    "    .Append(mlContext.Transforms.Conversion.MapValue(\"Label\",\n",
    "    timeframeKeyMap, \"Timeframe\", treatValuesAsKeyType: true));"
   ]
  },
  {
   "cell_type": "code",
   "execution_count": null,
   "metadata": {
    "dotnet_interactive": {
     "language": "csharp"
    },
    "polyglot_notebook": {
     "kernelName": "csharp"
    }
   },
   "outputs": [],
   "source": [
    "IDataView transformedData = pipeline.Fit(data).Transform(data);"
   ]
  },
  {
   "cell_type": "code",
   "execution_count": null,
   "metadata": {
    "dotnet_interactive": {
     "language": "csharp"
    },
    "polyglot_notebook": {
     "kernelName": "csharp"
    }
   },
   "outputs": [],
   "source": [
    "var features = mlContext.Data.CreateEnumerable<TransformedData>(transformedData, reuseRowObject: false);\n",
    "\n",
    "Console.WriteLine(\" Timeframe   TimeframeCategory   Label    Score   ScoreCategory\");\n",
    "\n",
    "foreach (var featureRow in features)\n",
    "{\n",
    "    Console.WriteLine($\"{featureRow.Timeframe}\\t\\t{featureRow.TimeframeCategory}\\t\\t\\t{featureRow.Label}\\t\\t{featureRow.Score}\\t{featureRow.ScoreCategory}\");\n",
    "}\n",
    "\n",
    "public class TransformedData : DataPoint\n",
    "{\n",
    "    public string TimeframeCategory { get; set; }\n",
    "    public string ScoreCategory { get; set; }\n",
    "    public uint Label { get; set; }\n",
    "}"
   ]
  }
 ],
 "metadata": {},
 "nbformat": 4,
 "nbformat_minor": 5
}