{
 "cells": [
  {
   "cell_type": "markdown",
   "metadata": {},
   "source": [
    "task name: Resolve DropColumns task\n",
    "\n",
    "task description: Implement the DropColumns example using ML.NET"
   ]
  },
  {
   "cell_type": "code",
   "execution_count": null,
   "metadata": {
    "dotnet_interactive": {
     "language": "csharp"
    },
    "polyglot_notebook": {
     "kernelName": "csharp"
    }
   },
   "outputs": [],
   "source": [
    "#r \"nuget:Microsoft.ML,1.6.0\""
   ]
  },
  {
   "cell_type": "code",
   "execution_count": null,
   "metadata": {
    "dotnet_interactive": {
     "language": "csharp"
    },
    "polyglot_notebook": {
     "kernelName": "csharp"
    }
   },
   "outputs": [],
   "source": [
    "using System;\n",
    "using System.Collections.Generic;\n",
    "using Microsoft.ML;"
   ]
  },
  {
   "cell_type": "code",
   "execution_count": null,
   "metadata": {
    "dotnet_interactive": {
     "language": "csharp"
    },
    "polyglot_notebook": {
     "kernelName": "csharp"
    }
   },
   "outputs": [],
   "source": [
    "var mlContext = new MLContext();"
   ]
  },
  {
   "cell_type": "code",
   "execution_count": null,
   "metadata": {
    "dotnet_interactive": {
     "language": "csharp"
    },
    "polyglot_notebook": {
     "kernelName": "csharp"
    }
   },
   "outputs": [],
   "source": [
    "public class InputData\n",
    "{\n",
    "    public int Age { get; set; }\n",
    "    public string Gender { get; set; }\n",
    "    public string Education { get; set; }\n",
    "    public float ExtraColumn { get; set; }\n",
    "}\n",
    "\n",
    "var samples = new List<InputData>()\n",
    "{\n",
    "    new InputData(){ Age = 21, Gender = \"Male\", Education = \"BS\",\n",
    "        ExtraColumn = 1 },\n",
    "\n",
    "    new InputData(){ Age = 23, Gender = \"Female\", Education = \"MBA\",\n",
    "        ExtraColumn = 2 },\n",
    "\n",
    "    new InputData(){ Age = 28, Gender = \"Male\", Education = \"PhD\",\n",
    "        ExtraColumn = 3 },\n",
    "\n",
    "    new InputData(){ Age = 22, Gender = \"Male\", Education = \"BS\",\n",
    "        ExtraColumn = 4 },\n",
    "\n",
    "    new InputData(){ Age = 23, Gender = \"Female\", Education = \"MS\",\n",
    "        ExtraColumn = 5 },\n",
    "\n",
    "    new InputData(){ Age = 27, Gender = \"Female\", Education = \"PhD\",\n",
    "        ExtraColumn = 6 },\n",
    "};"
   ]
  },
  {
   "cell_type": "code",
   "execution_count": null,
   "metadata": {
    "dotnet_interactive": {
     "language": "csharp"
    },
    "polyglot_notebook": {
     "kernelName": "csharp"
    }
   },
   "outputs": [],
   "source": [
    "var dataview = mlContext.Data.LoadFromEnumerable(samples);"
   ]
  },
  {
   "cell_type": "code",
   "execution_count": null,
   "metadata": {
    "dotnet_interactive": {
     "language": "csharp"
    },
    "polyglot_notebook": {
     "kernelName": "csharp"
    }
   },
   "outputs": [],
   "source": [
    "var pipeline = mlContext.Transforms.DropColumns(\"ExtraColumn\");"
   ]
  },
  {
   "cell_type": "code",
   "execution_count": null,
   "metadata": {
    "dotnet_interactive": {
     "language": "csharp"
    },
    "polyglot_notebook": {
     "kernelName": "csharp"
    }
   },
   "outputs": [],
   "source": [
    "var transformedData = pipeline.Fit(dataview).Transform(dataview);"
   ]
  },
  {
   "cell_type": "code",
   "execution_count": null,
   "metadata": {
    "dotnet_interactive": {
     "language": "csharp"
    },
    "polyglot_notebook": {
     "kernelName": "csharp"
    }
   },
   "outputs": [],
   "source": [
    "public class TransformedData\n",
    "{\n",
    "    public int Age { get; set; }\n",
    "    public string Gender { get; set; }\n",
    "    public string Education { get; set; }\n",
    "}\n",
    "\n",
    "var rowEnumerable = mlContext.Data.CreateEnumerable<TransformedData>(\n",
    "    transformedData, reuseRowObject: false);\n",
    "\n",
    "Console.WriteLine($\"The columns we didn't drop are still available.\");\n",
    "foreach (var row in rowEnumerable)\n",
    "    Console.WriteLine($\"Age: {row.Age} Gender: {row.Gender} \" +\n",
    "        $\"Education: {row.Education}\");"
   ]
  }
 ],
 "metadata": {},
 "nbformat": 4,
 "nbformat_minor": 5
}