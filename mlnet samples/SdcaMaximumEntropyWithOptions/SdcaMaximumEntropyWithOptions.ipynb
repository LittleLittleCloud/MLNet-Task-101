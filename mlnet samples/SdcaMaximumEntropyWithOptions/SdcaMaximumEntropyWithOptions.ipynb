{
 "cells": [
  {
   "cell_type": "markdown",
   "metadata": {},
   "source": [
    "task name: Implement SdcaMaximumEntropyWithOptions\n",
    "task description: Implement the SdcaMaximumEntropyWithOptions example using the provided C# code and save the output to a file."
   ]
  },
  {
   "cell_type": "code",
   "execution_count": null,
   "metadata": {
    "dotnet_interactive": {
     "language": "csharp"
    },
    "polyglot_notebook": {
     "kernelName": "csharp"
    }
   },
   "outputs": [],
   "source": [
    "#r \"nuget:Microsoft.ML,1.5.5\""
   ]
  },
  {
   "cell_type": "code",
   "execution_count": null,
   "metadata": {
    "dotnet_interactive": {
     "language": "csharp"
    },
    "polyglot_notebook": {
     "kernelName": "csharp"
    }
   },
   "outputs": [],
   "source": [
    "using System;\n",
    "using System.Collections.Generic;\n",
    "using System.Linq;\n",
    "using Microsoft.ML;\n",
    "using Microsoft.ML.Data;\n",
    "using Microsoft.ML.Trainers;"
   ]
  },
  {
   "cell_type": "code",
   "execution_count": null,
   "metadata": {
    "dotnet_interactive": {
     "language": "csharp"
    },
    "polyglot_notebook": {
     "kernelName": "csharp"
    }
   },
   "outputs": [],
   "source": [
    "var mlContext = new MLContext(seed: 0);"
   ]
  },
  {
   "cell_type": "code",
   "execution_count": null,
   "metadata": {
    "dotnet_interactive": {
     "language": "csharp"
    },
    "polyglot_notebook": {
     "kernelName": "csharp"
    }
   },
   "outputs": [],
   "source": [
    "// Example with label and 20 feature values. A data set is a collection of such examples.\r\n",
    "private class DataPoint\r\n",
    "{\r\n",
    "    public uint Label { get; set; }\r\n",
    "    [VectorType(20)]\r\n",
    "    public float[] Features { get; set; }\r\n",
    "}\r\n",
    "\r\n",
    "// GenerateRandomDataPoints method implementation\r\n",
    "private static IEnumerable<DataPoint> GenerateRandomDataPoints(int count,\r\n",
    "    int seed = 0)\r\n",
    "{\r\n",
    "    var random = new Random(seed);\r\n",
    "    float randomFloat() => (float)(random.NextDouble() - 0.5);\r\n",
    "    for (int i = 0; i < count; i++)\r\n",
    "    {\r\n",
    "        var label = random.Next(1, 4);\r\n",
    "        yield return new DataPoint\r\n",
    "        {\r\n",
    "            Label = (uint)label,\r\n",
    "            Features = Enumerable.Repeat(label, 20)\r\n",
    "                .Select(x => randomFloat() + label * 0.2f).ToArray()\r\n",
    "        };\r\n",
    "    }\r\n",
    "}\r\n",
    "\r\n",
    "var dataPoints = GenerateRandomDataPoints(1000);\r\n",
    "var trainingData = mlContext.Data.LoadFromEnumerable(dataPoints);\r\n",
    "trainingData = mlContext.Data.Cache(trainingData);"
   ]
  },
  {
   "cell_type": "code",
   "execution_count": null,
   "metadata": {
    "dotnet_interactive": {
     "language": "csharp"
    },
    "polyglot_notebook": {
     "kernelName": "csharp"
    }
   },
   "outputs": [],
   "source": [
    "var options = new SdcaMaximumEntropyMulticlassTrainer.Options\n",
    "{\n",
    "    ConvergenceTolerance = 0.05f,\n",
    "    MaximumNumberOfIterations = 30,\n",
    "};\n",
    "\n",
    "var pipeline = mlContext.Transforms.Conversion.MapValueToKey(\"Label\")\n",
    "    .Append(mlContext.MulticlassClassification.Trainers.SdcaMaximumEntropy(options));"
   ]
  },
  {
   "cell_type": "code",
   "execution_count": null,
   "metadata": {
    "dotnet_interactive": {
     "language": "csharp"
    },
    "polyglot_notebook": {
     "kernelName": "csharp"
    }
   },
   "outputs": [],
   "source": [
    "var model = pipeline.Fit(trainingData);"
   ]
  },
  {
   "cell_type": "code",
   "execution_count": null,
   "metadata": {
    "dotnet_interactive": {
     "language": "csharp"
    },
    "polyglot_notebook": {
     "kernelName": "csharp"
    }
   },
   "outputs": [],
   "source": [
    "// Class used to capture predictions.\n",
    "private class Prediction\n",
    "{\n",
    "    public uint Label { get; set; }\n",
    "    public uint PredictedLabel { get; set; }\n",
    "}\n",
    "\n",
    "var testData = mlContext.Data.LoadFromEnumerable(GenerateRandomDataPoints(500, seed: 123));\n",
    "var transformedTestData = model.Transform(testData);\n",
    "var predictions = mlContext.Data.CreateEnumerable<Prediction>(transformedTestData, reuseRowObject: false).ToList();"
   ]
  },
  {
   "cell_type": "code",
   "execution_count": null,
   "metadata": {
    "dotnet_interactive": {
     "language": "csharp"
    },
    "polyglot_notebook": {
     "kernelName": "csharp"
    }
   },
   "outputs": [],
   "source": [
    "// Pretty-print MulticlassClassificationMetrics objects.\n",
    "public static void PrintMetrics(MulticlassClassificationMetrics metrics)\n",
    "{\n",
    "    Console.WriteLine($\"Micro Accuracy: {metrics.MicroAccuracy:F2}\");\n",
    "    Console.WriteLine($\"Macro Accuracy: {metrics.MacroAccuracy:F2}\");\n",
    "    Console.WriteLine($\"Log Loss: {metrics.LogLoss:F2}\");\n",
    "    Console.WriteLine($\"Log Loss Reduction: {metrics.LogLossReduction:F2}\\n\");\n",
    "\n",
    "    Console.WriteLine(metrics.ConfusionMatrix.GetFormattedConfusionTable());\n",
    "}\n",
    "\n",
    "foreach (var p in predictions.Take(5))\n",
    "{\n",
    "    Console.WriteLine($\"Label: {p.Label}, Prediction: {p.PredictedLabel}\");\n",
    "}\n",
    "\n",
    "var metrics = mlContext.MulticlassClassification.Evaluate(transformedTestData);\n",
    "PrintMetrics(metrics);"
   ]
  }
 ],
 "metadata": {},
 "nbformat": 4,
 "nbformat_minor": 5
}