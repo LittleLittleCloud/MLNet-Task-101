{
 "cells": [
  {
   "cell_type": "markdown",
   "metadata": {},
   "source": [
    "task name: Implement ApplyCustomWordEmbedding\n",
    "task description: Implement the ApplyCustomWordEmbedding example using ML.NET"
   ]
  },
  {
   "cell_type": "code",
   "execution_count": null,
   "metadata": {
    "dotnet_interactive": {
     "language": "csharp"
    },
    "polyglot_notebook": {
     "kernelName": "csharp"
    }
   },
   "outputs": [],
   "source": [
    "#r \"nuget:Microsoft.ML, 1.6.0\""
   ]
  },
  {
   "cell_type": "code",
   "execution_count": null,
   "metadata": {
    "dotnet_interactive": {
     "language": "csharp"
    },
    "polyglot_notebook": {
     "kernelName": "csharp"
    }
   },
   "outputs": [],
   "source": [
    "using System;\n",
    "using System.Collections.Generic;\n",
    "using System.IO;\n",
    "using Microsoft.ML;"
   ]
  },
  {
   "cell_type": "code",
   "execution_count": null,
   "metadata": {
    "dotnet_interactive": {
     "language": "csharp"
    },
    "polyglot_notebook": {
     "kernelName": "csharp"
    }
   },
   "outputs": [],
   "source": [
    "var mlContext = new MLContext();"
   ]
  },
  {
   "cell_type": "code",
   "execution_count": null,
   "metadata": {
    "dotnet_interactive": {
     "language": "csharp"
    },
    "polyglot_notebook": {
     "kernelName": "csharp"
    }
   },
   "outputs": [],
   "source": [
    "public class TextData\n",
    "{\n",
    "    public string Text { get; set; }\n",
    "}\n",
    "\n",
    "var emptySamples = new List<TextData>();\n",
    "var emptyDataView = mlContext.Data.LoadFromEnumerable(emptySamples);"
   ]
  },
  {
   "cell_type": "code",
   "execution_count": null,
   "metadata": {
    "dotnet_interactive": {
     "language": "csharp"
    },
    "polyglot_notebook": {
     "kernelName": "csharp"
    }
   },
   "outputs": [],
   "source": [
    "var pathToCustomModel = @\".\\custommodel.txt\";\n",
    "using (StreamWriter file = new StreamWriter(pathToCustomModel, false))\n",
    "{\n",
    "    file.WriteLine(\"great 1.0 2.0 3.0\");\n",
    "    file.WriteLine(\"product -1.0 -2.0 -3.0\");\n",
    "    file.WriteLine(\"like -1 100.0 -100\");\n",
    "    file.WriteLine(\"buy 0 0 20\");\n",
    "}"
   ]
  },
  {
   "cell_type": "code",
   "execution_count": null,
   "metadata": {
    "dotnet_interactive": {
     "language": "csharp"
    },
    "polyglot_notebook": {
     "kernelName": "csharp"
    }
   },
   "outputs": [],
   "source": [
    "var textPipeline = mlContext.Transforms.Text.NormalizeText(\"Text\")\n",
    "    .Append(mlContext.Transforms.Text.TokenizeIntoWords(\"Tokens\", \"Text\"))\n",
    "    .Append(mlContext.Transforms.Text.ApplyWordEmbedding(\"Features\", pathToCustomModel, \"Tokens\"));"
   ]
  },
  {
   "cell_type": "code",
   "execution_count": null,
   "metadata": {
    "dotnet_interactive": {
     "language": "csharp"
    },
    "polyglot_notebook": {
     "kernelName": "csharp"
    }
   },
   "outputs": [],
   "source": [
    "var textTransformer = textPipeline.Fit(emptyDataView);"
   ]
  },
  {
   "cell_type": "code",
   "execution_count": null,
   "metadata": {
    "dotnet_interactive": {
     "language": "csharp"
    },
    "polyglot_notebook": {
     "kernelName": "csharp"
    }
   },
   "outputs": [],
   "source": [
    "public class TransformedTextData : TextData\n",
    "{\n",
    "    public float[] Features { get; set; }\n",
    "}\n",
    "\n",
    "var predictionEngine = mlContext.Model.CreatePredictionEngine<TextData, TransformedTextData>(textTransformer);"
   ]
  },
  {
   "cell_type": "code",
   "execution_count": null,
   "metadata": {
    "dotnet_interactive": {
     "language": "csharp"
    },
    "polyglot_notebook": {
     "kernelName": "csharp"
    }
   },
   "outputs": [],
   "source": [
    "var data = new TextData() { Text = \"This is a great product. I would like to buy it again.\" };\n",
    "var prediction = predictionEngine.Predict(data);"
   ]
  },
  {
   "cell_type": "code",
   "execution_count": null,
   "metadata": {
    "dotnet_interactive": {
     "language": "csharp"
    },
    "polyglot_notebook": {
     "kernelName": "csharp"
    }
   },
   "outputs": [],
   "source": [
    "Console.WriteLine($\"Number of Features: {prediction.Features.Length}\");\n",
    "Console.Write(\"Features: \");\n",
    "foreach (var f in prediction.Features)\n",
    "    Console.Write($\"{f:F4} \");"
   ]
  }
 ],
 "metadata": {},
 "nbformat": 4,
 "nbformat_minor": 5
}