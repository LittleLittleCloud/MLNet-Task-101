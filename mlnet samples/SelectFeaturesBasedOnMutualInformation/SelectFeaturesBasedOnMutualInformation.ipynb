{
 "cells": [
  {
   "cell_type": "markdown",
   "metadata": {},
   "source": [
    "task name: Resolve SelectFeaturesBasedOnMutualInformation Task\n",
    "task description: Implement the SelectFeaturesBasedOnMutualInformation example using a dotnet interactive notebook"
   ]
  },
  {
   "cell_type": "code",
   "execution_count": null,
   "metadata": {
    "dotnet_interactive": {
     "language": "csharp"
    },
    "polyglot_notebook": {
     "kernelName": "csharp"
    }
   },
   "outputs": [],
   "source": [
    "#r \"nuget:Microsoft.ML\"\r\n"
   ]
  },
  {
   "cell_type": "code",
   "execution_count": null,
   "metadata": {
    "dotnet_interactive": {
     "language": "csharp"
    },
    "polyglot_notebook": {
     "kernelName": "csharp"
    }
   },
   "outputs": [],
   "source": [
    "using System;\n",
    "using System.Collections.Generic;\n",
    "using Microsoft.ML;\n",
    "using Microsoft.ML.Data;"
   ]
  },
  {
   "cell_type": "code",
   "execution_count": null,
   "metadata": {
    "dotnet_interactive": {
     "language": "csharp"
    },
    "polyglot_notebook": {
     "kernelName": "csharp"
    }
   },
   "outputs": [],
   "source": [
    "var mlContext = new MLContext();"
   ]
  },
  {
   "cell_type": "code",
   "execution_count": null,
   "metadata": {
    "dotnet_interactive": {
     "language": "csharp"
    },
    "polyglot_notebook": {
     "kernelName": "csharp"
    }
   },
   "outputs": [],
   "source": [
    "public class NumericData\n",
    "{\n",
    "    public bool Label;\n",
    "\n",
    "    [VectorType(3)]\n",
    "    public float[] NumericVector { get; set; }\n",
    "}\n",
    "\n",
    "var rawData = GetData();\n",
    "\n",
    "public static IEnumerable<NumericData> GetData()\n",
    "{\n",
    "    var data = new List<NumericData>\n",
    "    {\n",
    "        new NumericData\n",
    "        {\n",
    "            Label = true,\n",
    "            NumericVector = new float[] { 4, 0, 6 },\n",
    "        },\n",
    "        new NumericData\n",
    "        {\n",
    "            Label = false,\n",
    "            NumericVector = new float[] { 0, 5, 7 },\n",
    "        },\n",
    "        new NumericData\n",
    "        {\n",
    "            Label = true,\n",
    "            NumericVector = new float[] { 4, 0, 6 },\n",
    "        },\n",
    "        new NumericData\n",
    "        {\n",
    "            Label = false,\n",
    "            NumericVector = new float[] { 0, 5, 7 },\n",
    "        }\n",
    "    };\n",
    "    return data;\n",
    "}\n",
    "\n",
    "var data = mlContext.Data.LoadFromEnumerable(rawData);"
   ]
  },
  {
   "cell_type": "code",
   "execution_count": null,
   "metadata": {
    "dotnet_interactive": {
     "language": "csharp"
    },
    "polyglot_notebook": {
     "kernelName": "csharp"
    }
   },
   "outputs": [],
   "source": [
    "var pipeline = mlContext.Transforms.FeatureSelection\n",
    "    .SelectFeaturesBasedOnMutualInformation(outputColumnName: \"NumericVector\", labelColumnName: \"Label\", slotsInOutput: 2);\n",
    "var transformedData = pipeline.Fit(data).Transform(data);"
   ]
  },
  {
   "cell_type": "code",
   "execution_count": null,
   "metadata": {
    "dotnet_interactive": {
     "language": "csharp"
    },
    "polyglot_notebook": {
     "kernelName": "csharp"
    }
   },
   "outputs": [],
   "source": [
    "public class TransformedData\n",
    "{\n",
    "    public float[] NumericVector { get; set; }\n",
    "}\n",
    "\n",
    "var convertedData = mlContext.Data.CreateEnumerable<TransformedData>(transformedData, true);\n",
    "foreach (var item in convertedData)\n",
    "    Console.WriteLine(\"{0,-25}\", string.Join(\",\", item.NumericVector));"
   ]
  }
 ],
 "metadata": {},
 "nbformat": 4,
 "nbformat_minor": 5
}