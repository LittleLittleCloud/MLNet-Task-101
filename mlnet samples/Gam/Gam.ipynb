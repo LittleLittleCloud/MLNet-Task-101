{
 "cells": [
  {
   "cell_type": "markdown",
   "metadata": {},
   "source": [
    "task name: Resolve Gam Task\n",
    "\n",
    "task description: Implement the provided C# code as a dotnet interactive notebook"
   ]
  },
  {
   "cell_type": "code",
   "execution_count": null,
   "metadata": {
    "dotnet_interactive": {
     "language": "csharp"
    },
    "polyglot_notebook": {
     "kernelName": "csharp"
    }
   },
   "outputs": [],
   "source": [
    "#r \"nuget:Microsoft.ML.FastTree\""
   ]
  },
  {
   "cell_type": "code",
   "execution_count": null,
   "metadata": {
    "dotnet_interactive": {
     "language": "csharp"
    },
    "polyglot_notebook": {
     "kernelName": "csharp"
    }
   },
   "outputs": [],
   "source": [
    "using System;\n",
    "using System.Collections.Generic;\n",
    "using Microsoft.ML;\n",
    "using Microsoft.ML.Data;"
   ]
  },
  {
   "cell_type": "code",
   "execution_count": null,
   "metadata": {
    "dotnet_interactive": {
     "language": "csharp"
    },
    "polyglot_notebook": {
     "kernelName": "csharp"
    }
   },
   "outputs": [],
   "source": [
    "var mlContext = new MLContext();"
   ]
  },
  {
   "cell_type": "code",
   "execution_count": null,
   "metadata": {
    "dotnet_interactive": {
     "language": "csharp"
    },
    "polyglot_notebook": {
     "kernelName": "csharp"
    }
   },
   "outputs": [],
   "source": [
    "private class Data\n",
    "{\n",
    "    public bool Label { get; set; }\n",
    "\n",
    "    [VectorType(2)]\n",
    "    public float[] Features { get; set; }\n",
    "}\n",
    "\n",
    "private static IEnumerable<Data> GenerateData(int numExamples = 25000, int seed = 1)\n",
    "{\n",
    "    var rng = new Random(seed);\n",
    "    float centeredFloat() => (float)(rng.NextDouble() - 0.5);\n",
    "    for (int i = 0; i < numExamples; i++)\n",
    "    {\n",
    "        var data = new Data\n",
    "        {\n",
    "            Features = new float[2] { centeredFloat(), centeredFloat() }\n",
    "        };\n",
    "        data.Label = Sigmoid(Parabola(data.Features[0]) + SimplePiecewise(data.Features[1]) + centeredFloat()) > 0.5;\n",
    "\n",
    "        yield return data;\n",
    "    }\n",
    "}\n",
    "\n",
    "private static float Parabola(float x) => x * x;\n",
    "\n",
    "private static float SimplePiecewise(float x)\n",
    "{\n",
    "    if (x < 0)\n",
    "        return 0;\n",
    "    else if (x < 0.25)\n",
    "        return 1;\n",
    "    else\n",
    "        return 0;\n",
    "}\n",
    "\n",
    "private static double Sigmoid(double x) => 1.0 / (1.0 + Math.Exp(-1 * x));\n",
    "\n",
    "var samples = GenerateData();\n",
    "var data = mlContext.Data.LoadFromEnumerable(samples);"
   ]
  },
  {
   "cell_type": "code",
   "execution_count": null,
   "metadata": {
    "dotnet_interactive": {
     "language": "csharp"
    },
    "polyglot_notebook": {
     "kernelName": "csharp"
    }
   },
   "outputs": [],
   "source": [
    "var dataSets = mlContext.Data.TrainTestSplit(data);\n",
    "var trainSet = dataSets.TrainSet;\n",
    "var validSet = dataSets.TestSet;"
   ]
  },
  {
   "cell_type": "code",
   "execution_count": null,
   "metadata": {
    "dotnet_interactive": {
     "language": "csharp"
    },
    "polyglot_notebook": {
     "kernelName": "csharp"
    }
   },
   "outputs": [],
   "source": [
    "var trainer = mlContext.BinaryClassification.Trainers.Gam(maximumBinCountPerFeature: 16);\n",
    "var model = trainer.Fit(trainSet, validSet);"
   ]
  },
  {
   "cell_type": "code",
   "execution_count": null,
   "metadata": {
    "dotnet_interactive": {
     "language": "csharp"
    },
    "polyglot_notebook": {
     "kernelName": "csharp"
    }
   },
   "outputs": [],
   "source": [
    "var gam = model.Model.SubModel;"
   ]
  },
  {
   "cell_type": "code",
   "execution_count": null,
   "metadata": {
    "dotnet_interactive": {
     "language": "csharp"
    },
    "polyglot_notebook": {
     "kernelName": "csharp"
    }
   },
   "outputs": [],
   "source": [
    "Console.WriteLine($\"Average prediction: {gam.Bias:0.00}\");\n",
    "for (int i = 0; i < gam.NumberOfShapeFunctions; i++)\n",
    "{\n",
    "    Console.WriteLine();\n",
    "    var binUpperBounds = gam.GetBinUpperBounds(i);\n",
    "    var binEffects = gam.GetBinEffects(i);\n",
    "    Console.WriteLine($\"Feature{i}\");\n",
    "    for (int j = 0; j < binUpperBounds.Count; j++)\n",
    "        Console.WriteLine($\"x < {binUpperBounds[j]:0.00} => {binEffects[j]:0.000}\");\n",
    "}"
   ]
  }
 ],
 "metadata": {},
 "nbformat": 4,
 "nbformat_minor": 5
}