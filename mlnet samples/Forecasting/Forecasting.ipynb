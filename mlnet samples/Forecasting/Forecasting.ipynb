{
 "cells": [
  {
   "cell_type": "markdown",
   "metadata": {},
   "source": [
    "## Resolve Forecasting Task\n",
    "\n",
    "Implement the provided C# code as a dotnet interactive notebook"
   ]
  },
  {
   "cell_type": "code",
   "execution_count": null,
   "metadata": {
    "dotnet_interactive": {
     "language": "csharp"
    },
    "polyglot_notebook": {
     "kernelName": "csharp"
    }
   },
   "outputs": [],
   "source": [
    "#r \"nuget:Microsoft.ML\"\r\n"
   ]
  },
  {
   "cell_type": "code",
   "execution_count": null,
   "metadata": {
    "dotnet_interactive": {
     "language": "csharp"
    },
    "polyglot_notebook": {
     "kernelName": "csharp"
    }
   },
   "outputs": [],
   "source": [
    "using Microsoft.ML;\n",
    "using Microsoft.ML.Data;\n"
   ]
  },
  {
   "cell_type": "code",
   "execution_count": null,
   "metadata": {
    "dotnet_interactive": {
     "language": "csharp"
    },
    "polyglot_notebook": {
     "kernelName": "csharp"
    }
   },
   "outputs": [],
   "source": [
    "class TimeSeriesData\n",
    "{\n",
    "    public float Value;\n",
    "\n",
    "    public TimeSeriesData(float value)\n",
    "    {\n",
    "        Value = value;\n",
    "    }\n",
    "}\n"
   ]
  },
  {
   "cell_type": "code",
   "execution_count": null,
   "metadata": {
    "dotnet_interactive": {
     "language": "csharp"
    },
    "polyglot_notebook": {
     "kernelName": "csharp"
    }
   },
   "outputs": [],
   "source": [
    "var ml = new MLContext();\n",
    "var data = new List<TimeSeriesData>()\n",
    "{\n",
    "    new TimeSeriesData(0),\n",
    "    new TimeSeriesData(1),\n",
    "    new TimeSeriesData(2),\n",
    "    new TimeSeriesData(3),\n",
    "    new TimeSeriesData(4),\n",
    "\n",
    "    new TimeSeriesData(0),\n",
    "    new TimeSeriesData(1),\n",
    "    new TimeSeriesData(2),\n",
    "    new TimeSeriesData(3),\n",
    "    new TimeSeriesData(4),\n",
    "\n",
    "    new TimeSeriesData(0),\n",
    "    new TimeSeriesData(1),\n",
    "    new TimeSeriesData(2),\n",
    "    new TimeSeriesData(3),\n",
    "    new TimeSeriesData(4),\n",
    "};"
   ]
  }
 ],
 "metadata": {},
 "nbformat": 4,
 "nbformat_minor": 5
}