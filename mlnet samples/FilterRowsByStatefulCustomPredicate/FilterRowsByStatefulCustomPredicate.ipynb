{
 "cells": [
  {
   "cell_type": "markdown",
   "metadata": {},
   "source": [
    "task name: Resolve FilterRowsByStatefulCustomPredicate task\n",
    "task description: Implement the provided C# code as a dotnet interactive notebook"
   ]
  },
  {
   "cell_type": "code",
   "execution_count": null,
   "metadata": {
    "dotnet_interactive": {
     "language": "csharp"
    },
    "polyglot_notebook": {
     "kernelName": "csharp"
    }
   },
   "outputs": [],
   "source": [
    "#r \"nuget:Microsoft.ML\"\r\n"
   ]
  },
  {
   "cell_type": "code",
   "execution_count": null,
   "metadata": {
    "dotnet_interactive": {
     "language": "csharp"
    },
    "polyglot_notebook": {
     "kernelName": "csharp"
    }
   },
   "outputs": [],
   "source": [
    "using System;\n",
    "using Microsoft.ML;"
   ]
  },
  {
   "cell_type": "code",
   "execution_count": null,
   "metadata": {
    "dotnet_interactive": {
     "language": "csharp"
    },
    "polyglot_notebook": {
     "kernelName": "csharp"
    }
   },
   "outputs": [],
   "source": [
    "var mlContext = new MLContext();"
   ]
  },
  {
   "cell_type": "code",
   "execution_count": null,
   "metadata": {
    "dotnet_interactive": {
     "language": "csharp"
    },
    "polyglot_notebook": {
     "kernelName": "csharp"
    }
   },
   "outputs": [],
   "source": [
    "public class InputData\n",
    "{\n",
    "    public string Name { get; set; }\n",
    "    public bool FilterNext { get; set; }\n",
    "}\n",
    "\n",
    "public class State\n",
    "{\n",
    "    public bool Filter { get; set; }\n",
    "}\n",
    "\n",
    "var enumerableOfData = new[]\n",
    "{\n",
    "    new InputData() { Name = \"Joey\", FilterNext = false },\n",
    "    new InputData() { Name = \"Chandler\", FilterNext = false },\n",
    "    new InputData() { Name = \"Ross\", FilterNext = false },\n",
    "    new InputData() { Name = \"Monica\", FilterNext = true },\n",
    "    new InputData() { Name = \"Rachel\", FilterNext = true },\n",
    "    new InputData() { Name = \"Phoebe\", FilterNext = false },\n",
    "};\n",
    "var data = mlContext.Data.LoadFromEnumerable(enumerableOfData);"
   ]
  },
  {
   "cell_type": "code",
   "execution_count": null,
   "metadata": {
    "dotnet_interactive": {
     "language": "csharp"
    },
    "polyglot_notebook": {
     "kernelName": "csharp"
    }
   },
   "outputs": [],
   "source": [
    "var filteredData = mlContext.Data.FilterByStatefulCustomPredicate<InputData, State>(\n",
    "    data, (input, state) =>\n",
    "    {\n",
    "        var filter = state.Filter;\n",
    "        state.Filter = input.FilterNext;\n",
    "        return (filter && input.Name.StartsWith(\"r\", StringComparison.OrdinalIgnoreCase));\n",
    "    }, state => state.Filter = false);"
   ]
  },
  {
   "cell_type": "code",
   "execution_count": null,
   "metadata": {
    "dotnet_interactive": {
     "language": "csharp"
    },
    "polyglot_notebook": {
     "kernelName": "csharp"
    }
   },
   "outputs": [],
   "source": [
    "var enumerable = mlContext.Data\n",
    "    .CreateEnumerable<InputData>(filteredData,\n",
    "    reuseRowObject: true);\n",
    "\n",
    "Console.WriteLine(\"Name\");\n",
    "foreach (var row in enumerable)\n",
    "{\n",
    "    Console.WriteLine(row.Name);\n",
    "}"
   ]
  }
 ],
 "metadata": {},
 "nbformat": 4,
 "nbformat_minor": 5
}