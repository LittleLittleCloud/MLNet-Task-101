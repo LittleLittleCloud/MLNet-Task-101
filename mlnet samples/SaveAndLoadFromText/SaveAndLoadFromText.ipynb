{
 "cells": [
  {
   "cell_type": "markdown",
   "metadata": {},
   "source": [
    "task name: Resolve SaveAndLoadFromText\n",
    "task description: Implement the SaveAndLoadFromText example in a dotnet interactive notebook"
   ]
  },
  {
   "cell_type": "code",
   "execution_count": null,
   "metadata": {
    "dotnet_interactive": {
     "language": "csharp"
    },
    "polyglot_notebook": {
     "kernelName": "csharp"
    }
   },
   "outputs": [],
   "source": [
    "#r \"nuget:Microsoft.ML\"\r\n"
   ]
  },
  {
   "cell_type": "code",
   "execution_count": null,
   "metadata": {
    "dotnet_interactive": {
     "language": "csharp"
    },
    "polyglot_notebook": {
     "kernelName": "csharp"
    }
   },
   "outputs": [],
   "source": [
    "using System;\n",
    "using System.Collections.Generic;\n",
    "using System.IO;\n",
    "using Microsoft.ML;"
   ]
  },
  {
   "cell_type": "code",
   "execution_count": null,
   "metadata": {
    "dotnet_interactive": {
     "language": "csharp"
    },
    "polyglot_notebook": {
     "kernelName": "csharp"
    }
   },
   "outputs": [],
   "source": [
    "var mlContext = new MLContext(seed: 0);"
   ]
  },
  {
   "cell_type": "code",
   "execution_count": null,
   "metadata": {
    "dotnet_interactive": {
     "language": "csharp"
    },
    "polyglot_notebook": {
     "kernelName": "csharp"
    }
   },
   "outputs": [],
   "source": [
    "public class DataPoint\n",
    "{\n",
    "    public float Label { get; set; }\n",
    "    public float Features { get; set; }\n",
    "}\n",
    "\n",
    "var dataPoints = new List<DataPoint>(){\n",
    "    new DataPoint(){ Label = 0, Features = 4},\n",
    "    new DataPoint(){ Label = 0, Features = 5},\n",
    "    new DataPoint(){ Label = 0, Features = 6},\n",
    "    new DataPoint(){ Label = 1, Features = 8},\n",
    "    new DataPoint(){ Label = 1, Features = 9},\n",
    "};\n",
    "IDataView data = mlContext.Data.LoadFromEnumerable(dataPoints);"
   ]
  },
  {
   "cell_type": "code",
   "execution_count": null,
   "metadata": {
    "dotnet_interactive": {
     "language": "csharp"
    },
    "polyglot_notebook": {
     "kernelName": "csharp"
    }
   },
   "outputs": [],
   "source": [
    "using (FileStream stream = new FileStream(\"data.tsv\", FileMode.Create))\n",
    "    mlContext.Data.SaveAsText(data, stream);"
   ]
  },
  {
   "cell_type": "code",
   "execution_count": null,
   "metadata": {
    "dotnet_interactive": {
     "language": "csharp"
    },
    "polyglot_notebook": {
     "kernelName": "csharp"
    }
   },
   "outputs": [],
   "source": [
    "using Microsoft.ML.Data;\n",
    "\n",
    "public class DataPoint\n",
    "{\n",
    "    [LoadColumn(0)]\n",
    "    public float Label { get; set; }\n",
    "\n",
    "    [LoadColumn(1)]\n",
    "    public float Features { get; set; }\n",
    "}\n",
    "\n",
    "IDataView loadedData = mlContext.Data.LoadFromTextFile<DataPoint>(\"data.tsv\");"
   ]
  },
  {
   "cell_type": "code",
   "execution_count": null,
   "metadata": {
    "dotnet_interactive": {
     "language": "csharp"
    },
    "polyglot_notebook": {
     "kernelName": "csharp"
    }
   },
   "outputs": [],
   "source": [
    "string fileContent = File.ReadAllText(\"data.tsv\");\n",
    "Console.WriteLine(fileContent);"
   ]
  },
  {
   "cell_type": "code",
   "execution_count": null,
   "metadata": {
    "dotnet_interactive": {
     "language": "csharp"
    },
    "polyglot_notebook": {
     "kernelName": "csharp"
    }
   },
   "outputs": [],
   "source": [
    "// Save data in a simpler format\n",
    "using (var writer = new StreamWriter(\"data.tsv\"))\n",
    "{\n",
    "    foreach (var point in dataPoints)\n",
    "    {\n",
    "        writer.WriteLine($\"{point.Label}\\t{point.Features}\");\n",
    "    }\n",
    "}\n",
    "\n",
    "// Load data from text file\n",
    "IDataView loadedData = mlContext.Data.LoadFromTextFile<DataPoint>(\"data.tsv\");\n",
    "\n",
    "// Print loaded data\n",
    "var loadedDataEnumerable = mlContext.Data.CreateEnumerable<DataPoint>(loadedData, reuseRowObject: false);\n",
    "foreach (DataPoint row in loadedDataEnumerable)\n",
    "    Console.WriteLine($\"{row.Label}, {row.Features}\");"
   ]
  }
 ],
 "metadata": {},
 "nbformat": 4,
 "nbformat_minor": 5
}