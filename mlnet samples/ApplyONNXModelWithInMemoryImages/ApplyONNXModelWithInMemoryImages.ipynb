{
 "cells": [
  {
   "cell_type": "markdown",
   "metadata": {},
   "source": [
    "task name: Implement ApplyONNXModelWithInMemoryImages\n",
    "task description: Implement the ApplyONNXModelWithInMemoryImages example using the provided C# code"
   ]
  },
  {
   "cell_type": "code",
   "execution_count": null,
   "metadata": {
    "dotnet_interactive": {
     "language": "csharp"
    },
    "polyglot_notebook": {
     "kernelName": "csharp"
    }
   },
   "outputs": [],
   "source": [
    "#r \"nuget:Microsoft.ML\"\r\n"
   ]
  },
  {
   "cell_type": "code",
   "execution_count": null,
   "metadata": {
    "dotnet_interactive": {
     "language": "csharp"
    },
    "polyglot_notebook": {
     "kernelName": "csharp"
    }
   },
   "outputs": [],
   "source": [
    "using System;\n",
    "using System.Linq;\n",
    "using Microsoft.ML;\n",
    "using Microsoft.ML.Data;"
   ]
  },
  {
   "cell_type": "code",
   "execution_count": null,
   "metadata": {
    "dotnet_interactive": {
     "language": "csharp"
    },
    "polyglot_notebook": {
     "kernelName": "csharp"
    }
   },
   "outputs": [],
   "source": [
    "var mlContext = new MLContext();"
   ]
  },
  {
   "cell_type": "code",
   "execution_count": null,
   "metadata": {
    "dotnet_interactive": {
     "language": "csharp"
    },
    "polyglot_notebook": {
     "kernelName": "csharp"
    }
   },
   "outputs": [],
   "source": [
    "public class ImageDataPoint\n",
    "{\n",
    "    public byte[] Image { get; set; }\n",
    "    public float[] Scores { get; set; }\n",
    "\n",
    "    public ImageDataPoint(byte red, byte green, byte blue)\n",
    "    {\n",
    "        byte[] imageData = new byte[224 * 224 * 4]; // 4 for the red, green, blue and alpha colors\n",
    "        for (int i = 0; i < imageData.Length; i += 4)\n",
    "        {\n",
    "            // Fill the buffer with the Bgra32 format\n",
    "            imageData[i] = blue;\n",
    "            imageData[i + 1] = green;\n",
    "            imageData[i + 2] = red;\n",
    "            imageData[i + 3] = 255;\n",
    "        }\n",
    "\n",
    "        Image = imageData;\n",
    "    }\n",
    "}\n",
    "\n",
    "var dataPoints = new ImageDataPoint[]\n",
    "{\n",
    "    new ImageDataPoint(red: 255, green: 0, blue: 0), // Red color\n",
    "    new ImageDataPoint(red: 0, green: 128, blue: 0)  // Green color\n",
    "};\n",
    "var dataView = mlContext.Data.LoadFromEnumerable(dataPoints);"
   ]
  },
  {
   "cell_type": "code",
   "execution_count": null,
   "metadata": {
    "dotnet_interactive": {
     "language": "csharp"
    },
    "polyglot_notebook": {
     "kernelName": "csharp"
    }
   },
   "outputs": [],
   "source": [
    "var pipeline = mlContext.Transforms.Conversion.ConvertType(\"Features\", \"Image\", DataKind.Single)\n",
    "    .Append(mlContext.Transforms.Concatenate(\"Features\", \"Features\"))\n",
    "    .AppendCacheCheckpoint(mlContext);\n",
    "\n",
    "var model = pipeline.Fit(dataView);\n",
    "var onnx = model.Transform(dataView);"
   ]
  },
  {
   "cell_type": "code",
   "execution_count": null,
   "metadata": {
    "dotnet_interactive": {
     "language": "csharp"
    },
    "polyglot_notebook": {
     "kernelName": "csharp"
    }
   },
   "outputs": [],
   "source": [
    "public class ImageDataPoint\n",
    "{\n",
    "    public byte[] Image { get; set; }\n",
    "    public float[] Scores { get; set; }\n",
    "    public ImageDataPoint() { }\n",
    "    public ImageDataPoint(byte red, byte green, byte blue)\n",
    "    {\n",
    "        byte[] imageData = new byte[224 * 224 * 4]; // 4 for the red, green, blue and alpha colors\n",
    "        for (int i = 0; i < imageData.Length; i += 4)\n",
    "        {\n",
    "            // Fill the buffer with the Bgra32 format\n",
    "            imageData[i] = blue;\n",
    "            imageData[i + 1] = green;\n",
    "            imageData[i + 2] = red;\n",
    "            imageData[i + 3] = 255;\n",
    "        }\n",
    "\n",
    "        Image = imageData;\n",
    "    }\n",
    "}\n",
    "\n",
    "var transformedDataPoints = mlContext.Data.CreateEnumerable<\n",
    "    ImageDataPoint>(onnx, false).ToList();\n",
    "if (transformedDataPoints.Count > 0)\n",
    "{\n",
    "    foreach (var dataPoint in transformedDataPoints)\n",
    "    {\n",
    "        if (dataPoint.Scores != null && dataPoint.Scores.Length > 0)\n",
    "        {\n",
    "            var firstClassProb = dataPoint.Scores.First();\n",
    "            var lastClassProb = dataPoint.Scores.Last();\n",
    "            Console.WriteLine(\"The probability of being the first class is \" +\n",
    "                (firstClassProb * 100) + \"%.\");\n",
    "\n",
    "            Console.WriteLine($\"The probability of being the last class is \" +\n",
    "                (lastClassProb * 100) + \"%.\");\n",
    "        }\n",
    "        else\n",
    "        {\n",
    "            Console.WriteLine(\"No scores were found for this data point.\");\n",
    "        }\n",
    "    }\n",
    "}\n",
    "else\n",
    "{\n",
    "    Console.WriteLine(\"No data points were transformed.\");\n",
    "}"
   ]
  }
 ],
 "metadata": {},
 "nbformat": 4,
 "nbformat_minor": 5
}