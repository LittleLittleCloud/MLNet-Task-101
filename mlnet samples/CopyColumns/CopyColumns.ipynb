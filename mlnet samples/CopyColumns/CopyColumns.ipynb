{
 "cells": [
  {
   "cell_type": "markdown",
   "metadata": {},
   "source": [
    "task name: Resolve CopyColumns task\n",
    "task description: Implement the CopyColumns functionality in the provided C# code"
   ]
  },
  {
   "cell_type": "code",
   "execution_count": null,
   "metadata": {
    "dotnet_interactive": {
     "language": "csharp"
    },
    "polyglot_notebook": {
     "kernelName": "csharp"
    }
   },
   "outputs": [],
   "source": [
    "#r \"nuget:Microsoft.ML\"\r\n"
   ]
  },
  {
   "cell_type": "code",
   "execution_count": null,
   "metadata": {
    "dotnet_interactive": {
     "language": "csharp"
    },
    "polyglot_notebook": {
     "kernelName": "csharp"
    }
   },
   "outputs": [],
   "source": [
    "using System;\n",
    "using System.Collections.Generic;\n",
    "using Microsoft.ML;"
   ]
  },
  {
   "cell_type": "code",
   "execution_count": null,
   "metadata": {
    "dotnet_interactive": {
     "language": "csharp"
    },
    "polyglot_notebook": {
     "kernelName": "csharp"
    }
   },
   "outputs": [],
   "source": [
    "var mlContext = new MLContext();"
   ]
  },
  {
   "cell_type": "code",
   "execution_count": null,
   "metadata": {
    "dotnet_interactive": {
     "language": "csharp"
    },
    "polyglot_notebook": {
     "kernelName": "csharp"
    }
   },
   "outputs": [],
   "source": [
    "public class InputData\n",
    "{\n",
    "    public int ImageId { get; set; }\n",
    "    public float[] Features { get; set; }\n",
    "}\n",
    "\n",
    "var samples = new List<InputData>()\n",
    "{\n",
    "    new InputData(){ ImageId = 1, Features = new [] { 1.0f, 1.0f, 1.0f } },\n",
    "    new InputData(){ ImageId = 2, Features = new [] { 2.0f, 2.0f, 2.0f } },\n",
    "    new InputData(){ ImageId = 3, Features = new [] { 3.0f, 3.0f, 3.0f } },\n",
    "    new InputData(){ ImageId = 4, Features = new [] { 4.0f, 4.0f, 4.0f } },\n",
    "    new InputData(){ ImageId = 5, Features = new [] { 5.0f, 5.0f, 5.0f } },\n",
    "    new InputData(){ ImageId = 6, Features = new [] { 6.0f, 6.0f, 6.0f } },\n",
    "};\n",
    "var dataview = mlContext.Data.LoadFromEnumerable(samples);"
   ]
  },
  {
   "cell_type": "code",
   "execution_count": null,
   "metadata": {
    "dotnet_interactive": {
     "language": "csharp"
    },
    "polyglot_notebook": {
     "kernelName": "csharp"
    }
   },
   "outputs": [],
   "source": [
    "var pipeline = mlContext.Transforms.CopyColumns(\"Label\", \"ImageId\");"
   ]
  },
  {
   "cell_type": "code",
   "execution_count": null,
   "metadata": {
    "dotnet_interactive": {
     "language": "csharp"
    },
    "polyglot_notebook": {
     "kernelName": "csharp"
    }
   },
   "outputs": [],
   "source": [
    "var transformedData = pipeline.Fit(dataview).Transform(dataview);"
   ]
  },
  {
   "cell_type": "code",
   "execution_count": null,
   "metadata": {
    "dotnet_interactive": {
     "language": "csharp"
    },
    "polyglot_notebook": {
     "kernelName": "csharp"
    }
   },
   "outputs": [],
   "source": [
    "public class TransformedData : InputData\n",
    "{\n",
    "    public int Label { get; set; }\n",
    "}\n",
    "\n",
    "var rowEnumerable = mlContext.Data.CreateEnumerable<TransformedData>(transformedData, reuseRowObject: false);\n",
    "foreach (var row in rowEnumerable)\n",
    "    Console.WriteLine($\"Label: {row.Label} ImageId: {row.ImageId}\");"
   ]
  }
 ],
 "metadata": {},
 "nbformat": 4,
 "nbformat_minor": 5
}