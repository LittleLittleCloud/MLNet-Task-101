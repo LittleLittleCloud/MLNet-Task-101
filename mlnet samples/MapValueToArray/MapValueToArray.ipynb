{
 "cells": [
  {
   "cell_type": "markdown",
   "metadata": {},
   "source": [
    "task name: MapValueToArray\n",
    "\n",
    "task description: Implement the MapValueToArray example in C#"
   ]
  },
  {
   "cell_type": "code",
   "execution_count": null,
   "metadata": {
    "dotnet_interactive": {
     "language": "csharp"
    },
    "polyglot_notebook": {
     "kernelName": "csharp"
    }
   },
   "outputs": [],
   "source": [
    "#r \"nuget:Microsoft.ML,1.6.0\""
   ]
  },
  {
   "cell_type": "code",
   "execution_count": null,
   "metadata": {
    "dotnet_interactive": {
     "language": "csharp"
    },
    "polyglot_notebook": {
     "kernelName": "csharp"
    }
   },
   "outputs": [],
   "source": [
    "using System;\n",
    "using System.Collections.Generic;\n",
    "using Microsoft.ML;"
   ]
  },
  {
   "cell_type": "code",
   "execution_count": null,
   "metadata": {
    "dotnet_interactive": {
     "language": "csharp"
    },
    "polyglot_notebook": {
     "kernelName": "csharp"
    }
   },
   "outputs": [],
   "source": [
    "var mlContext = new MLContext();"
   ]
  },
  {
   "cell_type": "code",
   "execution_count": null,
   "metadata": {
    "dotnet_interactive": {
     "language": "csharp"
    },
    "polyglot_notebook": {
     "kernelName": "csharp"
    }
   },
   "outputs": [],
   "source": [
    "public class DataPoint\n",
    "{\n",
    "    public string Timeframe { get; set; }\n",
    "}\n",
    "\n",
    "var rawData = new[] {\n",
    "    new DataPoint() { Timeframe = \"0-4yrs\" },\n",
    "    new DataPoint() { Timeframe = \"6-11yrs\" },\n",
    "    new DataPoint() { Timeframe = \"12-25yrs\" },\n",
    "    new DataPoint() { Timeframe = \"0-5yrs\" },\n",
    "    new DataPoint() { Timeframe = \"12-25yrs\" },\n",
    "    new DataPoint() { Timeframe = \"25+yrs\" },\n",
    "};\n",
    "var data = mlContext.Data.LoadFromEnumerable(rawData);"
   ]
  },
  {
   "cell_type": "code",
   "execution_count": null,
   "metadata": {
    "dotnet_interactive": {
     "language": "csharp"
    },
    "polyglot_notebook": {
     "kernelName": "csharp"
    }
   },
   "outputs": [],
   "source": [
    "var timeframeMap = new Dictionary<string, int[]>();\n",
    "timeframeMap[\"0-4yrs\"] = new int[] { 0, 5, 300 };\n",
    "timeframeMap[\"0-5yrs\"] = new int[] { 0, 5, 300 };\n",
    "timeframeMap[\"6-11yrs\"] = new int[] { 6, 11, 300 };\n",
    "timeframeMap[\"12-25yrs\"] = new int[] { 12, 50, 300 };\n",
    "timeframeMap[\"25+yrs\"] = new int[] { 12, 50, 300 };"
   ]
  },
  {
   "cell_type": "code",
   "execution_count": null,
   "metadata": {
    "dotnet_interactive": {
     "language": "csharp"
    },
    "polyglot_notebook": {
     "kernelName": "csharp"
    }
   },
   "outputs": [],
   "source": [
    "var pipeline = mlContext.Transforms.Conversion.MapValue(\"Features\", timeframeMap, \"Timeframe\");\n",
    "IDataView transformedData = pipeline.Fit(data).Transform(data);"
   ]
  },
  {
   "cell_type": "code",
   "execution_count": null,
   "metadata": {
    "dotnet_interactive": {
     "language": "csharp"
    },
    "polyglot_notebook": {
     "kernelName": "csharp"
    }
   },
   "outputs": [],
   "source": [
    "public class TransformedData : DataPoint\n",
    "{\n",
    "    public int[] Features { get; set; }\n",
    "}\n",
    "\n",
    "IEnumerable<TransformedData> featuresColumn = mlContext.Data.CreateEnumerable<TransformedData>(transformedData, reuseRowObject: false);\n",
    "Console.WriteLine(\"Timeframe     Features\");\n",
    "foreach (var featureRow in featuresColumn)\n",
    "{\n",
    "    Console.WriteLine($\"{featureRow.Timeframe}\\t\\t \" +\n",
    "    $\"{string.Join(\",\", featureRow.Features)}\");\n",
    "}"
   ]
  }
 ],
 "metadata": {},
 "nbformat": 4,
 "nbformat_minor": 5
}