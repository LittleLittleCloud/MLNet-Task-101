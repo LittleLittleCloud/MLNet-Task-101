{
 "cells": [
  {
   "cell_type": "markdown",
   "metadata": {},
   "source": [
    "task name: Implement GamWithOptions\n",
    "task description: Implement the provided C# code for training and evaluating a GAM regression model."
   ]
  },
  {
   "cell_type": "code",
   "execution_count": null,
   "metadata": {
    "dotnet_interactive": {
     "language": "csharp"
    },
    "polyglot_notebook": {
     "kernelName": "csharp"
    }
   },
   "outputs": [],
   "source": [
    "#r \"nuget:Microsoft.ML.FastTree\""
   ]
  },
  {
   "cell_type": "code",
   "execution_count": null,
   "metadata": {
    "dotnet_interactive": {
     "language": "csharp"
    },
    "polyglot_notebook": {
     "kernelName": "csharp"
    }
   },
   "outputs": [],
   "source": [
    "using System;\n",
    "using System.Collections.Generic;\n",
    "using System.Linq;\n",
    "using Microsoft.ML;\n",
    "using Microsoft.ML.Data;\n",
    "using Microsoft.ML.Trainers.FastTree;"
   ]
  },
  {
   "cell_type": "code",
   "execution_count": null,
   "metadata": {
    "dotnet_interactive": {
     "language": "csharp"
    },
    "polyglot_notebook": {
     "kernelName": "csharp"
    }
   },
   "outputs": [],
   "source": [
    "var mlContext = new MLContext(seed: 0);"
   ]
  },
  {
   "cell_type": "code",
   "execution_count": null,
   "metadata": {
    "dotnet_interactive": {
     "language": "csharp"
    },
    "polyglot_notebook": {
     "kernelName": "csharp"
    }
   },
   "outputs": [],
   "source": [
    "// Example with label and 50 feature values. A data set is a collection of such examples.\n",
    "private class DataPoint\n",
    "{\n",
    "    public float Label { get; set; }\n",
    "    [VectorType(50)]\n",
    "    public float[] Features { get; set; }\n",
    "}\n",
    "\n",
    "private static IEnumerable<DataPoint> GenerateRandomDataPoints(int count,\n",
    "    int seed = 0)\n",
    "{\n",
    "    var random = new Random(seed);\n",
    "    for (int i = 0; i < count; i++)\n",
    "    {\n",
    "        float label = (float)random.NextDouble();\n",
    "        yield return new DataPoint\n",
    "        {\n",
    "            Label = label,\n",
    "            Features = Enumerable.Repeat(label, 50).Select(\n",
    "                x => x + (float)random.NextDouble()).ToArray()\n",
    "        };\n",
    "    }\n",
    "}\n",
    "\n",
    "var dataPoints = GenerateRandomDataPoints(1000);\n",
    "var trainingData = mlContext.Data.LoadFromEnumerable(dataPoints);"
   ]
  },
  {
   "cell_type": "code",
   "execution_count": null,
   "metadata": {
    "dotnet_interactive": {
     "language": "csharp"
    },
    "polyglot_notebook": {
     "kernelName": "csharp"
    }
   },
   "outputs": [],
   "source": [
    "var options = new GamRegressionTrainer.Options\n",
    "{\n",
    "    LabelColumnName = nameof(DataPoint.Label),\n",
    "    FeatureColumnName = nameof(DataPoint.Features),\n",
    "    EntropyCoefficient = 0.3,\n",
    "    NumberOfIterations = 50\n",
    "};\n",
    "\n",
    "var pipeline = mlContext.Regression.Trainers.Gam(options);"
   ]
  },
  {
   "cell_type": "code",
   "execution_count": null,
   "metadata": {
    "dotnet_interactive": {
     "language": "csharp"
    },
    "polyglot_notebook": {
     "kernelName": "csharp"
    }
   },
   "outputs": [],
   "source": [
    "var model = pipeline.Fit(trainingData);"
   ]
  },
  {
   "cell_type": "code",
   "execution_count": null,
   "metadata": {
    "dotnet_interactive": {
     "language": "csharp"
    },
    "polyglot_notebook": {
     "kernelName": "csharp"
    }
   },
   "outputs": [],
   "source": [
    "var testData = mlContext.Data.LoadFromEnumerable(GenerateRandomDataPoints(5, seed: 123));\n",
    "var transformedTestData = model.Transform(testData);"
   ]
  },
  {
   "cell_type": "code",
   "execution_count": null,
   "metadata": {
    "dotnet_interactive": {
     "language": "csharp"
    },
    "polyglot_notebook": {
     "kernelName": "csharp"
    }
   },
   "outputs": [],
   "source": [
    "// Class used to capture predictions.\r\n",
    "private class Prediction\r\n",
    "{\r\n",
    "    // Original label.\r\n",
    "    public float Label { get; set; }\r\n",
    "    // Predicted score from the trainer.\r\n",
    "    public float Score { get; set; }\r\n",
    "}\r\n",
    "\r\n",
    "var predictions = mlContext.Data.CreateEnumerable<Prediction>(transformedTestData, reuseRowObject: false).ToList();\r\n",
    "foreach (var p in predictions)\r\n",
    "    Console.WriteLine($\"Label: {p.Label:F3}, Prediction: {p.Score:F3}\");"
   ]
  },
  {
   "cell_type": "code",
   "execution_count": null,
   "metadata": {
    "dotnet_interactive": {
     "language": "csharp"
    },
    "polyglot_notebook": {
     "kernelName": "csharp"
    }
   },
   "outputs": [],
   "source": [
    "var metrics = mlContext.Regression.Evaluate(transformedTestData);\n",
    "Console.WriteLine(\"Mean Absolute Error: \" + metrics.MeanAbsoluteError);\n",
    "Console.WriteLine(\"Mean Squared Error: \" + metrics.MeanSquaredError);\n",
    "Console.WriteLine(\"Root Mean Squared Error: \" + metrics.RootMeanSquaredError);\n",
    "Console.WriteLine(\"RSquared: \" + metrics.RSquared);"
   ]
  }
 ],
 "metadata": {},
 "nbformat": 4,
 "nbformat_minor": 5
}