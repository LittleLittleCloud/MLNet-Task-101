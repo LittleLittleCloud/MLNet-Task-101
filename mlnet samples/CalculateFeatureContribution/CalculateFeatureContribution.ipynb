{
 "cells": [
  {
   "cell_type": "markdown",
   "metadata": {},
   "source": [
    "task name: Resolve CalculateFeatureContribution task\n",
    "\n",
    "task description: Implement the CalculateFeatureContribution example using the provided C# code"
   ]
  },
  {
   "cell_type": "code",
   "execution_count": null,
   "metadata": {
    "dotnet_interactive": {
     "language": "csharp"
    },
    "polyglot_notebook": {
     "kernelName": "csharp"
    }
   },
   "outputs": [],
   "source": [
    "#r \"nuget:Microsoft.ML,1.6.0\""
   ]
  },
  {
   "cell_type": "code",
   "execution_count": null,
   "metadata": {
    "dotnet_interactive": {
     "language": "csharp"
    },
    "polyglot_notebook": {
     "kernelName": "csharp"
    }
   },
   "outputs": [],
   "source": [
    "using System;\n",
    "using System.Collections.Generic;\n",
    "using System.Linq;\n",
    "using Microsoft.ML;"
   ]
  },
  {
   "cell_type": "code",
   "execution_count": null,
   "metadata": {
    "dotnet_interactive": {
     "language": "csharp"
    },
    "polyglot_notebook": {
     "kernelName": "csharp"
    }
   },
   "outputs": [],
   "source": [
    "var mlContext = new MLContext(seed: 1);"
   ]
  },
  {
   "cell_type": "code",
   "execution_count": null,
   "metadata": {
    "dotnet_interactive": {
     "language": "csharp"
    },
    "polyglot_notebook": {
     "kernelName": "csharp"
    }
   },
   "outputs": [],
   "source": [
    "var transformPipeline = mlContext.Transforms.Concatenate(\"Features\",\r\n",
    "                    new string[] { nameof(Data.Feature1), nameof(Data.Feature2) })\r\n",
    "                .Append(mlContext.Transforms.NormalizeMeanVariance(\"Features\"));\r\n",
    "\r\n",
    "private class Data\r\n",
    "{\r\n",
    "    public float Label { get; set; }\r\n",
    "\r\n",
    "    public float Feature1 { get; set; }\r\n",
    "\r\n",
    "    public float Feature2 { get; set; }\r\n",
    "}"
   ]
  }
 ],
 "metadata": {},
 "nbformat": 4,
 "nbformat_minor": 5
}