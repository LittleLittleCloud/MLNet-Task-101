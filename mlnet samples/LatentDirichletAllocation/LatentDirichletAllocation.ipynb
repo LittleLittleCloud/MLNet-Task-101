{
 "cells": [
  {
   "cell_type": "markdown",
   "metadata": {},
   "source": [
    "task name: Resolve LatentDirichletAllocation task\n",
    "\n",
    "task description: Implement the provided C# code as a dotnet interactive notebook"
   ]
  },
  {
   "cell_type": "code",
   "execution_count": null,
   "metadata": {
    "dotnet_interactive": {
     "language": "csharp"
    },
    "polyglot_notebook": {
     "kernelName": "csharp"
    }
   },
   "outputs": [],
   "source": [
    "#r \"nuget: Microsoft.ML, 1.6.0\""
   ]
  },
  {
   "cell_type": "code",
   "execution_count": null,
   "metadata": {
    "dotnet_interactive": {
     "language": "csharp"
    },
    "polyglot_notebook": {
     "kernelName": "csharp"
    }
   },
   "outputs": [],
   "source": [
    "using System;\n",
    "using System.Collections.Generic;\n",
    "using Microsoft.ML;"
   ]
  },
  {
   "cell_type": "code",
   "execution_count": null,
   "metadata": {
    "dotnet_interactive": {
     "language": "csharp"
    },
    "polyglot_notebook": {
     "kernelName": "csharp"
    }
   },
   "outputs": [],
   "source": [
    "var mlContext = new MLContext();"
   ]
  },
  {
   "cell_type": "code",
   "execution_count": null,
   "metadata": {
    "dotnet_interactive": {
     "language": "csharp"
    },
    "polyglot_notebook": {
     "kernelName": "csharp"
    }
   },
   "outputs": [],
   "source": [
    "private class TextData\n",
    "{\n",
    "    public string Text { get; set; }\n",
    "}\n",
    "\n",
    "var samples = new List<TextData>(){\n",
    "    new TextData(){ Text = \"ML.NET's LatentDirichletAllocation API computes topic models.\" },\n",
    "    new TextData(){ Text = \"ML.NET's LatentDirichletAllocation API is the best for topic models.\" },\n",
    "    new TextData(){ Text = \"I like to eat broccoli and bananas.\" },\n",
    "    new TextData(){ Text = \"I eat bananas for breakfast.\" },\n",
    "    new TextData(){ Text = \"This car is expensive compared to last week's price.\" },\n",
    "    new TextData(){ Text = \"This car was $X last week.\" },\n",
    "};\n",
    "\n",
    "var dataview = mlContext.Data.LoadFromEnumerable(samples);"
   ]
  },
  {
   "cell_type": "code",
   "execution_count": null,
   "metadata": {
    "dotnet_interactive": {
     "language": "csharp"
    },
    "polyglot_notebook": {
     "kernelName": "csharp"
    }
   },
   "outputs": [],
   "source": [
    "var pipeline = mlContext.Transforms.Text.NormalizeText(\"NormalizedText\", \"Text\")\n",
    "    .Append(mlContext.Transforms.Text.TokenizeIntoWords(\"Tokens\", \"NormalizedText\"))\n",
    "    .Append(mlContext.Transforms.Text.RemoveDefaultStopWords(\"Tokens\"))\n",
    "    .Append(mlContext.Transforms.Conversion.MapValueToKey(\"Tokens\"))\n",
    "    .Append(mlContext.Transforms.Text.ProduceNgrams(\"Tokens\"))\n",
    "    .Append(mlContext.Transforms.Text.LatentDirichletAllocation(\"Features\", \"Tokens\", numberOfTopics: 3));\n",
    "\n",
    "var transformer = pipeline.Fit(dataview);"
   ]
  },
  {
   "cell_type": "code",
   "execution_count": null,
   "metadata": {
    "dotnet_interactive": {
     "language": "csharp"
    },
    "polyglot_notebook": {
     "kernelName": "csharp"
    }
   },
   "outputs": [],
   "source": [
    "private class TransformedTextData : TextData\n",
    "{\n",
    "    public float[] Features { get; set; }\n",
    "}\n",
    "\n",
    "private static void PrintLdaFeatures(TransformedTextData prediction)\n",
    "{\n",
    "    for (int i = 0; i < prediction.Features.Length; i++)\n",
    "    {\n",
    "        Console.Write($\"{prediction.Features[i]:F4}  \");\n",
    "    }\n",
    "    Console.WriteLine();\n",
    "}\n",
    "\n",
    "var predictionEngine = mlContext.Model.CreatePredictionEngine<TextData, TransformedTextData>(transformer);\n",
    "PrintLdaFeatures(predictionEngine.Predict(samples[0]));\n",
    "PrintLdaFeatures(predictionEngine.Predict(samples[1]));"
   ]
  }
 ],
 "metadata": {},
 "nbformat": 4,
 "nbformat_minor": 5
}