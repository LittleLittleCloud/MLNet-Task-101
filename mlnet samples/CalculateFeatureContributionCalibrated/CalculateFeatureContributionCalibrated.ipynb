{
 "cells": [
  {
   "cell_type": "markdown",
   "metadata": {},
   "source": [
    "task name: Resolve CalculateFeatureContributionCalibrated\n",
    "\n",
    "task description: Implement the CalculateFeatureContributionCalibrated example using dotnet interactive notebook."
   ]
  }
 ],
 "metadata": {},
 "nbformat": 4,
 "nbformat_minor": 5
}