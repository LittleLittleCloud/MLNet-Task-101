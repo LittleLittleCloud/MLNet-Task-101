{
 "cells": [
  {
   "cell_type": "markdown",
   "metadata": {},
   "source": [
    "task name: Implement LbfgsLogisticRegression\n",
    "task description: Implement the LbfgsLogisticRegression example using ML.NET"
   ]
  },
  {
   "cell_type": "code",
   "execution_count": null,
   "metadata": {
    "dotnet_interactive": {
     "language": "csharp"
    },
    "polyglot_notebook": {
     "kernelName": "csharp"
    }
   },
   "outputs": [],
   "source": [
    "#r \"nuget:Microsoft.ML,1.6.0\""
   ]
  },
  {
   "cell_type": "code",
   "execution_count": null,
   "metadata": {
    "dotnet_interactive": {
     "language": "csharp"
    },
    "polyglot_notebook": {
     "kernelName": "csharp"
    }
   },
   "outputs": [],
   "source": [
    "using System;\n",
    "using System.Collections.Generic;\n",
    "using System.Linq;\n",
    "using Microsoft.ML;\n",
    "using Microsoft.ML.Data;"
   ]
  },
  {
   "cell_type": "code",
   "execution_count": null,
   "metadata": {
    "dotnet_interactive": {
     "language": "csharp"
    },
    "polyglot_notebook": {
     "kernelName": "csharp"
    }
   },
   "outputs": [],
   "source": [
    "var mlContext = new MLContext(seed: 0);"
   ]
  },
  {
   "cell_type": "code",
   "execution_count": null,
   "metadata": {
    "dotnet_interactive": {
     "language": "csharp"
    },
    "polyglot_notebook": {
     "kernelName": "csharp"
    }
   },
   "outputs": [],
   "source": [
    "var dataPoints = GenerateRandomDataPoints(1000);\n",
    "var trainingData = mlContext.Data.LoadFromEnumerable(dataPoints);\n",
    "\n",
    "private static IEnumerable<DataPoint> GenerateRandomDataPoints(int count,\n",
    "    int seed = 0)\n",
    "{\n",
    "    var random = new Random(seed);\n",
    "    float randomFloat() => (float)random.NextDouble();\n",
    "    for (int i = 0; i < count; i++)\n",
    "    {\n",
    "        var label = randomFloat() > 0.5f;\n",
    "        yield return new DataPoint\n",
    "        {\n",
    "            Label = label,\n",
    "            Features = Enumerable.Repeat(label, 50)\n",
    "                .Select(x => x ? randomFloat() : randomFloat() + 0.1f)\n",
    "                .ToArray()\n",
    "        };\n",
    "    }\n",
    "}\n",
    "\n",
    "private class DataPoint\n",
    "{\n",
    "    public bool Label { get; set; }\n",
    "    [VectorType(50)]\n",
    "    public float[] Features { get; set; }\n",
    "}"
   ]
  },
  {
   "cell_type": "code",
   "execution_count": null,
   "metadata": {
    "dotnet_interactive": {
     "language": "csharp"
    },
    "polyglot_notebook": {
     "kernelName": "csharp"
    }
   },
   "outputs": [],
   "source": [
    "var pipeline = mlContext.BinaryClassification.Trainers.LbfgsLogisticRegression();"
   ]
  },
  {
   "cell_type": "code",
   "execution_count": null,
   "metadata": {
    "dotnet_interactive": {
     "language": "csharp"
    },
    "polyglot_notebook": {
     "kernelName": "csharp"
    }
   },
   "outputs": [],
   "source": [
    "var model = pipeline.Fit(trainingData);"
   ]
  },
  {
   "cell_type": "code",
   "execution_count": null,
   "metadata": {
    "dotnet_interactive": {
     "language": "csharp"
    },
    "polyglot_notebook": {
     "kernelName": "csharp"
    }
   },
   "outputs": [],
   "source": [
    "var testData = mlContext.Data.LoadFromEnumerable(GenerateRandomDataPoints(500, seed: 123));"
   ]
  },
  {
   "cell_type": "code",
   "execution_count": null,
   "metadata": {
    "dotnet_interactive": {
     "language": "csharp"
    },
    "polyglot_notebook": {
     "kernelName": "csharp"
    }
   },
   "outputs": [],
   "source": [
    "var transformedTestData = model.Transform(testData);\n",
    "var predictions = mlContext.Data.CreateEnumerable<Prediction>(transformedTestData, reuseRowObject: false).ToList();\n",
    "\n",
    "public class Prediction\n",
    "{\n",
    "    public bool Label { get; set; }\n",
    "    public bool PredictedLabel { get; set; }\n",
    "}"
   ]
  },
  {
   "cell_type": "code",
   "execution_count": null,
   "metadata": {
    "dotnet_interactive": {
     "language": "csharp"
    },
    "polyglot_notebook": {
     "kernelName": "csharp"
    }
   },
   "outputs": [],
   "source": [
    "foreach (var p in predictions.Take(5))\n",
    "    Console.WriteLine($\"Label: {p.Label}, Prediction: {p.PredictedLabel}\");"
   ]
  },
  {
   "cell_type": "code",
   "execution_count": null,
   "metadata": {
    "dotnet_interactive": {
     "language": "csharp"
    },
    "polyglot_notebook": {
     "kernelName": "csharp"
    }
   },
   "outputs": [],
   "source": [
    "var metrics = mlContext.BinaryClassification.Evaluate(transformedTestData);\n",
    "PrintMetrics(metrics);\n",
    "\n",
    "void PrintMetrics(BinaryClassificationMetrics metrics)\n",
    "{\n",
    "    Console.WriteLine($\"Accuracy: {metrics.Accuracy:F2}\");\n",
    "    Console.WriteLine($\"AUC: {metrics.AreaUnderRocCurve:F2}\");\n",
    "    Console.WriteLine($\"F1 Score: {metrics.F1Score:F2}\");\n",
    "    Console.WriteLine($\"Negative Precision: {metrics.NegativePrecision:F2}\");\n",
    "    Console.WriteLine($\"Negative Recall: {metrics.NegativeRecall:F2}\");\n",
    "    Console.WriteLine($\"Positive Precision: {metrics.PositivePrecision:F2}\");\n",
    "    Console.WriteLine($\"Positive Recall: {metrics.PositiveRecall:F2}\\n\");\n",
    "    Console.WriteLine(metrics.ConfusionMatrix.GetFormattedConfusionTable());\n",
    "}"
   ]
  }
 ],
 "metadata": {},
 "nbformat": 4,
 "nbformat_minor": 5
}