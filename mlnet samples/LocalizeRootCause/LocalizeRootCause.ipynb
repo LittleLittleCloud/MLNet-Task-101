{
 "cells": [
  {
   "cell_type": "markdown",
   "metadata": {},
   "source": [
    "task name: Resolve LocalizeRootCause Task\n",
    "\n",
    "task description: Implement the provided C# code as a dotnet interactive notebook"
   ]
  },
  {
   "cell_type": "code",
   "execution_count": null,
   "metadata": {
    "dotnet_interactive": {
     "language": "csharp"
    },
    "polyglot_notebook": {
     "kernelName": "csharp"
    }
   },
   "outputs": [],
   "source": [
    "#r \"nuget:Microsoft.ML\"\r\n"
   ]
  },
  {
   "cell_type": "code",
   "execution_count": null,
   "metadata": {
    "dotnet_interactive": {
     "language": "csharp"
    },
    "polyglot_notebook": {
     "kernelName": "csharp"
    }
   },
   "outputs": [],
   "source": [
    "using System;\n",
    "using System.Collections.Generic;\n",
    "using Microsoft.ML;"
   ]
  },
  {
   "cell_type": "code",
   "execution_count": null,
   "metadata": {
    "dotnet_interactive": {
     "language": "csharp"
    },
    "polyglot_notebook": {
     "kernelName": "csharp"
    }
   },
   "outputs": [],
   "source": [
    "var mlContext = new MLContext();"
   ]
  },
  {
   "cell_type": "code",
   "execution_count": null,
   "metadata": {
    "dotnet_interactive": {
     "language": "csharp"
    },
    "polyglot_notebook": {
     "kernelName": "csharp"
    }
   },
   "outputs": [],
   "source": [
    "// Define the GetPoints() method\n",
    "private static List<Dictionary<string, object>> GetPoints()\n",
    "{\n",
    "    List<Dictionary<string, object>> points = new List<Dictionary<string, object>>();\n",
    "\n",
    "    // Add the data points here\n",
    "\n",
    "    return points;\n",
    "}\n",
    "\n",
    "// Define the GetAnomalyDimension() method\n",
    "private static Dictionary<string, object> GetAnomalyDimension()\n",
    "{\n",
    "    Dictionary<string, object> dim = new Dictionary<string, object>();\n",
    "    dim.Add(\"Country\", \"UK\");\n",
    "    dim.Add(\"DeviceType\", \"##SUM##\");\n",
    "    dim.Add(\"DataCenter\", \"##SUM##\");\n",
    "\n",
    "    return dim;\n",
    "}\n",
    "\n",
    "// Define the GetTimestamp() method\n",
    "private static DateTime GetTimestamp()\n",
    "{\n",
    "    return new DateTime(2020, 3, 23, 0, 0, 0);\n",
    "}"
   ]
  }
 ],
 "metadata": {},
 "nbformat": 4,
 "nbformat_minor": 5
}