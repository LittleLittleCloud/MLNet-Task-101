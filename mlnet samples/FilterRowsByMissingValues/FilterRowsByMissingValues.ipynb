{
 "cells": [
  {
   "cell_type": "markdown",
   "metadata": {},
   "source": [
    "task name: Resolve FilterRowsByMissingValues\n",
    "task description: Implement the FilterRowsByMissingValues example in a dotnet interactive notebook"
   ]
  },
  {
   "cell_type": "code",
   "execution_count": null,
   "metadata": {
    "dotnet_interactive": {
     "language": "csharp"
    },
    "polyglot_notebook": {
     "kernelName": "csharp"
    }
   },
   "outputs": [],
   "source": [
    "#r \"nuget:Microsoft.ML\"\r\n"
   ]
  },
  {
   "cell_type": "code",
   "execution_count": null,
   "metadata": {
    "dotnet_interactive": {
     "language": "csharp"
    },
    "polyglot_notebook": {
     "kernelName": "csharp"
    }
   },
   "outputs": [],
   "source": [
    "using System;\n",
    "using System.Collections.Generic;\n",
    "using Microsoft.ML;"
   ]
  },
  {
   "cell_type": "code",
   "execution_count": null,
   "metadata": {
    "dotnet_interactive": {
     "language": "csharp"
    },
    "polyglot_notebook": {
     "kernelName": "csharp"
    }
   },
   "outputs": [],
   "source": [
    "var mlContext = new MLContext();"
   ]
  },
  {
   "cell_type": "code",
   "execution_count": null,
   "metadata": {
    "dotnet_interactive": {
     "language": "csharp"
    },
    "polyglot_notebook": {
     "kernelName": "csharp"
    }
   },
   "outputs": [],
   "source": [
    "public class DataPoint\n",
    "{\n",
    "    public float Feature1 { get; set; }\n",
    "    public float[] Feature2 { get; set; }\n",
    "}\n",
    "\n",
    "var samples = new List<DataPoint>()\n",
    "{\n",
    "    new DataPoint(){ Feature1 = 21, Feature2 = new [] { 1, 2, float.NaN} },\n",
    "    new DataPoint(){ Feature1 = 40, Feature2 = new [] { 1f, 2f, 3f}  },\n",
    "    new DataPoint(){ Feature1 = float.NaN, Feature2 = new [] { 1, 2, float.NaN}  }\n",
    "};\n",
    "var data = mlContext.Data.LoadFromEnumerable(samples);"
   ]
  },
  {
   "cell_type": "code",
   "execution_count": null,
   "metadata": {
    "dotnet_interactive": {
     "language": "csharp"
    },
    "polyglot_notebook": {
     "kernelName": "csharp"
    }
   },
   "outputs": [],
   "source": [
    "var filteredData = mlContext.Data.FilterRowsByMissingValues(data, new[] { \"Feature1\", \"Feature2\" });"
   ]
  },
  {
   "cell_type": "code",
   "execution_count": null,
   "metadata": {
    "dotnet_interactive": {
     "language": "csharp"
    },
    "polyglot_notebook": {
     "kernelName": "csharp"
    }
   },
   "outputs": [],
   "source": [
    "var enumerable = mlContext.Data.CreateEnumerable<DataPoint>(filteredData, reuseRowObject: false);\n",
    "Console.WriteLine($\"Feature1   Feature2\");\n",
    "foreach (var row in enumerable)\n",
    "{\n",
    "    Console.WriteLine($\"{row.Feature1}\" + $\"\\t({string.Join(\", \", row.Feature2)})\");\n",
    "}"
   ]
  }
 ],
 "metadata": {},
 "nbformat": 4,
 "nbformat_minor": 5
}