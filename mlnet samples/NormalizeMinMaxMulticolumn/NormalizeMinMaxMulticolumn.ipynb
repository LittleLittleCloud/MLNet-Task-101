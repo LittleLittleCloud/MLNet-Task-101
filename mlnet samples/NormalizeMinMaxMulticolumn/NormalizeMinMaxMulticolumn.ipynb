{
 "cells": [
  {
   "cell_type": "markdown",
   "metadata": {},
   "source": [
    "task name: NormalizeMinMaxMulticolumn\n",
    "task description: Implement the NormalizeMinMaxMulticolumn example using ML.NET"
   ]
  },
  {
   "cell_type": "code",
   "execution_count": null,
   "metadata": {
    "dotnet_interactive": {
     "language": "csharp"
    },
    "polyglot_notebook": {
     "kernelName": "csharp"
    }
   },
   "outputs": [],
   "source": [
    "#r \"nuget:Microsoft.ML,1.5.2\""
   ]
  },
  {
   "cell_type": "code",
   "execution_count": null,
   "metadata": {
    "dotnet_interactive": {
     "language": "csharp"
    },
    "polyglot_notebook": {
     "kernelName": "csharp"
    }
   },
   "outputs": [],
   "source": [
    "using System;\n",
    "using System.Collections.Generic;\n",
    "using System.Collections.Immutable;\n",
    "using System.Linq;\n",
    "using Microsoft.ML;\n",
    "using Microsoft.ML.Data;\n",
    "using static Microsoft.ML.Transforms.NormalizingTransformer;"
   ]
  },
  {
   "cell_type": "code",
   "execution_count": null,
   "metadata": {
    "dotnet_interactive": {
     "language": "csharp"
    },
    "polyglot_notebook": {
     "kernelName": "csharp"
    }
   },
   "outputs": [],
   "source": [
    "var mlContext = new MLContext();"
   ]
  },
  {
   "cell_type": "code",
   "execution_count": null,
   "metadata": {
    "dotnet_interactive": {
     "language": "csharp"
    },
    "polyglot_notebook": {
     "kernelName": "csharp"
    }
   },
   "outputs": [],
   "source": [
    "public class DataPoint\n",
    "{\n",
    "    [VectorType(4)]\n",
    "    public float[] Features { get; set; }\n",
    "\n",
    "    [VectorType(3)]\n",
    "    public float[] Features2 { get; set; }\n",
    "}\n",
    "\n",
    "var samples = new List<DataPoint>()\n",
    "{\n",
    "    new DataPoint()\n",
    "    {\n",
    "        Features = new float[4] { 1, 1, 3, 0 },\n",
    "        Features2 = new float[3] { 1, 2, 3 }\n",
    "    },\n",
    "    new DataPoint()\n",
    "    {\n",
    "        Features = new float[4] { 2, 2, 2, 0 },\n",
    "        Features2 = new float[3] { 3, 4, 5 }\n",
    "    },\n",
    "    new DataPoint()\n",
    "    {\n",
    "        Features = new float[4] { 0, 0, 1, 0 },\n",
    "        Features2 = new float[3] { 6, 7, 8 }\n",
    "    },\n",
    "    new DataPoint()\n",
    "    {\n",
    "        Features = new float[4] {-1,-1,-1, 1 },\n",
    "        Features2 = new float[3] { 9, 0, 4 }\n",
    "    }\n",
    "};"
   ]
  },
  {
   "cell_type": "code",
   "execution_count": null,
   "metadata": {
    "dotnet_interactive": {
     "language": "csharp"
    },
    "polyglot_notebook": {
     "kernelName": "csharp"
    }
   },
   "outputs": [],
   "source": [
    "var data = mlContext.Data.LoadFromEnumerable(samples);"
   ]
  },
  {
   "cell_type": "code",
   "execution_count": null,
   "metadata": {
    "dotnet_interactive": {
     "language": "csharp"
    },
    "polyglot_notebook": {
     "kernelName": "csharp"
    }
   },
   "outputs": [],
   "source": [
    "var columnPair = new[]\n",
    "{\n",
    "    new InputOutputColumnPair(\"Features\"),\n",
    "    new InputOutputColumnPair(\"Features2\")\n",
    "};\n",
    "\n",
    "var normalize = mlContext.Transforms.NormalizeMinMax(columnPair,\n",
    "    fixZero: false);\n",
    "\n",
    "var normalizeFixZero = mlContext.Transforms.NormalizeMinMax(columnPair,\n",
    "    fixZero: true);"
   ]
  },
  {
   "cell_type": "code",
   "execution_count": null,
   "metadata": {
    "dotnet_interactive": {
     "language": "csharp"
    },
    "polyglot_notebook": {
     "kernelName": "csharp"
    }
   },
   "outputs": [],
   "source": [
    "var normalizeTransform = normalize.Fit(data);\n",
    "var transformedData = normalizeTransform.Transform(data);\n",
    "var normalizeFixZeroTransform = normalizeFixZero.Fit(data);\n",
    "var fixZeroData = normalizeFixZeroTransform.Transform(data);"
   ]
  },
  {
   "cell_type": "code",
   "execution_count": null,
   "metadata": {
    "dotnet_interactive": {
     "language": "csharp"
    },
    "polyglot_notebook": {
     "kernelName": "csharp"
    }
   },
   "outputs": [],
   "source": [
    "var column = transformedData.GetColumn<float[]>(\"Features\").ToArray();\n",
    "var column2 = transformedData.GetColumn<float[]>(\"Features2\").ToArray();\n",
    "\n",
    "for (int i = 0; i < column.Length; i++)\n",
    "    Console.WriteLine(string.Join(\", \", column[i].Select(x => x\n",
    "    .ToString(\"f4\"))) + \"\\t\\t\" +\n",
    "    string.Join(\", \", column2[i].Select(x => x.ToString(\"f4\"))));\n",
    "\n",
    "var columnFixZero = fixZeroData.GetColumn<float[]>(\"Features\").ToArray();\n",
    "var column2FixZero = fixZeroData.GetColumn<float[]>(\"Features2\").ToArray();\n",
    "\n",
    "Console.WriteLine(Environment.NewLine);\n",
    "\n",
    "for (int i = 0; i < column.Length; i++)\n",
    "    Console.WriteLine(string.Join(\", \", columnFixZero[i].Select(x => x\n",
    "    .ToString(\"f4\"))) + \"\\t\\t\" +\n",
    "    string.Join(\", \", column2FixZero[i].Select(x => x.ToString(\"f4\"))));\n",
    "\n",
    "var transformParams = normalizeTransform.GetNormalizerModelParameters(0)\n",
    "    as AffineNormalizerModelParameters<ImmutableArray<float>>;\n",
    "\n",
    "var transformParams2 = normalizeTransform.GetNormalizerModelParameters(1)\n",
    "    as AffineNormalizerModelParameters<ImmutableArray<float>>;\n",
    "\n",
    "Console.WriteLine(Environment.NewLine);\n",
    "\n",
    "Console.WriteLine($\"The 1-index value in resulting array would be \" +\n",
    "    $\"produced by:\");\n",
    "\n",
    "Console.WriteLine(\" y = (x - (\" + (transformParams.Offset.Length == 0 ?\n",
    "    0 : transformParams.Offset[1]) + \")) * \" + transformParams\n",
    "    .Scale[1]);"
   ]
  }
 ],
 "metadata": {},
 "nbformat": 4,
 "nbformat_minor": 5
}