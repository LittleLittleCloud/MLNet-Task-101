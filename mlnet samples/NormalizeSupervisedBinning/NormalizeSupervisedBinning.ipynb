{
 "cells": [
  {
   "cell_type": "markdown",
   "metadata": {},
   "source": [
    "task name: NormalizeSupervisedBinning\n",
    "task description: Implement the NormalizeSupervisedBinning example using the provided C# code."
   ]
  },
  {
   "cell_type": "code",
   "execution_count": null,
   "metadata": {
    "dotnet_interactive": {
     "language": "csharp"
    },
    "polyglot_notebook": {
     "kernelName": "csharp"
    }
   },
   "outputs": [],
   "source": [
    "#r \"nuget:Microsoft.ML,1.6.0\""
   ]
  },
  {
   "cell_type": "code",
   "execution_count": null,
   "metadata": {
    "dotnet_interactive": {
     "language": "csharp"
    },
    "polyglot_notebook": {
     "kernelName": "csharp"
    }
   },
   "outputs": [],
   "source": [
    "using System;\n",
    "using System.Collections.Generic;\n",
    "using System.Collections.Immutable;\n",
    "using System.Linq;\n",
    "using Microsoft.ML;\n",
    "using Microsoft.ML.Data;\n",
    "using static Microsoft.ML.Transforms.NormalizingTransformer;"
   ]
  },
  {
   "cell_type": "code",
   "execution_count": null,
   "metadata": {
    "dotnet_interactive": {
     "language": "csharp"
    },
    "polyglot_notebook": {
     "kernelName": "csharp"
    }
   },
   "outputs": [],
   "source": [
    "var mlContext = new MLContext();"
   ]
  },
  {
   "cell_type": "code",
   "execution_count": null,
   "metadata": {
    "dotnet_interactive": {
     "language": "csharp"
    },
    "polyglot_notebook": {
     "kernelName": "csharp"
    }
   },
   "outputs": [],
   "source": [
    "public class DataPoint\n",
    "{\n",
    "    [VectorType(4)]\n",
    "    public float[] Features { get; set; }\n",
    "\n",
    "    public string Bin { get; set; }\n",
    "}\n",
    "\n",
    "var samples = new List<DataPoint>()\n",
    "{\n",
    "    new DataPoint(){ Features = new float[4] { 8, 1, 3, 0}, Bin =\"Bin1\" },\n",
    "    new DataPoint(){ Features = new float[4] { 6, 2, 2, 1}, Bin =\"Bin2\" },\n",
    "    new DataPoint(){ Features = new float[4] { 5, 3, 0, 2}, Bin =\"Bin2\" },\n",
    "    new DataPoint(){ Features = new float[4] { 4,-8, 1, 3}, Bin =\"Bin3\" },\n",
    "    new DataPoint(){ Features = new float[4] { 2,-5,-1, 4}, Bin =\"Bin3\" }\n",
    "};\n",
    "var data = mlContext.Data.LoadFromEnumerable(samples);"
   ]
  },
  {
   "cell_type": "code",
   "execution_count": null,
   "metadata": {
    "dotnet_interactive": {
     "language": "csharp"
    },
    "polyglot_notebook": {
     "kernelName": "csharp"
    }
   },
   "outputs": [],
   "source": [
    "data = mlContext.Transforms.Conversion.MapValueToKey(\"Bin\").Fit(data).Transform(data);"
   ]
  },
  {
   "cell_type": "code",
   "execution_count": null,
   "metadata": {
    "dotnet_interactive": {
     "language": "csharp"
    },
    "polyglot_notebook": {
     "kernelName": "csharp"
    }
   },
   "outputs": [],
   "source": [
    "var normalize = mlContext.Transforms.NormalizeSupervisedBinning(\n",
    "    \"Features\", labelColumnName: \"Bin\", mininimumExamplesPerBin: 1,\n",
    "    fixZero: false);\n",
    "var normalizeFixZero = mlContext.Transforms.NormalizeSupervisedBinning(\n",
    "    \"Features\", labelColumnName: \"Bin\", mininimumExamplesPerBin: 1,\n",
    "    fixZero: true);"
   ]
  },
  {
   "cell_type": "code",
   "execution_count": null,
   "metadata": {
    "dotnet_interactive": {
     "language": "csharp"
    },
    "polyglot_notebook": {
     "kernelName": "csharp"
    }
   },
   "outputs": [],
   "source": [
    "var normalizeTransform = normalize.Fit(data);\n",
    "var transformedData = normalizeTransform.Transform(data);\n",
    "var normalizeFixZeroTransform = normalizeFixZero.Fit(data);\n",
    "var fixZeroData = normalizeFixZeroTransform.Transform(data);"
   ]
  },
  {
   "cell_type": "code",
   "execution_count": null,
   "metadata": {
    "dotnet_interactive": {
     "language": "csharp"
    },
    "polyglot_notebook": {
     "kernelName": "csharp"
    }
   },
   "outputs": [],
   "source": [
    "var column = transformedData.GetColumn<float[]>(\"Features\").ToArray();\n",
    "foreach (var row in column)\n",
    "    Console.WriteLine(string.Join(\", \", row.Select(x => x.ToString(\"f4\"))));\n",
    "var columnFixZero = fixZeroData.GetColumn<float[]>(\"Features\").ToArray();\n",
    "foreach (var row in columnFixZero)\n",
    "    Console.WriteLine(string.Join(\", \", row.Select(x => x.ToString(\"f4\"))));"
   ]
  },
  {
   "cell_type": "code",
   "execution_count": null,
   "metadata": {
    "dotnet_interactive": {
     "language": "csharp"
    },
    "polyglot_notebook": {
     "kernelName": "csharp"
    }
   },
   "outputs": [],
   "source": [
    "var transformParams = normalizeTransform.GetNormalizerModelParameters(0)\n",
    "    as BinNormalizerModelParameters<ImmutableArray<float>>;\n",
    "var fixZeroParams = normalizeFixZeroTransform.GetNormalizerModelParameters(0) \n",
    "    as BinNormalizerModelParameters<ImmutableArray<float>>;\n",
    "\n",
    "Console.WriteLine($\"The 1-index value in resulting array would be produce by:\");\n",
    "Console.WriteLine(\"y = (Index(x) / \" + transformParams.Density[0] + \") - \" + \n",
    "    (transformParams.Offset.Length == 0 ? 0 : transformParams.Offset[0]));\n",
    "Console.WriteLine(\"Where Index(x) is the index of the bin to which x belongs\");\n",
    "Console.WriteLine(\"Bins upper borders are: \" + string.Join(\" \", transformParams.UpperBounds[0]));\n",
    "\n",
    "Console.WriteLine($\"The 1-index value in resulting array would be produce by:\");\n",
    "Console.WriteLine(\" y = (Index(x) / \" + fixZeroParams.Density[1] + \") - \" + \n",
    "    (fixZeroParams.Offset.Length == 0 ? 0 : fixZeroParams.Offset[1]));\n",
    "Console.WriteLine(\"Where Index(x) is the index of the bin to which x belongs\");\n",
    "Console.WriteLine(\"Bins upper borders are: \" + string.Join(\" \", fixZeroParams.UpperBounds[1]));"
   ]
  }
 ],
 "metadata": {},
 "nbformat": 4,
 "nbformat_minor": 5
}