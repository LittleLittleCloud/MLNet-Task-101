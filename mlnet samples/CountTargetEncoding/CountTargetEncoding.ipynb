{
 "cells": [
  {
   "cell_type": "markdown",
   "metadata": {},
   "source": [
    "task name: Create CountTargetEncoding Notebook\n",
    "task description: Create a dotnet interactive notebook for the provided C# code to implement CountTargetEncoding"
   ]
  },
  {
   "cell_type": "code",
   "execution_count": null,
   "metadata": {
    "dotnet_interactive": {
     "language": "csharp"
    },
    "polyglot_notebook": {
     "kernelName": "csharp"
    }
   },
   "outputs": [],
   "source": [
    "#r \"nuget:Microsoft.ML\"\r\n"
   ]
  },
  {
   "cell_type": "code",
   "execution_count": null,
   "metadata": {
    "dotnet_interactive": {
     "language": "csharp"
    },
    "polyglot_notebook": {
     "kernelName": "csharp"
    }
   },
   "outputs": [],
   "source": [
    "using System;\n",
    "using System.Collections.Generic;\n",
    "using System.Linq;\n",
    "using Microsoft.ML;\n",
    "using Microsoft.ML.Data;\n",
    "using Microsoft.ML.Transforms;"
   ]
  },
  {
   "cell_type": "code",
   "execution_count": null,
   "metadata": {
    "dotnet_interactive": {
     "language": "csharp"
    },
    "polyglot_notebook": {
     "kernelName": "csharp"
    }
   },
   "outputs": [],
   "source": [
    "public class DataPoint\n",
    "{\n",
    "    public string Category;\n",
    "    public float Label;\n",
    "}\n",
    "\n",
    "var mlContext = new MLContext();\n",
    "var samples = new List<DataPoint>(){\n",
    "    new DataPoint(){ Category = \"a\", Label = 0 },\n",
    "    new DataPoint(){ Category = \"a\", Label = 1 },\n",
    "    new DataPoint(){ Category = \"a\", Label = 0 },\n",
    "    new DataPoint(){ Category = \"a\", Label = 0 },\n",
    "    new DataPoint(){ Category = \"b\", Label = 1 },\n",
    "    new DataPoint(){ Category = \"b\", Label = 2 },\n",
    "    new DataPoint(){ Category = \"b\", Label = 2 },\n",
    "    new DataPoint(){ Category = \"b\", Label = 1 },\n",
    "    new DataPoint(){ Category = \"c\", Label = 0 },\n",
    "    new DataPoint(){ Category = \"c\", Label = 0 },\n",
    "    new DataPoint(){ Category = \"c\", Label = 0 },\n",
    "    new DataPoint(){ Category = \"c\", Label = 0 },\n",
    "    new DataPoint(){ Category = \"d\", Label = 0 },\n",
    "    new DataPoint(){ Category = \"d\", Label = 1 },\n",
    "    new DataPoint(){ Category = \"d\", Label = 2 },\n",
    "    new DataPoint(){ Category = \"d\", Label = 3 },\n",
    "};\n",
    "var data = mlContext.Data.LoadFromEnumerable(samples);"
   ]
  }
 ],
 "metadata": {},
 "nbformat": 4,
 "nbformat_minor": 5
}