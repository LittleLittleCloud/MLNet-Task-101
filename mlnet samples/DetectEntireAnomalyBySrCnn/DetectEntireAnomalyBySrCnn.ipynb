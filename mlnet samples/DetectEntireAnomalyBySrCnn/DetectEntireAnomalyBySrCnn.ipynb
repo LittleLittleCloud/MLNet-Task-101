{
 "cells": [
  {
   "cell_type": "markdown",
   "metadata": {},
   "source": [
    "task name: Implement DetectEntireAnomalyBySrCnn\n",
    "task description: Implement the provided C# code for detecting entire anomalies using SrCnn"
   ]
  },
  {
   "cell_type": "code",
   "execution_count": null,
   "metadata": {
    "dotnet_interactive": {
     "language": "csharp"
    },
    "polyglot_notebook": {
     "kernelName": "csharp"
    }
   },
   "outputs": [],
   "source": [
    "#r \"nuget: Microsoft.ML, 1.6.0\""
   ]
  },
  {
   "cell_type": "code",
   "execution_count": null,
   "metadata": {
    "dotnet_interactive": {
     "language": "csharp"
    },
    "polyglot_notebook": {
     "kernelName": "csharp"
    }
   },
   "outputs": [],
   "source": [
    "var ml = new Microsoft.ML.MLContext();"
   ]
  },
  {
   "cell_type": "code",
   "execution_count": null,
   "metadata": {
    "dotnet_interactive": {
     "language": "csharp"
    },
    "polyglot_notebook": {
     "kernelName": "csharp"
    }
   },
   "outputs": [],
   "source": [
    "public class TimeSeriesData\n",
    "{\n",
    "    public double Value { get; set; }\n",
    "}\n",
    "\n",
    "var data = new List<TimeSeriesData>();\n",
    "for (int index = 0; index < 20; index++)\n",
    "{\n",
    "    data.Add(new TimeSeriesData { Value = 5 });\n",
    "}\n",
    "data.Add(new TimeSeriesData { Value = 10 });\n",
    "for (int index = 0; index < 5; index++)\n",
    "{\n",
    "    data.Add(new TimeSeriesData { Value = 5 });\n",
    "}"
   ]
  },
  {
   "cell_type": "code",
   "execution_count": null,
   "metadata": {
    "dotnet_interactive": {
     "language": "csharp"
    },
    "polyglot_notebook": {
     "kernelName": "csharp"
    }
   },
   "outputs": [],
   "source": [
    "var dataView = ml.Data.LoadFromEnumerable(data);"
   ]
  }
 ],
 "metadata": {},
 "nbformat": 4,
 "nbformat_minor": 5
}