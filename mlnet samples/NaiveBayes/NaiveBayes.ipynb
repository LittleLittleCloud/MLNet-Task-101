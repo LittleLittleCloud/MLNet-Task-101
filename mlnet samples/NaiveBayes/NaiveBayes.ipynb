{
 "cells": [
  {
   "cell_type": "markdown",
   "metadata": {},
   "source": [
    "task name: Resolve NaiveBayes Task\n",
    "task description: Implement the NaiveBayes algorithm using the provided C# code and save the output to a file."
   ]
  },
  {
   "cell_type": "code",
   "execution_count": null,
   "metadata": {
    "dotnet_interactive": {
     "language": "csharp"
    },
    "polyglot_notebook": {
     "kernelName": "csharp"
    }
   },
   "outputs": [],
   "source": [
    "#r \"nuget:Microsoft.ML,1.5.5\""
   ]
  },
  {
   "cell_type": "code",
   "execution_count": null,
   "metadata": {
    "dotnet_interactive": {
     "language": "csharp"
    },
    "polyglot_notebook": {
     "kernelName": "csharp"
    }
   },
   "outputs": [],
   "source": [
    "using System;\n",
    "using System.Collections.Generic;\n",
    "using System.Linq;\n",
    "using Microsoft.ML;\n",
    "using Microsoft.ML.Data;"
   ]
  },
  {
   "cell_type": "code",
   "execution_count": null,
   "metadata": {
    "dotnet_interactive": {
     "language": "csharp"
    },
    "polyglot_notebook": {
     "kernelName": "csharp"
    }
   },
   "outputs": [],
   "source": [
    "var mlContext = new MLContext(seed: 0);"
   ]
  },
  {
   "cell_type": "code",
   "execution_count": null,
   "metadata": {
    "dotnet_interactive": {
     "language": "csharp"
    },
    "polyglot_notebook": {
     "kernelName": "csharp"
    }
   },
   "outputs": [],
   "source": [
    "private class DataPoint\n",
    "{\n",
    "    public uint Label { get; set; }\n",
    "    [VectorType(20)]\n",
    "    public float[] Features { get; set; }\n",
    "}\n",
    "\n",
    "private static IEnumerable<DataPoint> GenerateRandomDataPoints(int count,\n",
    "    int seed = 0)\n",
    "{\n",
    "    var random = new Random(seed);\n",
    "    float randomFloat() => (float)(random.NextDouble() - 0.5);\n",
    "    for (int i = 0; i < count; i++)\n",
    "    {\n",
    "        // Generate Labels that are integers 1, 2 or 3\n",
    "        var label = random.Next(1, 4);\n",
    "        yield return new DataPoint\n",
    "        {\n",
    "            Label = (uint)label,\n",
    "            // Create random features that are correlated with the label.\n",
    "            // The feature values are slightly increased by adding a\n",
    "            // constant multiple of label.\n",
    "            Features = Enumerable.Repeat(label, 20)\n",
    "                .Select(x => randomFloat() + label * 0.2f).ToArray()\n",
    "\n",
    "        };\n",
    "    }\n",
    "}\n",
    "\n",
    "var dataPoints = GenerateRandomDataPoints(1000);\n",
    "var trainingData = mlContext.Data.LoadFromEnumerable(dataPoints);"
   ]
  },
  {
   "cell_type": "code",
   "execution_count": null,
   "metadata": {
    "dotnet_interactive": {
     "language": "csharp"
    },
    "polyglot_notebook": {
     "kernelName": "csharp"
    }
   },
   "outputs": [],
   "source": [
    "var pipeline =\n",
    "    mlContext.Transforms.Conversion\n",
    "    .MapValueToKey(nameof(DataPoint.Label))\n",
    "    .Append(mlContext.MulticlassClassification.Trainers.NaiveBayes());\n",
    "\n",
    "var model = pipeline.Fit(trainingData);"
   ]
  },
  {
   "cell_type": "code",
   "execution_count": null,
   "metadata": {
    "dotnet_interactive": {
     "language": "csharp"
    },
    "polyglot_notebook": {
     "kernelName": "csharp"
    }
   },
   "outputs": [],
   "source": [
    "private class Prediction\n",
    "{\n",
    "    // Original label.\n",
    "    public uint Label { get; set; }\n",
    "    // Predicted label from the trainer.\n",
    "    public uint PredictedLabel { get; set; }\n",
    "}\n",
    "\n",
    "var testData = mlContext.Data.LoadFromEnumerable(GenerateRandomDataPoints(500, seed: 123));\n",
    "\n",
    "var transformedTestData = model.Transform(testData);\n",
    "\n",
    "var predictions = mlContext.Data.CreateEnumerable<Prediction>(transformedTestData, reuseRowObject: false).ToList();"
   ]
  },
  {
   "cell_type": "code",
   "execution_count": null,
   "metadata": {
    "dotnet_interactive": {
     "language": "csharp"
    },
    "polyglot_notebook": {
     "kernelName": "csharp"
    }
   },
   "outputs": [],
   "source": [
    "public static void PrintMetrics(MulticlassClassificationMetrics metrics)\n",
    "{\n",
    "    Console.WriteLine($\"Micro Accuracy: {metrics.MicroAccuracy:F2}\");\n",
    "    Console.WriteLine($\"Macro Accuracy: {metrics.MacroAccuracy:F2}\");\n",
    "    Console.WriteLine($\"Log Loss: {metrics.LogLoss:F2}\");\n",
    "    Console.WriteLine($\"Log Loss Reduction: {metrics.LogLossReduction:F2}\\n\");\n",
    "\n",
    "    Console.WriteLine(metrics.ConfusionMatrix.GetFormattedConfusionTable());\n",
    "}\n",
    "\n",
    "var metrics = mlContext.MulticlassClassification.Evaluate(transformedTestData);\n",
    "\n",
    "PrintMetrics(metrics);"
   ]
  }
 ],
 "metadata": {},
 "nbformat": 4,
 "nbformat_minor": 5
}