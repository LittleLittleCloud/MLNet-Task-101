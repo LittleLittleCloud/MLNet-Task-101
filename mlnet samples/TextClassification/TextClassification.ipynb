{
 "cells": [
  {
   "cell_type": "markdown",
   "metadata": {},
   "source": [
    "task name: Resolve Text Classification Task\n",
    "\n",
    "task description: Implement the provided C# code as a dotnet interactive notebook"
   ]
  }
 ],
 "metadata": {},
 "nbformat": 4,
 "nbformat_minor": 5
}