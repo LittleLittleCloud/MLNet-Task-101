{
 "cells": [
  {
   "cell_type": "markdown",
   "metadata": {},
   "source": [
    "task name: NormalizeLogMeanVarianceFixZero\n",
    "task description: Implement the NormalizeLogMeanVarianceFixZero example using the provided C# code"
   ]
  },
  {
   "cell_type": "code",
   "execution_count": null,
   "metadata": {
    "dotnet_interactive": {
     "language": "csharp"
    },
    "polyglot_notebook": {
     "kernelName": "csharp"
    }
   },
   "outputs": [],
   "source": [
    "#r \"nuget:Microsoft.ML\"\r\n"
   ]
  },
  {
   "cell_type": "code",
   "execution_count": null,
   "metadata": {
    "dotnet_interactive": {
     "language": "csharp"
    },
    "polyglot_notebook": {
     "kernelName": "csharp"
    }
   },
   "outputs": [],
   "source": [
    "using System;\r\n",
    "using System.Collections.Generic;\r\n",
    "using System.Collections.Immutable;\r\n",
    "using System.Linq;\r\n",
    "using Microsoft.ML;\r\n",
    "using Microsoft.ML.Data;\r\n",
    "using static Microsoft.ML.Transforms.NormalizingTransformer;"
   ]
  },
  {
   "cell_type": "code",
   "execution_count": null,
   "metadata": {
    "dotnet_interactive": {
     "language": "csharp"
    },
    "polyglot_notebook": {
     "kernelName": "csharp"
    }
   },
   "outputs": [],
   "source": [
    "public class DataPoint\n",
    "{\n",
    "    [VectorType(5)]\n",
    "    public float[] Features { get; set; }\n",
    "}\n",
    "\n",
    "var mlContext = new MLContext();\n",
    "var samples = new List<DataPoint>()\n",
    "{\n",
    "    new DataPoint(){ Features = new float[5] { 1, 1, 3, 0, float.MaxValue } },\n",
    "    new DataPoint(){ Features = new float[5] { 2, 2, 2, 0, float.MinValue } },\n",
    "    new DataPoint(){ Features = new float[5] { 0, 0, 1, 0, 0} },\n",
    "    new DataPoint(){ Features = new float[5] {-1,-1,-1, 1, 1} }\n",
    "};"
   ]
  },
  {
   "cell_type": "code",
   "execution_count": null,
   "metadata": {
    "dotnet_interactive": {
     "language": "csharp"
    },
    "polyglot_notebook": {
     "kernelName": "csharp"
    }
   },
   "outputs": [],
   "source": [
    "var data = mlContext.Data.LoadFromEnumerable(samples);"
   ]
  },
  {
   "cell_type": "code",
   "execution_count": null,
   "metadata": {
    "dotnet_interactive": {
     "language": "csharp"
    },
    "polyglot_notebook": {
     "kernelName": "csharp"
    }
   },
   "outputs": [],
   "source": [
    "var normalize = mlContext.Transforms.NormalizeLogMeanVariance(\"Features\", true, useCdf: true);\n",
    "var normalizeNoCdf = mlContext.Transforms.NormalizeLogMeanVariance(\"Features\", true, useCdf: false);"
   ]
  },
  {
   "cell_type": "code",
   "execution_count": null,
   "metadata": {
    "dotnet_interactive": {
     "language": "csharp"
    },
    "polyglot_notebook": {
     "kernelName": "csharp"
    }
   },
   "outputs": [],
   "source": [
    "var normalizeTransform = normalize.Fit(data);\n",
    "var transformedData = normalizeTransform.Transform(data);\n",
    "var normalizeNoCdfTransform = normalizeNoCdf.Fit(data);\n",
    "var noCdfData = normalizeNoCdfTransform.Transform(data);"
   ]
  },
  {
   "cell_type": "code",
   "execution_count": null,
   "metadata": {
    "dotnet_interactive": {
     "language": "csharp"
    },
    "polyglot_notebook": {
     "kernelName": "csharp"
    }
   },
   "outputs": [],
   "source": [
    "var column = transformedData.GetColumn<float[]>(\"Features\").ToArray();\n",
    "foreach (var row in column)\n",
    "    Console.WriteLine(string.Join(\", \", row.Select(x => x.ToString(\"f4\"))));"
   ]
  },
  {
   "cell_type": "code",
   "execution_count": null,
   "metadata": {
    "dotnet_interactive": {
     "language": "csharp"
    },
    "polyglot_notebook": {
     "kernelName": "csharp"
    }
   },
   "outputs": [],
   "source": [
    "var transformParams = normalizeTransform.GetNormalizerModelParameters(0) as CdfNormalizerModelParameters<ImmutableArray<float>>;\n",
    "Console.WriteLine(\"The values in the column with index 1 in the resulting array would be produced by:\");\n",
    "Console.WriteLine($\"y = 0.5* (1 + ERF((Math.Log(x)- {transformParams.Mean[1]}) / ({transformParams.StandardDeviation[1]} * sqrt(2)))\");"
   ]
  },
  {
   "cell_type": "code",
   "execution_count": null,
   "metadata": {
    "dotnet_interactive": {
     "language": "csharp"
    },
    "polyglot_notebook": {
     "kernelName": "csharp"
    }
   },
   "outputs": [],
   "source": [
    "var noCdfParams = normalizeNoCdfTransform.GetNormalizerModelParameters(0) as AffineNormalizerModelParameters<ImmutableArray<float>>;\n",
    "var offset = noCdfParams.Offset.Length == 0 ? 0 : noCdfParams.Offset[1];\n",
    "var scale = noCdfParams.Scale[1];\n",
    "Console.WriteLine($\"The values in the column with index 1 in the resulting array would be produced by: y = (x - ({offset})) * {scale}\");"
   ]
  }
 ],
 "metadata": {},
 "nbformat": 4,
 "nbformat_minor": 5
}