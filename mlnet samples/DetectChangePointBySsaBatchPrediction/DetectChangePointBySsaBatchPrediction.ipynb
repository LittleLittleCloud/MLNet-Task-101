{
 "cells": [
  {
   "cell_type": "markdown",
   "metadata": {},
   "source": [
    "# Step 1: Add Task Name and Description\n",
    "\n",
    "**Task Name:** Implement DetectChangePointBySsaBatchPrediction\n",
    "**Task Description:** Implement the DetectChangePointBySsaBatchPrediction example using the provided C# code and save the result to an output file."
   ]
  },
  {
   "cell_type": "code",
   "execution_count": null,
   "metadata": {
    "dotnet_interactive": {
     "language": "csharp"
    },
    "polyglot_notebook": {
     "kernelName": "csharp"
    }
   },
   "outputs": [],
   "source": [
    "#r \"nuget:Microsoft.ML\"\r\n"
   ]
  },
  {
   "cell_type": "code",
   "execution_count": null,
   "metadata": {
    "dotnet_interactive": {
     "language": "csharp"
    },
    "polyglot_notebook": {
     "kernelName": "csharp"
    }
   },
   "outputs": [],
   "source": [
    "// Step 3: Import all namespaces\n",
    "\n",
    "using System;\n",
    "using System.Collections.Generic;\n",
    "using Microsoft.ML;\n",
    "using Microsoft.ML.Data;"
   ]
  },
  {
   "cell_type": "code",
   "execution_count": null,
   "metadata": {
    "dotnet_interactive": {
     "language": "csharp"
    },
    "polyglot_notebook": {
     "kernelName": "csharp"
    }
   },
   "outputs": [],
   "source": [
    "var ml = new MLContext();"
   ]
  },
  {
   "cell_type": "code",
   "execution_count": null,
   "metadata": {
    "dotnet_interactive": {
     "language": "csharp"
    },
    "polyglot_notebook": {
     "kernelName": "csharp"
    }
   },
   "outputs": [],
   "source": [
    "// Step 5: Create dataset\n",
    "\n",
    "class TimeSeriesData\n",
    "{\n",
    "    public float Value;\n",
    "\n",
    "    public TimeSeriesData(float value)\n",
    "    {\n",
    "        Value = value;\n",
    "    }\n",
    "}\n",
    "\n",
    "const int SeasonalitySize = 5;\n",
    "const int TrainingSeasons = 3;\n",
    "const int TrainingSize = SeasonalitySize * TrainingSeasons;\n",
    "var data = new List<TimeSeriesData>()\n",
    "{\n",
    "    new TimeSeriesData(0),\n",
    "    new TimeSeriesData(1),\n",
    "    new TimeSeriesData(2),\n",
    "    new TimeSeriesData(3),\n",
    "    new TimeSeriesData(4),\n",
    "\n",
    "    new TimeSeriesData(0),\n",
    "    new TimeSeriesData(1),\n",
    "    new TimeSeriesData(2),\n",
    "    new TimeSeriesData(3),\n",
    "    new TimeSeriesData(4),\n",
    "\n",
    "    new TimeSeriesData(0),\n",
    "    new TimeSeriesData(1),\n",
    "    new TimeSeriesData(2),\n",
    "    new TimeSeriesData(3),\n",
    "    new TimeSeriesData(4),\n",
    "\n",
    "    //This is a change point\n",
    "    new TimeSeriesData(0),\n",
    "    new TimeSeriesData(100),\n",
    "    new TimeSeriesData(200),\n",
    "    new TimeSeriesData(300),\n",
    "    new TimeSeriesData(400),\n",
    "};"
   ]
  },
  {
   "cell_type": "code",
   "execution_count": null,
   "metadata": {
    "dotnet_interactive": {
     "language": "csharp"
    },
    "polyglot_notebook": {
     "kernelName": "csharp"
    }
   },
   "outputs": [],
   "source": [
    "// Step 6: Convert data to IDataView\n",
    "\n",
    "var dataView = ml.Data.LoadFromEnumerable(data);"
   ]
  },
  {
   "cell_type": "code",
   "execution_count": null,
   "metadata": {
    "dotnet_interactive": {
     "language": "csharp"
    },
    "polyglot_notebook": {
     "kernelName": "csharp"
    }
   },
   "outputs": [],
   "source": [
    "// Step 7: Setup estimator arguments\n",
    "\n",
    "class ChangePointPrediction\n",
    "{\n",
    "    [VectorType(4)]\n",
    "    public double[] Prediction { get; set; }\n",
    "}\n",
    "\n",
    "var inputColumnName = nameof(TimeSeriesData.Value);\n",
    "var outputColumnName = nameof(ChangePointPrediction.Prediction);"
   ]
  }
 ],
 "metadata": {},
 "nbformat": 4,
 "nbformat_minor": 5
}