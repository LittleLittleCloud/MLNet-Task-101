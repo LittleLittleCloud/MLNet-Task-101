{
 "cells": [
  {
   "cell_type": "markdown",
   "metadata": {},
   "source": [
    "task name: Resolve OneHotEncodingMultiColumn task\n",
    "task description: Implement the OneHotEncodingMultiColumn example using dotnet interactive notebook"
   ]
  },
  {
   "cell_type": "code",
   "execution_count": null,
   "metadata": {
    "dotnet_interactive": {
     "language": "csharp"
    },
    "polyglot_notebook": {
     "kernelName": "csharp"
    }
   },
   "outputs": [],
   "source": [
    "#r \"nuget:Microsoft.ML\"\r\n"
   ]
  },
  {
   "cell_type": "code",
   "execution_count": null,
   "metadata": {
    "dotnet_interactive": {
     "language": "csharp"
    },
    "polyglot_notebook": {
     "kernelName": "csharp"
    }
   },
   "outputs": [],
   "source": [
    "using System;\n",
    "using Microsoft.ML;"
   ]
  },
  {
   "cell_type": "code",
   "execution_count": null,
   "metadata": {
    "dotnet_interactive": {
     "language": "csharp"
    },
    "polyglot_notebook": {
     "kernelName": "csharp"
    }
   },
   "outputs": [],
   "source": [
    "var mlContext = new MLContext();"
   ]
  },
  {
   "cell_type": "code",
   "execution_count": null,
   "metadata": {
    "dotnet_interactive": {
     "language": "csharp"
    },
    "polyglot_notebook": {
     "kernelName": "csharp"
    }
   },
   "outputs": [],
   "source": [
    "#r \"nuget:Microsoft.ML,2.0.1\"\n",
    "\n",
    "using System;\n",
    "using Microsoft.ML;\n",
    "\n",
    "var mlContext = new MLContext();\n",
    "\n",
    "public class DataPoint\n",
    "{\n",
    "    public string Education { get; set; }\n",
    "    public string ZipCode { get; set; }\n",
    "}\n",
    "\n",
    "public class TransformedData\n",
    "{\n",
    "    public float[] Education { get; set; }\n",
    "    public float[] ZipCode { get; set; }\n",
    "}\n",
    "\n",
    "var samples = new[]\n",
    "{\n",
    "    new DataPoint {Education = \"0-5yrs\", ZipCode = \"98005\"},\n",
    "    new DataPoint {Education = \"0-5yrs\", ZipCode = \"98052\"},\n",
    "    new DataPoint {Education = \"6-11yrs\", ZipCode = \"98005\"},\n",
    "    new DataPoint {Education = \"6-11yrs\", ZipCode = \"98052\"},\n",
    "    new DataPoint {Education = \"11-15yrs\", ZipCode = \"98005\"}\n",
    "};\n",
    "\n",
    "var data = mlContext.Data.LoadFromEnumerable(samples);\n",
    "\n",
    "var multiColumnKeyPipeline =\n",
    "    mlContext.Transforms.Categorical.OneHotEncoding(\n",
    "        new[]\n",
    "        {\n",
    "            new InputOutputColumnPair(\"Education\"),\n",
    "            new InputOutputColumnPair(\"ZipCode\")\n",
    "        });\n",
    "\n",
    "var transformedData = multiColumnKeyPipeline.Fit(data).Transform(data);\n",
    "\n",
    "var convertedData = mlContext.Data.CreateEnumerable<TransformedData>(transformedData, true);\n",
    "\n",
    "Console.WriteLine(\"One Hot Encoding of two columns 'Education' and 'ZipCode'.\");\n",
    "foreach (TransformedData item in convertedData)\n",
    "    Console.WriteLine(\"{0}\\t\\t\\t{1}\", string.Join(\" \", item.Education), string.Join(\" \", item.ZipCode));"
   ]
  }
 ],
 "metadata": {},
 "nbformat": 4,
 "nbformat_minor": 5
}