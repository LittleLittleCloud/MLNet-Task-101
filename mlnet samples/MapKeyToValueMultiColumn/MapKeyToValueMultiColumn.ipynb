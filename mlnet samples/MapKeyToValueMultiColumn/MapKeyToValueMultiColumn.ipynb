{
 "cells": [
  {
   "cell_type": "markdown",
   "metadata": {},
   "source": [
    "task name: MapKeyToValueMultiColumn\n",
    "task description: Implement the MapKeyToValueMultiColumn example using ML.NET"
   ]
  },
  {
   "cell_type": "code",
   "execution_count": null,
   "metadata": {
    "dotnet_interactive": {
     "language": "csharp"
    },
    "polyglot_notebook": {
     "kernelName": "csharp"
    }
   },
   "outputs": [],
   "source": [
    "#r \"nuget:Microsoft.ML,1.6.0\""
   ]
  },
  {
   "cell_type": "code",
   "execution_count": null,
   "metadata": {
    "dotnet_interactive": {
     "language": "csharp"
    },
    "polyglot_notebook": {
     "kernelName": "csharp"
    }
   },
   "outputs": [],
   "source": [
    "using System;\n",
    "using System.Collections.Generic;\n",
    "using Microsoft.ML;\n",
    "using Microsoft.ML.Data;"
   ]
  },
  {
   "cell_type": "code",
   "execution_count": null,
   "metadata": {
    "dotnet_interactive": {
     "language": "csharp"
    },
    "polyglot_notebook": {
     "kernelName": "csharp"
    }
   },
   "outputs": [],
   "source": [
    "var mlContext = new MLContext(seed: 0);"
   ]
  },
  {
   "cell_type": "code",
   "execution_count": null,
   "metadata": {
    "dotnet_interactive": {
     "language": "csharp"
    },
    "polyglot_notebook": {
     "kernelName": "csharp"
    }
   },
   "outputs": [],
   "source": [
    "private class DataPoint\n",
    "{\n",
    "    public string Label { get; set; }\n",
    "    [VectorType(10)]\n",
    "    public float[] Features { get; set; }\n",
    "}\n",
    "\n",
    "private static List<DataPoint> GenerateRandomDataPoints(int count,\n",
    "    int featureVectorLenght)\n",
    "{\n",
    "    var examples = new List<DataPoint>();\n",
    "    var rnd = new Random(0);\n",
    "    for (int i = 0; i < count; ++i)\n",
    "    {\n",
    "        var example = new DataPoint();\n",
    "        example.Features = new float[featureVectorLenght];\n",
    "        var res = i % 4;\n",
    "        // Generate random float feature values.\n",
    "        for (int j = 0; j < featureVectorLenght; ++j)\n",
    "        {\n",
    "            var value = (float)rnd.NextDouble() + res * 0.2f;\n",
    "            example.Features[j] = value;\n",
    "        }\n",
    "\n",
    "        // Generate label based on feature sum.\n",
    "        if (res == 0)\n",
    "            example.Label = \"AA\";\n",
    "        else if (res == 1)\n",
    "            example.Label = \"BB\";\n",
    "        else if (res == 2)\n",
    "            example.Label = \"CC\";\n",
    "        else\n",
    "            example.Label = \"DD\";\n",
    "        examples.Add(example);\n",
    "    }\n",
    "    return examples;\n",
    "}\n",
    "\n",
    "var examples = GenerateRandomDataPoints(1000, 10);\n",
    "var dataView = mlContext.Data.LoadFromEnumerable(examples);"
   ]
  },
  {
   "cell_type": "code",
   "execution_count": null,
   "metadata": {
    "dotnet_interactive": {
     "language": "csharp"
    },
    "polyglot_notebook": {
     "kernelName": "csharp"
    }
   },
   "outputs": [],
   "source": [
    "var pipeline = mlContext.Transforms.Conversion.MapValueToKey(\"Label\")\n",
    "                .Append(mlContext.MulticlassClassification.Trainers.SdcaMaximumEntropy());\n",
    "var dataWithPredictions = pipeline.Fit(dataView).Transform(dataView);"
   ]
  },
  {
   "cell_type": "code",
   "execution_count": null,
   "metadata": {
    "dotnet_interactive": {
     "language": "csharp"
    },
    "polyglot_notebook": {
     "kernelName": "csharp"
    }
   },
   "outputs": [],
   "source": [
    "var newPipeline = mlContext.Transforms.Conversion.MapKeyToValue(new[]\n",
    "        {\n",
    "            new InputOutputColumnPair(\"LabelOriginalValue\",\"Label\"),\n",
    "            new InputOutputColumnPair(\"PredictedLabelOriginalValue\",\n",
    "            \"PredictedLabel\")\n",
    "\n",
    "        });\n",
    "var transformedData = newPipeline.Fit(dataWithPredictions).Transform(dataWithPredictions);"
   ]
  },
  {
   "cell_type": "code",
   "execution_count": null,
   "metadata": {
    "dotnet_interactive": {
     "language": "csharp"
    },
    "polyglot_notebook": {
     "kernelName": "csharp"
    }
   },
   "outputs": [],
   "source": [
    "private class TransformedData\n",
    "{\n",
    "    public uint Label { get; set; }\n",
    "    public uint PredictedLabel { get; set; }\n",
    "    public string LabelOriginalValue { get; set; }\n",
    "    public string PredictedLabelOriginalValue { get; set; }\n",
    "}\n",
    "\n",
    "transformedData = mlContext.Data.TakeRows(transformedData, 5);\n",
    "var values = mlContext.Data.CreateEnumerable<TransformedData>(transformedData, reuseRowObject: false);\n",
    "foreach (var row in values)\n",
    "    Console.WriteLine($\"{row.Label}\\t\\t{row.LabelOriginalValue}\\t\\t\\t{row.PredictedLabel}\\t\\t\\t{row.PredictedLabelOriginalValue}\");"
   ]
  }
 ],
 "metadata": {},
 "nbformat": 4,
 "nbformat_minor": 5
}