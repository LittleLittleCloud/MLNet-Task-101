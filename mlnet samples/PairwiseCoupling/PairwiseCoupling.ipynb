{
 "cells": [
  {
   "cell_type": "markdown",
   "metadata": {},
   "source": [
    "task name: Implement PairwiseCoupling algorithm\n",
    "task description: Implement the PairwiseCoupling algorithm using the provided C# code and save the result to an output file."
   ]
  },
  {
   "cell_type": "code",
   "execution_count": null,
   "metadata": {
    "dotnet_interactive": {
     "language": "csharp"
    },
    "polyglot_notebook": {
     "kernelName": "csharp"
    }
   },
   "outputs": [],
   "source": [
    "#r \"nuget:Microsoft.ML,1.6.0\""
   ]
  },
  {
   "cell_type": "code",
   "execution_count": null,
   "metadata": {
    "dotnet_interactive": {
     "language": "csharp"
    },
    "polyglot_notebook": {
     "kernelName": "csharp"
    }
   },
   "outputs": [],
   "source": [
    "using System;\n",
    "using System.Collections.Generic;\n",
    "using System.Linq;\n",
    "using Microsoft.ML;\n",
    "using Microsoft.ML.Data;"
   ]
  },
  {
   "cell_type": "code",
   "execution_count": null,
   "metadata": {
    "dotnet_interactive": {
     "language": "csharp"
    },
    "polyglot_notebook": {
     "kernelName": "csharp"
    }
   },
   "outputs": [],
   "source": [
    "var mlContext = new MLContext(seed: 0);"
   ]
  },
  {
   "cell_type": "code",
   "execution_count": null,
   "metadata": {
    "dotnet_interactive": {
     "language": "csharp"
    },
    "polyglot_notebook": {
     "kernelName": "csharp"
    }
   },
   "outputs": [],
   "source": [
    "// Generates random uniform doubles in [-0.5, 0.5)\n",
    "// range with labels 1, 2 or 3.\n",
    "private static IEnumerable<DataPoint> GenerateRandomDataPoints(int count,\n",
    "    int seed = 0)\n",
    "{\n",
    "    var random = new Random(seed);\n",
    "    float randomFloat() => (float)(random.NextDouble() - 0.5);\n",
    "    for (int i = 0; i < count; i++)\n",
    "    {\n",
    "        // Generate Labels that are integers 1, 2 or 3\n",
    "        var label = random.Next(1, 4);\n",
    "        yield return new DataPoint\n",
    "        {\n",
    "            Label = (uint)label,\n",
    "            // Create random features that are correlated with the label.\n",
    "            // The feature values are slightly increased by adding a\n",
    "            // constant multiple of label.\n",
    "            Features = Enumerable.Repeat(label, 20)\n",
    "                .Select(x => randomFloat() + label * 0.2f).ToArray()\n",
    "\n",
    "        };\n",
    "    }\n",
    "}\n",
    "\n",
    "// Example with label and 20 feature values. A data set is a collection of\n",
    "// such examples.\n",
    "private class DataPoint\n",
    "{\n",
    "    public uint Label { get; set; }\n",
    "    [VectorType(20)]\n",
    "    public float[] Features { get; set; }\n",
    "}\n",
    "\n",
    "var dataPoints = GenerateRandomDataPoints(1000);"
   ]
  },
  {
   "cell_type": "code",
   "execution_count": null,
   "metadata": {
    "dotnet_interactive": {
     "language": "csharp"
    },
    "polyglot_notebook": {
     "kernelName": "csharp"
    }
   },
   "outputs": [],
   "source": [
    "var trainingData = mlContext.Data.LoadFromEnumerable(dataPoints);"
   ]
  },
  {
   "cell_type": "code",
   "execution_count": null,
   "metadata": {
    "dotnet_interactive": {
     "language": "csharp"
    },
    "polyglot_notebook": {
     "kernelName": "csharp"
    }
   },
   "outputs": [],
   "source": [
    "var pipeline = mlContext.Transforms.Conversion.MapValueToKey(\"Label\")\n",
    "                .Append(mlContext.MulticlassClassification.Trainers\n",
    "                .PairwiseCoupling(\n",
    "                mlContext.BinaryClassification.Trainers.SdcaLogisticRegression()));"
   ]
  },
  {
   "cell_type": "code",
   "execution_count": null,
   "metadata": {
    "dotnet_interactive": {
     "language": "csharp"
    },
    "polyglot_notebook": {
     "kernelName": "csharp"
    }
   },
   "outputs": [],
   "source": [
    "var model = pipeline.Fit(trainingData);"
   ]
  },
  {
   "cell_type": "code",
   "execution_count": null,
   "metadata": {
    "dotnet_interactive": {
     "language": "csharp"
    },
    "polyglot_notebook": {
     "kernelName": "csharp"
    }
   },
   "outputs": [],
   "source": [
    "var testData = mlContext.Data\n",
    "                .LoadFromEnumerable(GenerateRandomDataPoints(500, seed: 123));"
   ]
  },
  {
   "cell_type": "code",
   "execution_count": null,
   "metadata": {
    "dotnet_interactive": {
     "language": "csharp"
    },
    "polyglot_notebook": {
     "kernelName": "csharp"
    }
   },
   "outputs": [],
   "source": [
    "var transformedTestData = model.Transform(testData);"
   ]
  },
  {
   "cell_type": "code",
   "execution_count": null,
   "metadata": {
    "dotnet_interactive": {
     "language": "csharp"
    },
    "polyglot_notebook": {
     "kernelName": "csharp"
    }
   },
   "outputs": [],
   "source": [
    "// Class used to capture predictions.\n",
    "private class Prediction\n",
    "{\n",
    "    // Original label.\n",
    "    public uint Label { get; set; }\n",
    "    // Predicted label from the trainer.\n",
    "    public uint PredictedLabel { get; set; }\n",
    "}\n",
    "\n",
    "var predictions = mlContext.Data\n",
    "                .CreateEnumerable<Prediction>(transformedTestData,\n",
    "                reuseRowObject: false).ToList();"
   ]
  },
  {
   "cell_type": "code",
   "execution_count": null,
   "metadata": {
    "dotnet_interactive": {
     "language": "csharp"
    },
    "polyglot_notebook": {
     "kernelName": "csharp"
    }
   },
   "outputs": [],
   "source": [
    "foreach (var p in predictions.Take(5))\n",
    "{\n",
    "    Console.WriteLine($\"Label: {p.Label}, Prediction: {p.PredictedLabel}\");\n",
    "}"
   ]
  },
  {
   "cell_type": "code",
   "execution_count": null,
   "metadata": {
    "dotnet_interactive": {
     "language": "csharp"
    },
    "polyglot_notebook": {
     "kernelName": "csharp"
    }
   },
   "outputs": [],
   "source": [
    "var metrics = mlContext.MulticlassClassification\n",
    "                .Evaluate(transformedTestData);"
   ]
  },
  {
   "cell_type": "code",
   "execution_count": null,
   "metadata": {
    "dotnet_interactive": {
     "language": "csharp"
    },
    "polyglot_notebook": {
     "kernelName": "csharp"
    }
   },
   "outputs": [],
   "source": [
    "// Pretty-print MulticlassClassificationMetrics objects.\n",
    "public static void PrintMetrics(MulticlassClassificationMetrics metrics)\n",
    "{\n",
    "    Console.WriteLine($\"Micro Accuracy: {metrics.MicroAccuracy:F2}\");\n",
    "    Console.WriteLine($\"Macro Accuracy: {metrics.MacroAccuracy:F2}\");\n",
    "    Console.WriteLine($\"Log Loss: {metrics.LogLoss:F2}\");\n",
    "    Console.WriteLine($\"Log Loss Reduction: {metrics.LogLossReduction:F2}\\n\");\n",
    "\n",
    "    Console.WriteLine(metrics.ConfusionMatrix.GetFormattedConfusionTable());\n",
    "}\n",
    "\n",
    "PrintMetrics(metrics);"
   ]
  }
 ],
 "metadata": {},
 "nbformat": 4,
 "nbformat_minor": 5
}