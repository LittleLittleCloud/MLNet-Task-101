{
 "cells": [
  {
   "cell_type": "markdown",
   "metadata": {},
   "source": [
    "task name: Resolve VectorWhiten Task\n",
    "\n",
    "task description: Implement the provided C# code as a dotnet interactive notebook"
   ]
  },
  {
   "cell_type": "code",
   "execution_count": null,
   "metadata": {
    "dotnet_interactive": {
     "language": "csharp"
    },
    "polyglot_notebook": {
     "kernelName": "csharp"
    }
   },
   "outputs": [],
   "source": [
    "#r \"nuget:Microsoft.ML.Mkl.Components,1.6.0\""
   ]
  },
  {
   "cell_type": "code",
   "execution_count": null,
   "metadata": {
    "dotnet_interactive": {
     "language": "csharp"
    },
    "polyglot_notebook": {
     "kernelName": "csharp"
    }
   },
   "outputs": [],
   "source": [
    "using System;\n",
    "using System.Collections.Generic;\n",
    "using System.Linq;\n",
    "using Microsoft.ML;\n",
    "using Microsoft.ML.Data;"
   ]
  },
  {
   "cell_type": "code",
   "execution_count": null,
   "metadata": {
    "dotnet_interactive": {
     "language": "csharp"
    },
    "polyglot_notebook": {
     "kernelName": "csharp"
    }
   },
   "outputs": [],
   "source": [
    "var ml = new MLContext();"
   ]
  },
  {
   "cell_type": "code",
   "execution_count": null,
   "metadata": {
    "dotnet_interactive": {
     "language": "csharp"
    },
    "polyglot_notebook": {
     "kernelName": "csharp"
    }
   },
   "outputs": [],
   "source": [
    "private class SampleVectorOfNumbersData\n",
    "{\n",
    "    [VectorType(10)]\n",
    "    public float[] Features { get; set; }\n",
    "}\n",
    "\n",
    "private static IEnumerable<SampleVectorOfNumbersData> GetVectorOfNumbersData()\n",
    "{\n",
    "    var data = new List<SampleVectorOfNumbersData>();\n",
    "    data.Add(new SampleVectorOfNumbersData\n",
    "    {\n",
    "        Features = new float[10] { 0, 1, 2, 3, 4, 5, 6, 7, 8, 9 }\n",
    "    });\n",
    "\n",
    "    data.Add(new SampleVectorOfNumbersData\n",
    "    {\n",
    "        Features = new float[10] { 1, 2, 3, 4, 5, 6, 7, 8, 9, 0 }\n",
    "    });\n",
    "\n",
    "    data.Add(new SampleVectorOfNumbersData\n",
    "    {\n",
    "        Features = new float[10] { 2, 3, 4, 5, 6, 7, 8, 9, 0, 1 }\n",
    "    });\n",
    "\n",
    "    return data;\n",
    "}\n",
    "\n",
    "var data = GetVectorOfNumbersData();\n",
    "var trainData = ml.Data.LoadFromEnumerable(data);"
   ]
  },
  {
   "cell_type": "code",
   "execution_count": null,
   "metadata": {
    "dotnet_interactive": {
     "language": "csharp"
    },
    "polyglot_notebook": {
     "kernelName": "csharp"
    }
   },
   "outputs": [],
   "source": [
    "var whiteningPipeline = ml.Transforms.VectorWhiten(nameof(SampleVectorOfNumbersData.Features), kind: Microsoft.ML.Transforms.WhiteningKind.ZeroPhaseComponentAnalysis);\n",
    "var transformedData = whiteningPipeline.Fit(trainData).Transform(trainData);"
   ]
  },
  {
   "cell_type": "code",
   "execution_count": null,
   "metadata": {
    "dotnet_interactive": {
     "language": "csharp"
    },
    "polyglot_notebook": {
     "kernelName": "csharp"
    }
   },
   "outputs": [],
   "source": [
    "var whitening = transformedData.GetColumn<VBuffer<float>>(transformedData.Schema[nameof(SampleVectorOfNumbersData.Features)]);\n",
    "Action<string, IEnumerable<VBuffer<float>>> printHelper = (colName, column) =>\n",
    "{\n",
    "    Console.WriteLine($\"{colName} column obtained post-transformation.\");\n",
    "\n",
    "    foreach (var row in column)\n",
    "        Console.WriteLine(string.Join(\" \", row.DenseValues().Select(x => x.ToString(\"f3\"))) + \" \");\n",
    "};\n",
    "\n",
    "printHelper(nameof(SampleVectorOfNumbersData.Features), whitening);"
   ]
  }
 ],
 "metadata": {},
 "nbformat": 4,
 "nbformat_minor": 5
}