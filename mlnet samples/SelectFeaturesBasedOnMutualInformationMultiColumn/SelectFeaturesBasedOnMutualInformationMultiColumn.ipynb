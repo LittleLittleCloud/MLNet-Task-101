{
 "cells": [
  {
   "cell_type": "markdown",
   "metadata": {},
   "source": [
    "task name: Create SelectFeaturesBasedOnMutualInformationMultiColumn Notebook\n",
    "task description: Create a dotnet interactive notebook to implement the SelectFeaturesBasedOnMutualInformationMultiColumn example."
   ]
  },
  {
   "cell_type": "code",
   "execution_count": null,
   "metadata": {
    "dotnet_interactive": {
     "language": "csharp"
    },
    "polyglot_notebook": {
     "kernelName": "csharp"
    }
   },
   "outputs": [],
   "source": [
    "#r \"nuget:Microsoft.ML, 1.6.0\""
   ]
  },
  {
   "cell_type": "code",
   "execution_count": null,
   "metadata": {
    "dotnet_interactive": {
     "language": "csharp"
    },
    "polyglot_notebook": {
     "kernelName": "csharp"
    }
   },
   "outputs": [],
   "source": [
    "using System;\n",
    "using System.Collections.Generic;\n",
    "using Microsoft.ML;\n",
    "using Microsoft.ML.Data;"
   ]
  },
  {
   "cell_type": "code",
   "execution_count": null,
   "metadata": {
    "dotnet_interactive": {
     "language": "csharp"
    },
    "polyglot_notebook": {
     "kernelName": "csharp"
    }
   },
   "outputs": [],
   "source": [
    "var mlContext = new MLContext();"
   ]
  },
  {
   "cell_type": "code",
   "execution_count": null,
   "metadata": {
    "dotnet_interactive": {
     "language": "csharp"
    },
    "polyglot_notebook": {
     "kernelName": "csharp"
    }
   },
   "outputs": [],
   "source": [
    "private class TransformedData\n",
    "{\n",
    "    public float[] NumericVectorA { get; set; }\n",
    "\n",
    "    public float[] NumericVectorB { get; set; }\n",
    "}\n",
    "\n",
    "public class NumericData\n",
    "{\n",
    "    public bool Label;\n",
    "\n",
    "    [VectorType(3)]\n",
    "    public float[] NumericVectorA { get; set; }\n",
    "\n",
    "    [VectorType(3)]\n",
    "    public float[] NumericVectorB { get; set; }\n",
    "}\n",
    "\n",
    "public static IEnumerable<NumericData> GetData()\n",
    "{\n",
    "    var data = new List<NumericData>\n",
    "    {\n",
    "        new NumericData\n",
    "        {\n",
    "            Label = true,\n",
    "            NumericVectorA = new float[] { 4, 0, 6 },\n",
    "            NumericVectorB = new float[] { 7, 8, 9 },\n",
    "        },\n",
    "        new NumericData\n",
    "        {\n",
    "            Label = false,\n",
    "            NumericVectorA = new float[] { 0, 5, 7 },\n",
    "            NumericVectorB = new float[] { 7, 9, 0 },\n",
    "        },\n",
    "        new NumericData\n",
    "        {\n",
    "            Label = true,\n",
    "            NumericVectorA = new float[] { 4, 0, 6 },\n",
    "            NumericVectorB = new float[] { 7, 8, 9 },\n",
    "        },\n",
    "        new NumericData\n",
    "        {\n",
    "            Label = false,\n",
    "            NumericVectorA = new float[] { 0, 5, 7 },\n",
    "            NumericVectorB = new float[] { 7, 8, 0 },\n",
    "        }\n",
    "    };\n",
    "    return data;\n",
    "}\n",
    "\n",
    "var rawData = GetData();\n",
    "var data = mlContext.Data.LoadFromEnumerable(rawData);"
   ]
  },
  {
   "cell_type": "code",
   "execution_count": null,
   "metadata": {
    "dotnet_interactive": {
     "language": "csharp"
    },
    "polyglot_notebook": {
     "kernelName": "csharp"
    }
   },
   "outputs": [],
   "source": [
    "var pipeline = mlContext.Transforms.FeatureSelection\n",
    "    .SelectFeaturesBasedOnMutualInformation(new InputOutputColumnPair[]\n",
    "    { new InputOutputColumnPair(\"NumericVectorA\"), new\n",
    "    InputOutputColumnPair(\"NumericVectorB\") }, labelColumnName: \"Label\",\n",
    "    slotsInOutput: 4);"
   ]
  },
  {
   "cell_type": "code",
   "execution_count": null,
   "metadata": {
    "dotnet_interactive": {
     "language": "csharp"
    },
    "polyglot_notebook": {
     "kernelName": "csharp"
    }
   },
   "outputs": [],
   "source": [
    "var transformedData = pipeline.Fit(data).Transform(data);"
   ]
  },
  {
   "cell_type": "code",
   "execution_count": null,
   "metadata": {
    "dotnet_interactive": {
     "language": "csharp"
    },
    "polyglot_notebook": {
     "kernelName": "csharp"
    }
   },
   "outputs": [],
   "source": [
    "var convertedData = mlContext.Data.CreateEnumerable<TransformedData>(\n",
    "    transformedData, true);\n",
    "foreach (var item in convertedData)\n",
    "    Console.WriteLine(\"{0,-25} {1,-25}\", string.Join(\",\", item\n",
    "        .NumericVectorA), string.Join(\",\", item.NumericVectorB));"
   ]
  }
 ],
 "metadata": {},
 "nbformat": 4,
 "nbformat_minor": 5
}