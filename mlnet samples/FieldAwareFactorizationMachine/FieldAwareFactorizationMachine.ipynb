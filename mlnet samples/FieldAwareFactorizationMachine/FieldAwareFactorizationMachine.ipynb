{
 "cells": [
  {
   "cell_type": "markdown",
   "metadata": {},
   "source": [
    "task name: Implement FieldAwareFactorizationMachine\n",
    "task description: Implement the FieldAwareFactorizationMachine example using the provided C# code and save the notebook as FieldAwareFactorizationMachine.ipynb"
   ]
  },
  {
   "cell_type": "code",
   "execution_count": null,
   "metadata": {
    "dotnet_interactive": {
     "language": "csharp"
    },
    "polyglot_notebook": {
     "kernelName": "csharp"
    }
   },
   "outputs": [],
   "source": [
    "#r \"nuget:Microsoft.ML,1.6.0\""
   ]
  },
  {
   "cell_type": "code",
   "execution_count": null,
   "metadata": {
    "dotnet_interactive": {
     "language": "csharp"
    },
    "polyglot_notebook": {
     "kernelName": "csharp"
    }
   },
   "outputs": [],
   "source": [
    "using System;\n",
    "using System.Collections.Generic;\n",
    "using System.Linq;\n",
    "using Microsoft.ML;\n",
    "using Microsoft.ML.Data;"
   ]
  },
  {
   "cell_type": "code",
   "execution_count": null,
   "metadata": {
    "dotnet_interactive": {
     "language": "csharp"
    },
    "polyglot_notebook": {
     "kernelName": "csharp"
    }
   },
   "outputs": [],
   "source": [
    "var mlContext = new MLContext(seed: 0);"
   ]
  },
  {
   "cell_type": "code",
   "execution_count": null,
   "metadata": {
    "dotnet_interactive": {
     "language": "csharp"
    },
    "polyglot_notebook": {
     "kernelName": "csharp"
    }
   },
   "outputs": [],
   "source": [
    "using System;\r\n",
    "using System.Collections.Generic;\r\n",
    "using System.Linq;\r\n",
    "using Microsoft.ML;\r\n",
    "using Microsoft.ML.Data;\r\n",
    "\r\n",
    "// Number of features per field.\r\n",
    "const int featureLength = 5;\r\n",
    "\r\n",
    "// This class defines objects fed to the trained model.\r\n",
    "private class DataPoint\r\n",
    "{\r\n",
    "    // Label.\r\n",
    "    public bool Label { get; set; }\r\n",
    "\r\n",
    "    // Features from the first field. Note that different fields can have\r\n",
    "    // different numbers of features.\r\n",
    "    [VectorType(featureLength)]\r\n",
    "    public float[] Field0 { get; set; }\r\n",
    "\r\n",
    "    // Features from the second field. \r\n",
    "    [VectorType(featureLength)]\r\n",
    "    public float[] Field1 { get; set; }\r\n",
    "\r\n",
    "    // Features from the thrid field. \r\n",
    "    [VectorType(featureLength)]\r\n",
    "    public float[] Field2 { get; set; }\r\n",
    "}\r\n",
    "\r\n",
    "// Function used to create toy data sets.\r\n",
    "private static IEnumerable<DataPoint> GenerateRandomDataPoints(int exampleCount, int seed = 0)\r\n",
    "{\r\n",
    "    var rnd = new Random(seed);\r\n",
    "    var data = new List<DataPoint>();\r\n",
    "    for (int i = 0; i < exampleCount; ++i)\r\n",
    "    {\r\n",
    "        // Initialize an example with a random label and an empty feature\r\n",
    "        // vector.\r\n",
    "        var sample = new DataPoint()\r\n",
    "        {\r\n",
    "            Label = rnd.Next() % 2 == 0,\r\n",
    "            Field0 = new float[featureLength],\r\n",
    "            Field1 = new float[featureLength],\r\n",
    "            Field2 = new float[featureLength]\r\n",
    "        };\r\n",
    "\r\n",
    "        // Fill feature vectors according the assigned label.\r\n",
    "        // Notice that features from different fields have different biases\r\n",
    "        // and therefore different distributions. In practices such as game\r\n",
    "        // recommendation, one may use one field to store features from user\r\n",
    "        // profile and another field to store features from game profile.\r\n",
    "        for (int j = 0; j < featureLength; ++j)\r\n",
    "        {\r\n",
    "            var value0 = (float)rnd.NextDouble();\r\n",
    "            // Positive class gets larger feature value.\r\n",
    "            if (sample.Label)\r\n",
    "                value0 += 0.2f;\r\n",
    "            sample.Field0[j] = value0;\r\n",
    "\r\n",
    "            var value1 = (float)rnd.NextDouble();\r\n",
    "            // Positive class gets smaller feature value.\r\n",
    "            if (sample.Label)\r\n",
    "                value1 -= 0.2f;\r\n",
    "            sample.Field1[j] = value1;\r\n",
    "\r\n",
    "            var value2 = (float)rnd.NextDouble();\r\n",
    "            // Positive class gets larger feature value.\r\n",
    "            if (sample.Label)\r\n",
    "                value2 += 0.8f;\r\n",
    "            sample.Field2[j] = value2;\r\n",
    "        }\r\n",
    "\r\n",
    "        data.Add(sample);\r\n",
    "    }\r\n",
    "    return data;\r\n",
    "}\r\n",
    "\r\n",
    "IEnumerable<DataPoint> data = GenerateRandomDataPoints(500);\r\n",
    "var trainingData = mlContext.Data.LoadFromEnumerable<DataPoint>(data);"
   ]
  },
  {
   "cell_type": "code",
   "execution_count": null,
   "metadata": {
    "dotnet_interactive": {
     "language": "csharp"
    },
    "polyglot_notebook": {
     "kernelName": "csharp"
    }
   },
   "outputs": [],
   "source": [
    "var pipeline = mlContext.BinaryClassification.Trainers\n",
    "    .FieldAwareFactorizationMachine(\n",
    "    new[] { nameof(DataPoint.Field0), nameof(DataPoint.Field1), nameof(DataPoint.Field2) },\n",
    "    nameof(DataPoint.Label));\n",
    "\n",
    "var model = pipeline.Fit(trainingData);"
   ]
  },
  {
   "cell_type": "code",
   "execution_count": null,
   "metadata": {
    "dotnet_interactive": {
     "language": "csharp"
    },
    "polyglot_notebook": {
     "kernelName": "csharp"
    }
   },
   "outputs": [],
   "source": [
    "var transformedTrainingData = model.Transform(trainingData);\n",
    "var metrics = mlContext.BinaryClassification.Evaluate(transformedTrainingData);\n",
    "Console.WriteLine($\"Accuracy: {metrics.Accuracy:F2}\");\n",
    "Console.WriteLine($\"AUC: {metrics.AreaUnderRocCurve:F2}\");\n",
    "Console.WriteLine($\"F1 Score: {metrics.F1Score:F2}\");\n",
    "Console.WriteLine($\"Negative Precision: {metrics.NegativePrecision:F2}\");\n",
    "Console.WriteLine($\"Negative Recall: {metrics.NegativeRecall:F2}\");\n",
    "Console.WriteLine($\"Positive Precision: {metrics.PositivePrecision:F2}\");\n",
    "Console.WriteLine($\"Positive Recall: {metrics.PositiveRecall:F2}\");\n",
    "Console.WriteLine($\"Log Loss: {metrics.LogLoss:F2}\");\n",
    "Console.WriteLine($\"Log Loss Reduction: {metrics.LogLossReduction:F2}\");\n",
    "Console.WriteLine($\"Entropy: {metrics.Entropy:F2}\");"
   ]
  },
  {
   "cell_type": "code",
   "execution_count": null,
   "metadata": {
    "dotnet_interactive": {
     "language": "csharp"
    },
    "polyglot_notebook": {
     "kernelName": "csharp"
    }
   },
   "outputs": [],
   "source": [
    "using System;\r\n",
    "using System.Collections.Generic;\r\n",
    "using System.Linq;\r\n",
    "using Microsoft.ML;\r\n",
    "using Microsoft.ML.Data;\r\n",
    "\r\n",
    "// Number of features per field.\r\n",
    "const int featureLength = 5;\r\n",
    "\r\n",
    "// This class defines objects produced by trained model. The trained model\r\n",
    "// maps a DataPoint to a Result.\r\n",
    "public class Result\r\n",
    "{\r\n",
    "    // Label.\r\n",
    "    public bool Label { get; set; }\r\n",
    "    // Predicted label.\r\n",
    "    public bool PredictedLabel { get; set; }\r\n",
    "    // Predicted score.\r\n",
    "    public float Score { get; set; }\r\n",
    "    // Probability of belonging to positive class.\r\n",
    "    public float Probability { get; set; }\r\n",
    "}\r\n",
    "\r\n",
    "var engine = mlContext.Model.CreatePredictionEngine<DataPoint, Result>(model);\r\n",
    "foreach (var dataPoint in data.Take(5))\r\n",
    "{\r\n",
    "    var result = engine.Predict(dataPoint);\r\n",
    "    Console.WriteLine($\"Actual label: {dataPoint.Label}, \"\r\n",
    "        + $\"predicted label: {result.PredictedLabel}, \"\r\n",
    "        + $\"score of being positive class: {result.Score}, \"\r\n",
    "        + $\"and probability of being positive class: {result.Probability}.\"\r\n",
    ");}"
   ]
  }
 ],
 "metadata": {},
 "nbformat": 4,
 "nbformat_minor": 5
}