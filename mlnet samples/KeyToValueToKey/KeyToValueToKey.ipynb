{
 "cells": [
  {
   "cell_type": "markdown",
   "metadata": {},
   "source": [
    "task name: Resolve KeyToValueToKey task\n",
    "\n",
    "task description: Implement the provided C# code as a dotnet interactive notebook"
   ]
  },
  {
   "cell_type": "markdown",
   "metadata": {},
   "source": [
    "task name: Resolve KeyToValueToKey task\n",
    "task description: Implement the provided C# code as a dotnet interactive notebook"
   ]
  },
  {
   "cell_type": "code",
   "execution_count": null,
   "metadata": {
    "dotnet_interactive": {
     "language": "csharp"
    },
    "polyglot_notebook": {
     "kernelName": "csharp"
    }
   },
   "outputs": [],
   "source": [
    "#r \"nuget:Microsoft.ML\"\r\n"
   ]
  },
  {
   "cell_type": "markdown",
   "metadata": {},
   "source": [
    "task name: Resolve KeyToValueToKey task\n",
    "task description: Implement the provided C# code as a dotnet interactive notebook"
   ]
  },
  {
   "cell_type": "markdown",
   "metadata": {},
   "source": [
    "task name: Resolve KeyToValueToKey task\n",
    "task description: Implement the provided C# code as a dotnet interactive notebook"
   ]
  },
  {
   "cell_type": "markdown",
   "metadata": {},
   "source": [
    "task name: Resolve KeyToValueToKey task\n",
    "task description: Implement the provided C# code as a dotnet interactive notebook"
   ]
  },
  {
   "cell_type": "markdown",
   "metadata": {},
   "source": [
    "task name: Resolve KeyToValueToKey task\n",
    "task description: Implement the provided C# code as a dotnet interactive notebook"
   ]
  },
  {
   "cell_type": "markdown",
   "metadata": {},
   "source": [
    "task name: Resolve KeyToValueToKey task\n",
    "task description: Implement the provided C# code as a dotnet interactive notebook"
   ]
  }
 ],
 "metadata": {},
 "nbformat": 4,
 "nbformat_minor": 5
}