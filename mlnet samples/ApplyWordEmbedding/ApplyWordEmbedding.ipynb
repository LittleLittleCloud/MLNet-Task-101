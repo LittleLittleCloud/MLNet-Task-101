{
 "cells": [
  {
   "cell_type": "markdown",
   "metadata": {},
   "source": [
    "task name: Resolve ApplyWordEmbedding task\n",
    "task description: Implement the ApplyWordEmbedding functionality using the provided C# code"
   ]
  },
  {
   "cell_type": "code",
   "execution_count": null,
   "metadata": {
    "dotnet_interactive": {
     "language": "csharp"
    },
    "polyglot_notebook": {
     "kernelName": "csharp"
    }
   },
   "outputs": [],
   "source": [
    "#r \"nuget:Microsoft.ML,1.5.5\""
   ]
  },
  {
   "cell_type": "code",
   "execution_count": null,
   "metadata": {
    "dotnet_interactive": {
     "language": "csharp"
    },
    "polyglot_notebook": {
     "kernelName": "csharp"
    }
   },
   "outputs": [],
   "source": [
    "using System;\n",
    "using System.Collections.Generic;\n",
    "using Microsoft.ML;\n",
    "using Microsoft.ML.Transforms.Text;"
   ]
  },
  {
   "cell_type": "code",
   "execution_count": null,
   "metadata": {
    "dotnet_interactive": {
     "language": "csharp"
    },
    "polyglot_notebook": {
     "kernelName": "csharp"
    }
   },
   "outputs": [],
   "source": [
    "var mlContext = new MLContext();"
   ]
  },
  {
   "cell_type": "code",
   "execution_count": null,
   "metadata": {
    "dotnet_interactive": {
     "language": "csharp"
    },
    "polyglot_notebook": {
     "kernelName": "csharp"
    }
   },
   "outputs": [],
   "source": [
    "public class TextData\n",
    "{\n",
    "    public string Text { get; set; }\n",
    "}\n",
    "\n",
    "var emptySamples = new List<TextData>();\n",
    "var emptyDataView = mlContext.Data.LoadFromEnumerable(emptySamples);"
   ]
  },
  {
   "cell_type": "code",
   "execution_count": null,
   "metadata": {
    "dotnet_interactive": {
     "language": "csharp"
    },
    "polyglot_notebook": {
     "kernelName": "csharp"
    }
   },
   "outputs": [],
   "source": [
    "var textPipeline = mlContext.Transforms.Text.NormalizeText(\"Text\")\n",
    "    .Append(mlContext.Transforms.Text.TokenizeIntoWords(\"Tokens\", \"Text\"))\n",
    "    .Append(mlContext.Transforms.Text.ApplyWordEmbedding(\"Features\", \"Tokens\", WordEmbeddingEstimator.PretrainedModelKind.SentimentSpecificWordEmbedding));\n",
    "var textTransformer = textPipeline.Fit(emptyDataView);"
   ]
  },
  {
   "cell_type": "code",
   "execution_count": null,
   "metadata": {
    "dotnet_interactive": {
     "language": "csharp"
    },
    "polyglot_notebook": {
     "kernelName": "csharp"
    }
   },
   "outputs": [],
   "source": [
    "public class TransformedTextData : TextData\n",
    "{\n",
    "    public float[] Features { get; set; }\n",
    "}\n",
    "\n",
    "var predictionEngine = mlContext.Model.CreatePredictionEngine<TextData, TransformedTextData>(textTransformer);\n",
    "var data = new TextData()\n",
    "{\n",
    "    Text = \"This is a great product. I would like to buy it again.\"\n",
    "};\n",
    "var prediction = predictionEngine.Predict(data);"
   ]
  }
 ],
 "metadata": {},
 "nbformat": 4,
 "nbformat_minor": 5
}