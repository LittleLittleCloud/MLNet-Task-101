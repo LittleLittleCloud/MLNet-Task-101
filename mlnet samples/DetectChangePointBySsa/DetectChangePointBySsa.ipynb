{
 "cells": [
  {
   "cell_type": "markdown",
   "metadata": {},
   "source": [
    "task name: Implement DetectChangePointBySsa\n",
    "task description: Implement the DetectChangePointBySsa example using the provided C# code and save the output to a file."
   ]
  },
  {
   "cell_type": "code",
   "execution_count": null,
   "metadata": {
    "dotnet_interactive": {
     "language": "csharp"
    },
    "polyglot_notebook": {
     "kernelName": "csharp"
    }
   },
   "outputs": [],
   "source": [
    "#r \"nuget:Microsoft.ML,1.6.0\""
   ]
  },
  {
   "cell_type": "code",
   "execution_count": null,
   "metadata": {
    "dotnet_interactive": {
     "language": "csharp"
    },
    "polyglot_notebook": {
     "kernelName": "csharp"
    }
   },
   "outputs": [],
   "source": [
    "using System;\n",
    "using System.Collections.Generic;\n",
    "using System.IO;\n",
    "using Microsoft.ML;\n",
    "using Microsoft.ML.Data;\n",
    "using Microsoft.ML.Transforms;\n"
   ]
  },
  {
   "cell_type": "code",
   "execution_count": null,
   "metadata": {
    "dotnet_interactive": {
     "language": "csharp"
    },
    "polyglot_notebook": {
     "kernelName": "csharp"
    }
   },
   "outputs": [],
   "source": [
    "var ml = new MLContext();"
   ]
  },
  {
   "cell_type": "code",
   "execution_count": null,
   "metadata": {
    "dotnet_interactive": {
     "language": "csharp"
    },
    "polyglot_notebook": {
     "kernelName": "csharp"
    }
   },
   "outputs": [],
   "source": [
    "public class TimeSeriesData\n",
    "{\n",
    "    public float Value;\n",
    "\n",
    "    public TimeSeriesData(float value)\n",
    "    {\n",
    "        Value = value;\n",
    "    }\n",
    "}\n",
    "\n",
    "var data = new List<TimeSeriesData>()\n",
    "{\n",
    "    new TimeSeriesData(0),\n",
    "    new TimeSeriesData(1),\n",
    "    new TimeSeriesData(2),\n",
    "    new TimeSeriesData(3),\n",
    "    new TimeSeriesData(4),\n",
    "\n",
    "    new TimeSeriesData(0),\n",
    "    new TimeSeriesData(1),\n",
    "    new TimeSeriesData(2),\n",
    "    new TimeSeriesData(3),\n",
    "    new TimeSeriesData(4),\n",
    "\n",
    "    new TimeSeriesData(0),\n",
    "    new TimeSeriesData(1),\n",
    "    new TimeSeriesData(2),\n",
    "    new TimeSeriesData(3),\n",
    "    new TimeSeriesData(4),\n",
    "};"
   ]
  }
 ],
 "metadata": {},
 "nbformat": 4,
 "nbformat_minor": 5
}