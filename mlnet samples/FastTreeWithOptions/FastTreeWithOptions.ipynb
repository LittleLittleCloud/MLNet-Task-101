{
 "cells": [
  {
   "cell_type": "markdown",
   "metadata": {},
   "source": [
    "task name: Resolve FastTreeWithOptions task\n",
    "task description: Implement the provided C# code as a dotnet interactive notebook"
   ]
  },
  {
   "cell_type": "code",
   "execution_count": null,
   "metadata": {
    "dotnet_interactive": {
     "language": "csharp"
    },
    "polyglot_notebook": {
     "kernelName": "csharp"
    }
   },
   "outputs": [],
   "source": [
    "#r \"nuget: Microsoft.ML\"\n",
    "#r \"nuget: Microsoft.ML.FastTree\""
   ]
  },
  {
   "cell_type": "code",
   "execution_count": null,
   "metadata": {
    "dotnet_interactive": {
     "language": "csharp"
    },
    "polyglot_notebook": {
     "kernelName": "csharp"
    }
   },
   "outputs": [],
   "source": [
    "using System;\n",
    "using System.Collections.Generic;\n",
    "using System.Linq;\n",
    "using Microsoft.ML;\n",
    "using Microsoft.ML.Data;\n",
    "using Microsoft.ML.Trainers.FastTree;"
   ]
  },
  {
   "cell_type": "code",
   "execution_count": null,
   "metadata": {
    "dotnet_interactive": {
     "language": "csharp"
    },
    "polyglot_notebook": {
     "kernelName": "csharp"
    }
   },
   "outputs": [],
   "source": [
    "var mlContext = new MLContext(seed: 0);"
   ]
  },
  {
   "cell_type": "code",
   "execution_count": null,
   "metadata": {
    "dotnet_interactive": {
     "language": "csharp"
    },
    "polyglot_notebook": {
     "kernelName": "csharp"
    }
   },
   "outputs": [],
   "source": [
    "// Class used to capture data points.\n",
    "private class DataPoint\n",
    "{\n",
    "    [KeyType(5)]\n",
    "    public uint Label { get; set; }\n",
    "    [KeyType(100)]\n",
    "    public uint GroupId { get; set; }\n",
    "    [VectorType(50)]\n",
    "    public float[] Features { get; set; }\n",
    "}\n",
    "\n",
    "private static IEnumerable<DataPoint> GenerateRandomDataPoints(int count,\n",
    "    int seed = 0, int groupSize = 10)\n",
    "{\n",
    "    var random = new Random(seed);\n",
    "    float randomFloat() => (float)random.NextDouble();\n",
    "    for (int i = 0; i < count; i++)\n",
    "    {\n",
    "        var label = random.Next(0, 5);\n",
    "        yield return new DataPoint\n",
    "        {\n",
    "            Label = (uint)label,\n",
    "            GroupId = (uint)(i / groupSize),\n",
    "            Features = Enumerable.Repeat(label, 50).Select(\n",
    "                x => randomFloat() + x * 0.1f).ToArray()\n",
    "        };\n",
    "    }\n",
    "}\n",
    "\n",
    "var dataPoints = GenerateRandomDataPoints(1000);\n",
    "var trainingData = mlContext.Data.LoadFromEnumerable(dataPoints);"
   ]
  },
  {
   "cell_type": "code",
   "execution_count": null,
   "metadata": {
    "dotnet_interactive": {
     "language": "csharp"
    },
    "polyglot_notebook": {
     "kernelName": "csharp"
    }
   },
   "outputs": [],
   "source": [
    "var options = new FastTreeRankingTrainer.Options\n",
    "{\n",
    "    EarlyStoppingMetric = EarlyStoppingRankingMetric.NdcgAt3,\n",
    "    FeatureFirstUsePenalty = 0.1,\n",
    "    NumberOfTrees = 50,\n",
    "    RowGroupColumnName = \"GroupId\"\n",
    "};\n",
    "\n",
    "var pipeline = mlContext.Ranking.Trainers.FastTree(options);\n",
    "var model = pipeline.Fit(trainingData);"
   ]
  },
  {
   "cell_type": "code",
   "execution_count": null,
   "metadata": {
    "dotnet_interactive": {
     "language": "csharp"
    },
    "polyglot_notebook": {
     "kernelName": "csharp"
    }
   },
   "outputs": [],
   "source": [
    "var testData = mlContext.Data.LoadFromEnumerable(GenerateRandomDataPoints(500, seed: 123));\n",
    "var transformedTestData = model.Transform(testData);"
   ]
  },
  {
   "cell_type": "code",
   "execution_count": null,
   "metadata": {
    "dotnet_interactive": {
     "language": "csharp"
    },
    "polyglot_notebook": {
     "kernelName": "csharp"
    }
   },
   "outputs": [],
   "source": [
    "private class Prediction\n",
    "{\n",
    "    public uint Label { get; set; }\n",
    "    public float Score { get; set; }\n",
    "}\n",
    "\n",
    "public static void PrintMetrics(RankingMetrics metrics)\n",
    "{\n",
    "    Console.WriteLine(\"DCG: \" + string.Join(\", \",\n",
    "        metrics.DiscountedCumulativeGains.Select(\n",
    "            (d, i) => (i + 1) + \":\" + d + \":F2\").ToArray()));\n",
    "    Console.WriteLine(\"NDCG: \" + string.Join(\", \",\n",
    "        metrics.NormalizedDiscountedCumulativeGains.Select(\n",
    "            (d, i) => (i + 1) + \":\" + d + \":F2\").ToArray()));\n",
    "}\n",
    "\n",
    "var topTransformedTestData = mlContext.Data.TakeRows(transformedTestData, 5);\n",
    "var predictions = mlContext.Data.CreateEnumerable<Prediction>(topTransformedTestData, reuseRowObject: false).ToList();\n",
    "foreach (var p in predictions)\n",
    "    Console.WriteLine(\"Label: \" + p.Label + \", Score: \" + p.Score);\n",
    "\n",
    "var metrics = mlContext.Ranking.Evaluate(transformedTestData);\n",
    "PrintMetrics(metrics);"
   ]
  }
 ],
 "metadata": {},
 "nbformat": 4,
 "nbformat_minor": 5
}