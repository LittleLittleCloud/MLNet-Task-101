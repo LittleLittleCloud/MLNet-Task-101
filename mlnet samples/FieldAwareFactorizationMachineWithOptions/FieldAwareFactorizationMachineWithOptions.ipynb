{
 "cells": [
  {
   "cell_type": "markdown",
   "metadata": {},
   "source": [
    "task name: Implement FieldAwareFactorizationMachineWithOptions\n",
    "task description: Implement the provided C# code for FieldAwareFactorizationMachineWithOptions as a dotnet interactive notebook."
   ]
  },
  {
   "cell_type": "code",
   "execution_count": null,
   "metadata": {
    "dotnet_interactive": {
     "language": "csharp"
    },
    "polyglot_notebook": {
     "kernelName": "csharp"
    }
   },
   "outputs": [],
   "source": [
    "#r \"nuget:Microsoft.ML,1.6.0\""
   ]
  },
  {
   "cell_type": "code",
   "execution_count": null,
   "metadata": {
    "dotnet_interactive": {
     "language": "csharp"
    },
    "polyglot_notebook": {
     "kernelName": "csharp"
    }
   },
   "outputs": [],
   "source": [
    "using System;\n",
    "using System.Collections.Generic;\n",
    "using System.Linq;\n",
    "using Microsoft.ML;\n",
    "using Microsoft.ML.Data;\n",
    "using Microsoft.ML.Trainers;"
   ]
  },
  {
   "cell_type": "code",
   "execution_count": null,
   "metadata": {
    "dotnet_interactive": {
     "language": "csharp"
    },
    "polyglot_notebook": {
     "kernelName": "csharp"
    }
   },
   "outputs": [],
   "source": [
    "var mlContext = new MLContext(seed: 0);"
   ]
  },
  {
   "cell_type": "code",
   "execution_count": null,
   "metadata": {
    "dotnet_interactive": {
     "language": "csharp"
    },
    "polyglot_notebook": {
     "kernelName": "csharp"
    }
   },
   "outputs": [],
   "source": [
    "// Number of features per field.\n",
    "const int featureLength = 5;\n",
    "\n",
    "// This class defines objects fed to the trained model.\n",
    "private class DataPoint\n",
    "{\n",
    "    // Label.\n",
    "    public bool Label { get; set; }\n",
    "\n",
    "    // Features from the first field. Note that different fields can have\n",
    "    // different numbers of features.\n",
    "    [VectorType(featureLength)]\n",
    "    public float[] Field0 { get; set; }\n",
    "\n",
    "    // Features from the second field. \n",
    "    [VectorType(featureLength)]\n",
    "    public float[] Field1 { get; set; }\n",
    "\n",
    "    // Features from the thrid field. \n",
    "    [VectorType(featureLength)]\n",
    "    public float[] Field2 { get; set; }\n",
    "}\n",
    "\n",
    "// Function used to create toy data sets.\n",
    "private static IEnumerable<DataPoint> GenerateRandomDataPoints(\n",
    "    int exampleCount, int seed = 0)\n",
    "{\n",
    "    var rnd = new Random(seed);\n",
    "    var data = new List<DataPoint>();\n",
    "    for (int i = 0; i < exampleCount; ++i)\n",
    "    {\n",
    "        // Initialize an example with a random label and an empty feature\n",
    "        // vector.\n",
    "        var sample = new DataPoint()\n",
    "        {\n",
    "            Label = rnd.Next() % 2 == 0,\n",
    "            Field0 = new float[featureLength],\n",
    "            Field1 = new float[featureLength],\n",
    "            Field2 = new float[featureLength]\n",
    "        };\n",
    "\n",
    "        // Fill feature vectors according the assigned label.\n",
    "        // Notice that features from different fields have different biases\n",
    "        // and therefore different distributions. In practices such as game\n",
    "        // recommendation, one may use one field to store features from user\n",
    "        // profile and another field to store features from game profile.\n",
    "        for (int j = 0; j < featureLength; ++j)\n",
    "        {\n",
    "            var value0 = (float)rnd.NextDouble();\n",
    "            // Positive class gets larger feature value.\n",
    "            if (sample.Label)\n",
    "                value0 += 0.2f;\n",
    "            sample.Field0[j] = value0;\n",
    "\n",
    "            var value1 = (float)rnd.NextDouble();\n",
    "            // Positive class gets smaller feature value.\n",
    "            if (sample.Label)\n",
    "                value1 -= 0.2f;\n",
    "            sample.Field1[j] = value1;\n",
    "\n",
    "            var value2 = (float)rnd.NextDouble();\n",
    "            // Positive class gets larger feature value.\n",
    "            if (sample.Label)\n",
    "                value2 += 0.8f;\n",
    "            sample.Field2[j] = value2;\n",
    "        }\n",
    "\n",
    "        data.Add(sample);\n",
    "    }\n",
    "    return data;\n",
    "}\n",
    "\n",
    "IEnumerable<DataPoint> data = GenerateRandomDataPoints(500);\n",
    "var trainingData = mlContext.Data.LoadFromEnumerable(data);"
   ]
  },
  {
   "cell_type": "code",
   "execution_count": null,
   "metadata": {
    "dotnet_interactive": {
     "language": "csharp"
    },
    "polyglot_notebook": {
     "kernelName": "csharp"
    }
   },
   "outputs": [],
   "source": [
    "var options = new FieldAwareFactorizationMachineTrainer.Options\n",
    "{\n",
    "    FeatureColumnName = nameof(DataPoint.Field0),\n",
    "    ExtraFeatureColumns =\n",
    "    new[] { nameof(DataPoint.Field1), nameof(DataPoint.Field2) },\n",
    "\n",
    "    LabelColumnName = nameof(DataPoint.Label),\n",
    "    LambdaLatent = 0.01f,\n",
    "    LambdaLinear = 0.001f,\n",
    "    LatentDimension = 16,\n",
    "    NumberOfIterations = 50,\n",
    "    LearningRate = 0.5f\n",
    "};\n",
    "\n",
    "var pipeline = mlContext.BinaryClassification.Trainers\n",
    "    .FieldAwareFactorizationMachine(options);"
   ]
  },
  {
   "cell_type": "code",
   "execution_count": null,
   "metadata": {
    "dotnet_interactive": {
     "language": "csharp"
    },
    "polyglot_notebook": {
     "kernelName": "csharp"
    }
   },
   "outputs": [],
   "source": [
    "var model = pipeline.Fit(trainingData);"
   ]
  },
  {
   "cell_type": "code",
   "execution_count": null,
   "metadata": {
    "dotnet_interactive": {
     "language": "csharp"
    },
    "polyglot_notebook": {
     "kernelName": "csharp"
    }
   },
   "outputs": [],
   "source": [
    "var transformedTrainingData = model.Transform(trainingData);\n",
    "var metrics = mlContext.BinaryClassification.Evaluate(transformedTrainingData);"
   ]
  },
  {
   "cell_type": "code",
   "execution_count": null,
   "metadata": {
    "dotnet_interactive": {
     "language": "csharp"
    },
    "polyglot_notebook": {
     "kernelName": "csharp"
    }
   },
   "outputs": [],
   "source": [
    "// Function used to show evaluation metrics such as accuracy of predictions.\n",
    "private static void PrintMetrics(CalibratedBinaryClassificationMetrics metrics)\n",
    "{\n",
    "    Console.WriteLine($\"Accuracy: {metrics.Accuracy:F2}\");\n",
    "    Console.WriteLine($\"AUC: {metrics.AreaUnderRocCurve:F2}\");\n",
    "    Console.WriteLine($\"F1 Score: {metrics.F1Score:F2}\");\n",
    "    Console.WriteLine($\"Negative Precision: {metrics.NegativePrecision:F2}\");\n",
    "\n",
    "    Console.WriteLine($\"Negative Recall: {metrics.NegativeRecall:F2}\");\n",
    "    Console.WriteLine($\"Positive Precision: {metrics.PositivePrecision:F2}\");\n",
    "\n",
    "    Console.WriteLine($\"Positive Recall: {metrics.PositiveRecall:F2}\");\n",
    "    Console.WriteLine($\"Log Loss: {metrics.LogLoss:F2}\");\n",
    "    Console.WriteLine($\"Log Loss Reduction: {metrics.LogLossReduction:F2}\");\n",
    "    Console.WriteLine($\"Entropy: {metrics.Entropy:F2}\");\n",
    "}\n",
    "\n",
    "PrintMetrics(metrics);"
   ]
  },
  {
   "cell_type": "code",
   "execution_count": null,
   "metadata": {
    "dotnet_interactive": {
     "language": "csharp"
    },
    "polyglot_notebook": {
     "kernelName": "csharp"
    }
   },
   "outputs": [],
   "source": [
    "// This class defines objects produced by trained model. The trained model\n",
    "// maps a DataPoint to a Result.\n",
    "public class Result\n",
    "{\n",
    "    // Label.\n",
    "    public bool Label { get; set; }\n",
    "    // Predicted label.\n",
    "    public bool PredictedLabel { get; set; }\n",
    "    // Predicted score.\n",
    "    public float Score { get; set; }\n",
    "    // Probability of belonging to positive class.\n",
    "    public float Probability { get; set; }\n",
    "}\n",
    "\n",
    "var engine = mlContext.Model.CreatePredictionEngine<DataPoint, Result>(model);\n",
    "foreach (var dataPoint in data.Take(5))\n",
    "{\n",
    "    var result = engine.Predict(dataPoint);\n",
    "    Console.WriteLine($\"Actual label: {dataPoint.Label}, \" +\n",
    "        $\"predicted label: {result.PredictedLabel}, \" +\n",
    "        $\"score of being positive class: {result.Score}, \" +\n",
    "        $\"and probability of being positive class: \" +\n",
    "        $\"{result.Probability}.\"\n",
    ");}"
   ]
  }
 ],
 "metadata": {},
 "nbformat": 4,
 "nbformat_minor": 5
}