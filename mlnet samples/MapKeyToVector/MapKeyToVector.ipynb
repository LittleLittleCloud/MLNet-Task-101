{
 "cells": [
  {
   "cell_type": "markdown",
   "metadata": {},
   "source": [
    "task name: MapKeyToVector\n",
    "task description: Implement the MapKeyToVector example using ML.NET"
   ]
  },
  {
   "cell_type": "code",
   "execution_count": null,
   "metadata": {
    "dotnet_interactive": {
     "language": "csharp"
    },
    "polyglot_notebook": {
     "kernelName": "csharp"
    }
   },
   "outputs": [],
   "source": [
    "#r \"nuget:Microsoft.ML,1.6.0\""
   ]
  },
  {
   "cell_type": "code",
   "execution_count": null,
   "metadata": {
    "dotnet_interactive": {
     "language": "csharp"
    },
    "polyglot_notebook": {
     "kernelName": "csharp"
    }
   },
   "outputs": [],
   "source": [
    "using System;\n",
    "using System.Collections.Generic;\n",
    "using System.Linq;\n",
    "using Microsoft.ML;\n",
    "using Microsoft.ML.Data;"
   ]
  },
  {
   "cell_type": "code",
   "execution_count": null,
   "metadata": {
    "dotnet_interactive": {
     "language": "csharp"
    },
    "polyglot_notebook": {
     "kernelName": "csharp"
    }
   },
   "outputs": [],
   "source": [
    "var mlContext = new MLContext();"
   ]
  },
  {
   "cell_type": "code",
   "execution_count": null,
   "metadata": {
    "dotnet_interactive": {
     "language": "csharp"
    },
    "polyglot_notebook": {
     "kernelName": "csharp"
    }
   },
   "outputs": [],
   "source": [
    "public class DataPoint\n",
    "{\n",
    "    [KeyType(9)]\n",
    "    public uint Timeframe { get; set; }\n",
    "    public int PartA { get; set; }\n",
    "    public int PartB { get; set; }\n",
    "}\n",
    "\n",
    "var rawData = new[] {\n",
    "    new DataPoint() { Timeframe = 8, PartA=1, PartB=2},\n",
    "    new DataPoint() { Timeframe = 7, PartA=2, PartB=1},\n",
    "    new DataPoint() { Timeframe = 8, PartA=3, PartB=2},\n",
    "    new DataPoint() { Timeframe = 3, PartA=3, PartB=3}\n",
    "};\n",
    "var data = mlContext.Data.LoadFromEnumerable(rawData);"
   ]
  },
  {
   "cell_type": "code",
   "execution_count": null,
   "metadata": {
    "dotnet_interactive": {
     "language": "csharp"
    },
    "polyglot_notebook": {
     "kernelName": "csharp"
    }
   },
   "outputs": [],
   "source": [
    "var pipeline = mlContext.Transforms.Conversion.MapKeyToVector(\n",
    "    \"TimeframeVector\", \"Timeframe\")\n",
    "    .Append(mlContext.Transforms.Concatenate(\"Parts\", \"PartA\", \"PartB\"))\n",
    "    .Append(mlContext.Transforms.Conversion.MapValueToKey(\"Parts\"))\n",
    "    .Append(mlContext.Transforms.Conversion.MapKeyToVector(\n",
    "        \"PartsCount\", \"Parts\", outputCountVector: true))\n",
    "    .Append(mlContext.Transforms.Conversion.MapKeyToVector(\n",
    "        \"PartsNoCount\", \"Parts\"));"
   ]
  },
  {
   "cell_type": "code",
   "execution_count": null,
   "metadata": {
    "dotnet_interactive": {
     "language": "csharp"
    },
    "polyglot_notebook": {
     "kernelName": "csharp"
    }
   },
   "outputs": [],
   "source": [
    "IDataView transformedData = pipeline.Fit(data).Transform(data);"
   ]
  },
  {
   "cell_type": "code",
   "execution_count": null,
   "metadata": {
    "dotnet_interactive": {
     "language": "csharp"
    },
    "polyglot_notebook": {
     "kernelName": "csharp"
    }
   },
   "outputs": [],
   "source": [
    "public class TransformedData : DataPoint\n",
    "{\n",
    "    public float[] TimeframeVector { get; set; }\n",
    "    public float[] PartsCount { get; set; }\n",
    "    public float[] PartsNoCount { get; set; }\n",
    "}\n",
    "\n",
    "IEnumerable<TransformedData> features = mlContext.Data.CreateEnumerable<\n",
    "    TransformedData>(transformedData, reuseRowObject: false);\n",
    "\n",
    "Console.WriteLine(\"Timeframe  TimeframeVector    PartsCount  \" +\n",
    "    \"PartsNoCount\");\n",
    "\n",
    "foreach (var featureRow in features)\n",
    "    Console.WriteLine(featureRow.Timeframe + \"          \" +\n",
    "        string.Join(',', featureRow.TimeframeVector.Select(x => x)) + \"  \"\n",
    "        + string.Join(',', featureRow.PartsCount.Select(x => x)) +\n",
    "        \"       \" + string.Join(',', featureRow.PartsNoCount.Select(\n",
    "        x => x)));"
   ]
  }
 ],
 "metadata": {},
 "nbformat": 4,
 "nbformat_minor": 5
}