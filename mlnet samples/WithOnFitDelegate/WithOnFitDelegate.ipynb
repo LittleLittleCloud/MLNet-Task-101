{
 "cells": [
  {
   "cell_type": "markdown",
   "metadata": {},
   "source": [
    "task name: Implement WithOnFitDelegate\n",
    "task description: Implement the provided C# code using dotnet interactive notebook"
   ]
  },
  {
   "cell_type": "code",
   "execution_count": null,
   "metadata": {
    "dotnet_interactive": {
     "language": "csharp"
    },
    "polyglot_notebook": {
     "kernelName": "csharp"
    }
   },
   "outputs": [],
   "source": [
    "#r \"nuget:Microsoft.ML\"\r\n"
   ]
  },
  {
   "cell_type": "code",
   "execution_count": null,
   "metadata": {
    "dotnet_interactive": {
     "language": "csharp"
    },
    "polyglot_notebook": {
     "kernelName": "csharp"
    }
   },
   "outputs": [],
   "source": [
    "using System;\n",
    "using System.Collections.Generic;\n",
    "using System.Collections.Immutable;\n",
    "using System.Linq;\n",
    "using Microsoft.ML;\n",
    "using Microsoft.ML.Data;\n",
    "using Microsoft.ML.Transforms;\n",
    "using static Microsoft.ML.Transforms.NormalizingTransformer;\n"
   ]
  },
  {
   "cell_type": "code",
   "execution_count": null,
   "metadata": {
    "dotnet_interactive": {
     "language": "csharp"
    },
    "polyglot_notebook": {
     "kernelName": "csharp"
    }
   },
   "outputs": [],
   "source": [
    "public class DataPoint\n",
    "{\n",
    "    [VectorType(4)]\n",
    "    public float[] Features { get; set; }\n",
    "    public bool Label { get; set; }\n",
    "}\n",
    "\n",
    "var mlContext = new MLContext();\n",
    "var samples = new List<DataPoint>()\n",
    "{\n",
    "    new DataPoint(){ Features = new float[4] { 8, 1, 3, 0}, Label = true },\n",
    "    new DataPoint(){ Features = new float[4] { 6, 2, 2, 0}, Label = true },\n",
    "    new DataPoint(){ Features = new float[4] { 4, 0, 1, 0}, Label = false },\n",
    "    new DataPoint(){ Features = new float[4] { 2,-1,-1, 1}, Label = false }\n",
    "};"
   ]
  },
  {
   "cell_type": "code",
   "execution_count": null,
   "metadata": {
    "dotnet_interactive": {
     "language": "csharp"
    },
    "polyglot_notebook": {
     "kernelName": "csharp"
    }
   },
   "outputs": [],
   "source": [
    "var data = mlContext.Data.LoadFromEnumerable(samples);"
   ]
  },
  {
   "cell_type": "code",
   "execution_count": null,
   "metadata": {
    "dotnet_interactive": {
     "language": "csharp"
    },
    "polyglot_notebook": {
     "kernelName": "csharp"
    }
   },
   "outputs": [],
   "source": [
    "NormalizingTransformer binningTransformer = null;\n",
    "var pipeline =\n",
    "    mlContext.Transforms\n",
    "    .NormalizeBinning(\"Features\", maximumBinCount: 3)\n",
    "    .WithOnFitDelegate(\n",
    "    fittedTransformer => binningTransformer = fittedTransformer)\n",
    "    .Append(mlContext.BinaryClassification.Trainers\n",
    "    .LbfgsLogisticRegression());"
   ]
  },
  {
   "cell_type": "code",
   "execution_count": null,
   "metadata": {
    "dotnet_interactive": {
     "language": "csharp"
    },
    "polyglot_notebook": {
     "kernelName": "csharp"
    }
   },
   "outputs": [],
   "source": [
    "var model = pipeline.Fit(data);\n",
    "var binningParam = binningTransformer.GetNormalizerModelParameters(0) as\n",
    "    BinNormalizerModelParameters<ImmutableArray<float>>;\n",
    "for (int i = 0; i < binningParam.UpperBounds.Length; i++)\n",
    "{\n",
    "    var upperBounds = string.Join(\", \", binningParam.UpperBounds[i]);\n",
    "    Console.WriteLine(\n",
    "        $\"Bin {i}: Density = {binningParam.Density[i]}, \" +\n",
    "        $\"Upper-bounds = {upperBounds}\");\n",
    "}"
   ]
  }
 ],
 "metadata": {},
 "nbformat": 4,
 "nbformat_minor": 5
}