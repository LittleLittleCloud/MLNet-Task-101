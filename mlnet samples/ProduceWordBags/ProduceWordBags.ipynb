{
 "cells": [
  {
   "cell_type": "markdown",
   "metadata": {},
   "source": [
    "task name: ProduceWordBags\n",
    "task description: Implement the provided C# code as a dotnet interactive notebook"
   ]
  },
  {
   "cell_type": "code",
   "execution_count": null,
   "metadata": {
    "dotnet_interactive": {
     "language": "csharp"
    },
    "polyglot_notebook": {
     "kernelName": "csharp"
    }
   },
   "outputs": [],
   "source": [
    "#r \"nuget:Microsoft.ML\""
   ]
  },
  {
   "cell_type": "code",
   "execution_count": null,
   "metadata": {
    "dotnet_interactive": {
     "language": "csharp"
    },
    "polyglot_notebook": {
     "kernelName": "csharp"
    }
   },
   "outputs": [],
   "source": [
    "using System;\n",
    "using System.Collections.Generic;\n",
    "using Microsoft.ML;\n",
    "using Microsoft.ML.Data;\n",
    "using Microsoft.ML.Transforms.Text;"
   ]
  },
  {
   "cell_type": "code",
   "execution_count": null,
   "metadata": {
    "dotnet_interactive": {
     "language": "csharp"
    },
    "polyglot_notebook": {
     "kernelName": "csharp"
    }
   },
   "outputs": [],
   "source": [
    "var mlContext = new MLContext();"
   ]
  },
  {
   "cell_type": "code",
   "execution_count": null,
   "metadata": {
    "dotnet_interactive": {
     "language": "csharp"
    },
    "polyglot_notebook": {
     "kernelName": "csharp"
    }
   },
   "outputs": [],
   "source": [
    "public class TextData\n",
    "{\n",
    "    public string Text { get; set; }\n",
    "}\n",
    "\n",
    "var samples = new List<TextData>()\n",
    "{\n",
    "    new TextData(){ Text = \"This is an example to compute bag-of-word features.\" },\n",
    "    new TextData(){ Text = \"ML.NET's ProduceWordBags API produces bag-of-word features from input text.\" },\n",
    "    new TextData(){ Text = \"It does so by first tokenizing text/string into words/tokens then computing n-grams and their numeric values.\" },\n",
    "    new TextData(){ Text = \"Each position in the output vector corresponds to a particular n-gram.\" },\n",
    "    new TextData(){ Text = \"The value at each position corresponds to, the number of times n-gram occurred in the data (Tf), or the inverse of the number of documents contain the n-gram (Idf), or compute both and multiply together (Tf-Idf).\" }\n",
    "};"
   ]
  },
  {
   "cell_type": "code",
   "execution_count": null,
   "metadata": {
    "dotnet_interactive": {
     "language": "csharp"
    },
    "polyglot_notebook": {
     "kernelName": "csharp"
    }
   },
   "outputs": [],
   "source": [
    "var dataview = mlContext.Data.LoadFromEnumerable(samples);"
   ]
  },
  {
   "cell_type": "code",
   "execution_count": null,
   "metadata": {
    "dotnet_interactive": {
     "language": "csharp"
    },
    "polyglot_notebook": {
     "kernelName": "csharp"
    }
   },
   "outputs": [],
   "source": [
    "var textPipeline = mlContext.Transforms.Text.ProduceWordBags(\"BagOfWordFeatures\", \"Text\", ngramLength: 3, useAllLengths: false, weighting: NgramExtractingEstimator.WeightingCriteria.Tf);"
   ]
  },
  {
   "cell_type": "code",
   "execution_count": null,
   "metadata": {
    "dotnet_interactive": {
     "language": "csharp"
    },
    "polyglot_notebook": {
     "kernelName": "csharp"
    }
   },
   "outputs": [],
   "source": [
    "var textTransformer = textPipeline.Fit(dataview);\n",
    "var transformedDataView = textTransformer.Transform(dataview);"
   ]
  },
  {
   "cell_type": "code",
   "execution_count": null,
   "metadata": {
    "dotnet_interactive": {
     "language": "csharp"
    },
    "polyglot_notebook": {
     "kernelName": "csharp"
    }
   },
   "outputs": [],
   "source": [
    "public class TransformedTextData : TextData\n",
    "{\n",
    "    public float[] BagOfWordFeatures { get; set; }\n",
    "}\n",
    "\n",
    "var predictionEngine = mlContext.Model.CreatePredictionEngine<TextData, TransformedTextData>(textTransformer);"
   ]
  },
  {
   "cell_type": "code",
   "execution_count": null,
   "metadata": {
    "dotnet_interactive": {
     "language": "csharp"
    },
    "polyglot_notebook": {
     "kernelName": "csharp"
    }
   },
   "outputs": [],
   "source": [
    "var prediction = predictionEngine.Predict(samples[0]);\n",
    "Console.WriteLine(\"Number of Features: \" + prediction.BagOfWordFeatures.Length);"
   ]
  },
  {
   "cell_type": "code",
   "execution_count": null,
   "metadata": {
    "dotnet_interactive": {
     "language": "csharp"
    },
    "polyglot_notebook": {
     "kernelName": "csharp"
    }
   },
   "outputs": [],
   "source": [
    "VBuffer<ReadOnlyMemory<char>> slotNames = default;\n",
    "transformedDataView.Schema[\"BagOfWordFeatures\"].GetSlotNames(ref slotNames);\n",
    "var BagOfWordFeaturesColumn = transformedDataView.GetColumn<VBuffer<float>>(transformedDataView.Schema[\"BagOfWordFeatures\"]);\n",
    "var slots = slotNames.DenseValues().ToArray();\n",
    "Console.Write(\"N-grams: \");\n",
    "foreach (var featureRow in BagOfWordFeaturesColumn)\n",
    "{\n",
    "    foreach (var item in featureRow.Items())\n",
    "        Console.Write($\"{slots[item.Key]}  \");\n",
    "    Console.WriteLine();\n",
    "}\n",
    "\n",
    "Console.Write(\"Features: \");\n",
    "for (int i = 0; i < 10; i++)\n",
    "    Console.Write($\"{prediction.BagOfWordFeatures[i]:F4}  \");"
   ]
  }
 ],
 "metadata": {},
 "nbformat": 4,
 "nbformat_minor": 5
}