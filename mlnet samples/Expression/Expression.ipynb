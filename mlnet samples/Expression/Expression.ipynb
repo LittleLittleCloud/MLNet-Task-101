{
 "cells": [
  {
   "cell_type": "markdown",
   "metadata": {},
   "source": [
    "task name: Resolve Expression Task\n",
    "task description: Implement the provided C# code as a dotnet interactive notebook"
   ]
  },
  {
   "cell_type": "code",
   "execution_count": null,
   "metadata": {
    "dotnet_interactive": {
     "language": "csharp"
    },
    "polyglot_notebook": {
     "kernelName": "csharp"
    }
   },
   "outputs": [],
   "source": [
    "#r \"nuget:Microsoft.ML\"\r\n"
   ]
  },
  {
   "cell_type": "code",
   "execution_count": null,
   "metadata": {
    "dotnet_interactive": {
     "language": "csharp"
    },
    "polyglot_notebook": {
     "kernelName": "csharp"
    }
   },
   "outputs": [],
   "source": [
    "using System;\n",
    "using System.Collections.Generic;\n",
    "using Microsoft.ML;\n",
    "using Microsoft.ML.Data;"
   ]
  },
  {
   "cell_type": "code",
   "execution_count": null,
   "metadata": {
    "dotnet_interactive": {
     "language": "csharp"
    },
    "polyglot_notebook": {
     "kernelName": "csharp"
    }
   },
   "outputs": [],
   "source": [
    "public class InputData\n",
    "{\n",
    "    public float FloatColumn;\n",
    "    [VectorType(3)]\n",
    "    public float[] FloatVectorColumn;\n",
    "    public int IntColumn;\n",
    "    public string StringColumn;\n",
    "    public bool BooleanColumn;\n",
    "    [VectorType(2)]\n",
    "    public string[] StringVectorColumn;\n",
    "\n",
    "    public InputData(float f, float[] fv, int i, string s, bool b, string[] sv)\n",
    "    {\n",
    "        FloatColumn = f;\n",
    "        FloatVectorColumn = fv;\n",
    "        IntColumn = i;\n",
    "        StringColumn = s;\n",
    "        BooleanColumn = b;\n",
    "        StringVectorColumn = sv;\n",
    "    }\n",
    "}\n",
    "\n",
    "var mlContext = new MLContext();\n",
    "\n",
    "var samples = new List<InputData>()\n",
    "{\n",
    "    new InputData(0.5f, new[] { 1f, 0.2f }, 3, \"hi\", true, new[] { \"zero\", \"one\" }),\n",
    "    new InputData(-2.7f, new[] { 3.5f, -0.1f }, 2, \"bye\", false, new[] { \"a\", \"b\" }),\n",
    "    new InputData(1.3f, new[] { 1.9f, 3.3f }, 39, \"hi\", false, new[] { \"0\", \"1\" }),\n",
    "    new InputData(3, new[] { 3f, 3f }, 4, \"hello\", true, new[] { \"c\", \"d\" }),\n",
    "    new InputData(0, new[] { 1f, 1f }, 1, \"hi\", true, new[] { \"zero\", \"one\" }),\n",
    "    new InputData(30.4f, new[] { 10f, 4f }, 9, \"bye\", true, new[] { \"e\", \"f\" }),\n",
    "    new InputData(5.6f, new[] { 1.1f, 2.2f }, 0, \"hey\", false, new[] { \"g\", \"h\" }),\n",
    "};\n",
    "\n",
    "var dataview = mlContext.Data.LoadFromEnumerable(samples);"
   ]
  },
  {
   "cell_type": "code",
   "execution_count": null,
   "metadata": {
    "dotnet_interactive": {
     "language": "csharp"
    },
    "polyglot_notebook": {
     "kernelName": "csharp"
    }
   },
   "outputs": [],
   "source": [
    "var pipeline = mlContext.Transforms.Expression(\"Expr1\", \"(x,y)=>log(y)+x\",\n",
    "        nameof(InputData.FloatColumn), nameof(InputData.FloatVectorColumn))\n",
    "    .Append(mlContext.Transforms.Expression(\"Expr2\", \"(b,s,i)=>b ? len(s) : i\",\n",
    "        nameof(InputData.BooleanColumn), nameof(InputData.StringVectorColumn), nameof(InputData.IntColumn)))\n",
    "    .Append(mlContext.Transforms.Expression(\"Expr3\", \"(s,f1,f2,i)=>len(concat(s,\\\"a\\\"))+f1+f2+i\",\n",
    "        nameof(InputData.StringColumn), nameof(InputData.FloatVectorColumn), nameof(InputData.FloatColumn), nameof(InputData.IntColumn)))\n",
    "    .Append(mlContext.Transforms.Expression(\"Expr4\", \"(x,y)=>cos(x+pi())*y\",\n",
    "        nameof(InputData.FloatColumn), nameof(InputData.IntColumn)));"
   ]
  },
  {
   "cell_type": "code",
   "execution_count": null,
   "metadata": {
    "dotnet_interactive": {
     "language": "csharp"
    },
    "polyglot_notebook": {
     "kernelName": "csharp"
    }
   },
   "outputs": [],
   "source": [
    "var transformedData = pipeline.Fit(dataview).Transform(dataview);"
   ]
  },
  {
   "cell_type": "code",
   "execution_count": null,
   "metadata": {
    "dotnet_interactive": {
     "language": "csharp"
    },
    "polyglot_notebook": {
     "kernelName": "csharp"
    }
   },
   "outputs": [],
   "source": [
    "public sealed class TransformedData\n",
    "{\n",
    "    public float[] Expr1 { get; set; }\n",
    "    public int[] Expr2 { get; set; }\n",
    "    public float[] Expr3 { get; set; }\n",
    "    public double Expr4 { get; set; }\n",
    "}\n",
    "\n",
    "var featuresColumn = mlContext.Data.CreateEnumerable<TransformedData>(\n",
    "    transformedData, reuseRowObject: false);\n",
    "\n",
    "Console.WriteLine($\"Features column obtained post-transformation.\");\n",
    "foreach (var featureRow in featuresColumn)\n",
    "{\n",
    "    Console.Write(string.Join(\" \", featureRow.Expr1));\n",
    "    Console.Write(\" \");\n",
    "    Console.Write(string.Join(\" \", featureRow.Expr2));\n",
    "    Console.Write(\" \");\n",
    "    Console.Write(string.Join(\" \", featureRow.Expr3));\n",
    "    Console.Write(\" \");\n",
    "    Console.WriteLine(featureRow.Expr4);\n",
    "}"
   ]
  }
 ],
 "metadata": {},
 "nbformat": 4,
 "nbformat_minor": 5
}