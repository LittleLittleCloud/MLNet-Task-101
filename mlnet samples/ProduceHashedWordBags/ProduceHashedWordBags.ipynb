{
 "cells": [
  {
   "cell_type": "markdown",
   "metadata": {},
   "source": [
    "task name: Implement ProduceHashedWordBags\n",
    "task description: Implement the provided C# code as a dotnet interactive notebook"
   ]
  },
  {
   "cell_type": "code",
   "execution_count": null,
   "metadata": {
    "dotnet_interactive": {
     "language": "csharp"
    },
    "polyglot_notebook": {
     "kernelName": "csharp"
    }
   },
   "outputs": [],
   "source": [
    "#r \"nuget:Microsoft.ML, 1.5.5\""
   ]
  },
  {
   "cell_type": "code",
   "execution_count": null,
   "metadata": {
    "dotnet_interactive": {
     "language": "csharp"
    },
    "polyglot_notebook": {
     "kernelName": "csharp"
    }
   },
   "outputs": [],
   "source": [
    "using System;\n",
    "using System.Collections.Generic;\n",
    "using Microsoft.ML;\n",
    "using Microsoft.ML.Data;"
   ]
  },
  {
   "cell_type": "code",
   "execution_count": null,
   "metadata": {
    "dotnet_interactive": {
     "language": "csharp"
    },
    "polyglot_notebook": {
     "kernelName": "csharp"
    }
   },
   "outputs": [],
   "source": [
    "var mlContext = new MLContext();"
   ]
  },
  {
   "cell_type": "code",
   "execution_count": null,
   "metadata": {
    "dotnet_interactive": {
     "language": "csharp"
    },
    "polyglot_notebook": {
     "kernelName": "csharp"
    }
   },
   "outputs": [],
   "source": [
    "public class TextData\n",
    "{\n",
    "    public string Text { get; set; }\n",
    "}\n",
    "\n",
    "var samples = new List<TextData>()\n",
    "{\n",
    "    new TextData(){ Text = \"This is an example to compute bag-of-word features using hashing.\" },\n",
    "    new TextData(){ Text = \"ML.NET's ProduceHashedWordBags API produces count of n-grams and hashes it as an index into a vector of given bit length.\" },\n",
    "    new TextData(){ Text = \"It does so by first tokenizing text/string into words/tokens then \" },\n",
    "    new TextData(){ Text = \"computing n-grams and hash them to the index given by hash value.\" },\n",
    "    new TextData(){ Text = \"The hashing reduces the size of the output feature vector\" },\n",
    "    new TextData(){ Text = \"which is useful in case when number of n-grams is very large.\" },\n",
    "};\n",
    "\n",
    "var dataview = mlContext.Data.LoadFromEnumerable(samples);"
   ]
  },
  {
   "cell_type": "code",
   "execution_count": null,
   "metadata": {
    "dotnet_interactive": {
     "language": "csharp"
    },
    "polyglot_notebook": {
     "kernelName": "csharp"
    }
   },
   "outputs": [],
   "source": [
    "var textPipeline = mlContext.Transforms.Text.ProduceHashedWordBags(\n",
    "    \"BagOfWordFeatures\", \"Text\",\n",
    "    numberOfBits: 5,\n",
    "    ngramLength: 3,\n",
    "    useAllLengths: false,\n",
    "    maximumNumberOfInverts: 1);\n",
    "\n",
    "var textTransformer = textPipeline.Fit(dataview);\n",
    "var transformedDataView = textTransformer.Transform(dataview);"
   ]
  },
  {
   "cell_type": "code",
   "execution_count": null,
   "metadata": {
    "dotnet_interactive": {
     "language": "csharp"
    },
    "polyglot_notebook": {
     "kernelName": "csharp"
    }
   },
   "outputs": [],
   "source": [
    "public class TransformedTextData : TextData\n",
    "{\n",
    "    public float[] BagOfWordFeatures { get; set; }\n",
    "}\n",
    "\n",
    "var predictionEngine = mlContext.Model.CreatePredictionEngine<TextData, TransformedTextData>(textTransformer);\n",
    "var prediction = predictionEngine.Predict(samples[0]);"
   ]
  },
  {
   "cell_type": "code",
   "execution_count": null,
   "metadata": {
    "dotnet_interactive": {
     "language": "csharp"
    },
    "polyglot_notebook": {
     "kernelName": "csharp"
    }
   },
   "outputs": [],
   "source": [
    "Console.WriteLine(\"Number of Features: \" + prediction.BagOfWordFeatures.Length);\n",
    "// Print other results..."
   ]
  }
 ],
 "metadata": {},
 "nbformat": 4,
 "nbformat_minor": 5
}