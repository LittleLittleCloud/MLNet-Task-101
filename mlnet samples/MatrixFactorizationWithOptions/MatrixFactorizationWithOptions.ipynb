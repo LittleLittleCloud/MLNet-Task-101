{
 "cells": [
  {
   "cell_type": "markdown",
   "metadata": {},
   "source": [
    "task name: Implement Matrix Factorization with Options\n",
    "task description: Implement the provided C# code as a dotnet interactive notebook, saving the output to a file."
   ]
  },
  {
   "cell_type": "code",
   "execution_count": null,
   "metadata": {
    "dotnet_interactive": {
     "language": "csharp"
    },
    "polyglot_notebook": {
     "kernelName": "csharp"
    }
   },
   "outputs": [],
   "source": [
    "#r \"nuget:Microsoft.ML.Recommender\""
   ]
  },
  {
   "cell_type": "code",
   "execution_count": null,
   "metadata": {
    "dotnet_interactive": {
     "language": "csharp"
    },
    "polyglot_notebook": {
     "kernelName": "csharp"
    }
   },
   "outputs": [],
   "source": [
    "using System;\n",
    "using System.Collections.Generic;\n",
    "using System.Linq;\n",
    "using Microsoft.ML;\n",
    "using Microsoft.ML.Data;\n",
    "using Microsoft.ML.Trainers;"
   ]
  },
  {
   "cell_type": "code",
   "execution_count": null,
   "metadata": {
    "dotnet_interactive": {
     "language": "csharp"
    },
    "polyglot_notebook": {
     "kernelName": "csharp"
    }
   },
   "outputs": [],
   "source": [
    "var mlContext = new MLContext(seed: 0);"
   ]
  },
  {
   "cell_type": "code",
   "execution_count": null,
   "metadata": {
    "dotnet_interactive": {
     "language": "csharp"
    },
    "polyglot_notebook": {
     "kernelName": "csharp"
    }
   },
   "outputs": [],
   "source": [
    "private const uint MatrixColumnCount = 60;\n",
    "private const uint MatrixRowCount = 100;\n",
    "\n",
    "private class MatrixElement\n",
    "{\n",
    "    [KeyType(MatrixColumnCount)]\n",
    "    public uint MatrixColumnIndex { get; set; }\n",
    "\n",
    "    [KeyType(MatrixRowCount)]\n",
    "    public uint MatrixRowIndex { get; set; }\n",
    "\n",
    "    public float Value { get; set; }\n",
    "\n",
    "    public float Score { get; set; }\n",
    "}\n",
    "\n",
    "private static List<MatrixElement> GenerateMatrix()\n",
    "{\n",
    "    var dataMatrix = new List<MatrixElement>();\n",
    "    for (uint i = 0; i < MatrixColumnCount; ++i)\n",
    "        for (uint j = 0; j < MatrixRowCount; ++j)\n",
    "            dataMatrix.Add(new MatrixElement()\n",
    "            {\n",
    "                MatrixColumnIndex = i,\n",
    "                MatrixRowIndex = j,\n",
    "                Value = (i + j) % 5\n",
    "            });\n",
    "\n",
    "    return dataMatrix;\n",
    "}\n",
    "\n",
    "var dataPoints = GenerateMatrix();\n",
    "var trainingData = mlContext.Data.LoadFromEnumerable(dataPoints);"
   ]
  },
  {
   "cell_type": "code",
   "execution_count": null,
   "metadata": {
    "dotnet_interactive": {
     "language": "csharp"
    },
    "polyglot_notebook": {
     "kernelName": "csharp"
    }
   },
   "outputs": [],
   "source": [
    "var options = new MatrixFactorizationTrainer.Options\n",
    "{\n",
    "    MatrixColumnIndexColumnName = nameof(MatrixElement.MatrixColumnIndex),\n",
    "    MatrixRowIndexColumnName = nameof(MatrixElement.MatrixRowIndex),\n",
    "    LabelColumnName = nameof(MatrixElement.Value),\n",
    "    NumberOfIterations = 10,\n",
    "    NumberOfThreads = 1,\n",
    "    ApproximationRank = 32,\n",
    "    LearningRate = 0.3\n",
    "};\n",
    "\n",
    "var pipeline = mlContext.Recommendation().Trainers.MatrixFactorization(options);\n",
    "var model = pipeline.Fit(trainingData);"
   ]
  },
  {
   "cell_type": "code",
   "execution_count": null,
   "metadata": {
    "dotnet_interactive": {
     "language": "csharp"
    },
    "polyglot_notebook": {
     "kernelName": "csharp"
    }
   },
   "outputs": [],
   "source": [
    "var transformedData = model.Transform(trainingData);\n",
    "var predictions = mlContext.Data.CreateEnumerable<MatrixElement>(transformedData, reuseRowObject: false).Take(5).ToList();\n",
    "foreach (var p in predictions)\n",
    "    Console.WriteLine($\"Actual value: {p.Value:F3}, Predicted score: {p.Score:F3}\");\n",
    "\n",
    "var metrics = mlContext.Regression.Evaluate(transformedData, labelColumnName: nameof(MatrixElement.Value), scoreColumnName: nameof(MatrixElement.Score));\n",
    "\n",
    "Console.WriteLine(\"Mean Absolute Error: \" + metrics.MeanAbsoluteError);\n",
    "Console.WriteLine(\"Mean Squared Error: \" + metrics.MeanSquaredError);\n",
    "Console.WriteLine(\"Root Mean Squared Error: \" + metrics.RootMeanSquaredError);\n",
    "Console.WriteLine(\"RSquared: \" + metrics.RSquared);"
   ]
  }
 ],
 "metadata": {},
 "nbformat": 4,
 "nbformat_minor": 5
}