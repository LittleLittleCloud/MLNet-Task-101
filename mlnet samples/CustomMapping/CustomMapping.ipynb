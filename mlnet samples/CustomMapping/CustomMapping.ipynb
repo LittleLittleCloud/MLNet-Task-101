{
 "cells": [
  {
   "cell_type": "markdown",
   "metadata": {},
   "source": [
    "task name: Resolve CustomMapping Task\n",
    "task description: Implement the provided C# code as a dotnet interactive notebook"
   ]
  },
  {
   "cell_type": "code",
   "execution_count": null,
   "metadata": {
    "dotnet_interactive": {
     "language": "csharp"
    },
    "polyglot_notebook": {
     "kernelName": "csharp"
    }
   },
   "outputs": [],
   "source": [
    "#r \"nuget:Microsoft.ML\"\r\n"
   ]
  },
  {
   "cell_type": "code",
   "execution_count": null,
   "metadata": {
    "dotnet_interactive": {
     "language": "csharp"
    },
    "polyglot_notebook": {
     "kernelName": "csharp"
    }
   },
   "outputs": [],
   "source": [
    "using System;\n",
    "using System.Collections.Generic;\n",
    "using Microsoft.ML;"
   ]
  },
  {
   "cell_type": "code",
   "execution_count": null,
   "metadata": {
    "dotnet_interactive": {
     "language": "csharp"
    },
    "polyglot_notebook": {
     "kernelName": "csharp"
    }
   },
   "outputs": [],
   "source": [
    "var mlContext = new MLContext();"
   ]
  },
  {
   "cell_type": "code",
   "execution_count": null,
   "metadata": {
    "dotnet_interactive": {
     "language": "csharp"
    },
    "polyglot_notebook": {
     "kernelName": "csharp"
    }
   },
   "outputs": [],
   "source": [
    "public class InputData\n",
    "{\n",
    "    public float Age { get; set; }\n",
    "}\n",
    "\n",
    "var samples = new List<InputData>\n",
    "{\n",
    "    new InputData { Age = 26 },\n",
    "    new InputData { Age = 35 },\n",
    "    new InputData { Age = 34 },\n",
    "    new InputData { Age = 28 },\n",
    "};\n",
    "var data = mlContext.Data.LoadFromEnumerable(samples);"
   ]
  },
  {
   "cell_type": "code",
   "execution_count": null,
   "metadata": {
    "dotnet_interactive": {
     "language": "csharp"
    },
    "polyglot_notebook": {
     "kernelName": "csharp"
    }
   },
   "outputs": [],
   "source": [
    "public class CustomMappingOutput\n",
    "{\n",
    "    public bool IsUnderThirty { get; set; }\n",
    "}\n",
    "\n",
    "Action<InputData, CustomMappingOutput> mapping =\n",
    "    (input, output) => output.IsUnderThirty = input.Age < 30;\n",
    "var pipeline = mlContext.Transforms.CustomMapping(mapping, contractName: null);"
   ]
  },
  {
   "cell_type": "code",
   "execution_count": null,
   "metadata": {
    "dotnet_interactive": {
     "language": "csharp"
    },
    "polyglot_notebook": {
     "kernelName": "csharp"
    }
   },
   "outputs": [],
   "source": [
    "public class TransformedData : InputData\n",
    "{\n",
    "    public bool IsUnderThirty { get; set; }\n",
    "}\n",
    "\n",
    "var transformer = pipeline.Fit(data);\n",
    "var transformedData = transformer.Transform(data);\n",
    "var dataEnumerable = mlContext.Data.CreateEnumerable<TransformedData>(transformedData, reuseRowObject: true);\n",
    "foreach (var row in dataEnumerable)\n",
    "    Console.WriteLine($\"{row.Age}\\t {row.IsUnderThirty}\");"
   ]
  }
 ],
 "metadata": {},
 "nbformat": 4,
 "nbformat_minor": 5
}