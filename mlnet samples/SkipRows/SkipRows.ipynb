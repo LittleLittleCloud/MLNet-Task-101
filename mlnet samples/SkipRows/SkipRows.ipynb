{
 "cells": [
  {
   "cell_type": "markdown",
   "metadata": {},
   "source": [
    "task name: Resolve SkipRows task\n",
    "task description: Implement the SkipRows example using the provided C# code"
   ]
  },
  {
   "cell_type": "code",
   "execution_count": null,
   "metadata": {
    "dotnet_interactive": {
     "language": "csharp"
    },
    "polyglot_notebook": {
     "kernelName": "csharp"
    }
   },
   "outputs": [],
   "source": [
    "#r \"nuget:Microsoft.ML\"\r\n"
   ]
  },
  {
   "cell_type": "code",
   "execution_count": null,
   "metadata": {
    "dotnet_interactive": {
     "language": "csharp"
    },
    "polyglot_notebook": {
     "kernelName": "csharp"
    }
   },
   "outputs": [],
   "source": [
    "using System;\n",
    "using System.Collections.Generic;\n",
    "using Microsoft.ML;"
   ]
  },
  {
   "cell_type": "code",
   "execution_count": null,
   "metadata": {
    "dotnet_interactive": {
     "language": "csharp"
    },
    "polyglot_notebook": {
     "kernelName": "csharp"
    }
   },
   "outputs": [],
   "source": [
    "var mlContext = new MLContext();"
   ]
  },
  {
   "cell_type": "code",
   "execution_count": null,
   "metadata": {
    "dotnet_interactive": {
     "language": "csharp"
    },
    "polyglot_notebook": {
     "kernelName": "csharp"
    }
   },
   "outputs": [],
   "source": [
    "private static IEnumerable<SampleTemperatureData> GetSampleTemperatureData(int exampleCount)\n",
    "{\n",
    "    var rng = new Random(1234321);\n",
    "    var date = new DateTime(2012, 1, 1);\n",
    "    float temperature = 39.0f;\n",
    "\n",
    "    for (int i = 0; i < exampleCount; i++)\n",
    "    {\n",
    "        date = date.AddDays(1);\n",
    "        temperature += rng.Next(-5, 5);\n",
    "        yield return new SampleTemperatureData\n",
    "        {\n",
    "            Date = date,\n",
    "            Temperature = temperature\n",
    "        };\n",
    "    }\n",
    "}\n",
    "\n",
    "public class SampleTemperatureData\n",
    "{\n",
    "    public DateTime Date { get; set; }\n",
    "    public float Temperature { get; set; }\n",
    "}\n",
    "\n",
    "var enumerableOfData = GetSampleTemperatureData(10);\n",
    "var data = mlContext.Data.LoadFromEnumerable(enumerableOfData);"
   ]
  },
  {
   "cell_type": "code",
   "execution_count": null,
   "metadata": {
    "dotnet_interactive": {
     "language": "csharp"
    },
    "polyglot_notebook": {
     "kernelName": "csharp"
    }
   },
   "outputs": [],
   "source": [
    "var filteredData = mlContext.Data.SkipRows(data, 5);"
   ]
  },
  {
   "cell_type": "code",
   "execution_count": null,
   "metadata": {
    "dotnet_interactive": {
     "language": "csharp"
    },
    "polyglot_notebook": {
     "kernelName": "csharp"
    }
   },
   "outputs": [],
   "source": [
    "var enumerable = mlContext.Data.CreateEnumerable<SampleTemperatureData>(filteredData, reuseRowObject: true);\n",
    "\n",
    "Console.WriteLine($\"Date\\tTemperature\");\n",
    "foreach (var row in enumerable)\n",
    "{\n",
    "    Console.WriteLine($\"{row.Date:d}\\t{row.Temperature}\");\n",
    "}"
   ]
  }
 ],
 "metadata": {},
 "nbformat": 4,
 "nbformat_minor": 5
}