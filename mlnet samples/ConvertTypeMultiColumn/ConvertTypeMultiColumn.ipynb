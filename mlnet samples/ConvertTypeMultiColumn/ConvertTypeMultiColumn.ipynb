{
 "cells": [
  {
   "cell_type": "markdown",
   "metadata": {},
   "source": [
    "task name: ConvertTypeMultiColumn\n",
    "task description: Implement the ConvertTypeMultiColumn example in C#"
   ]
  },
  {
   "cell_type": "code",
   "execution_count": null,
   "metadata": {
    "dotnet_interactive": {
     "language": "csharp"
    },
    "polyglot_notebook": {
     "kernelName": "csharp"
    }
   },
   "outputs": [],
   "source": [
    "#r \"nuget:Microsoft.ML\""
   ]
  },
  {
   "cell_type": "code",
   "execution_count": null,
   "metadata": {
    "dotnet_interactive": {
     "language": "csharp"
    },
    "polyglot_notebook": {
     "kernelName": "csharp"
    }
   },
   "outputs": [],
   "source": [
    "using System;\n",
    "using Microsoft.ML;\n",
    "using Microsoft.ML.Data;"
   ]
  },
  {
   "cell_type": "code",
   "execution_count": null,
   "metadata": {
    "dotnet_interactive": {
     "language": "csharp"
    },
    "polyglot_notebook": {
     "kernelName": "csharp"
    }
   },
   "outputs": [],
   "source": [
    "public class InputData\n",
    "{\n",
    "    public bool Feature1;\n",
    "    public string Feature2;\n",
    "    public DateTime Feature3;\n",
    "    public double Feature4;\n",
    "}\n",
    "\n",
    "var mlContext = new MLContext(seed: 1);\n",
    "var rawData = new[] {\n",
    "    new InputData() { Feature1 = true, Feature2 = \"0.4\",\n",
    "        Feature3 = DateTime.Now, Feature4 = 0.145},\n",
    "\n",
    "    new InputData() { Feature1 = false, Feature2 = \"0.5\",\n",
    "        Feature3 = DateTime.Today, Feature4 = 3.14},\n",
    "\n",
    "    new InputData() { Feature1 = false, Feature2 = \"14\",\n",
    "        Feature3 = DateTime.Today, Feature4 = 0.2046},\n",
    "\n",
    "    new InputData() { Feature1 = false, Feature2 = \"23\",\n",
    "        Feature3 = DateTime.Now, Feature4 = 0.1206},\n",
    "\n",
    "    new InputData() { Feature1 = true, Feature2 = \"8904\",\n",
    "        Feature3 = DateTime.UtcNow, Feature4 = 8.09},\n",
    "};"
   ]
  },
  {
   "cell_type": "code",
   "execution_count": null,
   "metadata": {
    "dotnet_interactive": {
     "language": "csharp"
    },
    "polyglot_notebook": {
     "kernelName": "csharp"
    }
   },
   "outputs": [],
   "source": [
    "var data = mlContext.Data.LoadFromEnumerable(rawData);"
   ]
  },
  {
   "cell_type": "code",
   "execution_count": null,
   "metadata": {
    "dotnet_interactive": {
     "language": "csharp"
    },
    "polyglot_notebook": {
     "kernelName": "csharp"
    }
   },
   "outputs": [],
   "source": [
    "var pipeline = mlContext.Transforms.Conversion.ConvertType(new[]\n",
    "{\n",
    "    new InputOutputColumnPair(\"Converted1\", \"Feature1\"),\n",
    "    new InputOutputColumnPair(\"Converted2\", \"Feature2\"),\n",
    "    new InputOutputColumnPair(\"Converted3\", \"Feature3\"),\n",
    "    new InputOutputColumnPair(\"Converted4\", \"Feature4\"),\n",
    "},\n",
    "DataKind.Single);"
   ]
  },
  {
   "cell_type": "code",
   "execution_count": null,
   "metadata": {
    "dotnet_interactive": {
     "language": "csharp"
    },
    "polyglot_notebook": {
     "kernelName": "csharp"
    }
   },
   "outputs": [],
   "source": [
    "var transformer = pipeline.Fit(data);\n",
    "var transformedData = transformer.Transform(data);"
   ]
  },
  {
   "cell_type": "code",
   "execution_count": null,
   "metadata": {
    "dotnet_interactive": {
     "language": "csharp"
    },
    "polyglot_notebook": {
     "kernelName": "csharp"
    }
   },
   "outputs": [],
   "source": [
    "public class TransformedData : InputData\n",
    "{\n",
    "    public float Converted1 { get; set; }\n",
    "    public float Converted2 { get; set; }\n",
    "    public float Converted3 { get; set; }\n",
    "    public float Converted4 { get; set; }\n",
    "}\n",
    "\n",
    "var convertedData = mlContext.Data.CreateEnumerable<TransformedData>(\n",
    "    transformedData, true);"
   ]
  },
  {
   "cell_type": "code",
   "execution_count": null,
   "metadata": {
    "dotnet_interactive": {
     "language": "csharp"
    },
    "polyglot_notebook": {
     "kernelName": "csharp"
    }
   },
   "outputs": [],
   "source": [
    "Console.WriteLine(\"Converted1\\t Converted2\\t Converted3\\t Converted4\");\n",
    "foreach (var item in convertedData)\n",
    "{\n",
    "    Console.WriteLine($\"\\t{item.Converted1}\\t {item.Converted2}\\t\\t  \" +\n",
    "        $\"{item.Converted3}\\t {item.Converted4}\");\n",
    "}"
   ]
  }
 ],
 "metadata": {},
 "nbformat": 4,
 "nbformat_minor": 5
}