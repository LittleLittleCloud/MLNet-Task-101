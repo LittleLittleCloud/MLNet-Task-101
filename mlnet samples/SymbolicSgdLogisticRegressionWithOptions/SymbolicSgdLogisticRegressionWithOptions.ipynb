{
 "cells": [
  {
   "cell_type": "markdown",
   "metadata": {},
   "source": [
    "task name: Create SymbolicSgdLogisticRegressionWithOptions notebook\n",
    "\n",
    "task description: Create a dotnet interactive notebook for the provided C# code"
   ]
  },
  {
   "cell_type": "code",
   "execution_count": null,
   "metadata": {
    "dotnet_interactive": {
     "language": "csharp"
    },
    "polyglot_notebook": {
     "kernelName": "csharp"
    }
   },
   "outputs": [],
   "source": [
    "#r \"nuget:Microsoft.ML\"\r\n"
   ]
  }
 ],
 "metadata": {},
 "nbformat": 4,
 "nbformat_minor": 5
}