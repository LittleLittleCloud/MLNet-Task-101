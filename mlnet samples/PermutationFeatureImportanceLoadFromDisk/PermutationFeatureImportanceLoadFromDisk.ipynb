{
 "cells": [
  {
   "cell_type": "markdown",
   "metadata": {},
   "source": [
    "task name: Implement Permutation Feature Importance\n",
    "task description: Implement the Permutation Feature Importance algorithm using the provided C# code"
   ]
  },
  {
   "cell_type": "code",
   "execution_count": null,
   "metadata": {
    "dotnet_interactive": {
     "language": "csharp"
    },
    "polyglot_notebook": {
     "kernelName": "csharp"
    }
   },
   "outputs": [],
   "source": [
    "#r \"nuget:Microsoft.ML,1.6.0\""
   ]
  },
  {
   "cell_type": "code",
   "execution_count": null,
   "metadata": {
    "dotnet_interactive": {
     "language": "csharp"
    },
    "polyglot_notebook": {
     "kernelName": "csharp"
    }
   },
   "outputs": [],
   "source": [
    "using System;\n",
    "using System.Collections.Generic;\n",
    "using System.Linq;\n",
    "using Microsoft.ML;\n",
    "using Microsoft.ML.Calibrators;\n",
    "using Microsoft.ML.Data;\n",
    "using Microsoft.ML.Trainers;"
   ]
  },
  {
   "cell_type": "code",
   "execution_count": null,
   "metadata": {
    "dotnet_interactive": {
     "language": "csharp"
    },
    "polyglot_notebook": {
     "kernelName": "csharp"
    }
   },
   "outputs": [],
   "source": [
    "var mlContext = new MLContext(seed: 1);"
   ]
  },
  {
   "cell_type": "code",
   "execution_count": null,
   "metadata": {
    "dotnet_interactive": {
     "language": "csharp"
    },
    "polyglot_notebook": {
     "kernelName": "csharp"
    }
   },
   "outputs": [],
   "source": [
    "private class Data\n",
    "{\n",
    "    public bool Label { get; set; }\n",
    "\n",
    "    public float Feature1 { get; set; }\n",
    "\n",
    "    public float Feature2 { get; set; }\n",
    "}\n",
    "\n",
    "private static IEnumerable<Data> GenerateData(int nExamples = 10000,\n",
    "    double bias = 0, double weight1 = 1, double weight2 = 2, int seed = 1)\n",
    "{\n",
    "    var rng = new Random(seed);\n",
    "    for (int i = 0; i < nExamples; i++)\n",
    "    {\n",
    "        var data = new Data\n",
    "        {\n",
    "            Feature1 = (float)(rng.Next(10) * (rng.NextDouble() - 0.5)),\n",
    "            Feature2 = (float)(rng.Next(10) * (rng.NextDouble() - 0.5)),\n",
    "        };\n",
    "\n",
    "        // Create a noisy label.\n",
    "        var value = (float)(bias + weight1 * data.Feature1 + weight2 *\n",
    "            data.Feature2 + rng.NextDouble() - 0.5);\n",
    "\n",
    "        data.Label = Sigmoid(value) > 0.5;\n",
    "        yield return data;\n",
    "    }\n",
    "}\n",
    "\n",
    "private static double Sigmoid(double x) => 1.0 / (1.0 + Math.Exp(-1 * x));\n",
    "\n",
    "var samples = GenerateData();\n",
    "var data = mlContext.Data.LoadFromEnumerable(samples);"
   ]
  },
  {
   "cell_type": "code",
   "execution_count": null,
   "metadata": {
    "dotnet_interactive": {
     "language": "csharp"
    },
    "polyglot_notebook": {
     "kernelName": "csharp"
    }
   },
   "outputs": [],
   "source": [
    "var featureColumns =\n",
    "    new string[] { nameof(Data.Feature1), nameof(Data.Feature2) };\n",
    "var pipeline = mlContext.Transforms\n",
    "    .Concatenate(\"Features\", featureColumns)\n",
    "    .Append(mlContext.Transforms.NormalizeMinMax(\"Features\"))\n",
    "    .Append(mlContext.BinaryClassification.Trainers.SdcaLogisticRegression());"
   ]
  },
  {
   "cell_type": "code",
   "execution_count": null,
   "metadata": {
    "dotnet_interactive": {
     "language": "csharp"
    },
    "polyglot_notebook": {
     "kernelName": "csharp"
    }
   },
   "outputs": [],
   "source": [
    "var model0 = pipeline.Fit(data);\n",
    "var modelPath = \"./model.zip\";\n",
    "mlContext.Model.Save(model0, data.Schema, modelPath);"
   ]
  },
  {
   "cell_type": "code",
   "execution_count": null,
   "metadata": {
    "dotnet_interactive": {
     "language": "csharp"
    },
    "polyglot_notebook": {
     "kernelName": "csharp"
    }
   },
   "outputs": [],
   "source": [
    "var model = mlContext.Model.Load(modelPath, out var schema);"
   ]
  },
  {
   "cell_type": "code",
   "execution_count": null,
   "metadata": {
    "dotnet_interactive": {
     "language": "csharp"
    },
    "polyglot_notebook": {
     "kernelName": "csharp"
    }
   },
   "outputs": [],
   "source": [
    "var transformedData = model.Transform(data);"
   ]
  },
  {
   "cell_type": "code",
   "execution_count": null,
   "metadata": {
    "dotnet_interactive": {
     "language": "csharp"
    },
    "polyglot_notebook": {
     "kernelName": "csharp"
    }
   },
   "outputs": [],
   "source": [
    "var linearPredictor = (model as TransformerChain<ITransformer>).LastTransformer as BinaryPredictionTransformer<CalibratedModelParametersBase<LinearBinaryModelParameters, PlattCalibrator>>;\n",
    "var permutationMetrics = mlContext.BinaryClassification\n",
    "    .PermutationFeatureImportance(linearPredictor, transformedData,\n",
    "    permutationCount: 30);"
   ]
  },
  {
   "cell_type": "code",
   "execution_count": null,
   "metadata": {
    "dotnet_interactive": {
     "language": "csharp"
    },
    "polyglot_notebook": {
     "kernelName": "csharp"
    }
   },
   "outputs": [],
   "source": [
    "var sortedIndices = permutationMetrics\n",
    "    .Select((metrics, index) => new { index, metrics.AreaUnderRocCurve })\n",
    "    .OrderByDescending(\n",
    "    feature => Math.Abs(feature.AreaUnderRocCurve.Mean))\n",
    "    .Select(feature => feature.index);\n",
    "\n",
    "Console.WriteLine(\"Feature\\tModel Weight\\tChange in AUC\"\n",
    "    + \"\\t95% Confidence in the Mean Change in AUC\");\n",
    "var auc = permutationMetrics.Select(x => x.AreaUnderRocCurve).ToArray();\n",
    "foreach (int i in sortedIndices)\n",
    "{\n",
    "    Console.WriteLine(\"{0}\\t{1:0.00}\\t{2:G4}\\t{3:G4}\",\n",
    "        featureColumns[i],\n",
    "        linearPredictor.Model.SubModel.Weights[i], // this way we can access the weights inside the submodel\n",
    "        auc[i].Mean,\n",
    "        1.96 * auc[i].StandardError);\n",
    "}"
   ]
  }
 ],
 "metadata": {},
 "nbformat": 4,
 "nbformat_minor": 5
}