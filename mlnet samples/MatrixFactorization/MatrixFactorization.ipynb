{
 "cells": [
  {
   "cell_type": "markdown",
   "metadata": {},
   "source": [
    "task name: Implement Matrix Factorization\n",
    "task description: Implement the Matrix Factorization algorithm using the provided C# code and save the output to a file."
   ]
  },
  {
   "cell_type": "code",
   "execution_count": null,
   "metadata": {
    "dotnet_interactive": {
     "language": "csharp"
    },
    "polyglot_notebook": {
     "kernelName": "csharp"
    }
   },
   "outputs": [],
   "source": [
    "#r \"nuget:Microsoft.ML.Recommender\""
   ]
  },
  {
   "cell_type": "code",
   "execution_count": null,
   "metadata": {
    "dotnet_interactive": {
     "language": "csharp"
    },
    "polyglot_notebook": {
     "kernelName": "csharp"
    }
   },
   "outputs": [],
   "source": [
    "using System;\n",
    "using System.Collections.Generic;\n",
    "using System.Linq;\n",
    "using Microsoft.ML;\n",
    "using Microsoft.ML.Data;"
   ]
  },
  {
   "cell_type": "code",
   "execution_count": null,
   "metadata": {
    "dotnet_interactive": {
     "language": "csharp"
    },
    "polyglot_notebook": {
     "kernelName": "csharp"
    }
   },
   "outputs": [],
   "source": [
    "var mlContext = new MLContext(seed: 0);"
   ]
  },
  {
   "cell_type": "code",
   "execution_count": null,
   "metadata": {
    "dotnet_interactive": {
     "language": "csharp"
    },
    "polyglot_notebook": {
     "kernelName": "csharp"
    }
   },
   "outputs": [],
   "source": [
    "// Define the MatrixElement class\n",
    "public class MatrixElement\n",
    "{\n",
    "    [KeyType(60)]\n",
    "    public uint MatrixColumnIndex { get; set; }\n",
    "\n",
    "    [KeyType(100)]\n",
    "    public uint MatrixRowIndex { get; set; }\n",
    "\n",
    "    public float Value { get; set; }\n",
    "}\n",
    "\n",
    "var dataPoints = GenerateMatrix();\n",
    "\n",
    "// Generate a random matrix by specifying all its elements.\n",
    "private static List<MatrixElement> GenerateMatrix()\n",
    "{\n",
    "    var dataMatrix = new List<MatrixElement>();\n",
    "    for (uint i = 0; i < 60; ++i)\n",
    "        for (uint j = 0; j < 100; ++j)\n",
    "            dataMatrix.Add(new MatrixElement()\n",
    "            {\n",
    "                MatrixColumnIndex = i,\n",
    "                MatrixRowIndex = j,\n",
    "                Value = (i + j) % 5\n",
    "            });\n",
    "\n",
    "    return dataMatrix;\n",
    "}\n",
    "\n",
    "var trainingData = mlContext.Data.LoadFromEnumerable(dataPoints);"
   ]
  },
  {
   "cell_type": "code",
   "execution_count": null,
   "metadata": {
    "dotnet_interactive": {
     "language": "csharp"
    },
    "polyglot_notebook": {
     "kernelName": "csharp"
    }
   },
   "outputs": [],
   "source": [
    "var pipeline = mlContext.Recommendation().Trainers.\n",
    "    MatrixFactorization(nameof(MatrixElement.Value),\n",
    "    nameof(MatrixElement.MatrixColumnIndex),\n",
    "    nameof(MatrixElement.MatrixRowIndex), 10, 0.2, 1);"
   ]
  },
  {
   "cell_type": "code",
   "execution_count": null,
   "metadata": {
    "dotnet_interactive": {
     "language": "csharp"
    },
    "polyglot_notebook": {
     "kernelName": "csharp"
    }
   },
   "outputs": [],
   "source": [
    "var model = pipeline.Fit(trainingData);"
   ]
  },
  {
   "cell_type": "code",
   "execution_count": null,
   "metadata": {
    "dotnet_interactive": {
     "language": "csharp"
    },
    "polyglot_notebook": {
     "kernelName": "csharp"
    }
   },
   "outputs": [],
   "source": [
    "var transformedData = model.Transform(trainingData);"
   ]
  },
  {
   "cell_type": "code",
   "execution_count": null,
   "metadata": {
    "dotnet_interactive": {
     "language": "csharp"
    },
    "polyglot_notebook": {
     "kernelName": "csharp"
    }
   },
   "outputs": [],
   "source": [
    "var predictions = mlContext.Data\n",
    "    .CreateEnumerable<MatrixElement>(transformedData, reuseRowObject: false)\n",
    "    .Take(5)\n",
    "    .ToList();"
   ]
  },
  {
   "cell_type": "code",
   "execution_count": null,
   "metadata": {
    "dotnet_interactive": {
     "language": "csharp"
    },
    "polyglot_notebook": {
     "kernelName": "csharp"
    }
   },
   "outputs": [],
   "source": [
    "foreach (var p in predictions)\n",
    "{\n",
    "    Console.WriteLine($\"Actual value: {p.Value:F3}, Predicted score: {p.Value:F3}\");\n",
    "}\n",
    "\n",
    "var metrics = mlContext.Regression.Evaluate(transformedData,\n",
    "    labelColumnName: nameof(MatrixElement.Value),\n",
    "    scoreColumnName: nameof(MatrixElement.Value));\n",
    "\n",
    "PrintMetrics(metrics);\n",
    "\n",
    "// Print some evaluation metrics to regression problems.\n",
    "private static void PrintMetrics(RegressionMetrics metrics)\n",
    "{\n",
    "    Console.WriteLine(\"Mean Absolute Error: \" + metrics.MeanAbsoluteError);\n",
    "    Console.WriteLine(\"Mean Squared Error: \" + metrics.MeanSquaredError);\n",
    "    Console.WriteLine(\"Root Mean Squared Error: \" + metrics.RootMeanSquaredError);\n",
    "    Console.WriteLine(\"RSquared: \" + metrics.RSquared);\n",
    "}"
   ]
  }
 ],
 "metadata": {},
 "nbformat": 4,
 "nbformat_minor": 5
}