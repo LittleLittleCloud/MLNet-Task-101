{
 "cells": [
  {
   "cell_type": "markdown",
   "metadata": {},
   "source": [
    "task name: Create DetectAnomalyBySrCnnBatchPrediction Notebook\n",
    "task description: Create a dotnet interactive notebook for the provided C# code"
   ]
  },
  {
   "cell_type": "code",
   "execution_count": null,
   "metadata": {
    "dotnet_interactive": {
     "language": "csharp"
    },
    "polyglot_notebook": {
     "kernelName": "csharp"
    }
   },
   "outputs": [],
   "source": [
    "#r \"nuget:Microsoft.ML,1.6.0\""
   ]
  },
  {
   "cell_type": "code",
   "execution_count": null,
   "metadata": {
    "dotnet_interactive": {
     "language": "csharp"
    },
    "polyglot_notebook": {
     "kernelName": "csharp"
    }
   },
   "outputs": [],
   "source": [
    "using System;\n",
    "using System.Collections.Generic;\n",
    "using Microsoft.ML;\n",
    "using Microsoft.ML.Data;"
   ]
  },
  {
   "cell_type": "code",
   "execution_count": null,
   "metadata": {
    "dotnet_interactive": {
     "language": "csharp"
    },
    "polyglot_notebook": {
     "kernelName": "csharp"
    }
   },
   "outputs": [],
   "source": [
    "var ml = new MLContext();"
   ]
  },
  {
   "cell_type": "code",
   "execution_count": null,
   "metadata": {
    "dotnet_interactive": {
     "language": "csharp"
    },
    "polyglot_notebook": {
     "kernelName": "csharp"
    }
   },
   "outputs": [],
   "source": [
    "public class TimeSeriesData\n",
    "{\n",
    "    public float Value;\n",
    "\n",
    "    public TimeSeriesData(float value)\n",
    "    {\n",
    "        Value = value;\n",
    "    }\n",
    "}\n",
    "\n",
    "var data = new List<TimeSeriesData>();\n",
    "for (int index = 0; index < 20; index++)\n",
    "{\n",
    "    data.Add(new TimeSeriesData(5));\n",
    "}\n",
    "data.Add(new TimeSeriesData(10));\n",
    "for (int index = 0; index < 5; index++)\n",
    "{\n",
    "    data.Add(new TimeSeriesData(5));\n",
    "}\n",
    "var dataView = ml.Data.LoadFromEnumerable(data);"
   ]
  }
 ],
 "metadata": {},
 "nbformat": 4,
 "nbformat_minor": 5
}