{
 "cells": [
  {
   "cell_type": "markdown",
   "metadata": {},
   "source": [
    "task name: Implement SimpleDataViewImplementation\n",
    "task description: Implement the SimpleDataViewImplementation class in the provided C# code"
   ]
  },
  {
   "cell_type": "code",
   "execution_count": null,
   "metadata": {
    "dotnet_interactive": {
     "language": "csharp"
    },
    "polyglot_notebook": {
     "kernelName": "csharp"
    }
   },
   "outputs": [],
   "source": [
    "#r \"nuget:Microsoft.ML\"\r\n"
   ]
  },
  {
   "cell_type": "code",
   "execution_count": null,
   "metadata": {
    "dotnet_interactive": {
     "language": "csharp"
    },
    "polyglot_notebook": {
     "kernelName": "csharp"
    }
   },
   "outputs": [],
   "source": [
    "using System;\n",
    "using System.Collections.Generic;\n",
    "using System.Linq;\n",
    "using Microsoft.ML;\n",
    "using Microsoft.ML.Data;"
   ]
  },
  {
   "cell_type": "code",
   "execution_count": null,
   "metadata": {
    "dotnet_interactive": {
     "language": "csharp"
    },
    "polyglot_notebook": {
     "kernelName": "csharp"
    }
   },
   "outputs": [],
   "source": [
    "private sealed class InputObject\n",
    "{\n",
    "    public bool Label { get; }\n",
    "    public string Text { get; }\n",
    "\n",
    "    public InputObject(bool label, string text)\n",
    "    {\n",
    "        Label = label;\n",
    "        Text = text;\n",
    "    }\n",
    "}"
   ]
  },
  {
   "cell_type": "code",
   "execution_count": null,
   "metadata": {
    "dotnet_interactive": {
     "language": "csharp"
    },
    "polyglot_notebook": {
     "kernelName": "csharp"
    }
   },
   "outputs": [],
   "source": [
    "private sealed class InputObjectDataView : IDataView\n",
    "{\n",
    "    private readonly IEnumerable<InputObject> _data;\n",
    "    public IEnumerable<InputObject> Data\n",
    "    {\n",
    "        get\n",
    "        {\n",
    "            return _data;\n",
    "        }\n",
    "    }\n",
    "    public DataViewSchema Schema { get; }\n",
    "    public bool CanShuffle => false;\n",
    "\n",
    "    public InputObjectDataView(IEnumerable<InputObject> data)\n",
    "    {\n",
    "        _data = data;\n",
    "\n",
    "        var builder = new DataViewSchema.Builder();\n",
    "        builder.AddColumn(\"Label\", BooleanDataViewType.Instance);\n",
    "        builder.AddColumn(\"Text\", TextDataViewType.Instance);\n",
    "        Schema = builder.ToSchema();\n",
    "    }\n",
    "\n",
    "    public long? GetRowCount() => null;\n",
    "\n",
    "    public DataViewRowCursor GetRowCursor(\n",
    "        IEnumerable<DataViewSchema.Column> columnsNeeded,\n",
    "        Random rand = null)\n",
    "\n",
    "        => new Cursor(this, columnsNeeded.Any(c => c.Index == 0),\n",
    "            columnsNeeded.Any(c => c.Index == 1));\n",
    "\n",
    "    public DataViewRowCursor[] GetRowCursorSet(\n",
    "        IEnumerable<DataViewSchema.Column> columnsNeeded, int n,\n",
    "        Random rand = null)\n",
    "\n",
    "        => new[] { GetRowCursor(columnsNeeded, rand) };\n",
    "\n",
    "    private sealed class Cursor : DataViewRowCursor\n",
    "    {\n",
    "        private bool _disposed;\n",
    "        private long _position;\n",
    "        private readonly IEnumerator<InputObject> _enumerator;\n",
    "        private readonly Delegate[] _getters;\n",
    "\n",
    "        public override long Position => _position;\n",
    "        public override long Batch => 0;\n",
    "        public override DataViewSchema Schema { get; }\n",
    "\n",
    "        public Cursor(InputObjectDataView parent, bool wantsLabel,\n",
    "            bool wantsText)\n",
    "\n",
    "        {\n",
    "            Schema = parent.Schema;\n",
    "            _position = -1;\n",
    "            _enumerator = parent.Data.GetEnumerator();\n",
    "            _getters = new Delegate[]\n",
    "            {\n",
    "                wantsLabel ?\n",
    "                    (ValueGetter<bool>)LabelGetterImplementation : null,\n",
    "\n",
    "                wantsText ?\n",
    "                    (ValueGetter<ReadOnlyMemory<char>>)\n",
    "                    TextGetterImplementation : null\n",
    "\n",
    "            };\n",
    "        }\n",
    "\n",
    "        protected override void Dispose(bool disposing)\n",
    "        {\n",
    "            if (_disposed)\n",
    "                return;\n",
    "            if (disposing)\n",
    "            {\n",
    "                _enumerator.Dispose();\n",
    "                _position = -1;\n",
    "            }\n",
    "            _disposed = true;\n",
    "            base.Dispose(disposing);\n",
    "        }\n",
    "\n",
    "        private void LabelGetterImplementation(ref bool value)\n",
    "            => value = _enumerator.Current.Label;\n",
    "\n",
    "        private void TextGetterImplementation(\n",
    "            ref ReadOnlyMemory<char> value)\n",
    "\n",
    "            => value = _enumerator.Current.Text.AsMemory();\n",
    "\n",
    "        private void IdGetterImplementation(ref DataViewRowId id)\n",
    "            => id = new DataViewRowId((ulong)_position, 0);\n",
    "\n",
    "        public override ValueGetter<TValue> GetGetter<TValue>(\n",
    "            DataViewSchema.Column column)\n",
    "\n",
    "        {\n",
    "            if (!IsColumnActive(column))\n",
    "                throw new ArgumentOutOfRangeException(nameof(column));\n",
    "            return (ValueGetter<TValue>)_getters[column.Index];\n",
    "        }\n",
    "\n",
    "        public override ValueGetter<DataViewRowId> GetIdGetter()\n",
    "            => IdGetterImplementation;\n",
    "\n",
    "        public override bool IsColumnActive(DataViewSchema.Column column)\n",
    "            => _getters[column.Index] != null;\n",
    "\n",
    "        public override bool MoveNext()\n",
    "        {\n",
    "            if (_disposed)\n",
    "                return false;\n",
    "            if (_enumerator.MoveNext())\n",
    "            {\n",
    "                _position++;\n",
    "                return true;\n",
    "            }\n",
    "            Dispose();\n",
    "            return false;\n",
    "        }\n",
    "    }\n",
    "}"
   ]
  },
  {
   "cell_type": "code",
   "execution_count": null,
   "metadata": {
    "dotnet_interactive": {
     "language": "csharp"
    },
    "polyglot_notebook": {
     "kernelName": "csharp"
    }
   },
   "outputs": [],
   "source": [
    "private sealed class Cursor : DataViewRowCursor\n",
    "{\n",
    "    private bool _disposed;\n",
    "    private long _position;\n",
    "    private readonly IEnumerator<InputObject> _enumerator;\n",
    "    private readonly Delegate[] _getters;\n",
    "\n",
    "    public override long Position => _position;\n",
    "    public override long Batch => 0;\n",
    "    public override DataViewSchema Schema { get; }\n",
    "\n",
    "    public Cursor(InputObjectDataView parent, bool wantsLabel,\n",
    "        bool wantsText)\n",
    "\n",
    "    {\n",
    "        Schema = parent.Schema;\n",
    "        _position = -1;\n",
    "        _enumerator = parent.Data.GetEnumerator();\n",
    "        _getters = new Delegate[]\n",
    "        {\n",
    "            wantsLabel ?\n",
    "                (ValueGetter<bool>)LabelGetterImplementation : null,\n",
    "\n",
    "            wantsText ?\n",
    "                (ValueGetter<ReadOnlyMemory<char>>)\n",
    "                TextGetterImplementation : null\n",
    "\n",
    "        };\n",
    "    }\n",
    "\n",
    "    protected override void Dispose(bool disposing)\n",
    "    {\n",
    "        if (_disposed)\n",
    "            return;\n",
    "        if (disposing)\n",
    "        {\n",
    "            _enumerator.Dispose();\n",
    "            _position = -1;\n",
    "        }\n",
    "        _disposed = true;\n",
    "        base.Dispose(disposing);\n",
    "    }\n",
    "\n",
    "    private void LabelGetterImplementation(ref bool value)\n",
    "        => value = _enumerator.Current.Label;\n",
    "\n",
    "    private void TextGetterImplementation(\n",
    "        ref ReadOnlyMemory<char> value)\n",
    "\n",
    "        => value = _enumerator.Current.Text.AsMemory();\n",
    "\n",
    "    private void IdGetterImplementation(ref DataViewRowId id)\n",
    "        => id = new DataViewRowId((ulong)_position, 0);\n",
    "\n",
    "    public override ValueGetter<TValue> GetGetter<TValue>(\n",
    "        DataViewSchema.Column column)\n",
    "\n",
    "    {\n",
    "        if (!IsColumnActive(column))\n",
    "            throw new ArgumentOutOfRangeException(nameof(column));\n",
    "        return (ValueGetter<TValue>)_getters[column.Index];\n",
    "    }\n",
    "\n",
    "    public override ValueGetter<DataViewRowId> GetIdGetter()\n",
    "        => IdGetterImplementation;\n",
    "\n",
    "    public override bool IsColumnActive(DataViewSchema.Column column)\n",
    "        => _getters[column.Index] != null;\n",
    "\n",
    "    public override bool MoveNext()\n",
    "    {\n",
    "        if (_disposed)\n",
    "            return false;\n",
    "        if (_enumerator.MoveNext())\n",
    "        {\n",
    "            _position++;\n",
    "            return true;\n",
    "        }\n",
    "        Dispose();\n",
    "        return false;\n",
    "    }\n",
    "}"
   ]
  },
  {
   "cell_type": "code",
   "execution_count": null,
   "metadata": {
    "dotnet_interactive": {
     "language": "csharp"
    },
    "polyglot_notebook": {
     "kernelName": "csharp"
    }
   },
   "outputs": [],
   "source": [
    "public static void Example()\n",
    "{\n",
    "    var inputArray = new[]\n",
    "    {\n",
    "        new InputObject(false, \"Hello my friend.\"),\n",
    "        new InputObject(true, \"Stay awhile and listen.\"),\n",
    "        new InputObject(true, \"Masterfully done hero!\")\n",
    "    };\n",
    "    var dataView = new InputObjectDataView(inputArray);\n",
    "\n",
    "    var mlContext = new MLContext();\n",
    "    var transformedDataView = mlContext.Transforms.Text.TokenizeIntoWords(\n",
    "        \"TokenizedText\", \"Text\").Fit(dataView).Transform(dataView);\n",
    "\n",
    "    var textColumn = transformedDataView.Schema[\"Text\"];\n",
    "    var tokensColumn = transformedDataView.Schema[\"TokenizedText\"];\n",
    "\n",
    "    using (var cursor = transformedDataView.GetRowCursor(\n",
    "        new[] { textColumn, tokensColumn }))\n",
    "\n",
    "    {\n",
    "        ReadOnlyMemory<char> textValue = default;\n",
    "        VBuffer<ReadOnlyMemory<char>> tokensValue = default;\n",
    "\n",
    "        var textGetter = cursor.GetGetter<ReadOnlyMemory<char>>(textColumn);\n",
    "        var tokensGetter = cursor.GetGetter<VBuffer<ReadOnlyMemory<char>>>(tokensColumn);\n",
    "\n",
    "        while (cursor.MoveNext())\n",
    "        {\n",
    "            textGetter(ref textValue);\n",
    "            tokensGetter(ref tokensValue);\n",
    "\n",
    "            Console.WriteLine(\n",
    "                $\"{textValue} => \" +\n",
    "                $\"{string.Join(\", \", tokensValue.DenseValues())}\");\n",
    "        }\n",
    "    }\n",
    "}"
   ]
  },
  {
   "cell_type": "code",
   "execution_count": null,
   "metadata": {
    "dotnet_interactive": {
     "language": "csharp"
    },
    "polyglot_notebook": {
     "kernelName": "csharp"
    }
   },
   "outputs": [],
   "source": [
    "using System;\n",
    "using System.Collections.Generic;\n",
    "using System.Linq;\n",
    "using Microsoft.ML;\n",
    "using Microsoft.ML.Data;\n",
    "\n",
    "public static class SimpleDataViewImplementation\n",
    "{\n",
    "    //... Existing code goes here\n",
    "\n",
    "    public static void Main()\n",
    "    {\n",
    "        Example();\n",
    "    }\n",
    "}\n",
    "\n",
    "SimpleDataViewImplementation.Main();"
   ]
  }
 ],
 "metadata": {},
 "nbformat": 4,
 "nbformat_minor": 5
}