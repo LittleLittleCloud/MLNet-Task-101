{
 "cells": [
  {
   "cell_type": "markdown",
   "metadata": {},
   "source": [
    "task name: MapKeyToVectorMultiColumn\n",
    "\n",
    "task description: Implement the MapKeyToVectorMultiColumn example using ML.NET\n"
   ]
  },
  {
   "cell_type": "markdown",
   "metadata": {},
   "source": [
    "task name: MapKeyToVectorMultiColumn\n",
    "task description: Implement the MapKeyToVectorMultiColumn example using ML.NET"
   ]
  },
  {
   "cell_type": "code",
   "execution_count": null,
   "metadata": {
    "dotnet_interactive": {
     "language": "csharp"
    },
    "polyglot_notebook": {
     "kernelName": "csharp"
    }
   },
   "outputs": [],
   "source": [
    "#r \"nuget:Microsoft.ML,1.6.0\""
   ]
  },
  {
   "cell_type": "code",
   "execution_count": null,
   "metadata": {
    "dotnet_interactive": {
     "language": "csharp"
    },
    "polyglot_notebook": {
     "kernelName": "csharp"
    }
   },
   "outputs": [],
   "source": [
    "using System;\n",
    "using System.Collections.Generic;\n",
    "using Microsoft.ML;\n",
    "using Microsoft.ML.Data;"
   ]
  },
  {
   "cell_type": "code",
   "execution_count": null,
   "metadata": {
    "dotnet_interactive": {
     "language": "csharp"
    },
    "polyglot_notebook": {
     "kernelName": "csharp"
    }
   },
   "outputs": [],
   "source": [
    "var mlContext = new MLContext();"
   ]
  },
  {
   "cell_type": "code",
   "execution_count": null,
   "metadata": {
    "dotnet_interactive": {
     "language": "csharp"
    },
    "polyglot_notebook": {
     "kernelName": "csharp"
    }
   },
   "outputs": [],
   "source": [
    "public class DataPoint\n",
    "{\n",
    "    [KeyType(10)]\n",
    "    public uint Timeframe { get; set; }\n",
    "\n",
    "    [KeyType(6)]\n",
    "    public uint Category { get; set; }\n",
    "}\n",
    "\n",
    "var rawData = new[] {\n",
    "    new DataPoint() { Timeframe = 9, Category = 5 },\n",
    "    new DataPoint() { Timeframe = 8, Category = 4 },\n",
    "    new DataPoint() { Timeframe = 8, Category = 4 },\n",
    "    new DataPoint() { Timeframe = 9, Category = 3 },\n",
    "    new DataPoint() { Timeframe = 2, Category = 3 },\n",
    "    new DataPoint() { Timeframe = 3, Category = 5 }\n",
    "};\n",
    "var data = mlContext.Data.LoadFromEnumerable(rawData);"
   ]
  },
  {
   "cell_type": "code",
   "execution_count": null,
   "metadata": {
    "dotnet_interactive": {
     "language": "csharp"
    },
    "polyglot_notebook": {
     "kernelName": "csharp"
    }
   },
   "outputs": [],
   "source": [
    "var pipeline = mlContext.Transforms.Conversion.MapKeyToVector(new[]{\n",
    "    new InputOutputColumnPair (\"TimeframeVector\", \"Timeframe\"),\n",
    "    new InputOutputColumnPair (\"CategoryVector\", \"Category\")\n",
    "});\n",
    "IDataView transformedData = pipeline.Fit(data).Transform(data);"
   ]
  },
  {
   "cell_type": "code",
   "execution_count": null,
   "metadata": {
    "dotnet_interactive": {
     "language": "csharp"
    },
    "polyglot_notebook": {
     "kernelName": "csharp"
    }
   },
   "outputs": [],
   "source": [
    "public class TransformedData : DataPoint\n",
    "{\n",
    "    public float[] TimeframeVector { get; set; }\n",
    "    public float[] CategoryVector { get; set; }\n",
    "}\n",
    "\n",
    "IEnumerable<TransformedData> features = mlContext.Data.CreateEnumerable<TransformedData>(transformedData, reuseRowObject: false);\n",
    "\n",
    "Console.WriteLine($\" Timeframe           TimeframeVector         \" +\n",
    "    $\"Category    CategoryVector\");\n",
    "\n",
    "foreach (var featureRow in features)\n",
    "    Console.WriteLine(featureRow.Timeframe + \"     \" +\n",
    "        string.Join(',', featureRow.TimeframeVector) + \"   \" +\n",
    "        featureRow.Category + \"      \" +\n",
    "        string.Join(',', featureRow.CategoryVector));"
   ]
  }
 ],
 "metadata": {},
 "nbformat": 4,
 "nbformat_minor": 5
}