{
 "cells": [
  {
   "cell_type": "markdown",
   "metadata": {},
   "source": [
    "task name: Implement LdSvm Example\n",
    "\n",
    "task description: Implement the provided C# code as a dotnet interactive notebook"
   ]
  },
  {
   "cell_type": "code",
   "execution_count": null,
   "metadata": {
    "dotnet_interactive": {
     "language": "csharp"
    },
    "polyglot_notebook": {
     "kernelName": "csharp"
    }
   },
   "outputs": [],
   "source": [
    "#r \"nuget:Microsoft.ML, 1.5.5\""
   ]
  },
  {
   "cell_type": "code",
   "execution_count": null,
   "metadata": {
    "dotnet_interactive": {
     "language": "csharp"
    },
    "polyglot_notebook": {
     "kernelName": "csharp"
    }
   },
   "outputs": [],
   "source": [
    "using System;\n",
    "using System.Collections.Generic;\n",
    "using System.Linq;\n",
    "using Microsoft.ML;\n",
    "using Microsoft.ML.Data;"
   ]
  },
  {
   "cell_type": "code",
   "execution_count": null,
   "metadata": {
    "dotnet_interactive": {
     "language": "csharp"
    },
    "polyglot_notebook": {
     "kernelName": "csharp"
    }
   },
   "outputs": [],
   "source": [
    "// step3: import all necessary namespaces\n",
    "using System;\n",
    "using System.Collections.Generic;\n",
    "using System.Linq;\n",
    "using Microsoft.ML;\n",
    "using Microsoft.ML.Data;\n"
   ]
  },
  {
   "cell_type": "code",
   "execution_count": null,
   "metadata": {
    "dotnet_interactive": {
     "language": "csharp"
    },
    "polyglot_notebook": {
     "kernelName": "csharp"
    }
   },
   "outputs": [],
   "source": [
    "// step3: import all necessary namespaces\n",
    "using System;\n",
    "using System.Collections.Generic;\n",
    "using System.Linq;\n",
    "using Microsoft.ML;\n",
    "using Microsoft.ML.Data;\n",
    "\n",
    "// step4: create MLContext and generate training data\n",
    "var mlContext = new MLContext(seed: 0);\n",
    "\n",
    "IEnumerable<DataPoint> GenerateRandomDataPoints(int count, int seed = 0)\n",
    "{\n",
    "    var random = new Random(seed);\n",
    "    float randomFloat() => (float)random.NextDouble();\n",
    "    for (int i = 0; i < count; i++)\n",
    "    {\n",
    "        var label = randomFloat() > 0.5f;\n",
    "        yield return new DataPoint\n",
    "        {\n",
    "            Label = label,\n",
    "            Features = Enumerable.Repeat(label, 50)\n",
    "                .Select(x => x ? randomFloat() : randomFloat() + 0.1f).ToArray()\n",
    "        };\n",
    "    }\n",
    "}\n",
    "\n",
    "var dataPoints = GenerateRandomDataPoints(1000);\n",
    "var trainingData = mlContext.Data.LoadFromEnumerable(dataPoints);\n",
    "\n",
    "// Class used to capture examples with label and feature values\n",
    "public class DataPoint\n",
    "{\n",
    "    public bool Label { get; set; }\n",
    "    [VectorType(50)]\n",
    "    public float[] Features { get; set; }\n",
    "}"
   ]
  },
  {
   "cell_type": "code",
   "execution_count": null,
   "metadata": {
    "dotnet_interactive": {
     "language": "csharp"
    },
    "polyglot_notebook": {
     "kernelName": "csharp"
    }
   },
   "outputs": [],
   "source": [
    "// step5: define the trainer and train the model\n",
    "var pipeline = mlContext.BinaryClassification.Trainers.LdSvm();\n",
    "var model = pipeline.Fit(trainingData);"
   ]
  }
 ],
 "metadata": {},
 "nbformat": 4,
 "nbformat_minor": 5
}