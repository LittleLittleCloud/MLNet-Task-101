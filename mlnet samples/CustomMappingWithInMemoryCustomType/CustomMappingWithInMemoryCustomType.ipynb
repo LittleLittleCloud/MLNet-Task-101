{
 "cells": [
  {
   "cell_type": "markdown",
   "metadata": {},
   "source": [
    "task name: Resolve CustomMappingWithInMemoryCustomType\n",
    "task description: Implement the provided C# code as a dotnet interactive notebook"
   ]
  },
  {
   "cell_type": "code",
   "execution_count": null,
   "metadata": {
    "dotnet_interactive": {
     "language": "csharp"
    },
    "polyglot_notebook": {
     "kernelName": "csharp"
    }
   },
   "outputs": [],
   "source": [
    "#r \"nuget:Microsoft.ML\"\r\n"
   ]
  },
  {
   "cell_type": "code",
   "execution_count": null,
   "metadata": {
    "dotnet_interactive": {
     "language": "csharp"
    },
    "polyglot_notebook": {
     "kernelName": "csharp"
    }
   },
   "outputs": [],
   "source": [
    "using System;\n",
    "using System.Collections.Generic;\n",
    "using System.Linq;\n",
    "using Microsoft.ML;\n",
    "using Microsoft.ML.Data;"
   ]
  },
  {
   "cell_type": "code",
   "execution_count": null,
   "metadata": {
    "dotnet_interactive": {
     "language": "csharp"
    },
    "polyglot_notebook": {
     "kernelName": "csharp"
    }
   },
   "outputs": [],
   "source": [
    "var mlContext = new MLContext();"
   ]
  },
  {
   "cell_type": "code",
   "execution_count": null,
   "metadata": {
    "dotnet_interactive": {
     "language": "csharp"
    },
    "polyglot_notebook": {
     "kernelName": "csharp"
    }
   },
   "outputs": [],
   "source": [
    "private class AlienBody\n",
    "{\n",
    "    public int Age { get; set; }\n",
    "    public float Height { get; set; }\n",
    "    public float Weight { get; set; }\n",
    "    public int HandCount { get; set; }\n",
    "\n",
    "    public AlienBody(int age, float height, float weight, int handCount)\n",
    "    {\n",
    "        Age = age;\n",
    "        Height = height;\n",
    "        Weight = weight;\n",
    "        HandCount = handCount;\n",
    "    }\n",
    "}\n",
    "\n",
    "private sealed class AlienTypeAttributeAttribute : DataViewTypeAttribute\n",
    "{\n",
    "    public int RaceId { get; }\n",
    "\n",
    "    public AlienTypeAttributeAttribute(int raceId)\n",
    "    {\n",
    "        RaceId = raceId;\n",
    "    }\n",
    "\n",
    "    public override void Register()\n",
    "    {\n",
    "        DataViewTypeManager.Register(new DataViewAlienBodyType(RaceId),\n",
    "            typeof(AlienBody), this);\n",
    "    }\n",
    "\n",
    "    public override bool Equals(DataViewTypeAttribute other)\n",
    "    {\n",
    "        if (other is AlienTypeAttributeAttribute alienTypeAttributeAttribute)\n",
    "            return RaceId == alienTypeAttributeAttribute.RaceId;\n",
    "        return false;\n",
    "    }\n",
    "\n",
    "    public override int GetHashCode() => RaceId.GetHashCode();\n",
    "}\n",
    "\n",
    "private class AlienHero\n",
    "{\n",
    "    public string Name { get; set; }\n",
    "\n",
    "    [AlienTypeAttribute(100)]\n",
    "    public AlienBody One { get; set; }\n",
    "\n",
    "    [AlienTypeAttribute(200)]\n",
    "    public AlienBody Two { get; set; }\n",
    "\n",
    "    public AlienHero()\n",
    "    {\n",
    "        Name = \"Unknown\";\n",
    "        One = new AlienBody(0, 0, 0, 0);\n",
    "        Two = new AlienBody(0, 0, 0, 0);\n",
    "    }\n",
    "\n",
    "    public AlienHero(string name,\n",
    "        int age, float height, float weight, int handCount,\n",
    "        int anotherAge, float anotherHeight, float anotherWeight, int\n",
    "            anotherHandCount)\n",
    "    {\n",
    "        Name = name;\n",
    "        One = new AlienBody(age, height, weight, handCount);\n",
    "        Two = new AlienBody(anotherAge, anotherHeight, anotherWeight,\n",
    "            anotherHandCount);\n",
    "    }\n",
    "}\n",
    "\n",
    "private class DataViewAlienBodyType : StructuredDataViewType\n",
    "{\n",
    "    public int RaceId { get; }\n",
    "\n",
    "    public DataViewAlienBodyType(int id) : base(typeof(AlienBody))\n",
    "    {\n",
    "        RaceId = id;\n",
    "    }\n",
    "\n",
    "    public override bool Equals(DataViewType other)\n",
    "    {\n",
    "        if (other is DataViewAlienBodyType otherAlien)\n",
    "            return otherAlien.RaceId == RaceId;\n",
    "        return false;\n",
    "    }\n",
    "\n",
    "    public override int GetHashCode()\n",
    "    {\n",
    "        return RaceId.GetHashCode();\n",
    "    }\n",
    "}\n",
    "\n",
    "private class SuperAlienHero\n",
    "{\n",
    "    public string Name { get; set; }\n",
    "\n",
    "    [AlienTypeAttribute(007)]\n",
    "    public AlienBody Merged { get; set; }\n",
    "\n",
    "    public SuperAlienHero()\n",
    "    {\n",
    "        Name = \"Unknown\";\n",
    "        Merged = new AlienBody(0, 0, 0, 0);\n",
    "    }\n",
    "}\n",
    "\n",
    "private class AlienFusionProcess\n",
    "{\n",
    "    public static void MergeBody(AlienHero input, SuperAlienHero output)\n",
    "    {\n",
    "        output.Name = \"Super \" + input.Name;\n",
    "        output.Merged.Age = input.One.Age + input.Two.Age;\n",
    "        output.Merged.Height = input.One.Height + input.Two.Height;\n",
    "        output.Merged.Weight = input.One.Weight + input.Two.Weight;\n",
    "        output.Merged.HandCount = input.One.HandCount + input.Two.HandCount;\n",
    "    }\n",
    "\n",
    "    public static Action<AlienHero, SuperAlienHero> GetMapping()\n",
    "    {\n",
    "        return MergeBody;\n",
    "    }\n",
    "}"
   ]
  },
  {
   "cell_type": "code",
   "execution_count": null,
   "metadata": {
    "dotnet_interactive": {
     "language": "csharp"
    },
    "polyglot_notebook": {
     "kernelName": "csharp"
    }
   },
   "outputs": [],
   "source": [
    "var tribe = new List<AlienHero>() { new AlienHero(\"ML.NET\", 2, 1000, 2000, 3000, 4000, 5000, 6000, 7000) };"
   ]
  },
  {
   "cell_type": "code",
   "execution_count": null,
   "metadata": {
    "dotnet_interactive": {
     "language": "csharp"
    },
    "polyglot_notebook": {
     "kernelName": "csharp"
    }
   },
   "outputs": [],
   "source": [
    "var tribeDataView = mlContext.Data.LoadFromEnumerable(tribe);\n",
    "var pipeline = mlContext.Transforms.CustomMapping(AlienFusionProcess\n",
    "            .GetMapping(), contractName: null);\n",
    "\n",
    "var model = pipeline.Fit(tribeDataView);\n",
    "var tribeTransformed = model.Transform(tribeDataView);"
   ]
  },
  {
   "cell_type": "code",
   "execution_count": null,
   "metadata": {
    "dotnet_interactive": {
     "language": "csharp"
    },
    "polyglot_notebook": {
     "kernelName": "csharp"
    }
   },
   "outputs": [],
   "source": [
    "var firstAlien = mlContext.Data.CreateEnumerable<SuperAlienHero>(tribeTransformed, false).First();\n",
    "\n",
    "Console.WriteLine(\"We got a super alien with name \" + firstAlien.Name + \", age \" + firstAlien.Merged.Age + \", \" + \"height \" + firstAlien.Merged.Height + \", weight  \" + firstAlien.Merged.Weight + \", and \" + firstAlien.Merged.HandCount + \" hands.\");"
   ]
  },
  {
   "cell_type": "code",
   "execution_count": null,
   "metadata": {
    "dotnet_interactive": {
     "language": "csharp"
    },
    "polyglot_notebook": {
     "kernelName": "csharp"
    }
   },
   "outputs": [],
   "source": [
    "var engine = mlContext.Model.CreatePredictionEngine<AlienHero, SuperAlienHero>(model);\n",
    "\n",
    "var alien = new AlienHero(\"TEN.LM\", 1, 2, 3, 4, 5, 6, 7, 8);\n",
    "var superAlien = engine.Predict(alien);\n",
    "Console.Write(\"We got a super alien with name \" + superAlien.Name + \", age \" + superAlien.Merged.Age + \", height \" + superAlien.Merged.Height + \", weight \" + superAlien.Merged.Weight + \", and \" + superAlien.Merged.HandCount + \" hands.\");"
   ]
  }
 ],
 "metadata": {},
 "nbformat": 4,
 "nbformat_minor": 5
}