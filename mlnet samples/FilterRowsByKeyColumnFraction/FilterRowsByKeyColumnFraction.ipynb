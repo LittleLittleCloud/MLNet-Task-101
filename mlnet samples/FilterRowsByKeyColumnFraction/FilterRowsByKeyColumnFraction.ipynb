{
 "cells": [
  {
   "cell_type": "markdown",
   "metadata": {},
   "source": [
    "task name: Resolve FilterRowsByKeyColumnFraction\n",
    "task description: Implement the provided C# code as a dotnet interactive notebook"
   ]
  },
  {
   "cell_type": "code",
   "execution_count": null,
   "metadata": {
    "dotnet_interactive": {
     "language": "csharp"
    },
    "polyglot_notebook": {
     "kernelName": "csharp"
    }
   },
   "outputs": [],
   "source": [
    "#r \"nuget:Microsoft.ML\"\r\n"
   ]
  },
  {
   "cell_type": "code",
   "execution_count": null,
   "metadata": {
    "dotnet_interactive": {
     "language": "csharp"
    },
    "polyglot_notebook": {
     "kernelName": "csharp"
    }
   },
   "outputs": [],
   "source": [
    "using System;\n",
    "using System.Collections.Generic;\n",
    "using Microsoft.ML;"
   ]
  },
  {
   "cell_type": "code",
   "execution_count": null,
   "metadata": {
    "dotnet_interactive": {
     "language": "csharp"
    },
    "polyglot_notebook": {
     "kernelName": "csharp"
    }
   },
   "outputs": [],
   "source": [
    "var mlContext = new MLContext();"
   ]
  },
  {
   "cell_type": "code",
   "execution_count": null,
   "metadata": {
    "dotnet_interactive": {
     "language": "csharp"
    },
    "polyglot_notebook": {
     "kernelName": "csharp"
    }
   },
   "outputs": [],
   "source": [
    "public class DataPoint\n",
    "{\n",
    "    public uint Age { get; set; }\n",
    "}"
   ]
  },
  {
   "cell_type": "code",
   "execution_count": null,
   "metadata": {
    "dotnet_interactive": {
     "language": "csharp"
    },
    "polyglot_notebook": {
     "kernelName": "csharp"
    }
   },
   "outputs": [],
   "source": [
    "var samples = new List<DataPoint>(){\n",
    "    new DataPoint(){ Age = 21 },\n",
    "    new DataPoint(){ Age = 40 },\n",
    "    new DataPoint(){ Age = 38 },\n",
    "    new DataPoint(){ Age = 22 },\n",
    "    new DataPoint(){ Age = 40 },\n",
    "    new DataPoint(){ Age = 40 },\n",
    "    new DataPoint(){ Age = 22 },\n",
    "    new DataPoint(){ Age = 21 }\n",
    "};"
   ]
  },
  {
   "cell_type": "code",
   "execution_count": null,
   "metadata": {
    "dotnet_interactive": {
     "language": "csharp"
    },
    "polyglot_notebook": {
     "kernelName": "csharp"
    }
   },
   "outputs": [],
   "source": [
    "var data = mlContext.Data.LoadFromEnumerable(samples);"
   ]
  },
  {
   "cell_type": "code",
   "execution_count": null,
   "metadata": {
    "dotnet_interactive": {
     "language": "csharp"
    },
    "polyglot_notebook": {
     "kernelName": "csharp"
    }
   },
   "outputs": [],
   "source": [
    "var pipeline = mlContext.Transforms.Conversion.MapValueToKey(\"Age\");\n",
    "var transformedData = pipeline.Fit(data).Transform(data);"
   ]
  },
  {
   "cell_type": "code",
   "execution_count": null,
   "metadata": {
    "dotnet_interactive": {
     "language": "csharp"
    },
    "polyglot_notebook": {
     "kernelName": "csharp"
    }
   },
   "outputs": [],
   "source": [
    "var filteredHalfData = mlContext.Data.FilterRowsByKeyColumnFraction(transformedData, columnName: \"Age\", lowerBound: 0, upperBound: 0.5);"
   ]
  },
  {
   "cell_type": "code",
   "execution_count": null,
   "metadata": {
    "dotnet_interactive": {
     "language": "csharp"
    },
    "polyglot_notebook": {
     "kernelName": "csharp"
    }
   },
   "outputs": [],
   "source": [
    "var filteredMiddleData = mlContext.Data.FilterRowsByKeyColumnFraction(transformedData, columnName: \"Age\", lowerBound: 0.3, upperBound: 0.6);"
   ]
  },
  {
   "cell_type": "code",
   "execution_count": null,
   "metadata": {
    "dotnet_interactive": {
     "language": "csharp"
    },
    "polyglot_notebook": {
     "kernelName": "csharp"
    }
   },
   "outputs": [],
   "source": [
    "var filteredHalfEnumerable = mlContext.Data.CreateEnumerable<DataPoint>(filteredHalfData, reuseRowObject: true);\n",
    "var filteredMiddleEnumerable = mlContext.Data.CreateEnumerable<DataPoint>(filteredMiddleData, reuseRowObject: true);\n",
    "foreach (var row in filteredHalfEnumerable)\n",
    "{\n",
    "    Console.WriteLine($\"{row.Age}\");\n",
    "}\n",
    "foreach (var row in filteredMiddleEnumerable)\n",
    "{\n",
    "    Console.WriteLine($\"{row.Age}\");\n",
    "}"
   ]
  }
 ],
 "metadata": {},
 "nbformat": 4,
 "nbformat_minor": 5
}