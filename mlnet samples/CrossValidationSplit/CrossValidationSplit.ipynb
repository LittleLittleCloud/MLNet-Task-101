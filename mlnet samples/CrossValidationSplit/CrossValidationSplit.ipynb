{
 "cells": [
  {
   "cell_type": "markdown",
   "metadata": {},
   "source": [
    "task name: Resolve CrossValidationSplit task\n",
    "task description: Implement the CrossValidationSplit example using the provided C# code"
   ]
  },
  {
   "cell_type": "code",
   "execution_count": null,
   "metadata": {
    "dotnet_interactive": {
     "language": "csharp"
    },
    "polyglot_notebook": {
     "kernelName": "csharp"
    }
   },
   "outputs": [],
   "source": [
    "#r \"nuget:Microsoft.ML\"\r\n"
   ]
  },
  {
   "cell_type": "code",
   "execution_count": null,
   "metadata": {
    "dotnet_interactive": {
     "language": "csharp"
    },
    "polyglot_notebook": {
     "kernelName": "csharp"
    }
   },
   "outputs": [],
   "source": [
    "using System;\n",
    "using System.Collections.Generic;\n",
    "using Microsoft.ML;"
   ]
  },
  {
   "cell_type": "code",
   "execution_count": null,
   "metadata": {
    "dotnet_interactive": {
     "language": "csharp"
    },
    "polyglot_notebook": {
     "kernelName": "csharp"
    }
   },
   "outputs": [],
   "source": [
    "var mlContext = new MLContext();"
   ]
  },
  {
   "cell_type": "code",
   "execution_count": null,
   "metadata": {
    "dotnet_interactive": {
     "language": "csharp"
    },
    "polyglot_notebook": {
     "kernelName": "csharp"
    }
   },
   "outputs": [],
   "source": [
    "private static IEnumerable<DataPoint> GenerateRandomDataPoints(int count, int seed = 0)\n",
    "{\n",
    "    var random = new Random(seed);\n",
    "    for (int i = 0; i < count; i++)\n",
    "    {\n",
    "        yield return new DataPoint\n",
    "        {\n",
    "            Group = i % 3,\n",
    "            Features = (float)random.NextDouble()\n",
    "        };\n",
    "    }\n",
    "}\n",
    "\n",
    "private class DataPoint\n",
    "{\n",
    "    public float Group { get; set; }\n",
    "    public float Features { get; set; }\n",
    "}\n",
    "\n",
    "var examples = GenerateRandomDataPoints(10);\n",
    "var dataview = mlContext.Data.LoadFromEnumerable(examples);"
   ]
  },
  {
   "cell_type": "code",
   "execution_count": null,
   "metadata": {
    "dotnet_interactive": {
     "language": "csharp"
    },
    "polyglot_notebook": {
     "kernelName": "csharp"
    }
   },
   "outputs": [],
   "source": [
    "var folds = mlContext.Data\n",
    "            .CrossValidationSplit(dataview, numberOfFolds: 3,\n",
    "            samplingKeyColumnName: \"Group\");"
   ]
  },
  {
   "cell_type": "code",
   "execution_count": null,
   "metadata": {
    "dotnet_interactive": {
     "language": "csharp"
    },
    "polyglot_notebook": {
     "kernelName": "csharp"
    }
   },
   "outputs": [],
   "source": [
    "private static void PrintPreviewRows(IEnumerable<DataPoint> trainSet, IEnumerable<DataPoint> testSet)\r\n",
    "{\r\n",
    "    Console.WriteLine($\"The data in the Train split.\");\r\n",
    "    foreach (var row in trainSet)\r\n",
    "        Console.WriteLine($\"{row.Group}, {row.Features}\");\r\n",
    "\r\n",
    "    Console.WriteLine($\"\\nThe data in the Test split.\");\r\n",
    "    foreach (var row in testSet)\r\n",
    "        Console.WriteLine($\"{row.Group}, {row.Features}\");\r\n",
    "}\r\n",
    "\r\n",
    "var trainSet = mlContext.Data\r\n",
    "            .CreateEnumerable<DataPoint>(folds[0].TrainSet,\r\n",
    "            reuseRowObject: false);\r\n",
    "\r\n",
    "var testSet = mlContext.Data\r\n",
    "            .CreateEnumerable<DataPoint>(folds[0].TestSet,\r\n",
    "            reuseRowObject: false);\r\n",
    "\r\n",
    "PrintPreviewRows(trainSet, testSet);"
   ]
  },
  {
   "cell_type": "markdown",
   "metadata": {},
   "source": [
    "From admin:\n",
    "\n",
    "The dotnet interactive notebook has been successfully created and all the required cells have been added."
   ]
  }
 ],
 "metadata": {},
 "nbformat": 4,
 "nbformat_minor": 5
}