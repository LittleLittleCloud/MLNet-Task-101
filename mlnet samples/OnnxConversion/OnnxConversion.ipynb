{
 "cells": [
  {
   "cell_type": "markdown",
   "metadata": {},
   "source": [
    "task name: Resolve OnnxConversion Task\n",
    "\n",
    "task description: Implement the provided C# code as a dotnet interactive notebook"
   ]
  },
  {
   "cell_type": "code",
   "execution_count": null,
   "metadata": {
    "dotnet_interactive": {
     "language": "csharp"
    },
    "polyglot_notebook": {
     "kernelName": "csharp"
    }
   },
   "outputs": [],
   "source": [
    "#r \"nuget:Microsoft.ML\"\r\n"
   ]
  },
  {
   "cell_type": "code",
   "execution_count": null,
   "metadata": {
    "dotnet_interactive": {
     "language": "csharp"
    },
    "polyglot_notebook": {
     "kernelName": "csharp"
    }
   },
   "outputs": [],
   "source": [
    "using System;\n",
    "using System.Collections.Generic;\n",
    "using System.IO;\n",
    "using System.Linq;\n",
    "using Microsoft.ML;\n",
    "using Microsoft.ML.Data;"
   ]
  },
  {
   "cell_type": "code",
   "execution_count": null,
   "metadata": {
    "dotnet_interactive": {
     "language": "csharp"
    },
    "polyglot_notebook": {
     "kernelName": "csharp"
    }
   },
   "outputs": [],
   "source": [
    "var mlContext = new MLContext(seed: 0);"
   ]
  },
  {
   "cell_type": "code",
   "execution_count": null,
   "metadata": {
    "dotnet_interactive": {
     "language": "csharp"
    },
    "polyglot_notebook": {
     "kernelName": "csharp"
    }
   },
   "outputs": [],
   "source": [
    "var wholePipeline = mlContext.Transforms.CopyColumns(\"Label\", \"IsOver50K\")\n",
    "                    .Append(mlContext.Transforms.Categorical.OneHotEncoding(\"workclass\"))\n",
    "                    .Append(mlContext.Transforms.Categorical.OneHotEncoding(\"education\"))\n",
    "                    .Append(mlContext.Transforms.Categorical.OneHotEncoding(\"marital-status\"))\n",
    "                    .Append(mlContext.Transforms.Categorical.OneHotEncoding(\"occupation\"))\n",
    "                    .Append(mlContext.Transforms.Categorical.OneHotEncoding(\"relationship\"))\n",
    "                    .Append(mlContext.Transforms.Categorical.OneHotEncoding(\"ethnicity\"))\n",
    "                    .Append(mlContext.Transforms.Categorical.OneHotEncoding(\"native-country\"))\n",
    "                    .Append(mlContext.Transforms.Concatenate(\"Features\", \"workclass\", \"education\", \"marital-status\",\n",
    "                    \"occupation\", \"relationship\", \"ethnicity\", \"native-country\", \"age\", \"education-num\",\n",
    "                    \"capital-gain\", \"capital-loss\", \"hours-per-week\"))\n",
    "                    .Append(mlContext.Transforms.NormalizeMinMax(\"Features\"))\n",
    "                    .Append(mlContext.BinaryClassification.Trainers.AveragedPerceptron());"
   ]
  }
 ],
 "metadata": {},
 "nbformat": 4,
 "nbformat_minor": 5
}