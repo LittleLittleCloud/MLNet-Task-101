{
 "cells": [
  {
   "cell_type": "markdown",
   "metadata": {},
   "source": [
    "# Training titanic using AutoML\n",
    "\n",
    "Train a classification model on titanic.csv and save it to titanic.mlnet, the path to titanic.csv is \"D:\\dataset\\titanic.csv\". Once completed, print 'task resolved' in the end."
   ]
  },
  {
   "cell_type": "markdown",
   "metadata": {},
   "source": [
    "## Description\n",
    "\n",
    "Train a classification model on titanic.csv and save it to titanic.mlnet, the path to titanic.csv is \"D:\\dataset\\titanic.csv\". Once completed, print 'task resolved' in the end."
   ]
  },
  {
   "cell_type": "code",
   "execution_count": null,
   "metadata": {
    "dotnet_interactive": {
     "language": "csharp"
    },
    "polyglot_notebook": {
     "kernelName": "csharp"
    }
   },
   "outputs": [],
   "source": [
    "#r \"nuget:Microsoft.ML.AutoML\"\r\n",
    "#r \"nuget:Microsoft.ML\"\r\n"
   ]
  },
  {
   "cell_type": "code",
   "execution_count": null,
   "metadata": {
    "dotnet_interactive": {
     "language": "csharp"
    },
    "polyglot_notebook": {
     "kernelName": "csharp"
    }
   },
   "outputs": [],
   "source": [
    "using System;\n",
    "using Microsoft.ML;\n",
    "using Microsoft.ML.AutoML;\n",
    "using Microsoft.ML.Data;\n",
    "\n",
    "public class TitanicData\n",
    "{\n",
    "    [LoadColumn(0)]\n",
    "    public float PassengerId { get; set; }\n",
    "    \n",
    "    [LoadColumn(1)]\n",
    "    public bool Survived { get; set; }\n",
    "    \n",
    "    [LoadColumn(2)]\n",
    "    public float Pclass { get; set; }\n",
    "    \n",
    "    [LoadColumn(3)]\n",
    "    public string Name { get; set; }\n",
    "    \n",
    "    [LoadColumn(4)]\n",
    "    public string Sex { get; set; }\n",
    "    \n",
    "    [LoadColumn(5)]\n",
    "    public float Age { get; set; }\n",
    "    \n",
    "    [LoadColumn(6)]\n",
    "    public float SibSp { get; set; }\n",
    "    \n",
    "    [LoadColumn(7)]\n",
    "    public float Parch { get; set; }\n",
    "    \n",
    "    [LoadColumn(8)]\n",
    "    public string Ticket { get; set; }\n",
    "    \n",
    "    [LoadColumn(9)]\n",
    "    public float Fare { get; set; }\n",
    "    \n",
    "    [LoadColumn(10)]\n",
    "    public string Cabin { get; set; }\n",
    "    \n",
    "    [LoadColumn(11)]\n",
    "    public string Embarked { get; set; }\n",
    "}\n",
    "\n",
    "var context = new MLContext();\n",
    "var data = context.Data.LoadFromTextFile<TitanicData>(\"D:\\\\dataset\\\\titanic.csv\", hasHeader: true, separatorChar: ',');\n",
    "\n",
    "var settings = new BinaryExperimentSettings\n",
    "{\n",
    "    MaxExperimentTimeInSeconds = 600\n",
    "};\n",
    "\n",
    "var experiment = context.Auto().CreateBinaryClassificationExperiment(settings);\n",
    "var result = experiment.Execute(data, labelColumnName: \"Survived\");\n",
    "\n",
    "context.Model.Save(result.BestRun.Model, data.Schema, \"titanic.mlnet\");\n",
    "\n",
    "Console.WriteLine(\"task resolved\");"
   ]
  }
 ],
 "metadata": {},
 "nbformat": 4,
 "nbformat_minor": 5
}