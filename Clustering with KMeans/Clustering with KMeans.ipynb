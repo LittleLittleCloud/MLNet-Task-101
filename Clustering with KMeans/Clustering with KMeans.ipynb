{
 "cells": [
  {
   "cell_type": "markdown",
   "metadata": {},
   "source": [
    "# Clustering with KMeans\n",
    "\n",
    "## Task Description\n",
    "\n",
    "Create a dummy dataset with 3 different labels: [a, b, c] and cluster them using KMeans. Then classify the dummy dataset using kmeans model and print out the rows of the first cluster. Finally save the kmeans model to kmeans.mlnet. Once completed, print 'task resolved' in the end."
   ]
  },
  {
   "cell_type": "markdown",
   "metadata": {},
   "source": [
    "## Task Description\n",
    "\n",
    "Create a dummy dataset with 3 different labels: [a, b, c] and cluster them using KMeans. Then classify the dummy dataset using kmeans model and print out the rows of the first cluster. Finally save the kmeans model to kmeans.mlnet. Once completed, print 'task resolved' in the end."
   ]
  },
  {
   "cell_type": "code",
   "execution_count": null,
   "metadata": {
    "dotnet_interactive": {
     "language": "csharp"
    },
    "polyglot_notebook": {
     "kernelName": "csharp"
    }
   },
   "outputs": [],
   "source": [
    "#r \"nuget:Microsoft.ML\"\r\n"
   ]
  },
  {
   "cell_type": "code",
   "execution_count": null,
   "metadata": {
    "dotnet_interactive": {
     "language": "csharp"
    },
    "polyglot_notebook": {
     "kernelName": "csharp"
    }
   },
   "outputs": [],
   "source": [
    "using System;\n",
    "using System.Collections.Generic;\n",
    "using System.Linq;\n",
    "using Microsoft.ML;\n",
    "using Microsoft.ML.Data;\n",
    "\n",
    "var mlContext = new MLContext(seed: 0);\n",
    "\n",
    "// Create a list of training data points.\n",
    "var dataPoints = GenerateRandomDataPoints(1000, 123);\n",
    "\n",
    "// Convert the list of data points to an IDataView object, which is\n",
    "// consumable by ML.NET API.\n",
    "IDataView trainingData = mlContext.Data.LoadFromEnumerable(dataPoints);\n",
    "\n",
    "// Define the trainer.\n",
    "var pipeline = mlContext.Clustering.Trainers.KMeans(\n",
    "    numberOfClusters: 3);\n",
    "\n",
    "// Train the model.\n",
    "var model = pipeline.Fit(trainingData);\n",
    "\n",
    "// Create testing data. Use a different random seed to make it different\n",
    "// from the training data.\n",
    "var testData = mlContext.Data.LoadFromEnumerable(\n",
    "    GenerateRandomDataPoints(500, seed: 123));\n",
    "\n",
    "// Run the model on test data set.\n",
    "var transformedTestData = model.Transform(testData);\n",
    "\n",
    "// Convert IDataView object to a list.\n",
    "var predictions = mlContext.Data.CreateEnumerable<Prediction>(\n",
    "    transformedTestData, reuseRowObject: false).ToList();\n",
    "\n",
    "// Print 5 predictions. Note that the label is only used as a comparison\n",
    "// with the predicted label. It is not used during training.\n",
    "foreach (var p in predictions.Where(x => x.PredictedLabel == 1))\n",
    "    Console.WriteLine(\n",
    "        $\"Label: {p.Label}, Prediction: {p.PredictedLabel}\");\n",
    "\n",
    "// Save the model\n",
    "mlContext.Model.Save(model, trainingData.Schema, \"kmeans.mlnet\");\n",
    "\n",
    "Console.WriteLine(\"task resolved\");\n",
    "\n",
    "private static IEnumerable<DataPoint> GenerateRandomDataPoints(int count,\n",
    "    int seed = 0)\n",
    "{\n",
    "    var random = new Random(seed);\n",
    "    float randomFloat() => (float)random.NextDouble();\n",
    "    for (int i = 0; i < count; i++)\n",
    "    {\n",
    "        int label = i < count / 3 ? 0 : (i < 2 * count / 3 ? 1 : 2);\n",
    "        yield return new DataPoint\n",
    "        {\n",
    "            Label = (uint)label,\n",
    "            // Create random features with three clusters.\n",
    "            // The first third has feature values centered around 0.6, \n",
    "            // the second third has values centered around 0.4,\n",
    "            // and the last third has values centered around 0.2.\n",
    "            Features = Enumerable.Repeat(label, 50)\n",
    "                .Select(index => label == 0 ? randomFloat() + 0.1f :\n",
    "                    (label == 1 ? randomFloat() : randomFloat() - 0.1f)).ToArray()\n",
    "        };\n",
    "    }\n",
    "}\n",
    "\n",
    "// Example with label and 50 feature values. A data set is a collection of\n",
    "// such examples.\n",
    "private class DataPoint\n",
    "{\n",
    "    // The label is not used during training, just for comparison with the\n",
    "    // predicted label.\n",
    "    [KeyType(3)]\n",
    "    public uint Label { get; set; }\n",
    "\n",
    "    [VectorType(50)]\n",
    "    public float[] Features { get; set; }\n",
    "}\n",
    "\n",
    "// Class used to capture predictions.\n",
    "private class Prediction\n",
    "{\n",
    "    // Original label (not used during training, just for comparison).\n",
    "    public uint Label { get; set; }\n",
    "    // Predicted label from the trainer.\n",
    "    public uint PredictedLabel { get; set; }\n",
    "}"
   ]
  }
 ],
 "metadata": {},
 "nbformat": 4,
 "nbformat_minor": 5
}