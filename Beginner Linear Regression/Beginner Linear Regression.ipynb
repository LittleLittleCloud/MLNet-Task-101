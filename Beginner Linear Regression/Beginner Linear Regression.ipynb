{
 "cells": [
  {
   "cell_type": "markdown",
   "metadata": {},
   "source": [
    "# Beginner Linear Regression\n",
    "\n",
    "## Task Description\n",
    "Create a dummy numeric dataset containing two features X and Y and implement simple linear regression. Calculate the coefficients of the regression line. Save the model to simpleRegression.mlnet for future use. Once completed, print 'task resolved' in the end."
   ]
  },
  {
   "cell_type": "code",
   "execution_count": null,
   "id": "54d241b2",
   "metadata": {
    "dotnet_interactive": {
     "language": "csharp"
    },
    "polyglot_notebook": {
     "kernelName": "csharp"
    },
    "vscode": {
     "languageId": "polyglot-notebook"
    }
   },
   "outputs": [],
   "source": [
    "#r \"nuget:Microsoft.ML\"\n"
   ]
  },
  {
   "cell_type": "code",
   "execution_count": null,
   "id": "638bba29",
   "metadata": {
    "dotnet_interactive": {
     "language": "csharp"
    },
    "polyglot_notebook": {
     "kernelName": "csharp"
    },
    "vscode": {
     "languageId": "polyglot-notebook"
    }
   },
   "outputs": [],
   "source": [
    "using System;\n",
    "using System.Collections.Generic;\n",
    "using System.Linq;\n",
    "using Microsoft.ML;\n",
    "using Microsoft.ML.Data;\n",
    "\n",
    "// Define data structure\n",
    "public class InputData\n",
    "{\n",
    "    [LoadColumn(0)] public float X;\n",
    "    [LoadColumn(1)] public float Y;\n",
    "}\n",
    "\n",
    "public class OutputData\n",
    "{\n",
    "    public float Score;\n",
    "}\n",
    "\n",
    "// Create dummy dataset\n",
    "var data = new List<InputData>\n",
    "{\n",
    "    new InputData { X = 1, Y = 2 },\n",
    "    new InputData { X = 2, Y = 3 },\n",
    "    new InputData { X = 3, Y = 1 },\n",
    "    new InputData { X = 4, Y = 8 },\n",
    "    new InputData { X = 5, Y = 5 },\n",
    "};\n",
    "\n",
    "// Create MLContext\n",
    "var context = new MLContext();\n",
    "\n",
    "// Load data into IDataView\n",
    "var dataView = context.Data.LoadFromEnumerable(data);\n",
    "\n",
    "// Define pipeline\n",
    "var pipeline = context.Transforms.Concatenate(\"Features\", \"X\")\n",
    "    .Append(context.Transforms.NormalizeMinMax(\"Features\"))\n",
    "    .Append(context.Transforms.CopyColumns(\"Label\", \"Y\"))\n",
    "    .Append(context.Transforms.NormalizeMinMax(\"Label\"))\n",
    "    .Append(context.Regression.Trainers.Sdca(labelColumnName: \"Label\", featureColumnName: \"Features\", maximumNumberOfIterations: 100))\n",
    "    .Append(context.Transforms.CopyColumns(\"Score\", \"Score\"));\n",
    "\n",
    "// Train the model\n",
    "var model = pipeline.Fit(dataView);\n",
    "\n",
    "// Save the model\n",
    "context.Model.Save(model, dataView.Schema, \"simpleRegression.mlnet\");\n",
    "\n",
    "Console.WriteLine(\"task resolved\");"
   ]
  }
 ],
 "metadata": {
  "language_info": {
   "name": "python"
  }
 },
 "nbformat": 4,
 "nbformat_minor": 5
}
