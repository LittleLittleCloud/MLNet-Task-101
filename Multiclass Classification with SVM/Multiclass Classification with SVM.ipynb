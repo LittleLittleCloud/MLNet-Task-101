{
 "cells": [
  {
   "cell_type": "markdown",
   "metadata": {},
   "source": [
    "# Multiclass Classification with SVM\n",
    "\n",
    "Load a multiclass classification dataset and train a support vector machine (SVM) model. Classify the dataset using the trained model and print out the accuracy. Save the SVM model to svm.mlnet. Once completed, print 'task resolved' in the end."
   ]
  },
  {
   "cell_type": "markdown",
   "metadata": {},
   "source": [
    "## Task Description\n",
    "\n",
    "Load a multiclass classification dataset and train a support vector machine (SVM) model. Classify the dataset using the trained model and print out the accuracy. Save the SVM model to svm.mlnet. Once completed, print 'task resolved' in the end."
   ]
  },
  {
   "cell_type": "code",
   "execution_count": null,
   "metadata": {
    "dotnet_interactive": {
     "language": "csharp"
    },
    "polyglot_notebook": {
     "kernelName": "csharp"
    }
   },
   "outputs": [],
   "source": [
    "#r \"nuget:Microsoft.ML\"\r\n"
   ]
  },
  {
   "cell_type": "code",
   "execution_count": null,
   "metadata": {
    "dotnet_interactive": {
     "language": "csharp"
    },
    "polyglot_notebook": {
     "kernelName": "csharp"
    }
   },
   "outputs": [],
   "source": [
    "using System;\n",
    "using System.Collections.Generic;\n",
    "using System.Linq;\n",
    "using Microsoft.ML;\n",
    "using Microsoft.ML.Data;\n",
    "using Microsoft.ML.Trainers;\n",
    "\n",
    "var mlContext = new MLContext(seed: 0);\n",
    "\n",
    "// Generate random data\n",
    "var dataPoints = GenerateRandomDataPoints(1000);\n",
    "var data = mlContext.Data.LoadFromEnumerable(dataPoints);\n",
    "\n",
    "// Map the label to key\n",
    "var pipeline = mlContext.Transforms.Conversion.MapValueToKey(\"Label\")\n",
    "    .Append(mlContext.MulticlassClassification.Trainers.SdcaNonCalibrated())\n",
    "    .Append(mlContext.Transforms.Conversion.MapKeyToValue(\"PredictedLabel\"));\n",
    "\n",
    "// Train the model\n",
    "var model = pipeline.Fit(data);\n",
    "\n",
    "// Evaluate the model\n",
    "var transformedData = model.Transform(data);\n",
    "var metrics = mlContext.MulticlassClassification.Evaluate(transformedData);\n",
    "Console.WriteLine($\"Accuracy: {metrics.MacroAccuracy}\");\n",
    "\n",
    "// Save the model\n",
    "mlContext.Model.Save(model, data.Schema, \"svm.mlnet\");\n",
    "\n",
    "Console.WriteLine(\"task resolved\");\n",
    "\n",
    "public class ModelInput\n",
    "{\n",
    "    [ColumnName(\"Label\"), LoadColumn(0)]\n",
    "    public string Label { get; set; }\n",
    "\n",
    "    [LoadColumn(1, 50)]\n",
    "    [VectorType(50)]\n",
    "    public float[] Features { get; set; }\n",
    "}\n",
    "\n",
    "private static IEnumerable<ModelInput> GenerateRandomDataPoints(int count, int seed = 0)\n",
    "{\n",
    "    var random = new Random(seed);\n",
    "    float randomFloat() => (float)random.NextDouble();\n",
    "    for (int i = 0; i < count; i++)\n",
    "    {\n",
    "        var label = randomFloat() > 0.5f ? \"1\" : \"0\";\n",
    "        yield return new ModelInput\n",
    "        {\n",
    "            Label = label,\n",
    "            Features = Enumerable.Repeat(label, 50).Select(x => x == \"1\" ? randomFloat() : randomFloat() + 0.1f).ToArray()\n",
    "        };\n",
    "    }\n",
    "}"
   ]
  }
 ],
 "metadata": {},
 "nbformat": 4,
 "nbformat_minor": 5
}