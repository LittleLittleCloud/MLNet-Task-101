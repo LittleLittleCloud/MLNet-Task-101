{
 "cells": [
  {
   "cell_type": "markdown",
   "metadata": {},
   "source": [
    "# Feature Scalings\n",
    "\n",
    "Create a dummy dataset with large range difference in values across features. Apply feature scaling methods such as MinMax scaling and Standard scaling and compare. Save the transform model to featureScaling.mlnet. Once completed, print 'task resolved' in the end."
   ]
  },
  {
   "cell_type": "code",
   "execution_count": null,
   "metadata": {
    "dotnet_interactive": {
     "language": "csharp"
    },
    "polyglot_notebook": {
     "kernelName": "csharp"
    }
   },
   "outputs": [],
   "source": [
    "#r \"nuget:Microsoft.ML\"\r\n"
   ]
  },
  {
   "cell_type": "code",
   "execution_count": null,
   "metadata": {
    "dotnet_interactive": {
     "language": "csharp"
    },
    "polyglot_notebook": {
     "kernelName": "csharp"
    }
   },
   "outputs": [],
   "source": [
    "using System;\n",
    "using System.Collections.Generic;\n",
    "using System.Linq;\n",
    "using Microsoft.ML;\n",
    "using Microsoft.ML.Data;\n",
    "\n",
    "// Define the data schema\n",
    "public class InputData\n",
    "{\n",
    "    [LoadColumn(0)] public float Feature1;\n",
    "    [LoadColumn(1)] public float Feature2;\n",
    "}\n",
    "\n",
    "public class TransformedData\n",
    "{\n",
    "    public float NormalizedFeature1;\n",
    "    public float NormalizedFeature2;\n",
    "    public float StandardizedFeature1;\n",
    "    public float StandardizedFeature2;\n",
    "}\n",
    "\n",
    "// Create a dummy dataset\n",
    "var data = new List<InputData>\n",
    "{\n",
    "    new InputData { Feature1 = 1, Feature2 = 100 },\n",
    "    new InputData { Feature1 = 2, Feature2 = 200 },\n",
    "    new InputData { Feature1 = 3, Feature2 = 300 },\n",
    "    new InputData { Feature1 = 4, Feature2 = 400 },\n",
    "    new InputData { Feature1 = 5, Feature2 = 500 }\n",
    "};\n",
    "\n",
    "// Create a new MLContext\n",
    "var context = new MLContext();\n",
    "\n",
    "// Load the data into IDataView\n",
    "var dataView = context.Data.LoadFromEnumerable(data);\n",
    "\n",
    "// Define the pipeline\n",
    "var pipeline = context.Transforms.NormalizeMinMax(\"NormalizedFeature1\", \"Feature1\")\n",
    "    .Append(context.Transforms.NormalizeMinMax(\"NormalizedFeature2\", \"Feature2\"))\n",
    "    .Append(context.Transforms.NormalizeMeanVariance(\"StandardizedFeature1\", \"Feature1\"))\n",
    "    .Append(context.Transforms.NormalizeMeanVariance(\"StandardizedFeature2\", \"Feature2\"));\n",
    "\n",
    "// Fit the pipeline\n",
    "var transformer = pipeline.Fit(dataView);\n",
    "\n",
    "// Transform the data\n",
    "var transformedData = transformer.Transform(dataView);\n",
    "\n",
    "// Save the transform model\n",
    "context.Model.Save(transformer, dataView.Schema, \"featureScaling.mlnet\");\n",
    "\n",
    "// Print the transformed data\n",
    "var transformedDataList = context.Data.CreateEnumerable<TransformedData>(transformedData, reuseRowObject: false).ToList();\n",
    "foreach (var item in transformedDataList)\n",
    "{\n",
    "    Console.WriteLine($\"NormalizedFeature1: {item.NormalizedFeature1}, NormalizedFeature2: {item.NormalizedFeature2}, StandardizedFeature1: {item.StandardizedFeature1}, StandardizedFeature2: {item.StandardizedFeature2}\");\n",
    "}\n",
    "\n",
    "Console.WriteLine(\"task resolved\");"
   ]
  }
 ],
 "metadata": {},
 "nbformat": 4,
 "nbformat_minor": 5
}