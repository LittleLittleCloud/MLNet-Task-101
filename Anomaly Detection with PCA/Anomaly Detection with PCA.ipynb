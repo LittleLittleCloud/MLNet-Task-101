{
 "cells": [
  {
   "cell_type": "markdown",
   "metadata": {},
   "source": [
    "# Anomaly Detection with PCA\n",
    "\n",
    "Load an anomaly detection dataset and apply the PCA algorithm to reduce the dimensionality. Train an anomaly detection model using the reduced dataset. Classify the dataset using the trained model and print out the rows classified as anomalies. Save the anomaly detection model to anomaly_detection.mlnet. Once completed, print 'task resolved' in the end."
   ]
  },
  {
   "cell_type": "code",
   "execution_count": null,
   "metadata": {
    "dotnet_interactive": {
     "language": "csharp"
    },
    "polyglot_notebook": {
     "kernelName": "csharp"
    }
   },
   "outputs": [],
   "source": [
    "#r \"nuget:Microsoft.ML\"\r\n"
   ]
  },
  {
   "cell_type": "code",
   "execution_count": null,
   "metadata": {
    "dotnet_interactive": {
     "language": "csharp"
    },
    "polyglot_notebook": {
     "kernelName": "csharp"
    }
   },
   "outputs": [],
   "source": [
    "using System;\n",
    "using System.Collections.Generic;\n",
    "using System.Linq;\n",
    "using Microsoft.ML;\n",
    "using Microsoft.ML.Data;\n",
    "\n",
    "var mlContext = new MLContext(seed: 0);\n",
    "\n",
    "// Load your data\n",
    "// This is where you need to load your anomaly detection dataset\n",
    "// For the sake of this example, I'm using a simple list of DataPoints\n",
    "var samples = new List<DataPoint>()\n",
    "{\n",
    "    new DataPoint(){ Features = new float[3] {0, 2, 1} },\n",
    "    new DataPoint(){ Features = new float[3] {0, 2, 1} },\n",
    "    new DataPoint(){ Features = new float[3] {0, 2, 1} },\n",
    "    new DataPoint(){ Features = new float[3] {0, 1, 2} },\n",
    "    new DataPoint(){ Features = new float[3] {0, 2, 1} },\n",
    "    new DataPoint(){ Features = new float[3] {2, 0, 0} }\n",
    "};\n",
    "\n",
    "var data = mlContext.Data.LoadFromEnumerable(samples);\n",
    "\n",
    "// Apply PCA\n",
    "var pipeline = mlContext.AnomalyDetection.Trainers.RandomizedPca(\n",
    "    featureColumnName: nameof(DataPoint.Features), rank: 1,\n",
    "        ensureZeroMean: false);\n",
    "\n",
    "// Train the model\n",
    "var model = pipeline.Fit(data);\n",
    "\n",
    "// Apply the trained model on the training data\n",
    "var transformed = model.Transform(data);\n",
    "\n",
    "// Read ML.NET predictions into IEnumerable<Result>\n",
    "var results = mlContext.Data.CreateEnumerable<Result>(transformed,\n",
    "    reuseRowObject: false).ToList();\n",
    "\n",
    "// Print out the rows classified as anomalies\n",
    "for (int i = 0; i < samples.Count; ++i)\n",
    "{\n",
    "    var result = results[i];\n",
    "    var featuresInText = string.Join(',', samples[i].Features);\n",
    "\n",
    "    if (result.PredictedLabel)\n",
    "        Console.WriteLine($\"The {i}-th example with features [{featuresInText}] is an outlier with a score of being inlier {result.Score}\");\n",
    "}\n",
    "\n",
    "// Save the model\n",
    "mlContext.Model.Save(model, data.Schema, \"anomaly_detection.mlnet\");\n",
    "\n",
    "Console.WriteLine(\"task resolved\");\n",
    "\n",
    "class DataPoint\n",
    "{\n",
    "    [VectorType(3)]\n",
    "    public float[] Features { get; set; }\n",
    "}\n",
    "\n",
    "class Result\n",
    "{\n",
    "    public bool PredictedLabel { get; set; }\n",
    "    public float Score { get; set; }\n",
    "}"
   ]
  }
 ],
 "metadata": {},
 "nbformat": 4,
 "nbformat_minor": 5
}