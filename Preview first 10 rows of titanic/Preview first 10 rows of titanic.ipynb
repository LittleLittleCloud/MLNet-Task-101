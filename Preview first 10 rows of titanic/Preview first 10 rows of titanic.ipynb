{
 "cells": [
  {
   "cell_type": "markdown",
   "metadata": {},
   "source": [
    "# Preview first 10 rows of titanic\n",
    "\n",
    "Using mlnet DataFrame to preview the first 10 row of dataset titanic.csv and save it to titanic-10.csv, the path to titanic.csv is \"D:\\dataset\\titanic.csv\". Once completed, print 'task resolved' in the end."
   ]
  },
  {
   "cell_type": "code",
   "execution_count": null,
   "metadata": {
    "dotnet_interactive": {
     "language": "csharp"
    },
    "polyglot_notebook": {
     "kernelName": "csharp"
    }
   },
   "outputs": [],
   "source": [
    "#r \"nuget:Microsoft.Data.Analysis\"\r\n"
   ]
  },
  {
   "cell_type": "code",
   "execution_count": null,
   "metadata": {
    "dotnet_interactive": {
     "language": "csharp"
    },
    "polyglot_notebook": {
     "kernelName": "csharp"
    }
   },
   "outputs": [],
   "source": [
    "using Microsoft.Data.Analysis;\n",
    "using System.IO;\n",
    "using System.Text;\n",
    "\n",
    "var titanicDataFrame = DataFrame.LoadCsv(@\"D:\\dataset\\titanic.csv\");\n",
    "var first10Rows = titanicDataFrame.Head(10);\n",
    "\n",
    "var sb = new StringBuilder();\n",
    "var headers = string.Join(',', first10Rows.Columns.Select(x => x.Name));\n",
    "sb.AppendLine(headers);\n",
    "\n",
    "for (long i = 0; i < first10Rows.Rows.Count; i++)\n",
    "{\n",
    "    var row = string.Join(',', first10Rows.Rows[i].ToArray());\n",
    "    sb.AppendLine(row);\n",
    "}\n",
    "\n",
    "File.WriteAllText(\"titanic-10.csv\", sb.ToString());\n",
    "\n",
    "Console.WriteLine(\"Task resolved\");"
   ]
  }
 ],
 "metadata": {},
 "nbformat": 4,
 "nbformat_minor": 5
}