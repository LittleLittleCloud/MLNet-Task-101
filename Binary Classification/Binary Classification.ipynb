{
 "cells": [
  {
   "cell_type": "markdown",
   "metadata": {},
   "source": [
    "# Binary Classification\n",
    "\n",
    "Create a dummy dataset with two binary classes and implement a logistic regression model. Print the metrics such as Accuracy, Log-Loss, Area Under ROC curve. Save the model to binaryClassification.mlnet. Once completed, print 'task resolved' in the end."
   ]
  },
  {
   "cell_type": "code",
   "execution_count": null,
   "metadata": {
    "dotnet_interactive": {
     "language": "csharp"
    },
    "polyglot_notebook": {
     "kernelName": "csharp"
    }
   },
   "outputs": [],
   "source": [
    "#r \"nuget:Microsoft.ML\"\r\n"
   ]
  },
  {
   "cell_type": "code",
   "execution_count": null,
   "metadata": {
    "dotnet_interactive": {
     "language": "csharp"
    },
    "polyglot_notebook": {
     "kernelName": "csharp"
    }
   },
   "outputs": [],
   "source": [
    "using System;\n",
    "using System.Linq;\n",
    "using Microsoft.ML;\n",
    "using Microsoft.ML.Data;\n",
    "\n",
    "var context = new MLContext();\n",
    "\n",
    "// Create a dummy dataset\n",
    "var samples = Enumerable.Range(0, 1000)\n",
    "    .Select(i => new BinaryData { Label = i % 2 == 0, Feature1 = i, Feature2 = i % 2, Feature3 = i % 3, Feature4 = i % 4, Feature5 = i % 5 })\n",
    "    .ToArray();\n",
    "\n",
    "var data = context.Data.LoadFromEnumerable(samples);\n",
    "\n",
    "// Split the data into training and test sets\n",
    "var tt = context.Data.TrainTestSplit(data);\n",
    "\n",
    "// Define the pipeline\n",
    "var pipeline = context.Transforms.Concatenate(\"Features\", \"Feature1\", \"Feature2\", \"Feature3\", \"Feature4\", \"Feature5\")\n",
    "    .Append(context.BinaryClassification.Trainers.LbfgsLogisticRegression());\n",
    "\n",
    "// Train the model\n",
    "var model = pipeline.Fit(tt.TrainSet);\n",
    "\n",
    "// Evaluate the model\n",
    "var metrics = context.BinaryClassification.Evaluate(model.Transform(tt.TestSet));\n",
    "\n",
    "// Print the metrics\n",
    "Console.WriteLine($\"Accuracy: {metrics.Accuracy}\");\n",
    "Console.WriteLine($\"Log-Loss: {metrics.LogLoss}\");\n",
    "Console.WriteLine($\"Area Under ROC Curve: {metrics.AreaUnderRocCurve}\");\n",
    "\n",
    "// Save the model\n",
    "context.Model.Save(model, tt.TrainSet.Schema, \"binaryClassification.mlnet\");\n",
    "\n",
    "Console.WriteLine(\"task resolved\");\n",
    "\n",
    "public class BinaryData\n",
    "{\n",
    "    [LoadColumn(0)]\n",
    "    public bool Label;\n",
    "\n",
    "    [LoadColumn(1)]\n",
    "    public float Feature1;\n",
    "\n",
    "    [LoadColumn(2)]\n",
    "    public float Feature2;\n",
    "\n",
    "    [LoadColumn(3)]\n",
    "    public float Feature3;\n",
    "\n",
    "    [LoadColumn(4)]\n",
    "    public float Feature4;\n",
    "\n",
    "    [LoadColumn(5)]\n",
    "    public float Feature5;\n",
    "}"
   ]
  }
 ],
 "metadata": {},
 "nbformat": 4,
 "nbformat_minor": 5
}