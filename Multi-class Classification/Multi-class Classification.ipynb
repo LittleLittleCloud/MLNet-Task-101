{
 "cells": [
  {
   "cell_type": "markdown",
   "metadata": {},
   "source": [
    "# Multi-class Classification\n",
    "\n",
    "Create a multiclass classification model using a dummy dataset with three classes column and four features columns. Evaluate and print the model accuracy. Save the trained model to multiClass.mlnet. Once completed, print 'task resolved' in the end."
   ]
  },
  {
   "cell_type": "markdown",
   "metadata": {},
   "source": [
    "## Task Description\n",
    "\n",
    "Create a multiclass classification model using a dummy dataset with three classes column and four features columns. Evaluate and print the model accuracy. Save the trained model to multiClass.mlnet. Once completed, print 'task resolved' in the end."
   ]
  },
  {
   "cell_type": "code",
   "execution_count": null,
   "metadata": {
    "dotnet_interactive": {
     "language": "csharp"
    },
    "polyglot_notebook": {
     "kernelName": "csharp"
    }
   },
   "outputs": [],
   "source": [
    "#r \"nuget:Microsoft.ML\"\r\n"
   ]
  },
  {
   "cell_type": "code",
   "execution_count": null,
   "metadata": {
    "dotnet_interactive": {
     "language": "csharp"
    },
    "polyglot_notebook": {
     "kernelName": "csharp"
    }
   },
   "outputs": [],
   "source": [
    "using System;\n",
    "using System.Linq;\n",
    "using Microsoft.ML;\n",
    "using Microsoft.ML.Data;\n",
    "\n",
    "// Define the data\n",
    "var data = new[]\n",
    "{\n",
    "    new IrisData { SepalLength = 5.1f, SepalWidth = 3.5f, PetalLength = 1.4f, PetalWidth = 0.2f, Label = \"setosa\" },\n",
    "    new IrisData { SepalLength = 4.9f, SepalWidth = 3.0f, PetalLength = 1.4f, PetalWidth = 0.2f, Label = \"setosa\" },\n",
    "    new IrisData { SepalLength = 6.2f, SepalWidth = 3.4f, PetalLength = 5.4f, PetalWidth = 2.3f, Label = \"virginica\" },\n",
    "    new IrisData { SepalLength = 5.9f, SepalWidth = 3.0f, PetalLength = 5.1f, PetalWidth = 1.8f, Label = \"virginica\" },\n",
    "    // Add more data here...\n",
    "};\n",
    "\n",
    "// Create a new MLContext\n",
    "var context = new MLContext();\n",
    "\n",
    "// Load the data\n",
    "var dataView = context.Data.LoadFromEnumerable(data);\n",
    "\n",
    "// Split the data into training and testing sets\n",
    "var trainTestData = context.Data.TrainTestSplit(dataView);\n",
    "\n",
    "// Define the pipeline\n",
    "var pipeline = context.Transforms.Conversion.MapValueToKey(\"Label\")\n",
    "    .Append(context.Transforms.Concatenate(\"Features\", \"SepalLength\", \"SepalWidth\", \"PetalLength\", \"PetalWidth\"))\n",
    "    .Append(context.Transforms.NormalizeMinMax(\"Features\"))\n",
    "    .Append(context.MulticlassClassification.Trainers.SdcaNonCalibrated())\n",
    "    .Append(context.Transforms.Conversion.MapKeyToValue(\"PredictedLabel\"));\n",
    "\n",
    "// Train the model\n",
    "var model = pipeline.Fit(trainTestData.TrainSet);\n",
    "\n",
    "// Evaluate the model\n",
    "var predictions = model.Transform(trainTestData.TestSet);\n",
    "var metrics = context.MulticlassClassification.Evaluate(predictions);\n",
    "\n",
    "// Print the model accuracy\n",
    "Console.WriteLine($\"Model accuracy: {metrics.MacroAccuracy}\");\n",
    "\n",
    "// Save the model\n",
    "context.Model.Save(model, trainTestData.TrainSet.Schema, \"multiClass.mlnet\");\n",
    "\n",
    "Console.WriteLine(\"Task resolved\");\n",
    "\n",
    "public class IrisData\n",
    "{\n",
    "    [LoadColumn(0)]\n",
    "    public float SepalLength;\n",
    "\n",
    "    [LoadColumn(1)]\n",
    "    public float SepalWidth;\n",
    "\n",
    "    [LoadColumn(2)]\n",
    "    public float PetalLength;\n",
    "\n",
    "    [LoadColumn(3)]\n",
    "    public float PetalWidth;\n",
    "\n",
    "    [LoadColumn(4)]\n",
    "    public string Label;\n",
    "}"
   ]
  }
 ],
 "metadata": {},
 "nbformat": 4,
 "nbformat_minor": 5
}