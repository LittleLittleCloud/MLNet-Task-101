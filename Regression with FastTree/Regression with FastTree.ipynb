{
 "cells": [
  {
   "cell_type": "markdown",
   "metadata": {},
   "source": [
    "# Regression with FastTree\n",
    "\n",
    "The task is to create a dummy regression dataset and train a decision tree regression model using the FastTree algorithm. Predict the target variable for a test dataset using the trained model and print the predictions. Save the decision tree regression model to fasttree_regression.mlnet. Once completed, print 'task resolved' in the end."
   ]
  },
  {
   "cell_type": "code",
   "execution_count": null,
   "id": "11d9ae3e",
   "metadata": {
    "dotnet_interactive": {
     "language": "csharp"
    },
    "polyglot_notebook": {
     "kernelName": "csharp"
    },
    "vscode": {
     "languageId": "polyglot-notebook"
    }
   },
   "outputs": [],
   "source": [
    "#r \"nuget:Microsoft.ML\"\n"
   ]
  },
  {
   "cell_type": "code",
   "execution_count": null,
   "id": "8aaef26c",
   "metadata": {
    "dotnet_interactive": {
     "language": "csharp"
    },
    "polyglot_notebook": {
     "kernelName": "csharp"
    },
    "vscode": {
     "languageId": "polyglot-notebook"
    }
   },
   "outputs": [],
   "source": [
    "using Microsoft.ML;\n",
    "using Microsoft.ML.Data;\n",
    "using Microsoft.ML.FastTree;\n",
    "using System;\n",
    "using System.Linq;\n",
    "\n",
    "// Define data structure\n",
    "public class ModelInput\n",
    "{\n",
    "    [ColumnName(\"Label\"), LoadColumn(0)]\n",
    "    public float Label { get; set; }\n",
    "\n",
    "    [LoadColumn(1)]\n",
    "    public float Feature1 { get; set; }\n",
    "\n",
    "    [LoadColumn(2)]\n",
    "    public float Feature2 { get; set; }\n",
    "}\n",
    "\n",
    "public class ModelOutput\n",
    "{\n",
    "    public float Score { get; set; }\n",
    "}\n",
    "\n",
    "// Create MLContext\n",
    "var mlContext = new MLContext();\n",
    "\n",
    "// Create dummy data\n",
    "var data = Enumerable.Range(0, 100).Select(index => new ModelInput\n",
    "{\n",
    "    Label = index,\n",
    "    Feature1 = (float)(index + 0.1 * new Random().NextDouble()),\n",
    "    Feature2 = (float)(index + 0.2 * new Random().NextDouble())\n",
    "}).ToList();\n",
    "\n",
    "// Load data\n",
    "var dataView = mlContext.Data.LoadFromEnumerable(data);\n",
    "\n",
    "// Define pipeline\n",
    "var pipeline = mlContext.Transforms.Concatenate(\"Features\", \"Feature1\", \"Feature2\")\n",
    "    .Append(mlContext.Regression.Trainers.FastTree());\n",
    "\n",
    "// Train model\n",
    "var model = pipeline.Fit(dataView);\n",
    "\n",
    "// Create test data\n",
    "var testData = new ModelInput { Feature1 = 10, Feature2 = 20 };\n",
    "\n",
    "// Predict\n",
    "var predEngine = mlContext.Model.CreatePredictionEngine<ModelInput, ModelOutput>(model);\n",
    "var result = predEngine.Predict(testData);\n",
    "\n",
    "// Print prediction\n",
    "Console.WriteLine($\"Prediction: {result.Score}\");\n",
    "\n",
    "// Save model\n",
    "mlContext.Model.Save(model, dataView.Schema, \"fasttree_regression.mlnet\");\n",
    "\n",
    "Console.WriteLine(\"Task resolved\");"
   ]
  }
 ],
 "metadata": {
  "language_info": {
   "name": "python"
  }
 },
 "nbformat": 4,
 "nbformat_minor": 5
}
