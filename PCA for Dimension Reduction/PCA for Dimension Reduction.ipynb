{
 "cells": [
  {
   "cell_type": "markdown",
   "metadata": {},
   "source": [
    "# PCA for Dimension Reduction\n",
    "\n",
    "Implement PCA on a dummy dataset with a large number of features for dimension reduction. Print the principal components and the variance explained by each component. Save the result to PCA.mlnet. Once completed, print 'task resolved' in the end."
   ]
  },
  {
   "cell_type": "markdown",
   "metadata": {},
   "source": [
    "## PCA for Dimension Reduction\n",
    "\n",
    "Implement PCA on a dummy dataset with a large number of features for dimension reduction. Print the principal components and the variance explained by each component. Save the result to PCA.mlnet. Once completed, print 'task resolved' in the end."
   ]
  },
  {
   "cell_type": "code",
   "execution_count": null,
   "metadata": {
    "dotnet_interactive": {
     "language": "csharp"
    },
    "polyglot_notebook": {
     "kernelName": "csharp"
    }
   },
   "outputs": [],
   "source": [
    "#r \"nuget:Microsoft.ML\"\r\n"
   ]
  },
  {
   "cell_type": "code",
   "execution_count": null,
   "metadata": {
    "dotnet_interactive": {
     "language": "csharp"
    },
    "polyglot_notebook": {
     "kernelName": "csharp"
    }
   },
   "outputs": [],
   "source": [
    "using System;\n",
    "using System.Linq;\n",
    "using Microsoft.ML;\n",
    "using Microsoft.ML.Data;\n",
    "using Microsoft.ML.Transforms;\n",
    "\n",
    "var mlContext = new MLContext();\n",
    "\n",
    "// Create a small dataset as an IEnumerable.\n",
    "var samples = new List<DataPoint>()\n",
    "{\n",
    "    new DataPoint(){ Features = new float[4] { 1, 1, 1, 1} },\n",
    "    new DataPoint(){ Features = new float[4] { 2, 2, 2, 2} },\n",
    "    new DataPoint(){ Features = new float[4] { 3, 3, 3, 3} },\n",
    "    new DataPoint(){ Features = new float[4] { 4, 4, 4, 4} },\n",
    "    new DataPoint(){ Features = new float[4] { 5, 5, 5, 5} },\n",
    "    new DataPoint(){ Features = new float[4] { 6, 6, 6, 6} },\n",
    "};\n",
    "\n",
    "var data = mlContext.Data.LoadFromEnumerable(samples);\n",
    "\n",
    "// Initialize a new instance of PrincipalComponentAnalysis\n",
    "var pipeline = mlContext.Transforms.ProjectToPrincipalComponents(\"FeaturesPCA\", \"Features\", rank: 2);\n",
    "\n",
    "var transformer = pipeline.Fit(data);\n",
    "var transformedData = transformer.Transform(data);\n",
    "\n",
    "var transformedDataPoints = mlContext.Data.CreateEnumerable<TransformedDataPoint>(transformedData, reuseRowObject: false).ToList();\n",
    "\n",
    "foreach (var dataPoint in transformedDataPoints)\n",
    "{\n",
    "    Console.WriteLine($\"FeaturesPCA: {string.Join(\", \", dataPoint.FeaturesPCA)}\");\n",
    "}\n",
    "\n",
    "// Save the data\n",
    "mlContext.Model.Save(transformer, data.Schema, \"PCA.mlnet\");\n",
    "\n",
    "Console.WriteLine(\"task resolved\");\n",
    "\n",
    "public class DataPoint\n",
    "{\n",
    "    [VectorType(4)]\n",
    "    public float[] Features { get; set; }\n",
    "}\n",
    "\n",
    "public class TransformedDataPoint : DataPoint\n",
    "{\n",
    "    [VectorType(2)]\n",
    "    public float[] FeaturesPCA { get; set; }\n",
    "}"
   ]
  },
  {
   "cell_type": "code",
   "execution_count": null,
   "metadata": {
    "dotnet_interactive": {
     "language": "csharp"
    },
    "polyglot_notebook": {
     "kernelName": "csharp"
    }
   },
   "outputs": [],
   "source": [
    "#r \"nuget:Microsoft.ML,1.6.0\"\n",
    "\n",
    "using System;\n",
    "using System.Linq;\n",
    "using Microsoft.ML;\n",
    "using Microsoft.ML.Data;\n",
    "using Microsoft.ML.Transforms;\n",
    "\n",
    "var mlContext = new MLContext();\n",
    "\n",
    "// Create a small dataset as an IEnumerable.\n",
    "var samples = new List<DataPoint>()\n",
    "{\n",
    "    new DataPoint(){ Features = new float[4] { 1, 1, 1, 1} },\n",
    "    new DataPoint(){ Features = new float[4] { 2, 2, 2, 2} },\n",
    "    new DataPoint(){ Features = new float[4] { 3, 3, 3, 3} },\n",
    "    new DataPoint(){ Features = new float[4] { 4, 4, 4, 4} },\n",
    "    new DataPoint(){ Features = new float[4] { 5, 5, 5, 5} },\n",
    "    new DataPoint(){ Features = new float[4] { 6, 6, 6, 6} },\n",
    "};\n",
    "\n",
    "var data = mlContext.Data.LoadFromEnumerable(samples);\n",
    "\n",
    "// Initialize a new instance of PrincipalComponentAnalysis\n",
    "var pipeline = mlContext.Transforms.ProjectToPrincipalComponents(\"FeaturesPCA\", \"Features\", rank: 2);\n",
    "\n",
    "var transformer = pipeline.Fit(data);\n",
    "var transformedData = transformer.Transform(data);\n",
    "\n",
    "var transformedDataPoints = mlContext.Data.CreateEnumerable<TransformedDataPoint>(transformedData, reuseRowObject: false).ToList();\n",
    "\n",
    "foreach (var dataPoint in transformedDataPoints)\n",
    "{\n",
    "    Console.WriteLine($\"FeaturesPCA: {string.Join(\", \", dataPoint.FeaturesPCA)}\");\n",
    "}\n",
    "\n",
    "// Save the data\n",
    "mlContext.Model.Save(transformer, data.Schema, \"PCA.mlnet\");\n",
    "\n",
    "Console.WriteLine(\"task resolved\");\n",
    "\n",
    "public class DataPoint\n",
    "{\n",
    "    [VectorType(4)]\n",
    "    public float[] Features { get; set; }\n",
    "}\n",
    "\n",
    "public class TransformedDataPoint : DataPoint\n",
    "{\n",
    "    [VectorType(2)]\n",
    "    public float[] FeaturesPCA { get; set; }\n",
    "}"
   ]
  }
 ],
 "metadata": {},
 "nbformat": 4,
 "nbformat_minor": 5
}