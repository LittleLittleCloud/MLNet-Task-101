{
 "cells": [
  {
   "cell_type": "markdown",
   "metadata": {},
   "source": [
    "# Multiclass Classification using LightGBM\n",
    "\n",
    "Use LightGBM to train a multiclass classification model on iris dataset and save the model to iris.mlnet. The path to iris is \"D:\\dataset\\IRIS.MDF-iris-full.csv\". Once completed, print 'task resolved' in the end."
   ]
  },
  {
   "cell_type": "markdown",
   "metadata": {},
   "source": [
    "## Task Description\n",
    "\n",
    "Use LightGBM to train a multiclass classification model on iris dataset and save the model to iris.mlnet. The path to iris is \"iris.csv\". Once completed, print 'task resolved' in the end."
   ]
  },
  {
   "cell_type": "code",
   "execution_count": null,
   "id": "28c276cd",
   "metadata": {
    "dotnet_interactive": {
     "language": "csharp"
    },
    "polyglot_notebook": {
     "kernelName": "csharp"
    }
   },
   "outputs": [],
   "source": [
    "#r \"nuget:Microsoft.ML\"\n"
   ]
  },
  {
   "cell_type": "code",
   "execution_count": null,
   "id": "d017eab9",
   "metadata": {
    "dotnet_interactive": {
     "language": "csharp"
    },
    "polyglot_notebook": {
     "kernelName": "csharp"
    }
   },
   "outputs": [],
   "source": [
    "using System;\n",
    "using System.Linq;\n",
    "using Microsoft.ML;\n",
    "using Microsoft.ML.Data;\n",
    "\n",
    "var mlContext = new MLContext(seed: 0);\n",
    "\n",
    "// Load data from csv file\n",
    "var trainingData = mlContext.Data.LoadFromTextFile<IrisData>(\"iris.csv\", separatorChar: ',', hasHeader: true);\n",
    "\n",
    "// Define the trainer\n",
    "var pipeline = mlContext.Transforms.Conversion.MapValueToKey(nameof(IrisData.Label))\n",
    "    .Append(mlContext.Transforms.Concatenate(\"Features\", nameof(IrisData.SepalLength), nameof(IrisData.SepalWidth), nameof(IrisData.PetalLength), nameof(IrisData.PetalWidth)))\n",
    "    .Append(mlContext.MulticlassClassification.Trainers.LightGbm())\n",
    "    .Append(mlContext.Transforms.Conversion.MapKeyToValue(\"PredictedLabel\"));\n",
    "\n",
    "// Train the model\n",
    "var model = pipeline.Fit(trainingData);\n",
    "\n",
    "// Save the model\n",
    "mlContext.Model.Save(model, trainingData.Schema, \"iris.mlnet\");\n",
    "\n",
    "Console.WriteLine(\"task resolved\");\n",
    "\n",
    "public class IrisData\n",
    "{\n",
    "    [LoadColumn(0)] public float SepalLength;\n",
    "    [LoadColumn(1)] public float SepalWidth;\n",
    "    [LoadColumn(2)] public float PetalLength;\n",
    "    [LoadColumn(3)] public float PetalWidth;\n",
    "    [LoadColumn(4)] public string Label;\n",
    "}"
   ]
  }
 ],
 "metadata": {
  "language_info": {
   "name": "python"
  }
 },
 "nbformat": 4,
 "nbformat_minor": 5
}
