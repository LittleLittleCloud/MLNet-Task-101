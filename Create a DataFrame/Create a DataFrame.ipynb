{
 "cells": [
  {
   "cell_type": "markdown",
   "metadata": {},
   "source": [
    "# Create a DataFrame\n",
    "\n",
    "Create a dataframe with at least 5 columns. The first column should be a unique identifier for each row.  The last column should be the label you are trying to predict.  The other columns should be features that you think will help predict the label.  The dataframe should have at least 100 rows. Once you create that, save it as dummy.csv and print the first 10 rows."
   ]
  },
  {
   "cell_type": "markdown",
   "metadata": {},
   "source": [
    "## Description\n",
    "\n",
    "Create a dataframe with at least 5 columns. The first column should be a unique identifier for each row.  The last column should be the label you are trying to predict.  The other columns should be features that you think will help predict the label.  The dataframe should have at least 100 rows. Once you create that, save it as dummy.csv and print the first 10 rows."
   ]
  },
  {
   "cell_type": "code",
   "execution_count": null,
   "metadata": {
    "dotnet_interactive": {
     "language": "csharp"
    },
    "polyglot_notebook": {
     "kernelName": "csharp"
    }
   },
   "outputs": [],
   "source": [
    "#r \"nuget:System.Data\"\n",
    "#r \"nuget:System.IO\"\n",
    "#r \"nuget:System.Linq\"\n"
   ]
  },
  {
   "cell_type": "code",
   "execution_count": null,
   "metadata": {
    "dotnet_interactive": {
     "language": "csharp"
    },
    "polyglot_notebook": {
     "kernelName": "csharp"
    }
   },
   "outputs": [],
   "source": [
    "using System;\n",
    "using System.Data;\n",
    "using System.IO;\n",
    "using System.Linq;\n",
    "\n",
    "// Create a DataTable with 5 columns\n",
    "var dt = new DataTable();\n",
    "dt.Columns.Add(\"Id\", typeof(string));\n",
    "dt.Columns.Add(\"Feature1\", typeof(string));\n",
    "dt.Columns.Add(\"Feature2\", typeof(string));\n",
    "dt.Columns.Add(\"Feature3\", typeof(string));\n",
    "dt.Columns.Add(\"Label\", typeof(string));\n",
    "\n",
    "// Add 100 rows to the DataTable\n",
    "for (int i = 0; i < 100; i++)\n",
    "{\n",
    "    dt.Rows.Add(i.ToString(), $\"F1_{i}\", $\"F2_{i}\", $\"F3_{i}\", i % 2 == 0 ? \"True\" : \"False\");\n",
    "}\n",
    "\n",
    "// Save DataTable to CSV\n",
    "using (var writer = new StreamWriter(\"dummy.csv\"))\n",
    "{\n",
    "    writer.WriteLine(string.Join(\",\", dt.Columns.Cast<DataColumn>().Select(c => c.ColumnName)));\n",
    "    foreach (DataRow row in dt.Rows)\n",
    "    {\n",
    "        writer.WriteLine(string.Join(\",\", row.ItemArray));\n",
    "    }\n",
    "}\n",
    "\n",
    "// Print the first 10 rows\n",
    "for (int i = 0; i < 10; i++)\n",
    "{\n",
    "    Console.WriteLine(string.Join(\",\", dt.Rows[i].ItemArray));\n",
    "}\n"
   ]
  }
 ],
 "metadata": {},
 "nbformat": 4,
 "nbformat_minor": 5
}