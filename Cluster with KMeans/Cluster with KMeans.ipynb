{
 "cells": [
  {
   "cell_type": "markdown",
   "metadata": {},
   "source": [
    "# Cluster with KMeans\n",
    "\n",
    "## Task Description\n",
    "Create a dummy dataset with 3 different labels: [a, b, c] and cluster them using KMeans. Then classify the dummy dataset using kmeans model and print out the rows of the first cluster. Finally save the kmeans model to kmeans.mlnet. Once completed, print 'task resolved' in the end."
   ]
  },
  {
   "cell_type": "markdown",
   "metadata": {},
   "source": [
    "## Task Description\n",
    "\n",
    "Create a dummy dataset with 3 different labels: [a, b, c] and cluster them using KMeans. Then classify the dummy dataset using kmeans model and print out the rows of the first cluster. Finally save the kmeans model to kmeans.mlnet. Once completed, print 'task resolved' in the end."
   ]
  },
  {
   "cell_type": "code",
   "execution_count": null,
   "metadata": {
    "dotnet_interactive": {
     "language": "csharp"
    },
    "polyglot_notebook": {
     "kernelName": "csharp"
    }
   },
   "outputs": [],
   "source": [
    "#r \"nuget:Microsoft.ML\"\r\n"
   ]
  },
  {
   "cell_type": "code",
   "execution_count": null,
   "metadata": {
    "dotnet_interactive": {
     "language": "csharp"
    },
    "polyglot_notebook": {
     "kernelName": "csharp"
    }
   },
   "outputs": [],
   "source": [
    "using System;\n",
    "using System.Collections.Generic;\n",
    "using System.Linq;\n",
    "using Microsoft.ML;\n",
    "using Microsoft.ML.Data;\n",
    "\n",
    "var mlContext = new MLContext(seed: 0);\n",
    "\n",
    "// Create a list of training data points.\n",
    "var dataPoints = GenerateRandomDataPoints(1000, 123);\n",
    "\n",
    "// Convert the list of data points to an IDataView object, which is\n",
    "// consumable by ML.NET API.\n",
    "IDataView trainingData = mlContext.Data.LoadFromEnumerable(dataPoints);\n",
    "\n",
    "// Define the trainer.\n",
    "var pipeline = mlContext.Clustering.Trainers.KMeans(\n",
    "    numberOfClusters: 3);\n",
    "\n",
    "// Train the model.\n",
    "var model = pipeline.Fit(trainingData);\n",
    "\n",
    "// Save the model\n",
    "mlContext.Model.Save(model, trainingData.Schema, \"kmeans.mlnet\");\n",
    "\n",
    "// Create testing data. Use a different random seed to make it different\n",
    "// from the training data.\n",
    "var testData = mlContext.Data.LoadFromEnumerable(\n",
    "    GenerateRandomDataPoints(500, seed: 123));\n",
    "\n",
    "// Run the model on test data set.\n",
    "var transformedTestData = model.Transform(testData);\n",
    "\n",
    "// Convert IDataView object to a list.\n",
    "var predictions = mlContext.Data.CreateEnumerable<Prediction>(\n",
    "    transformedTestData, reuseRowObject: false).ToList();\n",
    "\n",
    "// Print the rows of the first cluster.\n",
    "foreach (var p in predictions.Where(x => x.PredictedLabel == 1))\n",
    "    Console.WriteLine(\n",
    "        $\"Label: {p.Label}, Prediction: {p.PredictedLabel}\");\n",
    "\n",
    "Console.WriteLine(\"task resolved\");\n",
    "\n",
    "IEnumerable<DataPoint> GenerateRandomDataPoints(int count, int seed = 0)\n",
    "{\n",
    "    var random = new Random(seed);\n",
    "    float randomFloat() => (float)random.NextDouble();\n",
    "    for (int i = 0; i < count; i++)\n",
    "    {\n",
    "        int label = i % 3;\n",
    "        yield return new DataPoint\n",
    "        {\n",
    "            Label = (uint)label,\n",
    "            Features = Enumerable.Repeat(label, 50)\n",
    "                .Select(index => label == 0 ? randomFloat() + 0.1f :\n",
    "                    label == 1 ? randomFloat() : randomFloat() - 0.1f).ToArray()\n",
    "        };\n",
    "    }\n",
    "}\n",
    "\n",
    "class DataPoint\n",
    "{\n",
    "    [KeyType(3)]\n",
    "    public uint Label { get; set; }\n",
    "\n",
    "    [VectorType(50)]\n",
    "    public float[] Features { get; set; }\n",
    "}\n",
    "\n",
    "class Prediction\n",
    "{\n",
    "    public uint Label { get; set; }\n",
    "    public uint PredictedLabel { get; set; }\n",
    "}"
   ]
  }
 ],
 "metadata": {},
 "nbformat": 4,
 "nbformat_minor": 5
}