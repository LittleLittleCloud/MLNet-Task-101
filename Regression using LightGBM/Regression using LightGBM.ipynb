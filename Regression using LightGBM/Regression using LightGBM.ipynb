{
 "cells": [
  {
   "cell_type": "markdown",
   "metadata": {},
   "source": [
    "# Regression using LightGBM\n",
    "\n",
    "Use LightGBM to train a regression model on a dummy dataset and save the model to regression.mlnet. The path to that dummy dataset is taxi-fare_train.csv. Peek the first 10 rows of that dataset first and implement a regression model on fare_amount. Once completed, save the model to regression.mlnet and print 'task resolved' in the end."
   ]
  },
  {
   "cell_type": "code",
   "execution_count": 2,
   "id": "130cc474",
   "metadata": {
    "dotnet_interactive": {
     "language": "csharp"
    },
    "polyglot_notebook": {
     "kernelName": "csharp"
    },
    "vscode": {
     "languageId": "polyglot-notebook"
    }
   },
   "outputs": [
    {
     "data": {
      "text/html": [
       "<div><div></div><div></div><div><strong>Installed Packages</strong><ul><li><span>Microsoft.ML, 2.0.1</span></li><li><span>Microsoft.ML.LightGbm, 2.0.1</span></li></ul></div></div>"
      ]
     },
     "metadata": {},
     "output_type": "display_data"
    }
   ],
   "source": [
    "#r \"nuget:Microsoft.ML\"\n",
    "#r \"nuget:Microsoft.ML.LightGbm\"\n"
   ]
  },
  {
   "cell_type": "code",
   "execution_count": 3,
   "id": "c6955ccc",
   "metadata": {
    "dotnet_interactive": {
     "language": "csharp"
    },
    "polyglot_notebook": {
     "kernelName": "csharp"
    },
    "vscode": {
     "languageId": "polyglot-notebook"
    }
   },
   "outputs": [
    {
     "name": "stdout",
     "output_type": "stream",
     "text": [
      "VendorId: vendor_id, RateCode: rate_code, PassengerCount: NaN, TripTime: NaN, TripDistance: NaN, PaymentType: payment_type, FareAmount: NaN\n",
      "VendorId: CMT, RateCode: 1, PassengerCount: 1, TripTime: 1271, TripDistance: 3.8, PaymentType: CRD, FareAmount: 17.5\n",
      "VendorId: CMT, RateCode: 1, PassengerCount: 1, TripTime: 474, TripDistance: 1.5, PaymentType: CRD, FareAmount: 8\n",
      "VendorId: CMT, RateCode: 1, PassengerCount: 1, TripTime: 637, TripDistance: 1.4, PaymentType: CRD, FareAmount: 8.5\n",
      "VendorId: CMT, RateCode: 1, PassengerCount: 1, TripTime: 181, TripDistance: 0.6, PaymentType: CSH, FareAmount: 4.5\n",
      "VendorId: CMT, RateCode: 1, PassengerCount: 1, TripTime: 661, TripDistance: 1.1, PaymentType: CRD, FareAmount: 8.5\n",
      "VendorId: CMT, RateCode: 1, PassengerCount: 1, TripTime: 935, TripDistance: 9.6, PaymentType: CSH, FareAmount: 27.5\n",
      "VendorId: CMT, RateCode: 1, PassengerCount: 1, TripTime: 869, TripDistance: 2.3, PaymentType: CRD, FareAmount: 11.5\n",
      "VendorId: CMT, RateCode: 1, PassengerCount: 1, TripTime: 454, TripDistance: 1.4, PaymentType: CRD, FareAmount: 7.5\n",
      "VendorId: CMT, RateCode: 1, PassengerCount: 1, TripTime: 366, TripDistance: 1.5, PaymentType: CSH, FareAmount: 7.5\n",
      "task resolved\n"
     ]
    }
   ],
   "source": [
    "using System;\n",
    "using System.Linq;\n",
    "using Microsoft.ML;\n",
    "using Microsoft.ML.Data;\n",
    "using Microsoft.ML.Transforms;\n",
    "using Microsoft.ML.Trainers.LightGbm;\n",
    "\n",
    "// Define data structure\n",
    "public class TaxiTrip\n",
    "{\n",
    "    [LoadColumn(0)] public string VendorId;\n",
    "    [LoadColumn(1)] public string RateCode;\n",
    "    [LoadColumn(2)] public float PassengerCount;\n",
    "    [LoadColumn(3)] public float TripTime;\n",
    "    [LoadColumn(4)] public float TripDistance;\n",
    "    [LoadColumn(5)] public string PaymentType;\n",
    "    [LoadColumn(6)] public float FareAmount;\n",
    "}\n",
    "\n",
    "public class TaxiTripFarePrediction\n",
    "{\n",
    "    [ColumnName(\"Score\")]\n",
    "    public float FareAmount;\n",
    "}\n",
    "\n",
    "var mlContext = new MLContext(seed: 0);\n",
    "\n",
    "// Load data\n",
    "var dataView = mlContext.Data.LoadFromTextFile<TaxiTrip>(\"taxi-fare_train.csv\", separatorChar: ',');\n",
    "\n",
    "// Peek the first 10 rows of the dataset\n",
    "var peek = mlContext.Data.CreateEnumerable<TaxiTrip>(dataView, reuseRowObject: false).Take(10);\n",
    "foreach (var row in peek)\n",
    "{\n",
    "    Console.WriteLine($\"VendorId: {row.VendorId}, RateCode: {row.RateCode}, PassengerCount: {row.PassengerCount}, TripTime: {row.TripTime}, TripDistance: {row.TripDistance}, PaymentType: {row.PaymentType}, FareAmount: {row.FareAmount}\");\n",
    "}\n",
    "\n",
    "// Define pipeline\n",
    "var pipeline = mlContext.Transforms.CopyColumns(outputColumnName: \"Label\", inputColumnName: \"FareAmount\")\n",
    "    .Append(mlContext.Transforms.Categorical.OneHotEncoding(\"VendorId\"))\n",
    "    .Append(mlContext.Transforms.Categorical.OneHotEncoding(\"RateCode\"))\n",
    "    .Append(mlContext.Transforms.Categorical.OneHotEncoding(\"PaymentType\"))\n",
    "    .Append(mlContext.Transforms.Concatenate(\"Features\", \"VendorId\", \"RateCode\", \"PassengerCount\", \"TripTime\", \"TripDistance\", \"PaymentType\"))\n",
    "    .Append(mlContext.Transforms.NormalizeMinMax(\"Features\"))\n",
    "    .Append(mlContext.Regression.Trainers.LightGbm());\n",
    "\n",
    "// Train model\n",
    "var model = pipeline.Fit(dataView);\n",
    "\n",
    "// Save model\n",
    "mlContext.Model.Save(model, dataView.Schema, \"regression.mlnet\");\n",
    "\n",
    "Console.WriteLine(\"task resolved\");"
   ]
  }
 ],
 "metadata": {
  "language_info": {
   "name": "python"
  }
 },
 "nbformat": 4,
 "nbformat_minor": 5
}
