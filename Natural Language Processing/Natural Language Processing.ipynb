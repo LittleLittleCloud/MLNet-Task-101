{
 "cells": [
  {
   "cell_type": "markdown",
   "metadata": {},
   "source": [
    "# Natural Language Processing\n",
    "\n",
    "Implement a text classification model using a dummy text dataset. First create that dummy dataset inline, then train a text classificaiton model. Evaluate model performance by metrics such as Accuracy, F1-score and save the model to textClassification.mlnet, Once completed, print 'task resolved' in the end."
   ]
  },
  {
   "cell_type": "code",
   "execution_count": null,
   "metadata": {
    "dotnet_interactive": {
     "language": "csharp"
    },
    "polyglot_notebook": {
     "kernelName": "csharp"
    }
   },
   "outputs": [],
   "source": [
    "#r \"nuget:Microsoft.ML\"\r\n",
    "#r \"nuget:Microsoft.ML.Data\"\r\n"
   ]
  },
  {
   "cell_type": "code",
   "execution_count": null,
   "metadata": {
    "dotnet_interactive": {
     "language": "csharp"
    },
    "polyglot_notebook": {
     "kernelName": "csharp"
    }
   },
   "outputs": [],
   "source": [
    "using System;\n",
    "using System.Linq;\n",
    "using Microsoft.ML;\n",
    "using Microsoft.ML.Data;\n",
    "\n",
    "// Define data structure\n",
    "public class TextData\n",
    "{\n",
    "public string Text { get; set; }\n",
    "public string Label { get; set; }\n",
    "}\n",
    "\n",
    "public class TextPrediction\n",
    "{\n",
    "[ColumnName(\"PredictedLabel\")]\n",
    "public string PredictedLabel;\n",
    "}\n",
    "\n",
    "var context = new MLContext();\n",
    "\n",
    "// Create dummy data\n",
    "var data = context.Data.LoadFromEnumerable(new TextData[]\n",
    "{\n",
    "new TextData { Text = \"I love this game\", Label = \"Positive\" },\n",
    "new TextData { Text = \"This is a bad movie\", Label = \"Negative\" },\n",
    "new TextData { Text = \"I enjoy this music\", Label = \"Positive\" },\n",
    "new TextData { Text = \"This is not a good book\", Label = \"Negative\" },\n",
    "});\n",
    "\n",
    "// Split data into training and testing\n",
    "var tt = context.Data.TrainTestSplit(data);\n",
    "\n",
    "// Define pipeline\n",
    "var pipeline = context.Transforms.Text.FeaturizeText(\"Features\", \"Text\")\n",
    ".Append(context.Transforms.Conversion.MapValueToKey(\"Label\"))\n",
    ".Append(context.Transforms.Concatenate(\"Features\", \"Features\"))\n",
    ".Append(context.MulticlassClassification.Trainers.SdcaNonCalibrated())\n",
    ".Append(context.Transforms.Conversion.MapKeyToValue(\"PredictedLabel\"));\n",
    "\n",
    "// Train model\n",
    "var model = pipeline.Fit(tt.TrainSet);\n",
    "\n",
    "// Evaluate model\n",
    "var predictions = model.Transform(tt.TestSet);\n",
    "var metrics = context.MulticlassClassification.Evaluate(predictions);\n",
    "Console.WriteLine($\"Accuracy: {metrics.MacroAccuracy}\");\n",
    "Console.WriteLine($\"Log-loss: {metrics.LogLoss}\");\n",
    "Console.WriteLine($\"Per-class Log-loss: {String.Join(\", \", metrics.PerClassLogLoss.Select((pl, i) => $\"Class {i}: {pl}\"))}\");\n",
    "\n",
    "// Save model\n",
    "context.Model.Save(model, tt.TrainSet.Schema, \"textClassification.mlnet\");\n",
    "\n",
    "Console.WriteLine(\"task resolved\");"
   ]
  }
 ],
 "metadata": {},
 "nbformat": 4,
 "nbformat_minor": 5
}